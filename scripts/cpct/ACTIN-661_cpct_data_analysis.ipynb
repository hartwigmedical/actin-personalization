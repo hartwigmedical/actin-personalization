{
 "cells": [
  {
   "cell_type": "code",
   "execution_count": null,
   "id": "59af5ebe-55d4-477c-bda3-a2b639bd2cfc",
   "metadata": {
    "tags": []
   },
   "outputs": [],
   "source": [
    "%use dataframe(0.12.1), mysql(8.0.15)\n",
    "\n",
    "import com.mysql.cj.jdbc.MysqlDataSource\n",
    "import java.io.FileInputStream\n",
    "import java.util.Properties\n",
    "\n",
    "val properties = Properties()\n",
    "val inputStream = FileInputStream(\"${System.getProperty(\"user.home\")}/mysql.properties\")\n",
    "properties.load(inputStream)\n",
    "inputStream.close()\n",
    "\n",
    "val dataSource = MysqlDataSource()\n",
    "dataSource.setUser(properties.getProperty(\"db.user\"))\n",
    "dataSource.setPassword(properties.getProperty(\"db.password\"))\n",
    "dataSource.setUrl(properties.getProperty(\"db.url\"))"
   ]
  },
  {
   "cell_type": "code",
   "execution_count": null,
   "id": "bb2dce71-e3cb-46b5-addf-b44681435eb4",
   "metadata": {
    "tags": []
   },
   "outputs": [],
   "source": [
    "fun runQuery(sql: String) = dataSource.getConnection().use { conn -> DataFrame.readSqlQuery(conn, sql) }\n",
    "    \n",
    "val rawCpct = runQuery(\n",
    "    \"\"\"select d.sampleId, biopsy.patientId, gender, birthYear, registrationDate, deathDate, primaryTumorLocation, primaryTumorType, hasSystemicPreTreatment, hasRadiotherapyPreTreatment, preTreatments, preTreatmentsType, preTreatmentsMechanism, d.treatmentGiven, d.radiotherapyGiven, treatmentStartDate, treatmentEndDate, treatment, consolidatedTreatmentType, concatenatedTreatmentType, consolidatedTreatmentMechanism, concatenatedTreatmentMechanism, d.firstResponse as firstResponseOrig, d.responseDate as firstResponseDateOrig, firstMatchedResponse.response as firstResponse, firstMatchedResponse.responseDate as firstResponseDate, firstMatchedPDResponse.response as firstResponsePD, firstMatchedPDResponse.responseDate as firstResponsePDDate, bestResponse\n",
    "from sample s\n",
    "inner join datarequest d on d.specimenId=s.specimenId\n",
    "left join biopsy on biopsy.specimenId = s.specimenId\n",
    "left join treatment on treatment.biopsyId = biopsy.id\n",
    "left join (select * \n",
    "          from\n",
    "          treatmentResponse as tr\n",
    "          where measurementDone='Yes' and response not in ('ND','NE') and\n",
    "          not exists ( \n",
    "            select * \n",
    "            from treatmentResponse as tr1\n",
    "            where tr1.measurementDone='Yes' and tr1.response not in ('ND','NE') \n",
    "            and tr1.treatmentId = tr.treatmentId\n",
    "\t\t        and tr1.responseDate <= tr.responseDate\n",
    "            and tr1.id != tr.id\n",
    "        )\n",
    "        and not(isnull(treatmentId))\n",
    ") as firstMatchedResponse\n",
    "on treatment.id = firstMatchedResponse.treatmentId\n",
    "left join ( select *\n",
    "            from\n",
    "            treatmentResponse as tr\n",
    "            where response = 'PD' and measurementDone= 'Yes' and\n",
    "            not exists (\n",
    "              select *\n",
    "              from treatmentResponse as tr1\n",
    "              where tr1.treatmentId = tr.treatmentId\n",
    "              and tr1.responseDate <= tr.responseDate\n",
    "              and tr1.id != tr.id\n",
    "              and tr1.response = tr.response\n",
    "          )\n",
    "          and not(isnull(treatmentId))\n",
    ") as firstMatchedPDResponse\n",
    "on treatment.id = firstMatchedPDResponse.treatmentId\n",
    "left join (select treatmentId, case when (group_concat(response) like '%CR%') then 'CR' when (group_concat(response) like '%PR%') then 'PR' when (group_concat(response) like '%SD%') then 'SD' when (group_concat(response) like '%PD%') then 'PD' else group_concat(response) end as bestResponse\n",
    "            from\n",
    "            treatmentResponse as tr\n",
    "            where measurementDone= 'Yes' and response not in ('Non-CR/Non-PD', 'Clinical progression', 'ND', 'NE') and\n",
    "            not exists (\n",
    "              select *\n",
    "              from treatmentResponse as tr1\n",
    "              where tr1.treatmentId = tr.treatmentId\n",
    "              and tr1.responseDate <= tr.responseDate\n",
    "              and tr1.id != tr.id\n",
    "              and tr1.response = tr.response\n",
    "            )\n",
    "            and not(isnull(treatmentId)) \n",
    "            group by 1\n",
    ") as bestResponse\n",
    "on treatment.id = bestResponse.treatmentId\n",
    "where d.sampleId like 'CPCT%' order by registrationDate\"\"\"\n",
    ")"
   ]
  },
  {
   "cell_type": "code",
   "execution_count": null,
   "id": "8e519b6e-efd2-4ca3-9b5e-2b239b1c1660",
   "metadata": {
    "tags": []
   },
   "outputs": [],
   "source": [
    "val cpctVariants = runQuery(\n",
    "    \"\"\"select dr.sampleId, krasG12Status, krasG13Status, krasNonG12G13Status, brafV600EStatus from datarequest dr\n",
    "    left join (select distinct sampleId, 1 as krasG12Status from somaticVariant where reported and gene='KRAS' and canonicalHgvsProteinImpact like 'p.Gly12%') kg12 on dr.sampleId = kg12.sampleId and dr.sampleId like 'CPCT%'\n",
    "    left join (select distinct sampleId, 1 as krasG13Status from somaticVariant where reported and gene='KRAS' and canonicalHgvsProteinImpact like 'p.Gly13%') kg13 on dr.sampleId = kg13.sampleId and dr.sampleId like 'CPCT%'\n",
    "    left join (select distinct sampleId, 1 as krasNonG12G13Status from somaticVariant where reported and gene='KRAS' and canonicalHgvsProteinImpact not like 'p.Gly12%' and canonicalHgvsProteinImpact not like 'p.Gly13%') kngg on dr.sampleId = kngg.sampleId and dr.sampleId like 'CPCT%'\n",
    "    left join (select distinct sampleId, 1 as brafV600EStatus from somaticVariant where gene='BRAF' and reported and canonicalHgvsProteinImpact='p.Val600Glu') braf on dr.sampleId = braf.sampleId and dr.sampleId like 'CPCT%'\n",
    "    where dr.sampleId like 'CPCT%'\n",
    "    \"\"\"\n",
    "    )"
   ]
  },
  {
   "cell_type": "code",
   "execution_count": null,
   "id": "3c17b742-2ee8-48f2-9d89-c30203beecb1",
   "metadata": {
    "tags": []
   },
   "outputs": [],
   "source": [
    "val cpctDrivers = runQuery(\n",
    "    \"\"\"select a.sampleId,\n",
    "if(krasStatus='positive', 0,1) as isKrasWildtype,\n",
    "if(nrasStatus='positive', 0,1) as isNrasWildtype,\n",
    "if(b2mStatus='positive', 0, 1) as isB2MWildtype,\n",
    "if(erbb2AmpStatus='positive', 1,0) as hasErbb2Amp,\n",
    "if(msStatus='MSI',1,0) as hasMsi,\n",
    "tumorMutationalLoad,\n",
    "if(driverCount is null, 0, driverCount) + if(fusionCount is null, 0, fusionCount) as totalDriverCount\n",
    "from\n",
    "(select sampleId from datarequest where sampleId like 'CPCT%') as a\n",
    "left join (select sampleId, 'positive' as krasStatus from driverCatalog where driverLikelihood>0.8 and gene='KRAS') as b1 on a.sampleId=b1.sampleId\n",
    "left join (select sampleId, 'positive' as nrasStatus from driverCatalog where driverLikelihood>0.8 and gene='NRAS' and driver='MUTATION') as c on a.sampleId=c.sampleId\n",
    "left join (select sampleId, 'positive' as b2mStatus from driverCatalog where driverLikelihood>0.8 and gene='B2M') as d on a.sampleId=d.sampleId\n",
    "left join (select sampleId, msStatus, tml as tumorMutationalLoad from purity) as f on a.sampleId=f.sampleId\n",
    "left join (select sampleId, 'positive' as erbb2AmpStatus from driverCatalog where gene='ERBB2' and likelihoodMethod='AMP') as g on a.sampleId=g.sampleId\n",
    "left join (select sampleId, count(*) as driverCount from driverCatalog where driverLikelihood>0.8 group by 1) as h on a.sampleId=h.sampleId\n",
    "left join (select sampleId, count(*) as fusionCount from svFusion where reported group by 1) as i on a.sampleId=i.sampleId\n",
    "\"\"\"\n",
    "    )"
   ]
  },
  {
   "cell_type": "code",
   "execution_count": null,
   "id": "35549b1e-9a57-49e3-a564-82504695623a",
   "metadata": {
    "tags": []
   },
   "outputs": [],
   "source": [
    "val cpctJoin = rawCpct.join(cpctDrivers) { sampleId match right.sampleId }\n",
    "    .join(cpctVariants) { sampleId match right.sampleId }"
   ]
  },
  {
   "cell_type": "code",
   "execution_count": null,
   "id": "7d60fc33-b13e-4215-a847-1ebcbaf9a0a8",
   "metadata": {
    "tags": []
   },
   "outputs": [],
   "source": [
    "import java.time.temporal.ChronoUnit\n",
    "import java.time.LocalDate\n",
    "import java.util.Date\n",
    "\n",
    "fun convertDate(date: Date) = LocalDate.parse(date.toString())\n",
    "\n",
    "fun differenceInDays(firstDate: Date?, secondDate: Date?): Int? {\n",
    "    return if (firstDate == null || secondDate == null) null else {\n",
    "        ChronoUnit.MONTHS.between(convertDate(firstDate), convertDate(secondDate)).toInt()\n",
    "    }\n",
    "}"
   ]
  },
  {
   "cell_type": "code",
   "execution_count": null,
   "id": "b307412c-ec8c-4efa-8f32-3e89ff50ce0b",
   "metadata": {
    "tags": []
   },
   "outputs": [],
   "source": [
    "val cpct = cpctJoin.add {\n",
    "    \"isFemale\" from { (gender ?: \"\") == \"female\" }\n",
    "    \"ageAtTreatmentStart\" from { treatmentStartDate?.let { LocalDate.parse(it.toString()).year - birthYear } }\n",
    "    \"hasImmunoPreTreatment\" from { preTreatmentsType?.any { it.lowercase().contains(\"immunotherapy\") } ?: false }\n",
    "    \"hasKrasG12Mut\" from { krasG12Status != null }\n",
    "    \"hasKrasG13Mut\" from { krasG13Status != null }\n",
    "    \"hasKrasNonG12G13Mut\" from { krasNonG12G13Status != null }\n",
    "    \"isBRAFV600EWildtype\" from { brafV600EStatus != null }\n",
    "    \"os\" from { differenceInDays(treatmentStartDate, deathDate) } \n",
    "    \"pfs\" from { differenceInDays(treatmentStartDate, firstResponsePDDate) }\n",
    "}\n",
    "    .convert { hasSystemicPreTreatment }.with { it == \"Yes\" }\n",
    "    .convert { hasMsi and isKrasWildtype and isNrasWildtype and isB2MWildtype and hasErbb2Amp }.with { it == 1L }\n",
    "cpct.schema().print()"
   ]
  },
  {
   "cell_type": "code",
   "execution_count": null,
   "id": "50e01b6d-6a90-41cb-b42b-6eaa0d7d9e65",
   "metadata": {
    "tags": []
   },
   "outputs": [],
   "source": [
    "@DataSchema\n",
    "interface PatientRecord {\n",
    "    val sampleId: String\n",
    "    val patientId: Int\n",
    "    val isFemale: Boolean\n",
    "    val ageAtTreatmentStart: Int\n",
    "    val treatment: String\n",
    "    val hasSystemicPreTreatment: Boolean\n",
    "    val hasImmunoPreTreatment: Boolean\n",
    "    val primaryTumorLocation: String\n",
    "    val isKrasWildtype: Boolean\n",
    "    val isB2MWildtype: Boolean\n",
    "    val hasMsi: Boolean\n",
    "    val tumorMutationalLoad: Int\n",
    "    val bestResponse: String?\n",
    "    val pfs: Int?\n",
    "    val os: Int?\n",
    "}"
   ]
  },
  {
   "cell_type": "code",
   "execution_count": null,
   "id": "53916c94-7a35-4d0e-8d7a-5d8362c1b5bc",
   "metadata": {},
   "outputs": [],
   "source": [
    "val pembroTreatments = setOf(\"Pembrolizumab\", \"Pembrolizumab/Pembrolizumab\")\n",
    "val pembroLocations = setOf(\"Urothelial tract\", \"Lung\", \"Skin\", \"Prostate\", \"Mesothelium\")\n",
    "val pembrolizumab: DataFrame<PatientRecord> = cpct.filter { treatment in pembroTreatments && primaryTumorLocation in pembroLocations }\n",
    "    .select { sampleId and patientId and isFemale and ageAtTreatmentStart and treatment and\n",
    "        hasSystemicPreTreatment and hasImmunoPreTreatment and primaryTumorLocation and isKrasWildtype and\n",
    "        isB2MWildtype and hasMsi and tumorMutationalLoad and bestResponse and pfs and os }\n",
    "    .cast<PatientRecord>()\n",
    "pembrolizumab.schema().print()"
   ]
  },
  {
   "cell_type": "code",
   "execution_count": null,
   "id": "863d22ae-5729-4963-b740-428a8266d441",
   "metadata": {
    "tags": []
   },
   "outputs": [],
   "source": [
    "@file:DependsOn(\"nz.ac.waikato.cms.weka:weka-stable:3.8.6\")"
   ]
  },
  {
   "cell_type": "code",
   "execution_count": null,
   "id": "aae9532c-3630-4667-af88-086cc168620a",
   "metadata": {
    "tags": []
   },
   "outputs": [],
   "source": [
    "pembrolizumab.filter { os != null && hasImmunoPreTreatment }.count()"
   ]
  },
  {
   "cell_type": "code",
   "execution_count": null,
   "id": "50cae957-46db-4b0f-8673-965649bc6099",
   "metadata": {},
   "outputs": [],
   "source": [
    "import weka.classifiers.functions.MultilayerPerceptron\n",
    "import weka.core.Attribute\n",
    "import weka.core.DenseInstance\n",
    "import weka.core.Instance\n",
    "import weka.core.Instances\n",
    "\n",
    "fun setValue(instance: DenseInstance, attribute: Attribute, value: Any) {\n",
    "    when (value) {\n",
    "        is String -> instance.setValue(attribute, value)\n",
    "        is Double -> instance.setValue(attribute, value)\n",
    "        is Int -> instance.setValue(attribute, value.toDouble())\n",
    "        is Boolean -> instance.setValue(attribute, if (value) 1.0 else 0.0)\n",
    "        else -> throw IllegalArgumentException(\"Unsupported value type: ${value::class.simpleName}\")\n",
    "    }\n",
    "}\n",
    "    \n",
    "fun createPatientDb(patients: DataFrame<PatientRecord>, classAttribute: String): Instances {\n",
    "    val attributeMap = listOf(\n",
    "        \"isFemale\",\n",
    "        \"ageAtTreatmentStart\",\n",
    "        \"hasSystemicPreTreatment\",\n",
    "        \"isKrasWildtype\",\n",
    "        \"isB2MWildtype\",\n",
    "        \"hasMsi\",\n",
    "        \"tumorMutationalLoad\",\n",
    "        classAttribute\n",
    "    ).associateWith { Attribute(it) }\n",
    "    \n",
    "    val attributes = attributeMap.values\n",
    "    \n",
    "    val patientDb = Instances(\"patients\", ArrayList(attributeMap.values), patients.count())\n",
    "    patientDb.setClassIndex(attributeMap[classAttribute]!!.index())\n",
    "    \n",
    "    patients.forEach { patient ->\n",
    "        val patientInstance = DenseInstance(attributes.size)\n",
    "        patientInstance.setDataset(patientDb)\n",
    "        attributeMap.forEach { (column, attribute) -> setValue(patientInstance, attribute, patient[column]!!) }\n",
    "        patientInstance.setClassValue((patient[classAttribute]!! as Int).toDouble())\n",
    "        patientDb.add(patientInstance)\n",
    "    }\n",
    "    \n",
    "    return patientDb\n",
    "}"
   ]
  },
  {
   "cell_type": "code",
   "execution_count": null,
   "id": "dec06a13-da23-4f36-9062-106d728fab0a",
   "metadata": {
    "tags": []
   },
   "outputs": [],
   "source": [
    "val patientDb = createPatientDb(pembrolizumab.filter { os != null}, \"os\")\n",
    "\n",
    "val predictor = MultilayerPerceptron()\n",
    "// predictor.setHiddenLayers(\"4\")\n",
    "predictor.buildClassifier(patientDb)"
   ]
  },
  {
   "cell_type": "code",
   "execution_count": null,
   "id": "334a6798-7d87-4ba2-a9fb-1b6ea0d5ba0b",
   "metadata": {},
   "outputs": [],
   "source": [
    "import weka.classifiers.evaluation.Evaluation\n",
    "import java.util.Random\n",
    "\n",
    "val evaluation = Evaluation(patientDb)\n",
    "evaluation.crossValidateModel(predictor, patientDb, 10, Random())\n",
    "println(evaluation.toSummaryString())"
   ]
  },
  {
   "cell_type": "code",
   "execution_count": null,
   "id": "a0da9a31-089b-4d0a-866b-b02f02d4a7b0",
   "metadata": {
    "tags": []
   },
   "outputs": [],
   "source": [
    "import weka.classifiers.lazy.IBk\n",
    "\n",
    "val classifier = IBk(1)\n",
    "classifier.buildClassifier(patientDb)\n",
    "val evaluation = Evaluation(patientDb)\n",
    "evaluation.crossValidateModel(classifier, patientDb, 10, Random())\n",
    "println(evaluation.toSummaryString())"
   ]
  }
 ],
 "metadata": {
  "kernelspec": {
   "display_name": "Kotlin",
   "language": "kotlin",
   "name": "kotlin"
  },
  "language_info": {
   "codemirror_mode": "text/x-kotlin",
   "file_extension": ".kt",
   "mimetype": "text/x-kotlin",
   "name": "kotlin",
   "nbconvert_exporter": "",
   "pygments_lexer": "kotlin",
   "version": "1.8.20"
  }
 },
 "nbformat": 4,
 "nbformat_minor": 5
}
