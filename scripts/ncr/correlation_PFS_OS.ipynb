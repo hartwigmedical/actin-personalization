{
 "cells": [
  {
   "cell_type": "code",
   "execution_count": null,
   "id": "038f871f-0c40-45ca-b264-479ec9e0e298",
   "metadata": {
    "tags": []
   },
   "outputs": [],
   "source": [
    "import pymysql\n",
    "import pandas as pd"
   ]
  },
  {
   "cell_type": "code",
   "execution_count": null,
   "id": "a28e0183-7e8f-4ae4-af20-ddf62ac15461",
   "metadata": {
    "tags": []
   },
   "outputs": [],
   "source": [
    "db_connection = pymysql.connect(\n",
    "    read_default_file='/home/jupyter/.my.cnf',\n",
    "    read_default_group='RAnalysis', \n",
    "    db = 'actin_personalization'\n",
    ")\n",
    "\n",
    "query = \"\"\"  \n",
    "SELECT * \n",
    "FROM knownPalliativeTreatments \n",
    "\"\"\"\n",
    "# Not sure if this is the correct data we want to look at? This is the data we use for analysis, so I would think we need to confirm the correlation in this data\n",
    "\n",
    "df_treatments = pd.read_sql(query, db_connection)\n",
    "\n",
    "db_connection.close()\n",
    "\n",
    "df_treatments.head()"
   ]
  },
  {
   "cell_type": "code",
   "execution_count": null,
   "id": "3dcb0d01-2b2e-4b30-819e-3dbed0c70399",
   "metadata": {
    "tags": []
   },
   "outputs": [],
   "source": [
    "df_treatments = df_treatments.dropna(subset = ['observedPfsDays', 'observedOsFromTumorIncidenceDays'])"
   ]
  },
  {
   "cell_type": "markdown",
   "id": "ebaca48a-c3a4-4124-b57d-3f3af69cb8d2",
   "metadata": {},
   "source": [
    "# Correlation between PFS and OS \n",
    "\n",
    "The aim is to determine whether PFS is a good surrogate for OS by evaluating the strength of their relationship.\n",
    "\n",
    "We use Pearson's correlation coefficient here because it measures the linear relationship between two continuous variables (PFS and OS). A Pearson correlation close to 1 indicates a strong positive relationship, meaning that improvements in PFS are associated with increases in OS."
   ]
  },
  {
   "cell_type": "code",
   "execution_count": null,
   "id": "c82c4fb9-b876-47dc-8878-f75210e4fce3",
   "metadata": {
    "tags": []
   },
   "outputs": [],
   "source": [
    "def calculate_pfs_os_correlation(grouping_column, group_labels, df):\n",
    "    for group_label in group_labels:\n",
    "        group = df[df[grouping_column] == group_label]\n",
    "        if not group.empty:\n",
    "            pfs_os_correlation = group[['observedPfsDays', 'observedOsFromTumorIncidenceDays']].corr(method='pearson')\n",
    "            print(f\"PFS-OS correlation ({grouping_column}: {group_label}):\", \n",
    "                  pfs_os_correlation.iat[0, 1] if not pfs_os_correlation.empty else \"Not available\")"
   ]
  },
  {
   "cell_type": "markdown",
   "id": "2ccba459-3f07-4066-815f-fddcd39afaf5",
   "metadata": {},
   "source": [
    "## First-line treatments"
   ]
  },
  {
   "cell_type": "code",
   "execution_count": null,
   "id": "0c5151cc-7f7e-4cb0-83cd-fcdf8a2a3158",
   "metadata": {
    "tags": []
   },
   "outputs": [],
   "source": [
    "df_treatments['treatment_order'] = df_treatments['order']\n",
    "\n",
    "calculate_pfs_os_correlation('treatment_order', [1], df_treatments)"
   ]
  },
  {
   "cell_type": "markdown",
   "id": "def4ba3c-c3da-4630-93a5-ca963777abf9",
   "metadata": {},
   "source": [
    "## Subgroup Analysis"
   ]
  },
  {
   "cell_type": "markdown",
   "id": "4d511d96-4a21-43b3-bb3b-fe8fcec88de8",
   "metadata": {},
   "source": [
    "### Treatment type\n",
    "Different treatment modalities, such as chemotherapy and targeted therapy, have distinct mechanisms of action. \n",
    "\n",
    "The goal here is to see whether the correlation between PFS and OS differs between these two treatment types. If one treatment type shows a stronger PFS-OS correlation, it may suggest that PFS is a more reliable surrogate for OS for that particular type of treatment."
   ]
  },
  {
   "cell_type": "code",
   "execution_count": null,
   "id": "b021a072-61d5-4827-8e0a-ba8489236bdd",
   "metadata": {
    "tags": []
   },
   "outputs": [],
   "source": [
    "def categorize_treatment_plan(df):\n",
    "    chemo = ['FOLFOX', 'FOLFOX_B', 'CAPOX', 'CAPOX_B', 'FOLFIRI', 'FOLFIRI_B', 'FOLFOX_P', \n",
    "                      'FOLFOXIRI', 'FOLFOXIRI_B', 'CAPECITABINE', 'FLUOROURACIL', 'FOLFIRI_P', 'IRINOTECAN']\n",
    "    \n",
    "    target = ['CAPECITABINE_BEVACIZUMAB', 'FLUOROURACIL_BEVACIZUMAB']\n",
    "    \n",
    "    immuno = ['PEMBROLIZUMAB', 'NIVOLUMAB']\n",
    "    \n",
    "    # Default to 'Other' for uncategorized plans\n",
    "    df['treatment_category'] = 'Other'\n",
    "    \n",
    "    df.loc[df['systemicTreatmentPlan'].isin(chemo), 'treatment_category'] = 'Chemotherapy'\n",
    "    df.loc[df['systemicTreatmentPlan'].isin(target), 'treatment_category'] = 'Targeted Therapy'\n",
    "    df.loc[df['systemicTreatmentPlan'].isin(immuno), 'treatment_category'] = 'Immunotherapy'\n",
    "    \n",
    "    return df\n",
    "\n",
    "first_line_treatments = categorize_treatment_plan(first_line_treatments)"
   ]
  },
  {
   "cell_type": "code",
   "execution_count": null,
   "id": "b54b8ac8-323f-4958-a386-05c8eefa5413",
   "metadata": {
    "tags": []
   },
   "outputs": [],
   "source": [
    "treatment_labels = first_line_treatments['treatment_category'].unique()\n",
    "calculate_pfs_os_correlation('treatment_category', treatment_labels, first_line_treatments)"
   ]
  },
  {
   "cell_type": "markdown",
   "id": "d481e953-3cd2-4327-8664-c25d6f09d311",
   "metadata": {
    "tags": []
   },
   "source": [
    "### Patient characteristics\n",
    "\n",
    "Specific patient characteristics can affect both treatment tolerance and survival outcomes. We analyze the different groups to check whether the relationship between PFS and OS differs within them."
   ]
  },
  {
   "cell_type": "code",
   "execution_count": null,
   "id": "b8082dde-07c4-47c2-a06c-7754934fde0a",
   "metadata": {
    "tags": []
   },
   "outputs": [],
   "source": [
    "first_line_treatments['age_bins'] = pd.cut(first_line_treatments['ageAtDiagnosis'], bins=range(0, 110, 10))\n",
    "calculate_pfs_os_correlation('age_bins', sorted(first_line_treatments['age_bins'].unique()), first_line_treatments)"
   ]
  },
  {
   "cell_type": "code",
   "execution_count": null,
   "id": "03cc10bb-77ab-4128-a6b5-5b7ca7bbfc18",
   "metadata": {
    "tags": []
   },
   "outputs": [],
   "source": [
    "who_status_labels = sorted(first_line_treatments['whoStatusPreTreatmentStart'].unique())\n",
    "calculate_pfs_os_correlation('whoStatusPreTreatmentStart', who_status_labels, first_line_treatments)"
   ]
  },
  {
   "cell_type": "code",
   "execution_count": null,
   "id": "9002bd12-646c-4eb4-87ef-5a21c33aa07d",
   "metadata": {
    "tags": []
   },
   "outputs": [],
   "source": [
    "ras_status_labels = sorted(first_line_treatments['hasRasMutation'].unique())\n",
    "calculate_pfs_os_correlation('hasRasMutation', ras_status_labels, first_line_treatments)"
   ]
  },
  {
   "cell_type": "markdown",
   "id": "719dd1b0-7101-446c-8413-25f5f10b2af3",
   "metadata": {},
   "source": [
    "### Relation between PFS and OS\n",
    "\n",
    "A regression analysis allows us to quantify how much OS increases for each additional unit of PFS (e.g., how many extra months of survival we expect for every month of PFS improvement).\n",
    "\n",
    "We are using a simple linear regression model because it provides an intuitive way to understand the linear relationship between the two variables. The slope of the regression line tells us the expected gain in OS for each day or month of improvement in PFS. A higher slope would suggest that even modest improvements in PFS are associated with significant gains in OS.\n",
    "\n",
    "The intercept gives the baseline OS when PFS is zero, which can offer insight into survival even in the absence of progression-free time.\n"
   ]
  },
  {
   "cell_type": "code",
   "execution_count": null,
   "id": "02f41770-9ca9-4a43-94bf-6377ee89fbac",
   "metadata": {
    "tags": []
   },
   "outputs": [],
   "source": [
    "from sklearn.linear_model import LinearRegression\n",
    "\n",
    "X = first_line_treatments[['observedPfsDays']]  # Predictor: PFS\n",
    "y = first_line_treatments['observedOsFromTumorIncidenceDays']  # Target: OS\n",
    "\n",
    "model = LinearRegression()\n",
    "model.fit(X, y)\n",
    "\n",
    "pfs_os_slope = model.coef_\n",
    "pfs_os_intercept = model.intercept_\n",
    "\n",
    "print(f\"Slope (OS gain per unit of PFS): {pfs_os_slope[0]}\")\n",
    "print(f\"Intercept (Baseline OS): {pfs_os_intercept}\")"
   ]
  }
 ],
 "metadata": {
  "kernelspec": {
   "display_name": "Python 3 (ipykernel)",
   "language": "python",
   "name": "python3"
  },
  "language_info": {
   "codemirror_mode": {
    "name": "ipython",
    "version": 3
   },
   "file_extension": ".py",
   "mimetype": "text/x-python",
   "name": "python",
   "nbconvert_exporter": "python",
   "pygments_lexer": "ipython3",
   "version": "3.7.3"
  }
 },
 "nbformat": 4,
 "nbformat_minor": 5
}
