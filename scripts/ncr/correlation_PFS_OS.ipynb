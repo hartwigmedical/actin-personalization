{
 "cells": [
  {
   "cell_type": "code",
   "execution_count": null,
   "id": "038f871f-0c40-45ca-b264-479ec9e0e298",
   "metadata": {
    "tags": []
   },
   "outputs": [],
   "source": [
    "import pymysql\n",
    "import pandas as pd\n",
    "import matplotlib.pyplot as plt"
   ]
  },
  {
   "cell_type": "code",
   "execution_count": null,
   "id": "a28e0183-7e8f-4ae4-af20-ddf62ac15461",
   "metadata": {
    "tags": []
   },
   "outputs": [],
   "source": [
    "db_connection = pymysql.connect(\n",
    "    read_default_file='/home/jupyter/.my.cnf',\n",
    "    read_default_group='RAnalysis', \n",
    "    db = 'actin_personalization'\n",
    ")\n",
    "\n",
    "query = \"\"\"  \n",
    "SELECT * \n",
    "FROM knownPalliativeTreatments \n",
    "\"\"\"\n",
    "\n",
    "df_treatments = pd.read_sql(query, db_connection)\n",
    "\n",
    "db_connection.close()\n",
    "\n",
    "df_treatments.head()"
   ]
  },
  {
   "cell_type": "code",
   "execution_count": null,
   "id": "3dcb0d01-2b2e-4b30-819e-3dbed0c70399",
   "metadata": {
    "tags": []
   },
   "outputs": [],
   "source": [
    "df_treatments = df_treatments.dropna(subset = ['observedPfsDays', 'observedOsFromTumorIncidenceDays'])"
   ]
  },
  {
   "cell_type": "markdown",
   "id": "ebaca48a-c3a4-4124-b57d-3f3af69cb8d2",
   "metadata": {},
   "source": [
    "# Correlation between PFS and OS \n",
    "\n",
    "The aim is to determine whether PFS is a good surrogate for OS by evaluating the strength of their relationship.\n",
    "\n",
    "We use Pearson's correlation coefficient here because it measures the linear relationship between two continuous variables (PFS and OS). A Pearson correlation close to 1 indicates a strong positive relationship, meaning that improvements in PFS are associated with increases in OS."
   ]
  },
  {
   "cell_type": "code",
   "execution_count": null,
   "id": "c82c4fb9-b876-47dc-8878-f75210e4fce3",
   "metadata": {
    "tags": []
   },
   "outputs": [],
   "source": [
    "def calculate_pfs_os_correlation(grouping_column, group_labels, df):\n",
    "    correlation_results = []\n",
    "    \n",
    "    for group_label in group_labels:\n",
    "        group = df[df[grouping_column] == group_label]\n",
    "        if not group.empty:\n",
    "            pfs_os_correlation = group[['observedPfsDays', 'observedOsFromTumorIncidenceDays']].corr(method='pearson')\n",
    "            correlation = pfs_os_correlation.iat[0, 1] if not pfs_os_correlation.empty else None\n",
    "            correlation_results.append({'Group': str(group_label), 'Correlation': correlation})\n",
    "\n",
    "    correlation_df = pd.DataFrame(correlation_results)\n",
    "    \n",
    "    return correlation_df"
   ]
  },
  {
   "cell_type": "code",
   "execution_count": null,
   "id": "64b63496-19dd-4527-8b28-ac3030d4e3a0",
   "metadata": {
    "tags": []
   },
   "outputs": [],
   "source": [
    "def plot_correlation_results(correlation_df, grouping_column, line=True, ax=None):\n",
    "    if ax is None:\n",
    "        ax = plt.gca() \n",
    "    \n",
    "    groups = correlation_df['Group']\n",
    "    correlations = correlation_df['Correlation']\n",
    "\n",
    "    bars = ax.bar(groups, correlations, color='skyblue', label='Correlation (Bars)')\n",
    "    \n",
    "    # Display correlation values inside the bars\n",
    "    for bar, correlation in zip(bars, correlations):\n",
    "        height = bar.get_height()\n",
    "        ax.text(bar.get_x() + bar.get_width() / 2.0, height / 2, f'{correlation:.2f}', ha='center', va='center', color='black')\n",
    "\n",
    "    if line:\n",
    "        ax.plot(groups, correlations, marker='o', color='orange', linestyle='-', label='Correlation (Line)')\n",
    "    \n",
    "    ax.set_xlabel(f'{grouping_column} Groups')\n",
    "    ax.set_ylabel('PFS-OS Correlation')\n",
    "    ax.set_title(f'PFS-OS Correlation by {grouping_column}')\n",
    "    ax.legend()\n",
    "    ax.tick_params(axis='x', rotation=45)\n",
    "\n",
    "    if ax is plt.gca():\n",
    "        plt.tight_layout()\n",
    "        plt.show()"
   ]
  },
  {
   "cell_type": "markdown",
   "id": "2ccba459-3f07-4066-815f-fddcd39afaf5",
   "metadata": {},
   "source": [
    "## First-line treatments"
   ]
  },
  {
   "cell_type": "code",
   "execution_count": null,
   "id": "0c5151cc-7f7e-4cb0-83cd-fcdf8a2a3158",
   "metadata": {
    "tags": []
   },
   "outputs": [],
   "source": [
    "df_treatments['treatment_first_line'] = df_treatments['order']\n",
    "\n",
    "first_line_correlation_results = calculate_pfs_os_correlation('treatment_first_line', [1], df_treatments)"
   ]
  },
  {
   "cell_type": "markdown",
   "id": "def4ba3c-c3da-4630-93a5-ca963777abf9",
   "metadata": {},
   "source": [
    "## Subgroup Analysis"
   ]
  },
  {
   "cell_type": "code",
   "execution_count": null,
   "id": "8c75e9bb-bb46-49f0-904c-c484c0704101",
   "metadata": {
    "tags": []
   },
   "outputs": [],
   "source": [
    "def calculate_and_plot(df, grouping_column, bins=None, line=True, ax=None):\n",
    "    if bins:\n",
    "        df[grouping_column + '_bins'] = pd.cut(df[grouping_column], bins=bins)\n",
    "        group_labels = sorted(df[grouping_column + '_bins'].dropna().unique(), key=lambda x: x.left)\n",
    "        group_column = grouping_column + '_bins'\n",
    "    else:\n",
    "        group_labels = sorted(df[grouping_column].unique())\n",
    "        group_column = grouping_column\n",
    "    \n",
    "    correlation_df = calculate_pfs_os_correlation(group_column, group_labels, df)\n",
    "    \n",
    "    plot_correlation_results(correlation_df, group_column, line=line, ax=ax)\n",
    "    \n",
    "    return correlation_df"
   ]
  },
  {
   "cell_type": "markdown",
   "id": "4d511d96-4a21-43b3-bb3b-fe8fcec88de8",
   "metadata": {},
   "source": [
    "### Treatment type\n",
    "Different treatment modalities, such as chemotherapy and targeted therapy, have distinct mechanisms of action. \n",
    "\n",
    "The goal here is to see whether the correlation between PFS and OS differs between these two treatment types. If one treatment type shows a stronger PFS-OS correlation, it may suggest that PFS is a more reliable surrogate for OS for that particular type of treatment."
   ]
  },
  {
   "cell_type": "code",
   "execution_count": null,
   "id": "b021a072-61d5-4827-8e0a-ba8489236bdd",
   "metadata": {
    "tags": []
   },
   "outputs": [],
   "source": [
    "def categorize_treatment_plan(df):\n",
    "    chemo = ['FOLFOX', 'FOLFOX_B', 'CAPOX', 'CAPOX_B', 'FOLFIRI', 'FOLFIRI_B', 'FOLFOX_P', \n",
    "                      'FOLFOXIRI', 'FOLFOXIRI_B', 'CAPECITABINE', 'FLUOROURACIL', 'FOLFIRI_P', 'IRINOTECAN']\n",
    "    \n",
    "    target = ['CAPECITABINE_BEVACIZUMAB', 'FLUOROURACIL_BEVACIZUMAB']\n",
    "    \n",
    "    immuno = ['PEMBROLIZUMAB', 'NIVOLUMAB']\n",
    "    \n",
    "    # Default to 'Other' for uncategorized plans\n",
    "    df['treatment_category'] = 'Other'\n",
    "    \n",
    "    df.loc[df['systemicTreatmentPlan'].isin(chemo), 'treatment_category'] = 'Chemotherapy'\n",
    "    df.loc[df['systemicTreatmentPlan'].isin(target), 'treatment_category'] = 'Targeted Therapy'\n",
    "    df.loc[df['systemicTreatmentPlan'].isin(immuno), 'treatment_category'] = 'Immunotherapy'\n",
    "    \n",
    "    return df\n",
    "\n",
    "df_treatments = categorize_treatment_plan(df_treatments)"
   ]
  },
  {
   "cell_type": "code",
   "execution_count": null,
   "id": "80717122-caa2-4b5c-9fbb-d0e970f3d1e8",
   "metadata": {
    "tags": []
   },
   "outputs": [],
   "source": [
    "calculate_and_plot(df_treatments, 'treatment_category', line = False)"
   ]
  },
  {
   "cell_type": "markdown",
   "id": "d481e953-3cd2-4327-8664-c25d6f09d311",
   "metadata": {
    "tags": []
   },
   "source": [
    "### Patient characteristics\n",
    "\n",
    "Specific patient characteristics can affect both treatment tolerance and survival outcomes. We analyze the different groups to check whether the relationship between PFS and OS differs within them."
   ]
  },
  {
   "cell_type": "code",
   "execution_count": null,
   "id": "723fb0fd-235a-4717-9444-4bb6485df72a",
   "metadata": {
    "tags": []
   },
   "outputs": [],
   "source": [
    "fig, axs = plt.subplots(3, 3, figsize=(18, 14))\n",
    "\n",
    "age_correlation_results = calculate_and_plot(df_treatments, 'ageAtDiagnosis', bins=range(0, 110, 10), ax=axs[0, 0])\n",
    "who_status_correlation_results = calculate_and_plot(df_treatments, 'whoStatusPreTreatmentStart', ax=axs[0, 1])\n",
    "cci_correlation_results = calculate_and_plot(df_treatments, 'cci', ax=axs[0, 2])\n",
    "msi_correlation_results = calculate_and_plot(df_treatments, 'hasMsi', line=False, ax=axs[1, 0])\n",
    "braf_correlation_results = calculate_and_plot(df_treatments, 'hasBrafMutation', line=False, ax=axs[1, 1])\n",
    "braf_v_correlation_results = calculate_and_plot(df_treatments, 'hasBrafV600EMutation', line=False, ax=axs[1, 2])\n",
    "ras_correlation_results = calculate_and_plot(df_treatments, 'hasRasMutation', line=False, ax=axs[2, 0])\n",
    "kras_correlation_results = calculate_and_plot(df_treatments, 'hasKrasG12CMutation', line=False, ax=axs[2, 1])\n",
    "treatment_duration_correlation_results = calculate_and_plot(df_treatments, 'systemicTreatmentPlanDuration', bins=range(0, 1193, 100), ax=axs[2, 2])\n",
    "\n",
    "plt.tight_layout()\n",
    "plt.show()"
   ]
  },
  {
   "cell_type": "markdown",
   "id": "719dd1b0-7101-446c-8413-25f5f10b2af3",
   "metadata": {},
   "source": [
    "### Relation between PFS and OS\n",
    "\n",
    "A regression analysis allows us to quantify how much OS increases for each additional unit of PFS (e.g., how many extra months of survival we expect for every month of PFS improvement).\n",
    "\n",
    "We are using a simple linear regression model because it provides an intuitive way to understand the linear relationship between the two variables. The slope of the regression line tells us the expected gain in OS for each day or month of improvement in PFS. A higher slope would suggest that even modest improvements in PFS are associated with significant gains in OS.\n",
    "\n",
    "The intercept gives the baseline OS when PFS is zero, which can offer insight into survival even in the absence of progression-free time.\n"
   ]
  },
  {
   "cell_type": "code",
   "execution_count": null,
   "id": "02f41770-9ca9-4a43-94bf-6377ee89fbac",
   "metadata": {
    "tags": []
   },
   "outputs": [],
   "source": [
    "from sklearn.linear_model import LinearRegression\n",
    "\n",
    "X = df_treatments[['observedPfsDays']] \n",
    "y = df_treatments['observedOsFromTumorIncidenceDays']  \n",
    "\n",
    "model = LinearRegression()\n",
    "model.fit(X, y)\n",
    "\n",
    "pfs_os_slope = model.coef_\n",
    "pfs_os_intercept = model.intercept_\n",
    "\n",
    "print(f\"Slope (OS gain per unit of PFS): {pfs_os_slope[0]}\")\n",
    "print(f\"Intercept (Baseline OS): {pfs_os_intercept}\")\n",
    "\n",
    "y_pred = model.predict(X)\n",
    "\n",
    "plt.figure(figsize=(10, 6))\n",
    "plt.scatter(df_treatments['observedPfsDays'], df_treatments['observedOsFromTumorIncidenceDays'], color='blue', label='Data Points')\n",
    "plt.plot(df_treatments['observedPfsDays'], y_pred, color='red', label=f'Fitted Line (Slope: {pfs_os_slope[0]:.2f}, Intercept: {pfs_os_intercept:.2f})')\n",
    "plt.xlabel('Observed PFS Days')\n",
    "plt.ylabel('Observed OS Days')\n",
    "plt.title('PFS vs OS with Fitted Line')\n",
    "plt.legend()\n",
    "plt.tight_layout()\n",
    "plt.show()"
   ]
  }
 ],
 "metadata": {
  "kernelspec": {
   "display_name": "Python 3 (ipykernel)",
   "language": "python",
   "name": "python3"
  },
  "language_info": {
   "codemirror_mode": {
    "name": "ipython",
    "version": 3
   },
   "file_extension": ".py",
   "mimetype": "text/x-python",
   "name": "python",
   "nbconvert_exporter": "python",
   "pygments_lexer": "ipython3",
   "version": "3.7.3"
  }
 },
 "nbformat": 4,
 "nbformat_minor": 5
}
