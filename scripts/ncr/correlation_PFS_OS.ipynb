{
 "cells": [
  {
   "cell_type": "code",
   "execution_count": null,
   "id": "038f871f-0c40-45ca-b264-479ec9e0e298",
   "metadata": {
    "tags": []
   },
   "outputs": [],
   "source": [
    "import pymysql\n",
    "import pandas as pd\n",
    "import matplotlib.pyplot as plt\n",
    "import numpy as np"
   ]
  },
  {
   "cell_type": "code",
   "execution_count": null,
   "id": "a28e0183-7e8f-4ae4-af20-ddf62ac15461",
   "metadata": {
    "tags": []
   },
   "outputs": [],
   "source": [
    "db_connection = pymysql.connect(\n",
    "    read_default_file='/home/jupyter/.my.cnf',\n",
    "    read_default_group='RAnalysis', \n",
    "    db = 'actin_personalization'\n",
    ")\n",
    "\n",
    "query = \"\"\"\n",
    "SELECT *\n",
    "FROM knownPalliativeTreatments\n",
    "\"\"\"\n",
    "\n",
    "df_treatments = pd.read_sql(query, db_connection)\n",
    "\n",
    "db_connection.close()\n",
    "\n",
    "df_treatments.head()"
   ]
  },
  {
   "cell_type": "code",
   "execution_count": null,
   "id": "3dcb0d01-2b2e-4b30-819e-3dbed0c70399",
   "metadata": {
    "tags": []
   },
   "outputs": [],
   "source": [
    "df_treatments = df_treatments.dropna(subset = ['observedPfsDays', 'observedOsFromTreatmentStartDays'])\n",
    "df_treatments['observedPpsDays'] = (df_treatments['observedOsFromTreatmentStartDays'] - df_treatments['observedPfsDays'])\n",
    "df_treatments['observedPpsEvent'] = (df_treatments['hadProgressionEvent'].astype(bool) & df_treatments['hadSurvivalEvent'].astype(bool))\n",
    "\n",
    "df_treatments_synchronous = df_treatments[df_treatments['isMetachronous'] != 1] "
   ]
  },
  {
   "cell_type": "markdown",
   "id": "ebaca48a-c3a4-4124-b57d-3f3af69cb8d2",
   "metadata": {},
   "source": [
    "# Correlation between PFS and OS \n",
    "\n",
    "The aim is to determine whether PFS is a good surrogate for OS by evaluating the strength of their relationship.\n",
    "\n",
    "We use Harrell’s C-index (concordance index) because it is specifically designed for survival analysis and accounts for censoring in time-to-event data. The C-index measures the ability of one variable (e.g., PFS) to predict the ranking of another variable (e.g., OS), taking into account the uncertainty introduced by censored observations.\n",
    "\n",
    "The C-index works by comparing all possible pairs of patients:\n",
    "\n",
    "- A pair is concordant if the patient with a longer observed PFS also has a longer observed OS.\n",
    "- A pair is discordant if the patient with a longer observed PFS has a shorter observed OS.\n",
    "- Pairs where censoring prevents a definitive comparison are excluded.\n",
    "\n",
    "The C-index ranges from 0 to 1:\n",
    "- A C-index of 1 indicates perfect concordance (i.e., PFS perfectly predicts OS rankings).\n",
    "- A C-index of 0.5 suggests no predictive ability (similar to random guessing).\n",
    "- A C-index below 0.5 indicates that PFS is inversely related to OS, which would be unexpected.\n",
    "\n",
    "Using the C-index allows us to evaluate the strength of the relationship between PFS and OS while properly accounting for the censoring inherent in survival data, making it well-suited for assessing whether PFS can serve as a surrogate endpoint for OS in clinical studies.\n",
    "\n",
    "Since there is no python library that implements the Harrel's C-index as such (https://statisticaloddsandends.wordpress.com/2019/10/26/what-is-harrells-c-index/), we define it by hand:\n"
   ]
  },
  {
   "cell_type": "code",
   "execution_count": null,
   "id": "11d7b750-44ac-4ae7-95a8-ae25282d37e6",
   "metadata": {
    "tags": []
   },
   "outputs": [],
   "source": [
    "import numpy as np\n",
    "\n",
    "def harrell_c_index(predictor_time, predictor_event, outcome_time, outcome_event):\n",
    "    predictor_time = np.array(predictor_time)\n",
    "    predictor_event = np.array(predictor_event, dtype=bool)\n",
    "    outcome_time = np.array(outcome_time)\n",
    "    outcome_event = np.array(outcome_event, dtype=bool)\n",
    "    \n",
    "    n = len(outcome_time)\n",
    "    \n",
    "    i, j = np.triu_indices(n, k=1)  \n",
    "    \n",
    "    outcome_event_i = outcome_event[i]\n",
    "    outcome_event_j = outcome_event[j]\n",
    "    outcome_time_i = outcome_time[i]\n",
    "    outcome_time_j = outcome_time[j]\n",
    "    predictor_time_i = predictor_time[i]\n",
    "    predictor_time_j = predictor_time[j]\n",
    "    \n",
    "    concordant = 0\n",
    "    discordant = 0\n",
    "    comparable = 0\n",
    "    \n",
    "    both_observed = outcome_event_i & outcome_event_j\n",
    "    comparable += np.sum(both_observed & (outcome_time_i != outcome_time_j))\n",
    "    concordant += np.sum(both_observed & (outcome_time_i > outcome_time_j) & (predictor_time_i > predictor_time_j))\n",
    "    concordant += np.sum(both_observed & (outcome_time_i < outcome_time_j) & (predictor_time_i < predictor_time_j))\n",
    "    discordant += np.sum(both_observed & (outcome_time_i > outcome_time_j) & (predictor_time_i < predictor_time_j))\n",
    "    discordant += np.sum(both_observed & (outcome_time_i < outcome_time_j) & (predictor_time_i > predictor_time_j))\n",
    "    \n",
    "    only_i_observed = outcome_event_i & ~outcome_event_j\n",
    "    comparable += np.sum(only_i_observed & (outcome_time_i < outcome_time_j))\n",
    "    concordant += np.sum(only_i_observed & (outcome_time_i < outcome_time_j) & (predictor_time_i > predictor_time_j))\n",
    "    discordant += np.sum(only_i_observed & (outcome_time_i < outcome_time_j) & (predictor_time_i < predictor_time_j))\n",
    "    \n",
    "    only_j_observed = outcome_event_j & ~outcome_event_i\n",
    "    comparable += np.sum(only_j_observed & (outcome_time_j < outcome_time_i))\n",
    "    concordant += np.sum(only_j_observed & (outcome_time_j < outcome_time_i) & (predictor_time_j > predictor_time_i))\n",
    "    discordant += np.sum(only_j_observed & (outcome_time_j < outcome_time_i) & (predictor_time_j < predictor_time_i))\n",
    "    \n",
    "    return concordant / comparable if comparable > 0 else np.nan\n"
   ]
  },
  {
   "cell_type": "code",
   "execution_count": null,
   "id": "c82c4fb9-b876-47dc-8878-f75210e4fce3",
   "metadata": {
    "tags": []
   },
   "outputs": [],
   "source": [
    "def median_iqr(series):\n",
    "        med = series.median()\n",
    "        q1 = np.percentile(series, 25)\n",
    "        q3 = np.percentile(series, 75)\n",
    "        return f\"{med:.2f} [{q1:.2f} - {q3:.2f}]\"\n",
    "    \n",
    "def calculate_cindex_and_statistics(df, grouping_column, group_labels):\n",
    "    results = []\n",
    "    for group_label in group_labels:\n",
    "        group_df = df[df[grouping_column] == group_label].copy().reset_index(drop=True)\n",
    "        if group_df.empty:\n",
    "            print(f\"Group {group_label} is empty.\")\n",
    "            continue\n",
    "        \n",
    "        cidx_pfs_os = harrell_c_index(\n",
    "            predictor_time = group_df['observedPfsDays'], \n",
    "            predictor_event = group_df['hadProgressionEvent'].astype(bool), \n",
    "            outcome_time = group_df['observedOsFromTreatmentStartDays'], \n",
    "            outcome_event= group_df['hadSurvivalEvent'].astype(bool)\n",
    "        )\n",
    "        \n",
    "        cidx_pfs_pps = harrell_c_index(\n",
    "            predictor_time = group_df['observedPfsDays'], \n",
    "            predictor_event = group_df['hadProgressionEvent'].astype(bool), \n",
    "            outcome_time = group_df['observedPpsDays'], \n",
    "            outcome_event= group_df['observedPpsEvent'].astype(bool)\n",
    "        )\n",
    "       \n",
    "        pfs_stats = median_iqr(group_df['observedPfsDays'])\n",
    "        os_stats = median_iqr(group_df['observedOsFromTreatmentStartDays'])\n",
    "        pps_stats = median_iqr(group_df['observedPpsDays'])\n",
    "    \n",
    "\n",
    "        results.append({\n",
    "            'Group': str(group_label),\n",
    "            'N': len(group_df),\n",
    "            'C-Index (PFS→OS)': cidx_pfs_os,\n",
    "            'C-Index (PFS→PPS)': cidx_pfs_pps,\n",
    "            'PFS Median(IQR)': pfs_stats,\n",
    "            'OS Median(IQR)': os_stats,\n",
    "            'PPS Median(IQR)': pps_stats\n",
    "        })\n",
    "    \n",
    "    return pd.DataFrame(results)"
   ]
  },
  {
   "cell_type": "code",
   "execution_count": null,
   "id": "64b63496-19dd-4527-8b28-ac3030d4e3a0",
   "metadata": {
    "tags": []
   },
   "outputs": [],
   "source": [
    "def plot_correlation_results(correlation_df, grouping_column, line=True, ax=None, title=None):\n",
    "    if ax is None:\n",
    "        ax = plt.gca() \n",
    "    \n",
    "    groups = correlation_df['Group']\n",
    "    os_values = correlation_df['C-Index (PFS→OS)']\n",
    "    pps_values = correlation_df['C-Index (PFS→PPS)']\n",
    "    \n",
    "    x = np.arange(len(groups))\n",
    "    width = 0.35\n",
    "    \n",
    "    os_bars = ax.bar(x - width / 2, os_values, width, color='skyblue', label='C-Index (PFS→OS)')\n",
    "    pps_bars = ax.bar(x + width / 2, pps_values, width, color='lightgreen', label='C-Index (PFS→PPS)')\n",
    "    \n",
    "    # Display values inside the bars\n",
    "    for bar, value in zip(os_bars, os_values):\n",
    "        height = bar.get_height()\n",
    "        ax.text(bar.get_x() + bar.get_width() / 2, height + 0.02, f'{value:.2f}', ha='center', va='bottom', color='black')\n",
    "\n",
    "    for bar, value in zip(pps_bars, pps_values):\n",
    "        height = bar.get_height()\n",
    "        ax.text(bar.get_x() + bar.get_width() / 2, height + 0.02, f'{value:.2f}', ha='center', va='bottom', color='black')\n",
    "\n",
    "    if line:\n",
    "       \n",
    "        ax.plot(groups, os_values, marker='o', color='blue', linestyle='-', label='Correlation (Line)')\n",
    "        ax.plot(groups, pps_values, marker='o', color='green', linestyle='-', label='Correlation (Line)')\n",
    "    \n",
    "    ax.set_xticks(x)\n",
    "    ax.set_xticklabels(groups, rotation=45, ha='right')\n",
    "\n",
    "    ax.set_xlabel(f'{grouping_column} Groups')\n",
    "    ax.set_ylabel('C-index')\n",
    "    if not title:\n",
    "        ax.set_title(f'PFS-OS and PFS-PPS C-index by {grouping_column}')\n",
    "    else:\n",
    "        ax.set_title(title)\n",
    "        \n",
    "    ax.legend()\n",
    "    ax.tick_params(axis='x', rotation=45)\n",
    "\n",
    "    if ax is plt.gca():\n",
    "        plt.tight_layout()\n",
    "        plt.show()"
   ]
  },
  {
   "cell_type": "markdown",
   "id": "2ccba459-3f07-4066-815f-fddcd39afaf5",
   "metadata": {},
   "source": [
    "## First-line treatments"
   ]
  },
  {
   "cell_type": "markdown",
   "id": "def4ba3c-c3da-4630-93a5-ca963777abf9",
   "metadata": {},
   "source": [
    "### Subgroup Analysis"
   ]
  },
  {
   "cell_type": "code",
   "execution_count": null,
   "id": "8c75e9bb-bb46-49f0-904c-c484c0704101",
   "metadata": {
    "tags": []
   },
   "outputs": [],
   "source": [
    "def calculate_and_plot(df, grouping_column, bins=None, line=True, ax=None, title=None):\n",
    "    if bins:\n",
    "        df[grouping_column + '_bins'] = pd.cut(df[grouping_column], bins=bins)\n",
    "        group_labels = sorted(df[grouping_column + '_bins'].dropna().unique(), key=lambda x: x.left)\n",
    "        group_column = grouping_column + '_bins'\n",
    "    else:\n",
    "        group_labels = sorted(df[grouping_column].unique())\n",
    "        group_column = grouping_column\n",
    "    \n",
    "    correlation_df = calculate_cindex_and_statistics(df, group_column, group_labels)\n",
    "    \n",
    "    plot_correlation_results(correlation_df, group_column, line=line, ax=ax, title =title)\n",
    "    \n",
    "    return correlation_df"
   ]
  },
  {
   "cell_type": "markdown",
   "id": "e8a582a3-95a4-423a-9405-a207ed85da1e",
   "metadata": {
    "tags": []
   },
   "source": [
    "### Metachronous patients"
   ]
  },
  {
   "cell_type": "code",
   "execution_count": null,
   "id": "333a45e3-f064-473d-90a3-46c1de1f496f",
   "metadata": {
    "tags": []
   },
   "outputs": [],
   "source": [
    "first_line_correlation_results = calculate_and_plot(df_treatments, 'isMetachronous', line = False)\n",
    "first_line_correlation_results"
   ]
  },
  {
   "cell_type": "markdown",
   "id": "4d511d96-4a21-43b3-bb3b-fe8fcec88de8",
   "metadata": {},
   "source": [
    "### Treatment type\n",
    "Different treatment modalities, such as chemotherapy and targeted therapy, have distinct mechanisms of action. \n",
    "\n",
    "The goal here is to see whether the correlation between PFS and OS differs between these two treatment types. If one treatment type shows a stronger PFS-OS correlation, it may suggest that PFS is a more reliable surrogate for OS for that particular type of treatment."
   ]
  },
  {
   "cell_type": "code",
   "execution_count": null,
   "id": "b021a072-61d5-4827-8e0a-ba8489236bdd",
   "metadata": {
    "tags": []
   },
   "outputs": [],
   "source": [
    "def categorize_treatment_plan(df):\n",
    "    chemo = ['FOLFOX', 'FOLFOX_B', 'CAPOX', 'CAPOX_B', 'FOLFIRI', 'FOLFIRI_B', 'FOLFOX_P', \n",
    "                      'FOLFOXIRI', 'FOLFOXIRI_B', 'CAPECITABINE', 'FLUOROURACIL', 'FOLFIRI_P', 'IRINOTECAN', 'CAPECITABINE_BEVACIZUMAB', 'FLUOROURACIL_BEVACIZUMAB']\n",
    "    \n",
    "    immuno = ['PEMBROLIZUMAB', 'NIVOLUMAB']\n",
    "    \n",
    "    # Default to 'Other' for uncategorized plans\n",
    "    df['treatment_category'] = 'Other'\n",
    "    \n",
    "    df.loc[df['systemicTreatmentPlan'].isin(chemo), 'treatment_category'] = 'Chemotherapy'\n",
    "    df.loc[df['systemicTreatmentPlan'].isin(immuno), 'treatment_category'] = 'Immunotherapy'\n",
    "    \n",
    "    return df\n",
    "\n",
    "df_treatments_synchronous = categorize_treatment_plan(df_treatments_synchronous.copy())\n",
    "df_treatments = categorize_treatment_plan(df_treatments.copy())"
   ]
  },
  {
   "cell_type": "code",
   "execution_count": null,
   "id": "80717122-caa2-4b5c-9fbb-d0e970f3d1e8",
   "metadata": {
    "tags": []
   },
   "outputs": [],
   "source": [
    "calculate_and_plot(df_treatments_synchronous, 'treatment_category', line = False)"
   ]
  },
  {
   "cell_type": "markdown",
   "id": "88b58f5c-ce39-480d-9e6a-b7744eb71d0d",
   "metadata": {},
   "source": [
    "### Censored vs Uncensored\n",
    "\n"
   ]
  },
  {
   "cell_type": "code",
   "execution_count": null,
   "id": "7a2ab0a1-56de-43e4-a9dd-32081f81dd9a",
   "metadata": {
    "tags": []
   },
   "outputs": [],
   "source": [
    "censor_correlation_results_pfs = calculate_cindex_and_statistics(df_treatments_synchronous, 'hadProgressionEvent', [0, 1])\n",
    "\n",
    "censor_correlation_results_pfs"
   ]
  },
  {
   "cell_type": "code",
   "execution_count": null,
   "id": "bfb8a6fa-a3f9-4b17-9548-e3813d868e94",
   "metadata": {
    "tags": []
   },
   "outputs": [],
   "source": [
    "censor_correlation_results_os = calculate_cindex_and_statistics( df_treatments_synchronous, 'hadSurvivalEvent', [0, 1])\n",
    "\n",
    "censor_correlation_results_os"
   ]
  },
  {
   "cell_type": "code",
   "execution_count": null,
   "id": "eb1708ef-0f44-4def-8852-791f4b0403fb",
   "metadata": {
    "tags": []
   },
   "outputs": [],
   "source": [
    "unique_treatments = df_treatments_synchronous['treatment_category'].unique()\n",
    "\n",
    "fig, axs = plt.subplots(1, len(unique_treatments), figsize=(18, 6))\n",
    "\n",
    "for ax, treatment in zip(axs, unique_treatments):\n",
    "    df_treatments_specific = df_treatments_synchronous[df_treatments_synchronous['treatment_category'] == treatment]\n",
    "    \n",
    "    censor_treatment_correlation_results = calculate_and_plot(df_treatments_specific,'hadProgressionEvent', line=False, ax=ax, title=f\"PFS-OS Correlation for {treatment}\")\n",
    "    print(censor_treatment_correlation_results.head())\n",
    "    \n",
    "plt.tight_layout()\n",
    "plt.show()"
   ]
  },
  {
   "cell_type": "markdown",
   "id": "d481e953-3cd2-4327-8664-c25d6f09d311",
   "metadata": {
    "tags": []
   },
   "source": [
    "### Patient characteristics\n",
    "\n",
    "Specific patient characteristics can affect both treatment tolerance and survival outcomes. We analyze the different groups to check whether the relationship between PFS and OS differs within them."
   ]
  },
  {
   "cell_type": "code",
   "execution_count": null,
   "id": "4615f5c4",
   "metadata": {
    "tags": []
   },
   "outputs": [],
   "source": [
    "from scipy.stats import spearmanr\n",
    "\n",
    "def check_trend(df_correlations):\n",
    "    groups = df_correlations['Group']\n",
    "    os_values = df_correlations['C-Index (PFS→OS)']\n",
    "    pps_values = df_correlations['C-Index (PFS→PPS)']\n",
    "\n",
    "    # Check trend for PFS→OS C-index\n",
    "    os_spearman_corr, os_p_value = spearmanr(groups, os_values)\n",
    "    print(f\"Trend for PFS→OS C-Index:\")\n",
    "    print(f\"  Spearman's rank correlation: {os_spearman_corr:.4f}\")\n",
    "    print(f\"  P-Value: {os_p_value:.4f}\\n\")\n",
    "    \n",
    "    # Check trend for PFS→PPS C-index\n",
    "    pps_spearman_corr, pps_p_value = spearmanr(groups, pps_values)\n",
    "    print(f\"Trend for PFS→PPS C-Index:\")\n",
    "    print(f\"  Spearman's rank correlation: {pps_spearman_corr:.4f}\")\n",
    "    print(f\"  P-Value: {pps_p_value:.4f}\")"
   ]
  },
  {
   "cell_type": "code",
   "execution_count": null,
   "id": "5c5f699c-45d4-446d-94e2-36ab95d13645",
   "metadata": {
    "tags": []
   },
   "outputs": [],
   "source": [
    "age_correlation_results"
   ]
  },
  {
   "cell_type": "code",
   "execution_count": null,
   "id": "723fb0fd-235a-4717-9444-4bb6485df72a",
   "metadata": {
    "tags": []
   },
   "outputs": [],
   "source": [
    "fig, axs = plt.subplots(3, 3, figsize=(18, 14))\n",
    "\n",
    "age_correlation_results = calculate_and_plot(df_treatments_synchronous, 'ageAtTreatmentPlanStart', bins=range(0, 110, 10), ax=axs[0, 0])\n",
    "who_status_correlation_results = calculate_and_plot(df_treatments_synchronous, 'whoStatusPreTreatmentStart', ax=axs[0, 1])\n",
    "cci_correlation_results = calculate_and_plot(df_treatments_synchronous, 'cci', ax=axs[0, 2])\n",
    "msi_correlation_results = calculate_and_plot(df_treatments_synchronous, 'hasMsi', line=False, ax=axs[1, 0])\n",
    "braf_correlation_results = calculate_and_plot(df_treatments_synchronous, 'hasBrafMutation', line=False, ax=axs[1, 1])\n",
    "braf_v_correlation_results = calculate_and_plot(df_treatments_synchronous, 'hasBrafV600EMutation', line=False, ax=axs[1, 2])\n",
    "ras_correlation_results = calculate_and_plot(df_treatments_synchronous, 'hasRasMutation', line=False, ax=axs[2, 0])\n",
    "kras_correlation_results = calculate_and_plot(df_treatments_synchronous, 'hasKrasG12CMutation', line=False, ax=axs[2, 1])\n",
    "treatment_duration_correlation_results = calculate_and_plot(df_treatments_synchronous, 'systemicTreatmentPlanDuration', bins=range(0, 1193, 100), ax=axs[2, 2])\n",
    "\n",
    "plt.tight_layout()\n",
    "plt.show()"
   ]
  },
  {
   "cell_type": "markdown",
   "id": "5547c1e6",
   "metadata": {},
   "source": [
    "#### Check trend significance\n"
   ]
  },
  {
   "cell_type": "code",
   "execution_count": null,
   "id": "6b654c6a",
   "metadata": {
    "tags": []
   },
   "outputs": [],
   "source": [
    "check_trend(age_correlation_results.iloc[:-1]) #Exclude patient group of 2 (90-100)\n",
    "age_correlation_results"
   ]
  },
  {
   "cell_type": "code",
   "execution_count": null,
   "id": "8923f53d",
   "metadata": {
    "tags": []
   },
   "outputs": [],
   "source": [
    "check_trend(who_status_correlation_results)\n",
    "who_status_correlation_results"
   ]
  },
  {
   "cell_type": "code",
   "execution_count": null,
   "id": "047ee87e",
   "metadata": {
    "tags": []
   },
   "outputs": [],
   "source": [
    "check_trend(cci_correlation_results)\n",
    "cci_correlation_results"
   ]
  },
  {
   "cell_type": "code",
   "execution_count": null,
   "id": "90cc81c7",
   "metadata": {
    "tags": []
   },
   "outputs": [],
   "source": [
    "check_trend(treatment_duration_correlation_results)\n",
    "treatment_duration_correlation_results"
   ]
  },
  {
   "cell_type": "markdown",
   "id": "719dd1b0-7101-446c-8413-25f5f10b2af3",
   "metadata": {},
   "source": [
    "### Relation between PFS and OS\n",
    "\n",
    "A regression analysis allows us to quantify how much OS increases for each additional unit of PFS (e.g., how many extra months of survival we expect for every month of PFS improvement).\n",
    "\n",
    "We are using a simple linear regression model because it provides an intuitive way to understand the linear relationship between the two variables. The slope of the regression line tells us the expected gain in OS for each day or month of improvement in PFS. A higher slope would suggest that even modest improvements in PFS are associated with significant gains in OS.\n",
    "\n",
    "The intercept gives the baseline OS when PFS is zero, which can offer insight into survival even in the absence of progression-free time.\n"
   ]
  },
  {
   "cell_type": "code",
   "execution_count": null,
   "id": "275efd57-96ae-46bf-a44b-fa78c39dfbbe",
   "metadata": {
    "tags": []
   },
   "outputs": [],
   "source": [
    "from sklearn.linear_model import LinearRegression\n",
    "\n",
    "def fit_and_plot_linear_regression(df, x_column, y_column, xlabel=None, ylabel=None, title=None):\n",
    "    X = df[[x_column]]\n",
    "    y = df[y_column]\n",
    "    \n",
    "    model = LinearRegression()\n",
    "    model.fit(X, y)\n",
    "    \n",
    "    slope = model.coef_[0]\n",
    "    intercept = model.intercept_\n",
    "    \n",
    "    print(f\"Slope (OS gain per unit of {x_column}): {slope}\")\n",
    "    print(f\"Intercept (Baseline OS): {intercept}\")\n",
    "    \n",
    "    y_pred = model.predict(X)\n",
    "    \n",
    "    plt.figure(figsize=(10, 6))\n",
    "    plt.scatter(X, y, color='blue', label='Data Points')\n",
    "    plt.plot(X, y_pred, color='red', label=f'Fitted Line (Slope: {slope:.2f}, Intercept: {intercept:.2f})')\n",
    "    \n",
    "    plt.xlabel(xlabel if xlabel else x_column)\n",
    "    plt.ylabel(ylabel if ylabel else y_column)\n",
    "    plt.title(title if title else f'{x_column} vs {y_column} with Fitted Line')\n",
    "    plt.legend()\n",
    "    plt.tight_layout()\n",
    "    plt.show()\n"
   ]
  },
  {
   "cell_type": "code",
   "execution_count": null,
   "id": "02f41770-9ca9-4a43-94bf-6377ee89fbac",
   "metadata": {
    "tags": []
   },
   "outputs": [],
   "source": [
    "fit_and_plot_linear_regression(\n",
    "    df=df_treatments_synchronous,\n",
    "    x_column='observedPfsDays',\n",
    "    y_column='observedOsFromTreatmentStartDays',\n",
    "    xlabel='Observed PFS Days',\n",
    "    ylabel='Observed OS Days',\n",
    "    title='PFS vs OS with Fitted Line'\n",
    ")"
   ]
  },
  {
   "cell_type": "markdown",
   "id": "1e924f26-960f-457e-a393-64de21ec330b",
   "metadata": {},
   "source": [
    "Looking at the plot, there appear to be some patients for which the OS is shorter than the PFS. So let's check that:"
   ]
  },
  {
   "cell_type": "code",
   "execution_count": null,
   "id": "1a95b9e5-aa9d-425d-9d69-7acaea551d3a",
   "metadata": {
    "tags": []
   },
   "outputs": [],
   "source": [
    "# Check:\n",
    "shorter_os_than_pfs = df_treatments_synchronous[df_treatments_synchronous['observedOsFromTreatmentStartDays'] < df_treatments_synchronous['observedPfsDays']]\n",
    "\n",
    "num_patients = shorter_os_than_pfs.shape[0]\n",
    "\n",
    "shorter_os_than_pfs[['observedOsFromTreatmentStartDays', 'observedPfsDays', 'observedOsFromTreatmentStartDays']]"
   ]
  },
  {
   "cell_type": "markdown",
   "id": "0e4dabbb-6e60-4d73-9e42-dc3ec34ece32",
   "metadata": {},
   "source": [
    "## Correlation between PPS and OS\n",
    "\n",
    "In this section, we investigate **Post-Progression Survival (PPS)**, defined as the survival time after disease progression. PPS is calculated as the difference between **Overall Survival (OS)** and **Progression-Free Survival (PFS)**. \n",
    "\n",
    "We focus on evaluating how **PPS correlates with OS** in first-line therapies. Understanding this relationship can help us assess whether PPS plays a significant role in the overall survival outcomes of patients undergoing first-line treatments."
   ]
  },
  {
   "cell_type": "code",
   "execution_count": null,
   "id": "03f3a4d1-8de9-4558-bba0-d7566e9a5930",
   "metadata": {
    "tags": []
   },
   "outputs": [],
   "source": [
    "df_treatments_synchronous['PPS'] = df_treatments_synchronous['observedOsFromTreatmentStartDays'] - df_treatments_synchronous['observedPfsDays']\n",
    "\n",
    "pps_os_correlation = df_treatments_synchronous[['PPS', 'observedOsFromTreatmentStartDays']].corr(method='spearman')\n",
    "\n",
    "print(f\"Spearman's rank correlation between PPS and OS in first-line therapies: {pps_os_correlation.iat[0, 1]}\")\n",
    "\n",
    "# Define short PPS based on median\n",
    "short_pps_threshold = df_treatments_synchronous['PPS'].median()  \n",
    "short_pps_group = df_treatments_synchronous[df_treatments_synchronous['PPS'] <= short_pps_threshold]\n",
    "long_pps_group = df_treatments_synchronous[df_treatments_synchronous['PPS'] > short_pps_threshold]\n",
    "\n",
    "pfs_os_correlation_short_pps = short_pps_group[['observedPfsDays', 'observedOsFromTreatmentStartDays']].corr(method='spearman')\n",
    "pfs_os_correlation_long_pps = long_pps_group[['observedPfsDays', 'observedOsFromTreatmentStartDays']].corr(method='spearman')\n",
    "\n",
    "print(f\"PFS-OS correlation for short PPS group: {pfs_os_correlation_short_pps.iat[0, 1]}\")\n",
    "print(f\"PFS-OS correlation for long PPS group: {pfs_os_correlation_long_pps.iat[0, 1]}\")"
   ]
  },
  {
   "cell_type": "code",
   "execution_count": null,
   "id": "d90de391-0a7c-46ab-9c02-696a6412789b",
   "metadata": {
    "tags": []
   },
   "outputs": [],
   "source": [
    "fit_and_plot_linear_regression(\n",
    "    df=df_treatments_synchronous,\n",
    "    x_column='PPS',\n",
    "    y_column='observedOsFromTreatmentStartDays',\n",
    "    xlabel='Observed PPS Days',\n",
    "    ylabel='Observed OS Days',\n",
    "    title='PPS vs OS with Fitted Line'\n",
    ")"
   ]
  },
  {
   "cell_type": "markdown",
   "id": "94b01d3c-4f9f-40b2-b191-2dbe27c35a64",
   "metadata": {},
   "source": [
    "## Correlation between PFS and PPS\n",
    "Investigating the relationship between PFS and PPS helps us understand whether the duration of progression-free time influences the length of survival post-progression. A strong positive correlation would indicate that therapies that extend PFS may also provide patients with more time post-progression.\n",
    "\n",
    "This analysis offers insight into whether PFS and PPS are interdependent or represent largely independent phases influenced by different factors."
   ]
  },
  {
   "cell_type": "code",
   "execution_count": null,
   "id": "1b2da4fa-1cfd-4f51-a423-8a32a933a8c5",
   "metadata": {
    "tags": []
   },
   "outputs": [],
   "source": [
    "# Calculate Spearman correlation between PFS and PPS\n",
    "pfs_pps_correlation = df_treatments_synchronous[['observedPfsDays', 'PPS']].corr(method='spearman')\n",
    "correlation_value = pfs_pps_correlation.iat[0, 1]\n",
    "\n",
    "print(f\"Spearman's rank correlation between PFS and PPS: {correlation_value:.4f}\")\n"
   ]
  },
  {
   "cell_type": "code",
   "execution_count": null,
   "id": "d725733c-6ceb-46ca-8f9f-3090d82204aa",
   "metadata": {
    "tags": []
   },
   "outputs": [],
   "source": [
    "# Plot PFS vs PPS with linear regression line\n",
    "fit_and_plot_linear_regression(\n",
    "    df=df_treatments_synchronous,\n",
    "    x_column='observedPfsDays',\n",
    "    y_column='PPS',\n",
    "    xlabel='Observed PFS Days',\n",
    "    ylabel='Observed PPS Days',\n",
    "    title='PFS vs PPS with Fitted Line'\n",
    ")"
   ]
  }
 ],
 "metadata": {
  "kernelspec": {
   "display_name": "Python (prediction_env)",
   "language": "python",
   "name": "prediction_env"
  },
  "language_info": {
   "codemirror_mode": {
    "name": "ipython",
    "version": 3
   },
   "file_extension": ".py",
   "mimetype": "text/x-python",
   "name": "python",
   "nbconvert_exporter": "python",
   "pygments_lexer": "ipython3",
   "version": "3.7.3"
  }
 },
 "nbformat": 4,
 "nbformat_minor": 5
}
