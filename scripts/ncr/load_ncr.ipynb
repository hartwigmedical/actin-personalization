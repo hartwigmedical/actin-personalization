{
 "cells": [
  {
   "cell_type": "code",
   "execution_count": null,
   "id": "32e252f3-3af0-45bd-afca-d328ba3d2efe",
   "metadata": {
    "tags": []
   },
   "outputs": [],
   "source": [
    "@file:DependsOn(\"/data/repos/actin-personalization/ncr/target/ncr-local-SNAPSHOT-jar-with-dependencies.jar\")\n",
    "\n",
    "import com.hartwig.actin.personalization.datamodel.PatientRecord\n",
    "import com.hartwig.actin.personalization.ncr.datamodel.NcrRecord\n",
    "import com.hartwig.actin.personalization.ncr.interpretation.PatientRecordFactory\n",
    "import com.hartwig.actin.personalization.ncr.serialization.NcrDataReader\n",
    "\n",
    "val records = NcrDataReader.read(\"/data/patient_like_me/ncr/K23244.csv\")"
   ]
  },
  {
   "cell_type": "code",
   "execution_count": null,
   "id": "94b861fa-5a60-49ff-8f18-1e614f70764d",
   "metadata": {
    "tags": []
   },
   "outputs": [],
   "source": [
    "// 1 DIA record per patient-tumor pair:\n",
    "println(records.groupBy { Pair(it.identification.keyNkr, it.identification.keyZid) }\n",
    "    .values.map { epiList -> epiList.count { it.identification.epis == \"DIA\" } }\n",
    "    .groupBy { it }\n",
    "    .mapValues { (_, values) -> values.size })"
   ]
  },
  {
   "cell_type": "code",
   "execution_count": null,
   "id": "b1cfdf3f-bf0e-4260-8ca3-933352791166",
   "metadata": {
    "tags": []
   },
   "outputs": [],
   "source": [
    "// Find metaEpis sets by tumor\n",
    "println(records.groupBy { Pair(it.identification.keyNkr, it.identification.keyZid) }\n",
    "    .values.map { epiList ->\n",
    "        val (dia, fup) = epiList.partition { it.identification.epis == \"DIA\" }\n",
    "        dia.single().identification.metaEpis to fup.map { it.identification.metaEpis }.toSet()\n",
    "    }\n",
    "    .groupBy { it }\n",
    "    .mapValues { (_, values) -> values.size })"
   ]
  },
  {
   "cell_type": "code",
   "execution_count": null,
   "id": "1a5e19b1-57ac-4d66-8fab-810606112307",
   "metadata": {
    "tags": []
   },
   "outputs": [],
   "source": [
    "val patients = PatientRecordFactory.create(records)"
   ]
  },
  {
   "cell_type": "code",
   "execution_count": null,
   "id": "08e11069-7cc3-4cc8-8bad-c98f2fdd20b1",
   "metadata": {
    "tags": []
   },
   "outputs": [],
   "source": [
    "val tumors = patients.flatMap { it.episodesPerTumorOfInterest.entries }"
   ]
  },
  {
   "cell_type": "code",
   "execution_count": null,
   "id": "80df51ca-2674-45cb-9c73-f150d522b5e2",
   "metadata": {
    "tags": []
   },
   "outputs": [],
   "source": [
    "patients.size"
   ]
  },
  {
   "cell_type": "code",
   "execution_count": null,
   "id": "be8ce6fe-1806-4745-a8be-c8b98d3ffa66",
   "metadata": {
    "tags": []
   },
   "outputs": [],
   "source": [
    "import com.hartwig.actin.personalization.datamodel.Episode\n",
    "import com.hartwig.actin.personalization.datamodel.Drug\n",
    "import com.hartwig.actin.personalization.datamodel.SystemicTreatmentComponent\n",
    "import com.hartwig.actin.personalization.datamodel.SystemicTreatmentScheme\n",
    "\n",
    "fun treatmentSchemesForTumorEpisodes(episodes: List<Episode>) =\n",
    "    episodes.flatMap { e -> e.systemicTreatmentSchemes!! }\n",
    "\n",
    "fun schemeToDrugSet(scheme: SystemicTreatmentScheme) = \n",
    "    scheme.treatmentComponents.map(SystemicTreatmentComponent::drug)\n",
    "        .map { \n",
    "            if (it == Drug.TEGAFUR || it == Drug.TEGAFUR_OR_GIMERACIL_OR_OTERACIL) {\n",
    "                Drug.FLUOROURACIL\n",
    "            } else it\n",
    "        }\n",
    "        .toSet()"
   ]
  },
  {
   "cell_type": "code",
   "execution_count": null,
   "id": "58c72b90-a96e-4abd-b065-65871138d89e",
   "metadata": {
    "tags": []
   },
   "outputs": [],
   "source": [
    "// Unique treatment schemes by treatment name sets\n",
    "\n",
    "val treatmentSchemeSets = patients.flatMap { it.episodesPerTumorOfInterest.values }\n",
    "    .flatMap(::treatmentSchemesForTumorEpisodes)\n",
    "    .map(::schemeToTreatmentNameSet)\n",
    "    .groupBy({ it })\n",
    "    .mapValues { (_, values) -> values.count() }\n",
    "    .entries.sortedByDescending { (_, count) -> count }\n",
    "    .takeWhile { (_, count) -> count >= 10 }\n",
    "    \n",
    "println(treatmentSchemeSets.map { (names, count) -> \"$names: $count\" }.joinToString(\"\\n\"))\n",
    "println(treatmentSchemeSets.size)\n"
   ]
  },
  {
   "cell_type": "code",
   "execution_count": null,
   "id": "b39d3ff1-7a43-4218-af3d-d4b84cc55ce3",
   "metadata": {
    "tags": []
   },
   "outputs": [],
   "source": [
    "import com.hartwig.actin.personalization.datamodel.SystemicTreatmentPlan\n",
    "\n",
    "// Unique patient tumors by treatment plan sequences in all schemes\n",
    "\n",
    "fun classifyEpisode(episode: Episode) = episode.systemicTreatmentSchemes.firstOrNull()\n",
    "    ?.let(::schemeToDrugSet)\n",
    "    ?.let(SystemicTreatmentPlan::findForDrugs)\n",
    "\n",
    "val tumorTreatmentSets = patients.flatMap { it.episodesPerTumorOfInterest.values }\n",
    "    // .filter { episodesForTumor ->\n",
    "    //     episodesForTumor.mapNotNull(Episode::distantMetastasesStatus).toSet() == setOf(1)\n",
    "    //     && episodesForTumor.none { it.hasHadPreSurgerySystemicChemotherapy || it.hasHadPostSurgerySystemicChemotherapy \n",
    "    //         || it.hasHadPreSurgerySystemicTargetedTherapy || it.hasHadPostSurgerySystemicTargetedTherapy }\n",
    "    // }\n",
    "    .map { episodesForTumor -> episodesForTumor.mapNotNull(::classifyEpisode) }\n",
    "    .groupBy({ it })\n",
    "    .mapValues { (_, values) -> values.count() }\n",
    "    .entries.sortedByDescending { (_, count) -> count }\n",
    "    //.takeWhile { (_, count) -> count >= 10 }"
   ]
  },
  {
   "cell_type": "code",
   "execution_count": null,
   "id": "f1ac9f2c-154a-46f7-af4c-1cebe07b7d88",
   "metadata": {
    "tags": []
   },
   "outputs": [],
   "source": [
    "println(tumorTreatmentSets.map { (names, count) -> \"$names: $count\" }.joinToString(\"\\n\"))\n",
    "println(tumorTreatmentSets.size)"
   ]
  },
  {
   "cell_type": "code",
   "execution_count": null,
   "id": "0ea93bb5-e4da-4548-a6f4-d352de42d453",
   "metadata": {
    "tags": []
   },
   "outputs": [],
   "source": [
    "import com.hartwig.actin.personalization.datamodel.Location\n",
    "import com.hartwig.actin.personalization.datamodel.LocationGroup\n",
    "\n",
    "data class RoughClassification(\n",
    "    val sameLocation: Boolean,\n",
    "    val sameMetastasisLocation: Boolean,\n",
    "    val sameMolecular: Boolean,\n",
    "    val approximateWhoMatch: Boolean\n",
    ") {\n",
    "    override fun toString(): String {\n",
    "        return listOf(::sameLocation, ::sameMetastasisLocation, ::sameMolecular, ::approximateWhoMatch)\n",
    "            .filter { it.get() }\n",
    "            .joinToString(\", \") { it.name }\n",
    "            .ifEmpty { \"no matching attributes\" }\n",
    "    }\n",
    "}\n",
    "\n",
    "val tumors = patients.flatMap { it.episodesPerTumorOfInterest.entries }\n",
    "tumors.groupBy { (diagnosis, episodes) ->\n",
    "    val sameLocation = diagnosis.tumorLocations.contains(Location.COECUM)\n",
    "    val sameMetastasisLocation = episodes.any { epi -> epi.metastases.any { it.metastasisLocation.locationGroup == LocationGroup.RETROPERITONEUM_AND_PERITONEUM } }\n",
    "    val sameMolecular = with(diagnosis) { hasMsi != true && hasBrafMutation != true && hasBrafV600EMutation != true && hasRasMutation == true && hasKrasG12CMutation != true }\n",
    "    val approximateWhoMatch = episodes.any { epi -> epi.whoStatusPreTreatmentStart?.let { it <= 1 } ?: false }\n",
    "    RoughClassification(sameLocation, sameMetastasisLocation, sameMolecular, approximateWhoMatch)\n",
    "}\n",
    "    .mapValues { (_, values) -> values.size }\n",
    "    .entries.sortedByDescending { it.value }\n",
    "    .joinToString(\"\\n\") { (classification, num) -> \"$classification: $num\" }\n"
   ]
  },
  {
   "cell_type": "code",
   "execution_count": null,
   "id": "9b5c01ad-bf82-495b-b207-996522ce6166",
   "metadata": {
    "tags": []
   },
   "outputs": [],
   "source": [
    "import com.hartwig.actin.personalization.datamodel.CciNumberOfCategories\n",
    "import com.hartwig.actin.personalization.datamodel.AnorectalVergeDistanceCategory\n",
    "\n",
    "data class TumorSummary(\n",
    "    val cci: Map<Int?, Int> = emptyMap(),\n",
    "    val cciNumberOfCategories: Map<CciNumberOfCategories?, Int> = emptyMap(),\n",
    "    val cciHasAids: Map<Boolean?, Int> = emptyMap(),\n",
    "    val cciHasCongestiveHeartFailure: Map<Boolean?, Int> = emptyMap(),\n",
    "    val cciHasCollagenosis: Map<Boolean?, Int> = emptyMap(),\n",
    "    val cciHasCopd: Map<Boolean?, Int> = emptyMap(),\n",
    "    val cciHasCerebrovascularDisease: Map<Boolean?, Int> = emptyMap(),\n",
    "    val cciHasDementia: Map<Boolean?, Int> = emptyMap(),\n",
    "    val cciHasDiabetesMellitus: Map<Boolean?, Int> = emptyMap(),\n",
    "    val cciHasDiabetesMellitusWithEndOrganDamage: Map<Boolean?, Int> = emptyMap(),\n",
    "    val cciHasOtherMalignancy: Map<Boolean?, Int> = emptyMap(),\n",
    "    val cciHasOtherMetastaticSolidTumor: Map<Boolean?, Int> = emptyMap(),\n",
    "    val cciHasMyocardialInfarct: Map<Boolean?, Int> = emptyMap(),\n",
    "    val cciHasMildLiverDisease: Map<Boolean?, Int> = emptyMap(),\n",
    "    val cciHasHemiplegiaOrParaplegia: Map<Boolean?, Int> = emptyMap(),\n",
    "    val cciHasPeripheralVascularDisease: Map<Boolean?, Int> = emptyMap(),\n",
    "    val cciHasRenalDisease: Map<Boolean?, Int> = emptyMap(),\n",
    "    val cciHasLiverDisease: Map<Boolean?, Int> = emptyMap(),\n",
    "    val cciHasUlcerDisease: Map<Boolean?, Int> = emptyMap(),\n",
    "\n",
    "    val presentedWithIleus: Map<Boolean?, Int> = emptyMap(),\n",
    "    val presentedWithPerforation: Map<Boolean?, Int> = emptyMap(),\n",
    "    val anorectalVergeDistanceCategory: Map<AnorectalVergeDistanceCategory?, Int> = emptyMap(),\n",
    "\n",
    "    val hasMsi: Map<Boolean?, Int> = emptyMap(),\n",
    "    val hasBrafMutation: Map<Boolean?, Int> = emptyMap(),\n",
    "    val hasBrafV600EMutation: Map<Boolean?, Int> = emptyMap(),\n",
    "    val hasRasMutation: Map<Boolean?, Int> = emptyMap(),\n",
    "    val hasKrasG12CMutation: Map<Boolean?, Int> = emptyMap(),\n",
    ")\n",
    "\n",
    "fun <T> updatedMap(oldMap: Map<T, Int>, instance: T) = \n",
    "    oldMap + mapOf(instance to oldMap.getOrDefault(instance, 0) + 1)\n",
    "    \n",
    "val summary = tumors.fold(TumorSummary()) { acc, tumor ->\n",
    "    val x = tumor.key\n",
    "    TumorSummary(\n",
    "        updatedMap(acc.cci, x.cci),\n",
    "        updatedMap(acc.cciNumberOfCategories, x.cciNumberOfCategories),\n",
    "        updatedMap(acc.cciHasAids, x.cciHasAids),\n",
    "        updatedMap(acc.cciHasCongestiveHeartFailure, x.cciHasCongestiveHeartFailure),\n",
    "        updatedMap(acc.cciHasCollagenosis, x.cciHasCollagenosis),\n",
    "        updatedMap(acc.cciHasCopd, x.cciHasCopd),\n",
    "        updatedMap(acc.cciHasCerebrovascularDisease, x.cciHasCerebrovascularDisease),\n",
    "        updatedMap(acc.cciHasDementia, x.cciHasDementia),\n",
    "        updatedMap(acc.cciHasDiabetesMellitus, x.cciHasDiabetesMellitus),\n",
    "        updatedMap(acc.cciHasDiabetesMellitusWithEndOrganDamage, x.cciHasDiabetesMellitusWithEndOrganDamage),\n",
    "        updatedMap(acc.cciHasOtherMalignancy, x.cciHasOtherMalignancy),\n",
    "        updatedMap(acc.cciHasOtherMetastaticSolidTumor, x.cciHasOtherMetastaticSolidTumor),\n",
    "        updatedMap(acc.cciHasMyocardialInfarct, x.cciHasMyocardialInfarct),\n",
    "        updatedMap(acc.cciHasMildLiverDisease, x.cciHasMildLiverDisease),\n",
    "        updatedMap(acc.cciHasHemiplegiaOrParaplegia, x.cciHasHemiplegiaOrParaplegia),\n",
    "        updatedMap(acc.cciHasPeripheralVascularDisease, x.cciHasPeripheralVascularDisease),\n",
    "        updatedMap(acc.cciHasRenalDisease, x.cciHasRenalDisease),\n",
    "        updatedMap(acc.cciHasLiverDisease, x.cciHasLiverDisease),\n",
    "        updatedMap(acc.cciHasUlcerDisease, x.cciHasUlcerDisease),\n",
    "        updatedMap(acc.presentedWithIleus, x.presentedWithIleus),\n",
    "        updatedMap(acc.presentedWithPerforation, x.presentedWithPerforation),\n",
    "        updatedMap(acc.anorectalVergeDistanceCategory, x.anorectalVergeDistanceCategory),\n",
    "        updatedMap(acc.hasMsi, x.hasMsi),\n",
    "        updatedMap(acc.hasBrafMutation, x.hasBrafMutation),\n",
    "        updatedMap(acc.hasBrafV600EMutation, x.hasBrafV600EMutation),\n",
    "        updatedMap(acc.hasRasMutation, x.hasRasMutation),\n",
    "        updatedMap(acc.hasKrasG12CMutation, x.hasKrasG12CMutation),\n",
    "    )\n",
    "}\n",
    "summary.toString().replace(\"}, \", \"},\\n\")"
   ]
  },
  {
   "cell_type": "code",
   "execution_count": null,
   "id": "d43ded36-a100-43cc-9202-52d364c6dad9",
   "metadata": {
    "tags": []
   },
   "outputs": [],
   "source": [
    "@file:DependsOn(\"nz.ac.waikato.cms.weka:weka-stable:3.8.6\")\n",
    "import weka.core.Attribute\n",
    "import weka.core.DenseInstance\n",
    "import weka.core.Instance\n",
    "import weka.core.Instances\n",
    "import com.hartwig.actin.personalization.datamodel.AnorectalVergeDistanceCategory\n",
    "import com.hartwig.actin.personalization.datamodel.CciNumberOfCategories\n",
    "import com.hartwig.actin.personalization.datamodel.Episode\n",
    "import com.hartwig.actin.personalization.datamodel.Diagnosis\n",
    "\n",
    "typealias TumorEntry = Pair<Diagnosis, List<Episode>>\n",
    "\n",
    "fun setValue(instance: DenseInstance, attribute: Attribute, value: Any) {\n",
    "    when (value) {\n",
    "        is String -> { instance.setValue(attribute, value) }\n",
    "        is Double -> { instance.setValue(attribute, value) }\n",
    "        is Int -> instance.setValue(attribute, value.toDouble())\n",
    "        is Boolean -> instance.setValue(attribute, if (value) \"true\" else \"false\")\n",
    "        is Enum<*> -> { instance.setValue(attribute, value.toString()) }\n",
    "        else -> throw IllegalArgumentException(\"Unsupported value type: ${value::class.simpleName}\")\n",
    "    }\n",
    "}\n",
    "    \n",
    "fun createPatientDb(patients: List<TumorEntry>, classAttributeName: String, classAttributeFunction: (TumorEntry) -> Int?): Instances {\n",
    "    val booleanValues = listOf(\"true\", \"false\")\n",
    "    val attributeData: List<Triple<String, List<String>, (TumorEntry) -> Any?>> = listOf(\n",
    "        Triple(\"cciNumberOfCategories\", CciNumberOfCategories.values().map { it.toString() }.toList(), { it.first.cciNumberOfCategories }),\n",
    "        Triple(\"cciHasAids\", booleanValues, { it.first.cciHasAids }),\n",
    "        Triple(\"cciHasCongestiveHeartFailure\", booleanValues, { it.first.cciHasCongestiveHeartFailure }),\n",
    "        Triple(\"cciHasCollagenosis\", booleanValues, { it.first.cciHasCollagenosis }),\n",
    "        Triple(\"cciHasCopd\", booleanValues, { it.first.cciHasCopd }),\n",
    "        Triple(\"cciHasCerebrovascularDisease\", booleanValues, { it.first.cciHasCerebrovascularDisease }),\n",
    "        Triple(\"cciHasDementia\", booleanValues, { it.first.cciHasDementia }),\n",
    "        Triple(\"cciHasDiabetesMellitus\", booleanValues, { it.first.cciHasDiabetesMellitus }),\n",
    "        Triple(\"cciHasDiabetesMellitusWithEndOrganDamage\", booleanValues, { it.first.cciHasDiabetesMellitusWithEndOrganDamage }),\n",
    "        Triple(\"cciHasOtherMalignancy\", booleanValues, { it.first.cciHasOtherMalignancy }),\n",
    "        Triple(\"cciHasOtherMetastaticSolidTumor\", booleanValues, { it.first.cciHasOtherMetastaticSolidTumor }),\n",
    "        Triple(\"cciHasMyocardialInfarct\", booleanValues, { it.first.cciHasMyocardialInfarct }),\n",
    "        Triple(\"cciHasMildLiverDisease\", booleanValues, { it.first.cciHasMildLiverDisease }),\n",
    "        Triple(\"cciHasHemiplegiaOrParaplegia\", booleanValues, { it.first.cciHasHemiplegiaOrParaplegia }),\n",
    "        Triple(\"cciHasPeripheralVascularDisease\", booleanValues, { it.first.cciHasPeripheralVascularDisease }),\n",
    "        Triple(\"cciHasRenalDisease\", booleanValues, { it.first.cciHasRenalDisease }),\n",
    "        Triple(\"cciHasLiverDisease\", booleanValues, { it.first.cciHasLiverDisease }),\n",
    "        Triple(\"cciHasUlcerDisease\", booleanValues, { it.first.cciHasUlcerDisease }),\n",
    "\n",
    "        Triple(\"presentedWithIleus\", booleanValues, { it.first.presentedWithIleus }),\n",
    "        Triple(\"presentedWithPerforation\", booleanValues, { it.first.presentedWithPerforation }),\n",
    "        Triple(\"anorectalVergeDistanceCategory\", AnorectalVergeDistanceCategory.values().map { it.toString() }.toList(), { it.first.anorectalVergeDistanceCategory }),\n",
    "\n",
    "        Triple(\"hasMsi\", booleanValues, { it.first.hasMsi }),\n",
    "        Triple(\"hasBrafMutation\", booleanValues, { it.first.hasBrafMutation }),\n",
    "        Triple(\"hasBrafV600EMutation\", booleanValues, { it.first.hasBrafV600EMutation }),\n",
    "        Triple(\"hasRasMutation\", booleanValues, { it.first.hasRasMutation }),\n",
    "        Triple(\"hasKrasG12CMutation\", booleanValues, { it.first.hasKrasG12CMutation })\n",
    "    )\n",
    "    val numericAttributes: List<Pair<Attribute, (TumorEntry) -> Any?>> = listOf(Attribute(\"cci\") to { it.first.cci })\n",
    "    val nominalAttributes = attributeData.map { (name, values, function) ->\n",
    "        Attribute(name, values) to function\n",
    "    }\n",
    "    val attributes: List<Pair<Attribute, (TumorEntry) -> Any?>> = numericAttributes + nominalAttributes + Pair(Attribute(classAttributeName), classAttributeFunction)\n",
    "    \n",
    "    val patientDb = Instances(\"patients\", ArrayList(attributes.map { it.first }), patients.count())\n",
    "    patientDb.setClassIndex(attributes.last().first.index())\n",
    "    \n",
    "    // val attributeValueMap = attributes.map { (attribute, _) ->\n",
    "    //     attribute.name() to attribute.enumerateValues().mapIndexed { (i, v) -> v to i }.toMap()\n",
    "    // }\n",
    "    \n",
    "    patients.forEach { patient ->\n",
    "        val patientInstance = DenseInstance(attributes.size)\n",
    "        patientInstance.setDataset(patientDb)\n",
    "        attributes.forEach { (attribute, function) ->\n",
    "            function.invoke(patient)?.let { setValue(patientInstance, attribute, it) }\n",
    "        }\n",
    "        patientDb.add(patientInstance)\n",
    "    }\n",
    "    \n",
    "    return patientDb\n",
    "}"
   ]
  },
  {
   "cell_type": "code",
   "execution_count": null,
   "id": "d045e1cf-9b35-4c2e-91ab-539e3d6d455c",
   "metadata": {
    "tags": []
   },
   "outputs": [],
   "source": [
    "import com.hartwig.actin.personalization.datamodel.PfsMeasure\n",
    "import com.hartwig.actin.personalization.datamodel.PfsMeasureType\n",
    "import weka.classifiers.functions.MultilayerPerceptron\n",
    "\n",
    "fun pfs(entry: TumorEntry): Int? {\n",
    "    return entry.second.flatMap(Episode::pfsMeasures)\n",
    "        .filter { it.pfsMeasureType != PfsMeasureType.CENSOR }\n",
    "        .mapNotNull(PfsMeasure::intervalTumorIncidencePfsMeasureDate)\n",
    "        .minOrNull()\n",
    "}\n",
    "\n",
    "val patientDb = createPatientDb(tumors.map { it.toPair() }.filter { pfs(it) != null}, \"pfs\", ::pfs)\n",
    "\n",
    "val predictor = MultilayerPerceptron()\n",
    "predictor.buildClassifier(patientDb)"
   ]
  },
  {
   "cell_type": "code",
   "execution_count": null,
   "id": "e34c9be2-8c11-4cd6-8d28-93453512809f",
   "metadata": {},
   "outputs": [],
   "source": []
  }
 ],
 "metadata": {
  "kernelspec": {
   "display_name": "Kotlin",
   "language": "kotlin",
   "name": "kotlin"
  },
  "language_info": {
   "codemirror_mode": "text/x-kotlin",
   "file_extension": ".kt",
   "mimetype": "text/x-kotlin",
   "name": "kotlin",
   "nbconvert_exporter": "",
   "pygments_lexer": "kotlin",
   "version": "1.8.20"
  }
 },
 "nbformat": 4,
 "nbformat_minor": 5
}
