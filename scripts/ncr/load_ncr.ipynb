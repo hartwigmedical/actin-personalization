{
 "cells": [
  {
   "cell_type": "code",
   "execution_count": null,
   "id": "32e252f3-3af0-45bd-afca-d328ba3d2efe",
   "metadata": {
    "tags": []
   },
   "outputs": [],
   "source": [
    "@file:DependsOn(\"/data/repos/actin-personalization/ncr/target/ncr-local-SNAPSHOT-jar-with-dependencies.jar\")\n",
    "\n",
    "import com.hartwig.actin.personalization.datamodel.PatientRecord\n",
    "import com.hartwig.actin.personalization.ncr.datamodel.NcrRecord\n",
    "import com.hartwig.actin.personalization.ncr.interpretation.PatientRecordFactory\n",
    "import com.hartwig.actin.personalization.ncr.serialization.NcrDataReader\n",
    "\n",
    "val records = NcrDataReader.read(\"/data/patient_like_me/ncr/K23244.csv\")"
   ]
  },
  {
   "cell_type": "code",
   "execution_count": null,
   "id": "1a5e19b1-57ac-4d66-8fab-810606112307",
   "metadata": {
    "tags": []
   },
   "outputs": [],
   "source": [
    "val patients = PatientRecordFactory.create(records)"
   ]
  },
  {
   "cell_type": "code",
   "execution_count": null,
   "id": "80df51ca-2674-45cb-9c73-f150d522b5e2",
   "metadata": {
    "tags": []
   },
   "outputs": [],
   "source": [
    "patients.size"
   ]
  },
  {
   "cell_type": "code",
   "execution_count": null,
   "id": "be8ce6fe-1806-4745-a8be-c8b98d3ffa66",
   "metadata": {
    "tags": []
   },
   "outputs": [],
   "source": [
    "import com.hartwig.actin.personalization.datamodel.TumorEpisodes\n",
    "import com.hartwig.actin.personalization.datamodel.TreatmentName\n",
    "import com.hartwig.actin.personalization.datamodel.SystemicTreatment\n",
    "import com.hartwig.actin.personalization.datamodel.SystemicTreatmentScheme\n",
    "\n",
    "fun treatmentSchemesForTumorEpisodes(tumorEpisodes: TumorEpisodes) =\n",
    "    tumorEpisodes.diagnosisEpisode.systemicTreatmentSchemes!! + tumorEpisodes.followupEpisodes.flatMap { e -> e.systemicTreatmentSchemes!! }\n",
    "\n",
    "fun schemeToTreatmentNameSet(scheme: SystemicTreatmentScheme) = \n",
    "    scheme.treatments.map(SystemicTreatment::treatmentName)\n",
    "        .map { \n",
    "            if (it == TreatmentName.TEGAFUR || it == TreatmentName.TEGAFUR_OR_GIMERACIL_OR_OTERACIL) {\n",
    "                TreatmentName.FLUOROURACIL\n",
    "            } else it\n",
    "        }\n",
    "        .toSet()"
   ]
  },
  {
   "cell_type": "code",
   "execution_count": null,
   "id": "58c72b90-a96e-4abd-b065-65871138d89e",
   "metadata": {
    "tags": []
   },
   "outputs": [],
   "source": [
    "import com.hartwig.actin.personalization.datamodel.TreatmentName\n",
    "\n",
    "// Unique treatment schemes by treatment name sets\n",
    "\n",
    "val treatmentSchemeSets = patients.flatMap { it.episodesPerTumorOfInterest.values }\n",
    "    .flatMap(::treatmentSchemesForTumorEpisodes)\n",
    "    .map(::schemeToTreatmentNameSet)\n",
    "    .groupBy({ it })\n",
    "    .mapValues { (_, values) -> values.count() }\n",
    "    .entries.sortedByDescending { (_, count) -> count }\n",
    "    .takeWhile { (_, count) -> count >= 10 }\n",
    "    \n",
    "println(treatmentSchemeSets.map { (names, count) -> \"$names: $count\" }.joinToString(\"\\n\"))\n",
    "println(treatmentSchemeSets.size)\n"
   ]
  },
  {
   "cell_type": "code",
   "execution_count": null,
   "id": "b39d3ff1-7a43-4218-af3d-d4b84cc55ce3",
   "metadata": {
    "tags": []
   },
   "outputs": [],
   "source": [
    "import com.hartwig.actin.personalization.datamodel.SystemicTreatment\n",
    "import com.hartwig.actin.personalization.datamodel.TreatmentName\n",
    "\n",
    "// Unique patient tumors by treatment name sets in all schemes\n",
    "\n",
    "val tumorTreatmentSets = patients.flatMap { it.episodesPerTumorOfInterest.values }\n",
    "    .map { treatmentSchemesForTumorEpisodes(it).map(::schemeToTreatmentNameSet).toSet() }\n",
    "    .groupBy({ it })\n",
    "    .mapValues { (_, values) -> values.count() }\n",
    "    .entries.sortedByDescending { (_, count) -> count }\n",
    "    //.takeWhile { (_, count) -> count >= 10 }"
   ]
  },
  {
   "cell_type": "code",
   "execution_count": null,
   "id": "f1ac9f2c-154a-46f7-af4c-1cebe07b7d88",
   "metadata": {
    "tags": []
   },
   "outputs": [],
   "source": [
    "println(tumorTreatmentSets.map { (names, count) -> \"$names: $count\" }.joinToString(\"\\n\"))\n",
    "println(tumorTreatmentSets.size)"
   ]
  },
  {
   "cell_type": "code",
   "execution_count": null,
   "id": "90f83c6b-ef84-452d-8a49-cb07156f4fc0",
   "metadata": {},
   "outputs": [],
   "source": []
  }
 ],
 "metadata": {
  "kernelspec": {
   "display_name": "Kotlin",
   "language": "kotlin",
   "name": "kotlin"
  },
  "language_info": {
   "codemirror_mode": "text/x-kotlin",
   "file_extension": ".kt",
   "mimetype": "text/x-kotlin",
   "name": "kotlin",
   "nbconvert_exporter": "",
   "pygments_lexer": "kotlin",
   "version": "1.8.20"
  }
 },
 "nbformat": 4,
 "nbformat_minor": 5
}
