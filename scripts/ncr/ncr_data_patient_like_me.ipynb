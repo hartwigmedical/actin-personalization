{
 "cells": [
  {
   "cell_type": "code",
   "execution_count": null,
   "id": "302f9aea-a651-467d-8ba2-5f5ed86e4312",
   "metadata": {
    "tags": []
   },
   "outputs": [],
   "source": [
    "library(dplyr)\n",
    "library(tibble)\n",
    "library(tidyr)\n",
    "\n",
    "rm(list=ls())"
   ]
  },
  {
   "cell_type": "code",
   "execution_count": null,
   "id": "b54a3bbc-edda-4b58-85fa-c370ef7341c1",
   "metadata": {},
   "outputs": [],
   "source": [
    "source(paste0(\"/data/repos/actin-personalization/scripts/ncr/ncr_data_exploration_functions.R\"))\n",
    "source(paste0(\"/data/repos/actin-personalization/scripts/ncr/ncr_patients_like_me_functions.R\"))"
   ]
  },
  {
   "cell_type": "code",
   "execution_count": null,
   "id": "bac8c1eb-2ec4-4952-80e7-e4a3313c7602",
   "metadata": {
    "tags": []
   },
   "outputs": [],
   "source": [
    "ncr <- load_ncr_data_notebook()"
   ]
  },
  {
   "cell_type": "code",
   "execution_count": null,
   "id": "543161ba-a89e-4995-b506-28fb8410b9a9",
   "metadata": {
    "tags": []
   },
   "outputs": [],
   "source": [
    "## Collect written treatments of treatment plan\n",
    "ncr_treatments_written <- collect_all_treatments_written(ncr)"
   ]
  },
  {
   "cell_type": "code",
   "execution_count": null,
   "id": "a407e8b7-34c0-424b-a6fa-5277b97a79bf",
   "metadata": {
    "tags": []
   },
   "outputs": [],
   "source": [
    "## Select start and stop interval for every part of the treatment plan, and merge with initial treatment plan and calculate durations\n",
    "ncr_treatments_start_and_stop <- collect_all_treatments_start_and_end_dates(ncr)"
   ]
  },
  {
   "cell_type": "code",
   "execution_count": null,
   "id": "b2250d1f-ff32-4b37-a0c7-3148294bcb51",
   "metadata": {
    "tags": []
   },
   "outputs": [],
   "source": [
    "## Merge written treatments and start/stop treatment dates\n",
    "ncr_treatment_plan_details <- inner_join(ncr_treatments_written, ncr_treatments_start_and_stop, by=c('key_nkr','key_zid','key_eid'))"
   ]
  },
  {
   "cell_type": "code",
   "execution_count": null,
   "id": "7d214908-ad1a-487a-ba29-f242b8489218",
   "metadata": {
    "tags": []
   },
   "outputs": [],
   "source": [
    "## Add duration as treatment stop date - treatment start date\n",
    "ncr_treatment_plan_details <- ncr_treatment_plan_details %>%\n",
    "  add_column(treatment_duration_1 = as.integer(ifelse(ncr_treatment_plan_details$treatment_plan_part_1_stop == \"\",\"\", as.integer(ncr_treatment_plan_details$treatment_plan_part_1_stop)-as.integer(ncr_treatment_plan_details$treatment_plan_part_1_start)))) %>%\n",
    "  add_column(treatment_duration_2 = as.integer(ifelse(ncr_treatment_plan_details$treatment_plan_part_2_stop == \"\",\"\", as.integer(ncr_treatment_plan_details$treatment_plan_part_2_stop)-as.integer(ncr_treatment_plan_details$treatment_plan_part_2_start)))) %>%\n",
    "  add_column(treatment_duration_3 = as.integer(ifelse(ncr_treatment_plan_details$treatment_plan_part_3_stop == \"\",\"\", as.integer(ncr_treatment_plan_details$treatment_plan_part_3_stop)-as.integer(ncr_treatment_plan_details$treatment_plan_part_3_start)))) %>%\n",
    "  add_column(treatment_duration_4 = as.integer(ifelse(ncr_treatment_plan_details$treatment_plan_part_4_stop == \"\",\"\", as.integer(ncr_treatment_plan_details$treatment_plan_part_4_stop)-as.integer(ncr_treatment_plan_details$treatment_plan_part_4_start)))) %>%\n",
    "  add_column(treatment_duration_5 = as.integer(ifelse(ncr_treatment_plan_details$treatment_plan_part_5_stop == \"\",\"\", as.integer(ncr_treatment_plan_details$treatment_plan_part_5_stop)-as.integer(ncr_treatment_plan_details$treatment_plan_part_5_start)))) %>%\n",
    "  add_column(treatment_duration_6 = as.integer(ifelse(ncr_treatment_plan_details$treatment_plan_part_6_stop == \"\",\"\", as.integer(ncr_treatment_plan_details$treatment_plan_part_6_stop)-as.integer(ncr_treatment_plan_details$treatment_plan_part_6_start)))) %>%\n",
    "  add_column(treatment_duration_7 = as.integer(ifelse(ncr_treatment_plan_details$treatment_plan_part_7_stop == \"\",\"\", as.integer(ncr_treatment_plan_details$treatment_plan_part_7_stop)-as.integer(ncr_treatment_plan_details$treatment_plan_part_7_start))))       "
   ]
  },
  {
   "cell_type": "code",
   "execution_count": null,
   "id": "50796a7f-17f1-43ec-aa6f-2601bd0b3bd8",
   "metadata": {
    "tags": []
   },
   "outputs": [],
   "source": [
    "nrow(ncr_treatments_written)\n",
    "nrow(ncr_treatment_plan_details)"
   ]
  },
  {
   "cell_type": "code",
   "execution_count": null,
   "id": "69f2b8fb-a3fc-434f-925d-7dd39b1dbff0",
   "metadata": {
    "tags": []
   },
   "outputs": [],
   "source": [
    "## Find similar patients and what type of treatment they received\n",
    "### <-- Try some random patient details\n",
    "age <- 78\n",
    "who <- 0\n",
    "patient_has_had_surgery <- 1\n",
    "\n",
    "ncr_similar_out <- find_similar_patients_2(ncr_ref_data = ncr, patient_age = age, patient_who = who, patient_has_had_surgery= patient_has_had_surgery)\n",
    "ncr_similar_out_with_treatment <- inner_join(ncr_similar_out, ncr_lines_details, by=c('key_nkr','key_zid')))"
   ]
  },
  {
   "cell_type": "code",
   "execution_count": null,
   "id": "a9f4daef-2b42-4c78-89e9-c71435ffae95",
   "metadata": {},
   "outputs": [],
   "source": []
  }
 ],
 "metadata": {
  "kernelspec": {
   "display_name": "R",
   "language": "R",
   "name": "ir"
  },
  "language_info": {
   "codemirror_mode": "r",
   "file_extension": ".r",
   "mimetype": "text/x-r-source",
   "name": "R",
   "pygments_lexer": "r",
   "version": "4.3.2"
  }
 },
 "nbformat": 4,
 "nbformat_minor": 5
}
