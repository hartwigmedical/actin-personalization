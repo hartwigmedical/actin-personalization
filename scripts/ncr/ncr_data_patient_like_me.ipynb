{
 "cells": [
  {
   "cell_type": "code",
   "execution_count": null,
   "id": "302f9aea-a651-467d-8ba2-5f5ed86e4312",
   "metadata": {
    "tags": []
   },
   "outputs": [],
   "source": [
    "library(dplyr)\n",
    "library(tibble)\n",
    "\n",
    "rm(list=ls())"
   ]
  },
  {
   "cell_type": "code",
   "execution_count": null,
   "id": "b54a3bbc-edda-4b58-85fa-c370ef7341c1",
   "metadata": {},
   "outputs": [],
   "source": [
    "source(paste0(\"/data/repos/actin-personalization/scripts/ncr/ncr_data_exploration_functions.R\"))"
   ]
  },
  {
   "cell_type": "code",
   "execution_count": null,
   "id": "f650562b-18ba-4b1c-baf8-a7e9a90d61ae",
   "metadata": {
    "tags": []
   },
   "outputs": [],
   "source": [
    "source(paste0(\"/data/repos/actin-personalization/scripts/ncr/ncr_patients_like_me_functions.R\"))"
   ]
  },
  {
   "cell_type": "code",
   "execution_count": null,
   "id": "bac8c1eb-2ec4-4952-80e7-e4a3313c7602",
   "metadata": {
    "tags": []
   },
   "outputs": [],
   "source": [
    "ncr <- load_ncr_data_notebook()"
   ]
  },
  {
   "cell_type": "code",
   "execution_count": null,
   "id": "69f2b8fb-a3fc-434f-925d-7dd39b1dbff0",
   "metadata": {
    "tags": []
   },
   "outputs": [],
   "source": [
    "## Find similar patients and what type of treatment they received\n",
    "### <-- Try some random patient details\n",
    "age <- 80\n",
    "who <- 0\n",
    "hasHadSurgery <- 1\n",
    "\n",
    "ncr_similar_out <- find_similar_patients(ncr_ref_data = ncr, patient_age = age, patient_who = who)"
   ]
  },
  {
   "cell_type": "code",
   "execution_count": null,
   "id": "a18f915f-9220-40fe-93fa-2f38af2b6fb1",
   "metadata": {
    "tags": []
   },
   "outputs": [],
   "source": [
    "head(ncr_similar_out$key_nkr, n=1)"
   ]
  },
  {
   "cell_type": "code",
   "execution_count": null,
   "id": "f7234838-ed84-47a3-ac10-74773ce876dc",
   "metadata": {},
   "outputs": [],
   "source": []
  },
  {
   "cell_type": "code",
   "execution_count": null,
   "id": "a9f4daef-2b42-4c78-89e9-c71435ffae95",
   "metadata": {},
   "outputs": [],
   "source": []
  }
 ],
 "metadata": {
  "kernelspec": {
   "display_name": "R",
   "language": "R",
   "name": "ir"
  },
  "language_info": {
   "codemirror_mode": "r",
   "file_extension": ".r",
   "mimetype": "text/x-r-source",
   "name": "R",
   "pygments_lexer": "r",
   "version": "4.3.2"
  }
 },
 "nbformat": 4,
 "nbformat_minor": 5
}
