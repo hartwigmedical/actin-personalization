{
 "cells": [
  {
   "cell_type": "code",
   "execution_count": null,
   "id": "302f9aea-a651-467d-8ba2-5f5ed86e4312",
   "metadata": {
    "tags": []
   },
   "outputs": [],
   "source": [
    "library(dplyr)\n",
    "library(tibble)\n",
    "library(tidyr)\n",
    "\n",
    "rm(list=ls())"
   ]
  },
  {
   "cell_type": "code",
   "execution_count": null,
   "id": "b54a3bbc-edda-4b58-85fa-c370ef7341c1",
   "metadata": {},
   "outputs": [],
   "source": [
    "source(paste0(\"/data/repos/actin-personalization/scripts/ncr/ncr_data_exploration_functions.R\"))\n",
    "source(paste0(\"/data/repos/actin-personalization/scripts/ncr/ncr_patients_like_me_functions.R\"))"
   ]
  },
  {
   "cell_type": "code",
   "execution_count": null,
   "id": "bac8c1eb-2ec4-4952-80e7-e4a3313c7602",
   "metadata": {
    "tags": []
   },
   "outputs": [],
   "source": [
    "ncr <- load_ncr_data_notebook()"
   ]
  },
  {
   "cell_type": "code",
   "execution_count": null,
   "id": "a407e8b7-34c0-424b-a6fa-5277b97a79bf",
   "metadata": {
    "tags": []
   },
   "outputs": [],
   "source": [
    "## Write out initial treatment plan\n",
    "ncr_lines_substance_prep <- ncr %>%\n",
    "  dplyr::filter(tumgericht_ther==1) %>%\n",
    "  select(c('key_nkr','key_zid','key_eid'),starts_with(c('syst_schemanum','syst_code'))) %>%\n",
    "  pivot_longer(cols = starts_with(\"syst_schemanum\"), names_to = \"syst_schemanum_key\", values_to = \"syst_schemanum_value\") %>%\n",
    "  pivot_longer(cols = starts_with(\"syst_code\"), names_to = \"syst_code_key\", values_to = \"syst_code_value\")\n",
    "\n",
    "ncr_lines_substance <- ncr_lines_substance_prep %>%\n",
    "  add_column(schemanum_code_value = as.numeric(gsub(\"\\\\D\", \"\", ncr_lines_substance_prep$syst_schemanum_key)), .after = 2) %>%\n",
    "  add_column(code_schemanum_value = as.numeric(gsub(\"\\\\D\", \"\", ncr_lines_substance_prep$syst_code_key)), .after = 6) %>%\n",
    "  distinct() %>%\n",
    "  group_by(key_nkr, key_zid, key_eid) %>%\n",
    "  do(concat_syst_code_values(.)) %>%\n",
    "  ungroup()\n",
    "\n",
    "ncr_lines_substance[] <- lapply(ncr_lines_substance, function(x) gsub(\"^c\\\\((.*)\\\\)$\", \"\\\\1\", x))\n",
    "ncr_lines_substance[ncr_lines_substance == \"character(0)\"] <- \"\"\n",
    "\n",
    "ncr_lines_substance_written <- ncr_lines_substance %>%\n",
    "  add_column(line1_written = sapply(ncr_lines_substance$line1, translate_atc)) %>%\n",
    "  add_column(line2_written = sapply(ncr_lines_substance$line2, translate_atc)) %>%\n",
    "  add_column(line3_written = sapply(ncr_lines_substance$line3, translate_atc)) %>%\n",
    "  add_column(line4_written = sapply(ncr_lines_substance$line4, translate_atc)) %>%\n",
    "  add_column(line5_written = sapply(ncr_lines_substance$line5, translate_atc)) %>%\n",
    "  add_column(line6_written = sapply(ncr_lines_substance$line6, translate_atc)) %>%\n",
    "  add_column(line7_written = sapply(ncr_lines_substance$line7, translate_atc)) %>%\n",
    "  select(matches(\"key\") | matches(\"written\")) \n",
    "\n",
    "ncr_first_lines_summary <- ncr_lines_substance_written %>% dplyr::filter(line1_written != \"\") %>% group_by(line1_written) %>% summarise(count=n(), distinct_count_key_nkr=n_distinct(key_nkr))\n",
    "\n",
    "ncr_lines_substance_written$key_nkr <- as.integer(ncr_lines_substance_written$key_nkr)\n",
    "ncr_lines_substance_written$key_zid <- as.integer(ncr_lines_substance_written$key_zid)\n",
    "ncr_lines_substance_written$key_eid <- as.integer(ncr_lines_substance_written$key_eid)"
   ]
  },
  {
   "cell_type": "code",
   "execution_count": null,
   "id": "543161ba-a89e-4995-b506-28fb8410b9a9",
   "metadata": {
    "tags": []
   },
   "outputs": [],
   "source": [
    "## Select start and stop interval for every part of the treatment plan, and merge with initial treatment plan and calculate durations\n",
    "ncr_lines_start_prep <- ncr %>%\n",
    "  dplyr::filter(tumgericht_ther==1) %>%\n",
    "  select(c('key_nkr','key_zid'),starts_with(c('syst_schemanum','syst_start_int'))) %>%\n",
    "  pivot_longer(cols = starts_with(\"syst_schemanum\"), names_to = \"syst_schemanum_key\", values_to = \"syst_schemanum_value\") %>%\n",
    "  pivot_longer(cols = starts_with(\"syst_start_int\"), names_to = \"syst_start_int_key\", values_to = \"syst_start_int_value\")\n",
    "\n",
    "ncr_lines_start <- ncr_lines_start_prep %>%\n",
    "  add_column(schemanum_line_start_value = as.numeric(gsub(\"\\\\D\", \"\", ncr_lines_start_prep$syst_schemanum_key)), .after = 2) %>%\n",
    "  add_column(line_start_schemanum_value = as.numeric(gsub(\"\\\\D\", \"\", ncr_lines_start_prep$syst_start_int_key)), .after = 6) %>%\n",
    "  distinct() %>%\n",
    "  group_by(key_nkr, key_zid) %>%\n",
    "  do(concat_start_int_values(.)) %>%\n",
    "  ungroup()\n",
    "\n",
    "ncr_lines_start[] <- lapply(ncr_lines_start, function(x) gsub(\"^c\\\\((.*)\\\\)$\", \"\\\\1\", x))\n",
    "ncr_lines_start[ncr_lines_start == \"integer(0)\"] <- \"\"\n",
    "ncr_lines_start$line_start_1 <- sapply(ncr_lines_start$line_start_1, extract_min)\n",
    "ncr_lines_start$line_start_2 <- sapply(ncr_lines_start$line_start_2, extract_min)\n",
    "ncr_lines_start$line_start_3 <- sapply(ncr_lines_start$line_start_3, extract_min)\n",
    "ncr_lines_start$line_start_4 <- sapply(ncr_lines_start$line_start_4, extract_min)\n",
    "ncr_lines_start$line_start_5 <- sapply(ncr_lines_start$line_start_5, extract_min)\n",
    "ncr_lines_start$line_start_6 <- sapply(ncr_lines_start$line_start_6, extract_min)\n",
    "ncr_lines_start$line_start_7 <- sapply(ncr_lines_start$line_start_7, extract_min)\n",
    "\n",
    "ncr_lines_start$key_nkr <- as.integer(ncr_lines_start$key_nkr)\n",
    "ncr_lines_start$key_zid <- as.integer(ncr_lines_start$key_zid)\n",
    "\n",
    "ncr_lines_stop_prep <- ncr %>%\n",
    "  dplyr::filter(tumgericht_ther==1) %>%\n",
    "  select(c('key_nkr','key_zid'),starts_with(c('syst_schemanum','syst_stop_int'))) %>%\n",
    "  pivot_longer(cols = starts_with(\"syst_schemanum\"), names_to = \"syst_schemanum_key\", values_to = \"syst_schemanum_value\") %>%\n",
    "  pivot_longer(cols = starts_with(\"syst_stop_int\"), names_to = \"syst_stop_int_key\", values_to = \"syst_stop_int_value\")\n",
    "\n",
    "ncr_lines_stop <- ncr_lines_stop_prep %>%\n",
    "  add_column(schemanum_line_stop_value = as.numeric(gsub(\"\\\\D\", \"\", ncr_lines_stop_prep$syst_schemanum_key)), .after = 2) %>%\n",
    "  add_column(line_stop_schemanum_value = as.numeric(gsub(\"\\\\D\", \"\", ncr_lines_stop_prep$syst_stop_int_key)), .after = 6) %>%\n",
    "  distinct() %>%\n",
    "  group_by(key_nkr, key_zid) %>%\n",
    "  do(concat_stop_int_values(.)) %>%\n",
    "  ungroup()\n",
    "\n",
    "ncr_lines_stop[] <- lapply(ncr_lines_stop, function(x) gsub(\"^c\\\\((.*)\\\\)$\", \"\\\\1\", x))\n",
    "ncr_lines_stop[ncr_lines_stop == \"integer(0)\"] <- \"\"\n",
    "ncr_lines_stop$line_stop_1 <- sapply(ncr_lines_stop$line_stop_1, extract_max)\n",
    "ncr_lines_stop$line_stop_2 <- sapply(ncr_lines_stop$line_stop_2, extract_max)\n",
    "ncr_lines_stop$line_stop_3 <- sapply(ncr_lines_stop$line_stop_3, extract_max)\n",
    "ncr_lines_stop$line_stop_4 <- sapply(ncr_lines_stop$line_stop_4, extract_max)\n",
    "ncr_lines_stop$line_stop_5 <- sapply(ncr_lines_stop$line_stop_5, extract_max)\n",
    "ncr_lines_stop$line_stop_6 <- sapply(ncr_lines_stop$line_stop_6, extract_max)\n",
    "ncr_lines_stop$line_stop_7 <- sapply(ncr_lines_stop$line_stop_7, extract_max)\n",
    "\n",
    "ncr_lines_stop$key_nkr <- as.integer(ncr_lines_stop$key_nkr)\n",
    "ncr_lines_stop$key_zid <- as.integer(ncr_lines_stop$key_zid)\n",
    "\n",
    "ncr_lines_details <- inner_join(ncr_lines_substance_written,ncr_lines_start, by=c('key_nkr','key_zid')) %>%\n",
    "  inner_join(ncr_lines_stop, by=c('key_nkr','key_zid'))\n",
    "  \n",
    "ncr_lines_details <- ncr_lines_details %>%\n",
    "  add_column(line_duration_1 = as.integer(ifelse(ncr_lines_details$line_stop_1 == \"\",\"\", as.integer(ncr_lines_details$line_stop_1)-as.integer(ncr_lines_details$line_start_1)))) %>%\n",
    "  add_column(line_duration_2 = as.integer(ifelse(ncr_lines_details$line_stop_2 == \"\",\"\", as.integer(ncr_lines_details$line_stop_2)-as.integer(ncr_lines_details$line_start_2)))) %>%\n",
    "  add_column(line_duration_3 = as.integer(ifelse(ncr_lines_details$line_stop_3 == \"\",\"\", as.integer(ncr_lines_details$line_stop_3)-as.integer(ncr_lines_details$line_start_3)))) %>%\n",
    "  add_column(line_duration_4 = as.integer(ifelse(ncr_lines_details$line_stop_4 == \"\",\"\", as.integer(ncr_lines_details$line_stop_4)-as.integer(ncr_lines_details$line_start_4)))) %>%\n",
    "  add_column(line_duration_5 = as.integer(ifelse(ncr_lines_details$line_stop_5 == \"\",\"\", as.integer(ncr_lines_details$line_stop_5)-as.integer(ncr_lines_details$line_start_5)))) %>%\n",
    "  add_column(line_duration_6 = as.integer(ifelse(ncr_lines_details$line_stop_6 == \"\",\"\", as.integer(ncr_lines_details$line_stop_6)-as.integer(ncr_lines_details$line_start_6)))) %>%\n",
    "  add_column(line_duration_7 = as.integer(ifelse(ncr_lines_details$line_stop_7 == \"\",\"\", as.integer(ncr_lines_details$line_stop_7)-as.integer(ncr_lines_details$line_start_7))))"
   ]
  },
  {
   "cell_type": "code",
   "execution_count": null,
   "id": "69f2b8fb-a3fc-434f-925d-7dd39b1dbff0",
   "metadata": {
    "tags": []
   },
   "outputs": [],
   "source": [
    "## Find similar patients and what type of treatment they received\n",
    "### <-- Try some random patient details\n",
    "age <- 78\n",
    "who <- 0\n",
    "patient_has_had_surgery <- 1\n",
    "\n",
    "ncr_similar_out <- find_similar_patients_2(ncr_ref_data = ncr, patient_age = age, patient_who = who, patient_has_had_surgery= patient_has_had_surgery)\n",
    "ncr_similar_out_with_treatment <- inner_join(ncr_similar_out, ncr_lines_details, by=c('key_nkr','key_zid')))"
   ]
  },
  {
   "cell_type": "code",
   "execution_count": null,
   "id": "a9f4daef-2b42-4c78-89e9-c71435ffae95",
   "metadata": {},
   "outputs": [],
   "source": []
  }
 ],
 "metadata": {
  "kernelspec": {
   "display_name": "R",
   "language": "R",
   "name": "ir"
  },
  "language_info": {
   "codemirror_mode": "r",
   "file_extension": ".r",
   "mimetype": "text/x-r-source",
   "name": "R",
   "pygments_lexer": "r",
   "version": "4.3.2"
  }
 },
 "nbformat": 4,
 "nbformat_minor": 5
}
