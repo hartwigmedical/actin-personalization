{
 "cells": [
  {
   "cell_type": "code",
   "execution_count": null,
   "id": "302f9aea-a651-467d-8ba2-5f5ed86e4312",
   "metadata": {
    "tags": []
   },
   "outputs": [],
   "source": [
    "library(dplyr)\n",
    "library(tibble)\n",
    "library(tidyr)\n",
    "\n",
    "rm(list=ls())"
   ]
  },
  {
   "cell_type": "code",
   "execution_count": null,
   "id": "b54a3bbc-edda-4b58-85fa-c370ef7341c1",
   "metadata": {},
   "outputs": [],
   "source": [
    "source(paste0(\"/data/repos/actin-personalization/scripts/ncr/ncr_data_exploration_functions.R\"))\n",
    "source(paste0(\"/data/repos/actin-personalization/scripts/ncr/ncr_patients_like_me_functions.R\"))"
   ]
  },
  {
   "cell_type": "code",
   "execution_count": null,
   "id": "bac8c1eb-2ec4-4952-80e7-e4a3313c7602",
   "metadata": {
    "tags": []
   },
   "outputs": [],
   "source": [
    "ncr <- load_ncr_data_notebook()"
   ]
  },
  {
   "cell_type": "code",
   "execution_count": null,
   "id": "543161ba-a89e-4995-b506-28fb8410b9a9",
   "metadata": {
    "tags": []
   },
   "outputs": [],
   "source": [
    "## Collect written treatments of treatment plan\n",
    "ncr_treatments_written <- collect_all_treatments_written(ncr)"
   ]
  },
  {
   "cell_type": "code",
   "execution_count": null,
   "id": "a407e8b7-34c0-424b-a6fa-5277b97a79bf",
   "metadata": {
    "tags": []
   },
   "outputs": [],
   "source": [
    "## Select start and stop interval for every part of the treatment plan, and merge with initial treatment plan and calculate durations\n",
    "ncr_treatments_start_and_stop <- collect_all_treatments_start_and_end_dates(ncr)"
   ]
  },
  {
   "cell_type": "code",
   "execution_count": null,
   "id": "b2250d1f-ff32-4b37-a0c7-3148294bcb51",
   "metadata": {
    "tags": []
   },
   "outputs": [],
   "source": [
    "## Merge written treatments and start/stop treatment dates\n",
    "ncr_treatment_plan_details <- inner_join(ncr_treatments_written, ncr_treatments_start_and_stop, by=c('key_nkr','key_zid','key_eid'))"
   ]
  },
  {
   "cell_type": "code",
   "execution_count": null,
   "id": "7d214908-ad1a-487a-ba29-f242b8489218",
   "metadata": {
    "tags": []
   },
   "outputs": [],
   "source": [
    "## Add duration as treatment stop date - treatment start date\n",
    "ncr_treatment_plan_details <- ncr_treatment_plan_details %>%\n",
    "  add_column(treatment_duration_1 = as.integer(ifelse(ncr_treatment_plan_details$treatment_plan_part_1_stop == \"\",\"\", as.integer(ncr_treatment_plan_details$treatment_plan_part_1_stop)-as.integer(ncr_treatment_plan_details$treatment_plan_part_1_start)))) %>%\n",
    "  add_column(treatment_duration_2 = as.integer(ifelse(ncr_treatment_plan_details$treatment_plan_part_2_stop == \"\",\"\", as.integer(ncr_treatment_plan_details$treatment_plan_part_2_stop)-as.integer(ncr_treatment_plan_details$treatment_plan_part_2_start)))) %>%\n",
    "  add_column(treatment_duration_3 = as.integer(ifelse(ncr_treatment_plan_details$treatment_plan_part_3_stop == \"\",\"\", as.integer(ncr_treatment_plan_details$treatment_plan_part_3_stop)-as.integer(ncr_treatment_plan_details$treatment_plan_part_3_start)))) %>%\n",
    "  add_column(treatment_duration_4 = as.integer(ifelse(ncr_treatment_plan_details$treatment_plan_part_4_stop == \"\",\"\", as.integer(ncr_treatment_plan_details$treatment_plan_part_4_stop)-as.integer(ncr_treatment_plan_details$treatment_plan_part_4_start)))) %>%\n",
    "  add_column(treatment_duration_5 = as.integer(ifelse(ncr_treatment_plan_details$treatment_plan_part_5_stop == \"\",\"\", as.integer(ncr_treatment_plan_details$treatment_plan_part_5_stop)-as.integer(ncr_treatment_plan_details$treatment_plan_part_5_start)))) %>%\n",
    "  add_column(treatment_duration_6 = as.integer(ifelse(ncr_treatment_plan_details$treatment_plan_part_6_stop == \"\",\"\", as.integer(ncr_treatment_plan_details$treatment_plan_part_6_stop)-as.integer(ncr_treatment_plan_details$treatment_plan_part_6_start)))) %>%\n",
    "  add_column(treatment_duration_7 = as.integer(ifelse(ncr_treatment_plan_details$treatment_plan_part_7_stop == \"\",\"\", as.integer(ncr_treatment_plan_details$treatment_plan_part_7_stop)-as.integer(ncr_treatment_plan_details$treatment_plan_part_7_start))))       "
   ]
  },
  {
   "cell_type": "code",
   "execution_count": null,
   "id": "50796a7f-17f1-43ec-aa6f-2601bd0b3bd8",
   "metadata": {
    "tags": []
   },
   "outputs": [],
   "source": [
    "nrow(ncr_treatments_written)\n",
    "nrow(ncr_treatment_plan_details)"
   ]
  },
  {
   "cell_type": "code",
   "execution_count": null,
   "id": "69f2b8fb-a3fc-434f-925d-7dd39b1dbff0",
   "metadata": {
    "tags": []
   },
   "outputs": [],
   "source": [
    "## Find similar patients and what type of treatment they received\n",
    "patient <- read.csv(paste0(\"/data/actin/patient_characteristics.csv\"), sep = \";\")\n",
    "\n",
    "age <- patient$age\n",
    "who <- patient$who\n",
    "patient_has_had_surgery <- patient$patient_has_had_surgery\n",
    "morf_cat <- patient$morf_cat\n",
    "topo_sublok <- patient$topo_sublok\n",
    "meta_topo_sublok1 <- c('C480','C481','C482','C488')\n",
    "\n",
    "ncr_similar_excl_who_and_age <- find_similar_patients_2(ncr_ref_data = ncr, patient_age = age, patient_who = who, patient_morf_cat=morf_cat, patient_topo_sublok=topo_sublok, patient_meta_topo_sublok1=meta_topo_sublok1)\n",
    "ncr_similar_incl_who_and_age <- find_similar_patients_3(ncr_ref_data = ncr, patient_age = age, patient_who = who, patient_morf_cat=morf_cat, patient_topo_sublok=topo_sublok, patient_meta_topo_sublok1=meta_topo_sublok1)\n",
    "\n",
    "ncr_similar_with_treatment_excl_who_and_age <- inner_join(ncr_similar_excl_who_and_age, ncr_treatment_plan_details, by=c('key_nkr','key_zid'))\n",
    "ncr_similar_with_treatment_incl_who_and_age <- inner_join(ncr_similar_incl_who_and_age, ncr_treatment_plan_details, by=c('key_nkr','key_zid'))\n",
    "\n",
    "ncr_similar_with_treatment_incl_who_and_age %>%\n",
    "    arrange(key_zid, epis) %>%\n",
    "    dplyr::filter(chir==0 & mdl_res==0 & rt ==0 & chemort == 0 & hipec == 0 & meta_chir_code1 == \"\" & meta_rt_code1 == \"\") %>%\n",
    "    select(c('key_zid','leeft','epis','morf_cat','meta_topo_sublok1','meta_topo_sublok2','meta_int1','mdl_res','chir','rt','chemort','hipec','chemo','target','tumgericht_ther','treatment_plan_part_1_written','treatment_plan_part_2_written','treatment_plan_part_3_written'))\n",
    "\n",
    "ncr_similar_with_treatment_excl_who_and_age %>%\n",
    "    arrange(key_zid, epis) %>%\n",
    "    dplyr::filter(chir==0 & mdl_res==0 & rt ==0 & chemort == 0 & hipec == 0 & meta_chir_code1 == \"\" & meta_rt_code1 == \"\") %>%\n",
    "    select(c('key_zid','leeft','epis','morf_cat','meta_topo_sublok1','meta_topo_sublok2','meta_int1','mdl_res','chir','rt','chemort','hipec','chemo','target','tumgericht_ther','treatment_plan_part_1_written','treatment_plan_part_2_written','treatment_plan_part_3_written'))\n"
   ]
  },
  {
   "cell_type": "code",
   "execution_count": null,
   "id": "a9f4daef-2b42-4c78-89e9-c71435ffae95",
   "metadata": {},
   "outputs": [],
   "source": []
  },
  {
   "cell_type": "code",
   "execution_count": null,
   "id": "9def714c-1dc6-484e-a8e9-31eb09878527",
   "metadata": {
    "tags": []
   },
   "outputs": [],
   "source": [
    "## Select similar patients in case of HIPEC & certain prior surgeries (WIP)\n",
    "hipec_int_min <- patient$hipec_int-150 \n",
    "hipec_int_max <- patient$hipec_int+150\n",
    "topo_sublok <- patient$topo_sublok\n",
    "chir_type1 <- patient$chir_type1 \n",
    "\n",
    "ncr_similar_hipec <- ncr %>%\n",
    "  dplyr::filter(epis=='VERB') %>%\n",
    "  dplyr::filter(topo_sublok==topo_sublok) %>%\n",
    "  dplyr::filter(hipec_int1>hipec_int_min & hipec_int1<hipec_int_max) %>%\n",
    "  dplyr::filter(meta_topo_sublok1 %in% meta_topo_sublok1 & meta_topo_sublok2==\"\") %>%\n",
    "  dplyr::filter(is.na(syst_start_int1)) %>%\n",
    "  dplyr::filter(rt == 0 & chemort == 0 & chemo == 0 & target == 0 & mdl_res == 0 & meta_rt_code1 == \"\")\n",
    "\n",
    "#ncr_similar_hipec %>% \n",
    "#select(c('key_zid','leeft','epis','morf_cat','meta_topo_sublok1','meta_topo_sublok2','meta_int1','mdl_res','chir','meta_chir_code1','meta_rt_code1','rt','chemort','hipec','chemo','target','tumgericht_ther'))\n",
    "\n",
    "ncr_similar_surgery <- ncr %>%\n",
    "  dplyr::filter(epis=='DIA') %>%\n",
    "  dplyr::filter(topo_sublok==topo_sublok) %>%\n",
    "  dplyr::filter(chir_type1==chir_type1 & is.na(chir_type2)) %>%\n",
    "  dplyr::filter(is.na(syst_start_int1)) %>%\n",
    "  dplyr::filter(rt == 0 & chemort == 0 & chemo == 0 & target == 0 & mdl_res == 0 & hipec == 0 & meta_chir_code1 == \"\" & meta_rt_code1 == \"\")\n",
    "\n",
    "#ncr_similar_surgery %>% \n",
    "#select(c('key_zid','leeft','epis','morf_cat','meta_topo_sublok1','meta_topo_sublok2','meta_int1','mdl_res','chir','meta_chir_code1','meta_rt_code1','rt','chemort','hipec','chemo','target','tumgericht_ther'))\n",
    "\n",
    "ncr_similar_pts <- ncr %>%\n",
    "dplyr::filter(key_zid %in% ncr_similar_hipec$key_zid) %>%\n",
    "dplyr::filter(key_zid %in% ncr_similar_surgery$key_zid)\n",
    "\n",
    "#ncr_similar_pts %>% \n",
    "#    arrange(key_zid, epis) %>%\n",
    "#    select(c('key_zid','epis','mdl_res','chir','chir_type1','chir_int1','meta_topo_sublok1','meta_topo_sublok2','meta_int1','rt','chemort','syst_start_int1','syst_start_int2','syst_start_int3','hipec','hipec_int1'))\n",
    "\n",
    "#what is known about similar pts\n",
    "ncr_similar_pts_hipec_date <- ncr_similar_hipec %>% select('key_zid','hipec_int1')\n",
    "ncr_similar_pts_died <- ncr_similar_pts %>% dplyr::filter(epis=='DIA' & vit_stat==1) %>% select('key_zid','vit_stat_int')\n",
    "ncr_similar_pts_alive <- ncr_similar_pts %>% dplyr::filter(epis=='DIA' & vit_stat==0) %>% select('key_zid','vit_stat_int')\n",
    "ncr_similar_pts_died_date <- inner_join(ncr_similar_pts_died, ncr_similar_pts_hipec_date, by=c('key_zid'))\n",
    "ncr_similar_pts_alive_date <- inner_join(ncr_similar_pts_alive, ncr_similar_pts_hipec_date, by=c('key_zid'))\n",
    "\n",
    "ncr_similar_pts_died_date$hipec_vit_stat_int <- ncr_similar_pts_died_date$vit_stat_int - ncr_similar_pts_died_date$hipec_int1\n",
    "ncr_similar_pts_alive_date$hipec_vit_stat_int <- ncr_similar_pts_alive_date$vit_stat_int - ncr_similar_pts_alive_date$hipec_int1\n",
    "\n",
    "ncr_similar_pts_died %>% nrow()\n",
    "ncr_similar_pts_alive %>% nrow() \n",
    "\n",
    "paste0(\"Median OS after hipec date for patients who died: \",median(as.numeric(ncr_similar_pts_died_date$hipec_vit_stat_int)))\n",
    "paste0(\"Median vit stat int after hipec date for patients who are still alive: \",median(as.numeric(ncr_similar_pts_alive_date$hipec_vit_stat_int)))"
   ]
  },
  {
   "cell_type": "code",
   "execution_count": null,
   "id": "d33fae8b-6d21-4f2a-bae8-fe79d53de56b",
   "metadata": {},
   "outputs": [],
   "source": [
    "## Calculate OS (WIP)\n",
    "\n",
    "ncr_similar_alive <- ncr_similar %>% dplyr::filter(vit_stat==0)\n",
    "ncr_similar_died <- ncr_similar %>% dplyr::filter(vit_stat==1)\n",
    "ncr_similar_died_treated <- ncr_similar %>% dplyr::filter(tumgericht_ther==1) %>% dplyr::filter(chemo == 2 | target == 2) %>% dplyr::filter(vit_stat==1)\n",
    "ncr_similar_died_no_treatment <- ncr_similar %>% dplyr::filter(tumgericht_ther==0) %>% dplyr::filter(vit_stat==1)\n",
    "\n",
    "ncr_similar_alive %>% nrow()\n",
    "ncr_similar_died %>% nrow()\n",
    "ncr_similar_died_treated %>% nrow()\n",
    "ncr_similar_died_no_treatment %>% nrow()\n",
    "\n",
    "paste0(\"Median OS of all similar patients who died: \",median(as.numeric(ncr_similar_died$vit_stat_int)))\n",
    "paste0(\"Median OS of all similar patients who died with chemo or targeted systemic therapy: \",median(as.numeric(ncr_similar_died_treated$vit_stat_int)))\n",
    "paste0(\"Median OS of all similar patients who died without treatment: \",median(as.numeric(ncr_similar_died_no_treatment$vit_stat_int)))"
   ]
  },
  {
   "cell_type": "code",
   "execution_count": null,
   "id": "a4e21a36-0952-45e5-9310-46400a37b9f8",
   "metadata": {
    "tags": []
   },
   "outputs": [],
   "source": []
  },
  {
   "cell_type": "code",
   "execution_count": null,
   "id": "5b22493e-b0fd-494f-b02d-d23832ea22a1",
   "metadata": {},
   "outputs": [],
   "source": []
  }
 ],
 "metadata": {
  "kernelspec": {
   "display_name": "R",
   "language": "R",
   "name": "ir"
  },
  "language_info": {
   "codemirror_mode": "r",
   "file_extension": ".r",
   "mimetype": "text/x-r-source",
   "name": "R",
   "pygments_lexer": "r",
   "version": "4.3.2"
  }
 },
 "nbformat": 4,
 "nbformat_minor": 5
}
