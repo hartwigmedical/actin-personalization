{
 "cells": [
  {
   "cell_type": "code",
   "execution_count": null,
   "id": "1aa9aa1b-7a5a-412d-a9d5-9ad366a36c62",
   "metadata": {
    "tags": []
   },
   "outputs": [],
   "source": [
    "import pandas as pd\n",
    "import matplotlib.pyplot as plt\n",
    "import seaborn as sns\n",
    "from scipy.stats import kruskal"
   ]
  },
  {
   "cell_type": "code",
   "execution_count": null,
   "id": "fa21ec92-b15e-45af-aad3-8994910d04c8",
   "metadata": {
    "tags": []
   },
   "outputs": [],
   "source": [
    "db_connection = pymysql.connect(\n",
    "    read_default_file='/home/jupyter/.my.cnf',\n",
    "    read_default_group='RAnalysis', \n",
    "    db = 'actin_personalization'\n",
    ")\n",
    "\n",
    "query = \"\"\"  \n",
    "SELECT \n",
    "    dt.*, \n",
    "    e.tumorIncidenceYear,\n",
    "    e.hadProgressionEvent,\n",
    "    pm.type\n",
    "FROM \n",
    "    diagnosisTreatments dt\n",
    "JOIN\n",
    "    episode e \n",
    "    ON e.id = dt.episodeId\n",
    "LEFT JOIN\n",
    "    pfsMeasure pm \n",
    "    ON e.id = pm.episodeId;\n",
    "\n",
    "\n",
    "\"\"\"\n",
    "\n",
    "df = pd.read_sql(query, db_connection)\n",
    "\n",
    "db_connection.close()\n",
    "\n",
    "df.head()"
   ]
  },
  {
   "cell_type": "markdown",
   "id": "0291c01c-80e3-474f-ac32-cca19be02ab8",
   "metadata": {},
   "source": [
    "# Assumption 5"
   ]
  },
  {
   "cell_type": "code",
   "execution_count": null,
   "id": "5a475410-7755-4076-b440-6625a6687140",
   "metadata": {
    "tags": []
   },
   "outputs": [],
   "source": [
    "pfs_by_year = df.groupby('tumorIncidenceYear')['systemicTreatmentPlanPfs'].median()\n",
    "\n",
    "years = df['tumorIncidenceYear'].unique()\n",
    "pfs_data = [df[df['tumorIncidenceYear'] == year]['systemicTreatmentPlanPfs'].dropna() for year in years]\n",
    "kruskal_test = kruskal(*pfs_data)\n",
    "\n",
    "print(\"Kruskal-Wallis test results:\", kruskal_test)\n",
    "\n",
    "plt.figure(figsize=(10, 6))\n",
    "sns.boxplot(x='tumorIncidenceYear', y='systemicTreatmentPlanPfs', data=df)\n",
    "plt.title(\"PFS Distribution by Start Year\")\n",
    "plt.xticks(rotation=45)\n",
    "plt.show()"
   ]
  },
  {
   "cell_type": "markdown",
   "id": "1d6d4282-d031-4b4c-b05f-934015cce606",
   "metadata": {},
   "source": [
    "# Assumption 6"
   ]
  },
  {
   "cell_type": "code",
   "execution_count": null,
   "id": "dd749d32-90de-49d3-a5a1-c7a4f23e7f6b",
   "metadata": {
    "tags": []
   },
   "outputs": [],
   "source": [
    "event_counts = df.pivot_table(index='systemicTreatmentPlan', \n",
    "                              columns='type', \n",
    "                              values='episodeId', \n",
    "                              aggfunc='count', \n",
    "                              fill_value=0)\n",
    "\n",
    "event_counts['censored_percentage'] = event_counts['CENSOR'] / (event_counts['PROGRESSION'] + event_counts['CENSOR']) * 100\n",
    "print(event_counts[['censored_percentage']])\n",
    "\n",
    "plt.figure(figsize=(10, 6))\n",
    "\n",
    "bars = event_counts['censored_percentage'].plot(kind='bar')\n",
    "\n",
    "plt.title(\"Censoring Percentage by Treatment Group\")\n",
    "plt.ylabel(\"Censored Percentage\")\n",
    "plt.xticks(rotation=45, ha=\"right\") \n",
    "plt.tight_layout()\n",
    "\n",
    "plt.show()"
   ]
  }
 ],
 "metadata": {
  "kernelspec": {
   "display_name": "Python 3 (ipykernel)",
   "language": "python",
   "name": "python3"
  },
  "language_info": {
   "codemirror_mode": {
    "name": "ipython",
    "version": 3
   },
   "file_extension": ".py",
   "mimetype": "text/x-python",
   "name": "python",
   "nbconvert_exporter": "python",
   "pygments_lexer": "ipython3",
   "version": "3.7.3"
  }
 },
 "nbformat": 4,
 "nbformat_minor": 5
}
