{
 "cells": [
  {
   "cell_type": "code",
   "execution_count": null,
   "id": "1aa9aa1b-7a5a-412d-a9d5-9ad366a36c62",
   "metadata": {
    "tags": []
   },
   "outputs": [],
   "source": [
    "import pandas as pd\n",
    "import matplotlib.pyplot as plt\n",
    "import seaborn as sns\n",
    "from scipy.stats import kruskal\n",
    "import pymysql"
   ]
  },
  {
   "cell_type": "code",
   "execution_count": null,
   "id": "fa21ec92-b15e-45af-aad3-8994910d04c8",
   "metadata": {
    "tags": []
   },
   "outputs": [],
   "source": [
    "db_connection = pymysql.connect(\n",
    "    read_default_file='/home/jupyter/.my.cnf',\n",
    "    read_default_group='RAnalysis', \n",
    "    db = 'actin_personalization'\n",
    ")\n",
    "\n",
    "query = \"\"\"  \n",
    "SELECT \n",
    "    * \n",
    "FROM \n",
    "    knownPalliativeTreatments \n",
    "\"\"\"\n",
    "\n",
    "km_df = pd.read_sql(query, db_connection)\n",
    "\n",
    "db_connection.close()\n",
    "\n",
    "km_df.head()"
   ]
  },
  {
   "cell_type": "markdown",
   "id": "0291c01c-80e3-474f-ac32-cca19be02ab8",
   "metadata": {},
   "source": [
    "# Assumption 5"
   ]
  },
  {
   "cell_type": "code",
   "execution_count": null,
   "id": "5a475410-7755-4076-b440-6625a6687140",
   "metadata": {
    "tags": []
   },
   "outputs": [],
   "source": [
    "df = km_df[km_df['tumorIncidenceYear'] != 2022]\n",
    "\n",
    "pfs_by_year = df.groupby('tumorIncidenceYear')['observedPfsDays'].median()\n",
    "\n",
    "years = df['tumorIncidenceYear'].unique()\n",
    "pfs_data = [df[df['tumorIncidenceYear'] == year]['observedPfsDays'].dropna() for year in years]\n",
    "kruskal_test = kruskal(*pfs_data)\n",
    "\n",
    "print(\"Kruskal-Wallis test results:\", kruskal_test)\n",
    "\n",
    "plt.figure(figsize=(10, 6))\n",
    "sns.boxplot(x='tumorIncidenceYear', y='observedPfsDays', data=df)\n",
    "plt.title(\"PFS Distribution by Start Year\")\n",
    "plt.xticks(rotation=45)\n",
    "plt.show()"
   ]
  },
  {
   "cell_type": "code",
   "execution_count": null,
   "id": "e6ec297e",
   "metadata": {
    "tags": []
   },
   "outputs": [],
   "source": [
    "os_by_year = df.groupby('tumorIncidenceYear')['observedOsFromTreatmentStartDays'].median()\n",
    "\n",
    "years = df['tumorIncidenceYear'].unique()\n",
    "os_data = [df[df['tumorIncidenceYear'] == year]['observedOsFromTreatmentStartDays'].dropna() for year in years]\n",
    "kruskal_test = kruskal(*os_data)\n",
    "\n",
    "print(\"Kruskal-Wallis test results:\", kruskal_test)\n",
    "\n",
    "plt.figure(figsize=(10, 6))\n",
    "sns.boxplot(x='tumorIncidenceYear', y='observedOsFromTreatmentStartDays', data=df)\n",
    "plt.title(\"OS Distribution by Start Year\")\n",
    "plt.xticks(rotation=45)\n",
    "plt.show()"
   ]
  },
  {
   "cell_type": "code",
   "execution_count": null,
   "id": "ea4c69ab",
   "metadata": {
    "tags": []
   },
   "outputs": [],
   "source": [
    "treatments = df['systemicTreatmentPlan'].dropna().unique()\n",
    "\n",
    "num_cols = 4\n",
    "num_rows = (len(treatments) + num_cols - 1) // num_cols  \n",
    "\n",
    "fig, axes = plt.subplots(nrows=num_rows, ncols=num_cols, figsize=(18, num_rows * 4))\n",
    "fig.tight_layout(pad=5.0)\n",
    "axes = axes.flatten()\n",
    "\n",
    "pfs_kruskal_results = []\n",
    "\n",
    "for i, treatment in enumerate(treatments):\n",
    "    treatment_data = df[df['systemicTreatmentPlan'] == treatment]\n",
    "    pfs_data = [treatment_data[treatment_data['tumorIncidenceYear'] == year]['observedPfsDays'].dropna() for year in years]\n",
    "    \n",
    "    filtered_pfs_data = [data for data in pfs_data if len(data) > 0]\n",
    "    \n",
    "    if len(filtered_pfs_data) > 1:\n",
    "        kruskal_test = kruskal(*filtered_pfs_data)\n",
    "        pfs_kruskal_results.append([treatment, kruskal_test.statistic, kruskal_test.pvalue])\n",
    "        \n",
    "        # Plot the boxplot for each treatment in the respective subplot\n",
    "        sns.boxplot(x='tumorIncidenceYear', y='observedPfsDays', data=treatment_data, ax=axes[i])\n",
    "        axes[i].set_title(f\"PFS Distribution by Year for {treatment}\")\n",
    "        axes[i].set_xticks(axes[i].get_xticks())\n",
    "        axes[i].set_xticklabels(axes[i].get_xticklabels(), rotation=45)\n",
    "\n",
    "for j in range(i+1, len(axes)):\n",
    "    fig.delaxes(axes[j])\n",
    "\n",
    "plt.show()"
   ]
  },
  {
   "cell_type": "code",
   "execution_count": null,
   "id": "d54bd609",
   "metadata": {
    "tags": []
   },
   "outputs": [],
   "source": [
    "pfs_kruskal_results_df = pd.DataFrame(pfs_kruskal_results, columns=['Treatment', 'Kruskal-Wallis Statistic', 'p-value'])\n",
    "\n",
    "pfs_kruskal_results_df"
   ]
  },
  {
   "cell_type": "code",
   "execution_count": null,
   "id": "c1ae1157",
   "metadata": {
    "tags": []
   },
   "outputs": [],
   "source": [
    "num_cols = 4\n",
    "num_rows = (len(treatments) + num_cols - 1) // num_cols  \n",
    "\n",
    "fig, axes = plt.subplots(nrows=num_rows, ncols=num_cols, figsize=(18, num_rows * 4))\n",
    "fig.tight_layout(pad=5.0)\n",
    "axes = axes.flatten()\n",
    "\n",
    "os_kruskal_results = []\n",
    "\n",
    "for i, treatment in enumerate(treatments):\n",
    "    treatment_data = df[df['systemicTreatmentPlan'] == treatment]\n",
    "    os_data = [treatment_data[treatment_data['tumorIncidenceYear'] == year]['observedOsFromTreatmentStartDays'].dropna() for year in years]\n",
    "    \n",
    "    filtered_os_data = [data for data in os_data if len(data) > 0]\n",
    "    \n",
    "    if len(filtered_pfs_data) > 1:\n",
    "        kruskal_test = kruskal(*filtered_os_data)\n",
    "        os_kruskal_results.append([treatment, kruskal_test.statistic, kruskal_test.pvalue])\n",
    "        \n",
    "        # Plot the boxplot for each treatment in the respective subplot\n",
    "        sns.boxplot(x='tumorIncidenceYear', y='observedOsFromTreatmentStartDays', data=treatment_data, ax=axes[i])\n",
    "        axes[i].set_title(f\"OS Distribution by Year for {treatment}\")\n",
    "        axes[i].set_xticks(axes[i].get_xticks())\n",
    "        axes[i].set_xticklabels(axes[i].get_xticklabels(), rotation=45)\n",
    "\n",
    "for j in range(i+1, len(axes)):\n",
    "    fig.delaxes(axes[j])\n",
    "\n",
    "plt.show()"
   ]
  },
  {
   "cell_type": "code",
   "execution_count": null,
   "id": "8498d4d1",
   "metadata": {
    "tags": []
   },
   "outputs": [],
   "source": [
    "os_kruskal_results_df = pd.DataFrame(os_kruskal_results, columns=['Treatment', 'Kruskal-Wallis Statistic', 'p-value'])\n",
    "\n",
    "os_kruskal_results_df"
   ]
  },
  {
   "cell_type": "markdown",
   "id": "1d6d4282-d031-4b4c-b05f-934015cce606",
   "metadata": {},
   "source": [
    "# Assumption 6"
   ]
  },
  {
   "cell_type": "code",
   "execution_count": null,
   "id": "1b67d993-3efe-4ceb-bd59-c5cf0839e977",
   "metadata": {
    "tags": []
   },
   "outputs": [],
   "source": [
    "exclude_small_sample_sizes = True"
   ]
  },
  {
   "cell_type": "code",
   "execution_count": null,
   "id": "dd749d32-90de-49d3-a5a1-c7a4f23e7f6b",
   "metadata": {
    "tags": []
   },
   "outputs": [],
   "source": [
    "pfs_event_counts = km_df.pivot_table(index='systemicTreatmentPlan', \n",
    "                              columns='hadProgressionEvent',\n",
    "                              values='episodeId', \n",
    "                              aggfunc='count', \n",
    "                              fill_value=0)\n",
    "\n",
    "pfs_event_counts['censored_percentage'] = pfs_event_counts[0] / (pfs_event_counts[1] + pfs_event_counts[0]) * 100\n",
    "\n",
    "pfs_event_counts['total_events'] = pfs_event_counts[1] + pfs_event_counts[0]\n",
    "pfs_event_counts['censor_events'] = pfs_event_counts[0]\n",
    "pfs_event_counts['progression_events'] = pfs_event_counts[1]\n",
    "\n",
    "plt.figure(figsize=(10, 6))\n",
    "bars = pfs_event_counts['censored_percentage'].plot(kind='bar')\n",
    "plt.title(\"Censoring Percentage by Treatment Group (Using hadProgressionEvent)\")\n",
    "plt.ylabel(\"Censored Percentage\")\n",
    "plt.xticks(rotation=45, ha=\"right\")\n",
    "plt.tight_layout()\n",
    "\n",
    "plt.show()"
   ]
  },
  {
   "cell_type": "code",
   "execution_count": null,
   "id": "86cd27ab-0b91-4779-bdac-043c917e73c6",
   "metadata": {
    "tags": []
   },
   "outputs": [],
   "source": [
    "pfs_event_counts = pfs_event_counts.reset_index()\n",
    "\n",
    "if exclude_small_sample_sizes:\n",
    "    pfs_event_counts = pfs_event_counts[pfs_event_counts['total_events'] >= 50]\n",
    "\n",
    "pfs_event_counts['Treatment_Type'] = pfs_event_counts['systemicTreatmentPlan'].apply(\n",
    "    lambda x: 'Immunotherapy' if x in ['PEMBROLIZUMAB', 'NIVOLUMAB'] else 'Chemotherapy'\n",
    ")\n",
    "\n",
    "pfs_chemotherapy_data_filtered = pfs_event_counts[pfs_event_counts['Treatment_Type'] == 'Chemotherapy']\n",
    "pfs_immunotherapy_data_filtered = pfs_event_counts[pfs_event_counts['Treatment_Type'] == 'Immunotherapy']\n",
    "pfs_combined_data_filtered = pfs_event_counts\n",
    "\n",
    "# For Chemotherapy group\n",
    "pfs_chemotherapy_censoring_filtered = [pfs_chemotherapy_data_filtered[pfs_chemotherapy_data_filtered['systemicTreatmentPlan'] == treatment]['censored_percentage']\n",
    "                                   for treatment in pfs_chemotherapy_data_filtered['systemicTreatmentPlan'].unique()]\n",
    "pfs_kruskal_chem_filtered = kruskal(*pfs_chemotherapy_censoring_filtered)\n",
    "print(f\"Kruskal-Wallis Test for Chemotherapy treatments (filtered): {pfs_kruskal_chem_filtered}\")\n",
    "\n",
    "# For Immunotherapy group\n",
    "if not exclude_small_sample_sizes:\n",
    "    pfs_immunotherapy_censoring_filtered = [pfs_immunotherapy_data_filtered[pfs_immunotherapy_data_filtered['systemicTreatmentPlan'] == treatment]['censored_percentage']\n",
    "                                        for treatment in pfs_immunotherapy_data_filtered['systemicTreatmentPlan'].unique()]\n",
    "    pfs_kruskal_immu_filtered = kruskal(*pfs_immunotherapy_censoring_filtered)\n",
    "    print(f\"Kruskal-Wallis Test for Immunotherapy treatments (filtered): {pfs_kruskal_immu_filtered}\")\n",
    "\n",
    "# For combined Chemotherapy + Immunotherapy group\n",
    "pfs_combined_censoring_filtered = [pfs_combined_data_filtered[pfs_combined_data_filtered['systemicTreatmentPlan'] == treatment]['censored_percentage']\n",
    "                               for treatment in pfs_combined_data_filtered['systemicTreatmentPlan'].unique()]\n",
    "pfs_kruskal_combined_filtered = kruskal(*pfs_combined_censoring_filtered)\n",
    "print(f\"Kruskal-Wallis Test for Combined treatments (filtered): {pfs_kruskal_combined_filtered}\")\n"
   ]
  },
  {
   "cell_type": "code",
   "execution_count": null,
   "id": "5d8cdfb2",
   "metadata": {
    "tags": []
   },
   "outputs": [],
   "source": [
    "os_event_counts = km_df.pivot_table(index='systemicTreatmentPlan', \n",
    "                              columns='hadSurvivalEvent',\n",
    "                              values='episodeId', \n",
    "                              aggfunc='count', \n",
    "                              fill_value=0)\n",
    "\n",
    "os_event_counts.head()\n",
    "\n",
    "os_event_counts['censored_percentage'] = os_event_counts[0] / (os_event_counts[1] + os_event_counts[0]) * 100\n",
    "\n",
    "os_event_counts['total_events'] = os_event_counts[1] + os_event_counts[0]\n",
    "os_event_counts['censor_events'] = os_event_counts[0]\n",
    "os_event_counts['progression_events'] = os_event_counts[1]\n",
    "\n",
    "plt.figure(figsize=(10, 6))\n",
    "bars = os_event_counts['censored_percentage'].plot(kind='bar')\n",
    "plt.title(\"Censoring Percentage by Treatment Group (Using hadSurvivalEvent)\")\n",
    "plt.ylabel(\"Censored Percentage\")\n",
    "plt.xticks(rotation=45, ha=\"right\") \n",
    "plt.tight_layout()\n",
    "\n",
    "plt.show()"
   ]
  },
  {
   "cell_type": "code",
   "execution_count": null,
   "id": "22a11c2e-ec64-4b49-b794-5f992de7a4ab",
   "metadata": {
    "tags": []
   },
   "outputs": [],
   "source": [
    "os_event_counts = os_event_counts.reset_index()\n",
    "\n",
    "if exclude_small_sample_sizes:\n",
    "    os_event_counts = os_event_counts[os_event_counts['total_events'] >= 50]\n",
    "\n",
    "os_event_counts['Treatment_Type'] = os_event_counts['systemicTreatmentPlan'].apply(\n",
    "    lambda x: 'Immunotherapy' if x in ['PEMBROLIZUMAB', 'NIVOLUMAB'] else 'Chemotherapy'\n",
    ")\n",
    "\n",
    "os_chemotherapy_data_filtered = os_event_counts[os_event_counts['Treatment_Type'] == 'Chemotherapy']\n",
    "os_immunotherapy_data_filtered = os_event_counts[os_event_counts['Treatment_Type'] == 'Immunotherapy']\n",
    "os_combined_data_filtered = os_event_counts\n",
    "\n",
    "# For Chemotherapy group\n",
    "os_chemotherapy_censoring_filtered = [os_chemotherapy_data_filtered[os_chemotherapy_data_filtered['systemicTreatmentPlan'] == treatment]['censored_percentage']\n",
    "                                   for treatment in os_chemotherapy_data_filtered['systemicTreatmentPlan'].unique()]\n",
    "os_kruskal_chem_filtered = kruskal(*os_chemotherapy_censoring_filtered)\n",
    "print(f\"Kruskal-Wallis Test for Chemotherapy treatments (filtered): {os_kruskal_chem_filtered}\")\n",
    "\n",
    "# For Immunotherapy group\n",
    "if not exclude_small_sample_sizes:\n",
    "    os_immunotherapy_censoring_filtered = [os_immunotherapy_data_filtered[os_immunotherapy_data_filtered['systemicTreatmentPlan'] == treatment]['censored_percentage']\n",
    "                                        for treatment in os_immunotherapy_data_filtered['systemicTreatmentPlan'].unique()]\n",
    "    os_kruskal_immu_filtered = kruskal(*os_immunotherapy_censoring_filtered)\n",
    "    print(f\"Kruskal-Wallis Test for Immunotherapy treatments (filtered): {os_kruskal_immu_filtered}\")\n",
    "\n",
    "# For combined Chemotherapy + Immunotherapy group\n",
    "os_combined_censoring_filtered = [os_combined_data_filtered[os_combined_data_filtered['systemicTreatmentPlan'] == treatment]['censored_percentage']\n",
    "                               for treatment in os_combined_data_filtered['systemicTreatmentPlan'].unique()]\n",
    "os_kruskal_combined_filtered = kruskal(*os_combined_censoring_filtered)\n",
    "print(f\"Kruskal-Wallis Test for Combined treatments (filtered): {os_kruskal_combined_filtered}\")\n"
   ]
  }
 ],
 "metadata": {
  "kernelspec": {
   "display_name": "Python 3 (ipykernel)",
   "language": "python",
   "name": "python3"
  },
  "language_info": {
   "codemirror_mode": {
    "name": "ipython",
    "version": 3
   },
   "file_extension": ".py",
   "mimetype": "text/x-python",
   "name": "python",
   "nbconvert_exporter": "python",
   "pygments_lexer": "ipython3",
   "version": "3.7.3"
  }
 },
 "nbformat": 4,
 "nbformat_minor": 5
}
