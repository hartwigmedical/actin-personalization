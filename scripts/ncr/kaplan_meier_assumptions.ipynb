{
 "cells": [
  {
   "cell_type": "code",
   "execution_count": null,
   "id": "1aa9aa1b-7a5a-412d-a9d5-9ad366a36c62",
   "metadata": {
    "tags": []
   },
   "outputs": [],
   "source": [
    "import pandas as pd\n",
    "import matplotlib.pyplot as plt\n",
    "import seaborn as sns\n",
    "from scipy.stats import kruskal\n",
    "import pymysql"
   ]
  },
  {
   "cell_type": "code",
   "execution_count": null,
   "id": "fa21ec92-b15e-45af-aad3-8994910d04c8",
   "metadata": {
    "tags": []
   },
   "outputs": [],
   "source": [
    "db_connection = pymysql.connect(\n",
    "    read_default_file='/home/jupyter/.my.cnf',\n",
    "    read_default_group='RAnalysis', \n",
    "    db = 'actin_personalization'\n",
    ")\n",
    "\n",
    "query = \"\"\"  \n",
    "SELECT \n",
    "    * \n",
    "FROM \n",
    "    knownPalliativeTreatments \n",
    "\"\"\"\n",
    "\n",
    "df = pd.read_sql(query, db_connection)\n",
    "\n",
    "db_connection.close()\n",
    "\n",
    "df.head()"
   ]
  },
  {
   "cell_type": "markdown",
   "id": "0291c01c-80e3-474f-ac32-cca19be02ab8",
   "metadata": {},
   "source": [
    "# Assumption 5"
   ]
  },
  {
   "cell_type": "code",
   "execution_count": null,
   "id": "5a475410-7755-4076-b440-6625a6687140",
   "metadata": {
    "tags": []
   },
   "outputs": [],
   "source": [
    "df = df[df['tumorIncidenceYear'] != 2022]\n",
    "\n",
    "pfs_by_year = df.groupby('tumorIncidenceYear')['observedPfsDays'].median()\n",
    "\n",
    "years = df['tumorIncidenceYear'].unique()\n",
    "pfs_data = [df[df['tumorIncidenceYear'] == year]['observedPfsDays'].dropna() for year in years]\n",
    "kruskal_test = kruskal(*pfs_data)\n",
    "\n",
    "print(\"Kruskal-Wallis test results:\", kruskal_test)\n",
    "\n",
    "plt.figure(figsize=(10, 6))\n",
    "sns.boxplot(x='tumorIncidenceYear', y='observedPfsDays', data=df)\n",
    "plt.title(\"PFS Distribution by Start Year\")\n",
    "plt.xticks(rotation=45)\n",
    "plt.show()"
   ]
  },
  {
   "cell_type": "code",
   "execution_count": null,
   "id": "e6ec297e",
   "metadata": {
    "tags": []
   },
   "outputs": [],
   "source": [
    "os_by_year = df.groupby('tumorIncidenceYear')['observedOsFromTreatmentStartDays'].median()\n",
    "\n",
    "years = df['tumorIncidenceYear'].unique()\n",
    "os_data = [df[df['tumorIncidenceYear'] == year]['observedOsFromTreatmentStartDays'].dropna() for year in years]\n",
    "kruskal_test = kruskal(*os_data)\n",
    "\n",
    "print(\"Kruskal-Wallis test results:\", kruskal_test)\n",
    "\n",
    "plt.figure(figsize=(10, 6))\n",
    "sns.boxplot(x='tumorIncidenceYear', y='observedOsFromTreatmentStartDays', data=df)\n",
    "plt.title(\"OS Distribution by Start Year\")\n",
    "plt.xticks(rotation=45)\n",
    "plt.show()"
   ]
  },
  {
   "cell_type": "code",
   "execution_count": null,
   "id": "ea4c69ab",
   "metadata": {
    "tags": []
   },
   "outputs": [],
   "source": [
    "treatments = df['systemicTreatmentPlan'].dropna().unique()\n",
    "\n",
    "num_cols = 4\n",
    "num_rows = (len(treatments) + num_cols - 1) // num_cols  \n",
    "\n",
    "fig, axes = plt.subplots(nrows=num_rows, ncols=num_cols, figsize=(18, num_rows * 4))\n",
    "fig.tight_layout(pad=5.0)\n",
    "axes = axes.flatten()\n",
    "\n",
    "pfs_kruskal_results = []\n",
    "\n",
    "for i, treatment in enumerate(treatments):\n",
    "    treatment_data = df[df['systemicTreatmentPlan'] == treatment]\n",
    "    pfs_data = [treatment_data[treatment_data['tumorIncidenceYear'] == year]['observedPfsDays'].dropna() for year in years]\n",
    "    \n",
    "    filtered_pfs_data = [data for data in pfs_data if len(data) > 0]\n",
    "    \n",
    "    if len(filtered_pfs_data) > 1:\n",
    "        kruskal_test = kruskal(*filtered_pfs_data)\n",
    "        pfs_kruskal_results.append([treatment, kruskal_test.statistic, kruskal_test.pvalue])\n",
    "        \n",
    "        # Plot the boxplot for each treatment in the respective subplot\n",
    "        sns.boxplot(x='tumorIncidenceYear', y='observedPfsDays', data=treatment_data, ax=axes[i])\n",
    "        axes[i].set_title(f\"PFS Distribution by Year for {treatment}\")\n",
    "        axes[i].set_xticks(axes[i].get_xticks())\n",
    "        axes[i].set_xticklabels(axes[i].get_xticklabels(), rotation=45)\n",
    "\n",
    "for j in range(i+1, len(axes)):\n",
    "    fig.delaxes(axes[j])\n",
    "\n",
    "plt.show()"
   ]
  },
  {
   "cell_type": "code",
   "execution_count": null,
   "id": "d54bd609",
   "metadata": {
    "tags": []
   },
   "outputs": [],
   "source": [
    "pfs_kruskal_results_df = pd.DataFrame(pfs_kruskal_results, columns=['Treatment', 'Kruskal-Wallis Statistic', 'p-value'])\n",
    "\n",
    "pfs_kruskal_results_df"
   ]
  },
  {
   "cell_type": "code",
   "execution_count": null,
   "id": "c1ae1157",
   "metadata": {
    "tags": []
   },
   "outputs": [],
   "source": [
    "num_cols = 4\n",
    "num_rows = (len(treatments) + num_cols - 1) // num_cols  \n",
    "\n",
    "fig, axes = plt.subplots(nrows=num_rows, ncols=num_cols, figsize=(18, num_rows * 4))\n",
    "fig.tight_layout(pad=5.0)\n",
    "axes = axes.flatten()\n",
    "\n",
    "os_kruskal_results = []\n",
    "\n",
    "for i, treatment in enumerate(treatments):\n",
    "    treatment_data = df[df['systemicTreatmentPlan'] == treatment]\n",
    "    os_data = [treatment_data[treatment_data['tumorIncidenceYear'] == year]['observedOsFromTreatmentStartDays'].dropna() for year in years]\n",
    "    \n",
    "    filtered_os_data = [data for data in os_data if len(data) > 0]\n",
    "    \n",
    "    if len(filtered_pfs_data) > 1:\n",
    "        kruskal_test = kruskal(*filtered_os_data)\n",
    "        os_kruskal_results.append([treatment, kruskal_test.statistic, kruskal_test.pvalue])\n",
    "        \n",
    "        # Plot the boxplot for each treatment in the respective subplot\n",
    "        sns.boxplot(x='tumorIncidenceYear', y='observedOsFromTreatmentStartDays', data=treatment_data, ax=axes[i])\n",
    "        axes[i].set_title(f\"OS Distribution by Year for {treatment}\")\n",
    "        axes[i].set_xticks(axes[i].get_xticks())\n",
    "        axes[i].set_xticklabels(axes[i].get_xticklabels(), rotation=45)\n",
    "\n",
    "for j in range(i+1, len(axes)):\n",
    "    fig.delaxes(axes[j])\n",
    "\n",
    "plt.show()"
   ]
  },
  {
   "cell_type": "code",
   "execution_count": null,
   "id": "8498d4d1",
   "metadata": {
    "tags": []
   },
   "outputs": [],
   "source": [
    "os_kruskal_results_df = pd.DataFrame(os_kruskal_results, columns=['Treatment', 'Kruskal-Wallis Statistic', 'p-value'])\n",
    "\n",
    "os_kruskal_results_df"
   ]
  },
  {
   "cell_type": "markdown",
   "id": "1d6d4282-d031-4b4c-b05f-934015cce606",
   "metadata": {},
   "source": [
    "# Assumption 6"
   ]
  },
  {
   "cell_type": "code",
   "execution_count": null,
   "id": "dd749d32-90de-49d3-a5a1-c7a4f23e7f6b",
   "metadata": {
    "tags": []
   },
   "outputs": [],
   "source": [
    "event_counts = df.pivot_table(index='systemicTreatmentPlan', \n",
    "                              columns='hadProgressionEvent',\n",
    "                              values='episodeId', \n",
    "                              aggfunc='count', \n",
    "                              fill_value=0)\n",
    "\n",
    "event_counts['censored_percentage'] = event_counts[0] / (event_counts[1] + event_counts[0]) * 100\n",
    "\n",
    "event_counts['total_events'] = event_counts[1] + event_counts[0]\n",
    "event_counts['censor_events'] = event_counts[0]\n",
    "event_counts['progression_events'] = event_counts[1]\n",
    "\n",
    "plt.figure(figsize=(10, 6))\n",
    "bars = event_counts['censored_percentage'].plot(kind='bar')\n",
    "plt.title(\"Censoring Percentage by Treatment Group (Using hadProgressionEvent)\")\n",
    "plt.ylabel(\"Censored Percentage\")\n",
    "plt.xticks(rotation=45, ha=\"right\") \n",
    "plt.tight_layout()\n",
    "\n",
    "plt.show()"
   ]
  },
  {
   "cell_type": "code",
   "execution_count": null,
   "id": "5d8cdfb2",
   "metadata": {
    "tags": []
   },
   "outputs": [],
   "source": [
    "event_counts = df.pivot_table(index='systemicTreatmentPlan', \n",
    "                              columns='hadSurvivalEvent',\n",
    "                              values='episodeId', \n",
    "                              aggfunc='count', \n",
    "                              fill_value=0)\n",
    "\n",
    "event_counts.head()\n",
    "\n",
    "event_counts['censored_percentage'] = event_counts[0] / (event_counts[1] + event_counts[0]) * 100\n",
    "\n",
    "event_counts['total_events'] = event_counts[1] + event_counts[0]\n",
    "event_counts['censor_events'] = event_counts[0]\n",
    "event_counts['progression_events'] = event_counts[1]\n",
    "\n",
    "plt.figure(figsize=(10, 6))\n",
    "bars = event_counts['censored_percentage'].plot(kind='bar')\n",
    "plt.title(\"Censoring Percentage by Treatment Group (Using hadSurvivalEvent)\")\n",
    "plt.ylabel(\"Censored Percentage\")\n",
    "plt.xticks(rotation=45, ha=\"right\") \n",
    "plt.tight_layout()\n",
    "\n",
    "plt.show()"
   ]
  }
 ],
 "metadata": {
  "kernelspec": {
   "display_name": "Python 3 (ipykernel)",
   "language": "python",
   "name": "python3"
  },
  "language_info": {
   "codemirror_mode": {
    "name": "ipython",
    "version": 3
   },
   "file_extension": ".py",
   "mimetype": "text/x-python",
   "name": "python",
   "nbconvert_exporter": "python",
   "pygments_lexer": "ipython3",
   "version": "3.7.3"
  }
 },
 "nbformat": 4,
 "nbformat_minor": 5
}
