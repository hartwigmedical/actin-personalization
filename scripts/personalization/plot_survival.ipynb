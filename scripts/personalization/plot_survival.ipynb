{
 "cells": [
  {
   "cell_type": "code",
   "execution_count": null,
   "id": "0eedba61-fd68-42a8-8971-f9a636c70a0a",
   "metadata": {
    "tags": []
   },
   "outputs": [],
   "source": [
    "@file:DependsOn(\"/data/tools/actin-personalization/actin-personalization.jar\")\n",
    "\n",
    "import com.hartwig.actin.personalization.ncr.serialization.NcrDataReader\n",
    "\n",
    "val records = NcrDataReader.read(\"/data/patient_like_me/ncr/K2400223.csv\")"
   ]
  },
  {
   "cell_type": "code",
   "execution_count": null,
   "id": "136e771c-be74-4d35-ab6e-566a0f1ec2f9",
   "metadata": {
    "tags": []
   },
   "outputs": [],
   "source": [
    "import com.hartwig.actin.personalization.datamodel.DistantMetastasesStatus\n",
    "import com.hartwig.actin.personalization.datamodel.Episode\n",
    "// import com.hartwig.actin.personalization.datamodel.LocationGroup\n",
    "import com.hartwig.actin.personalization.datamodel.ReferencePatient\n",
    "import com.hartwig.actin.personalization.datamodel.Treatment\n",
    "import com.hartwig.actin.personalization.ncr.interpretation.ReferencePatientFactory\n",
    "// import com.hartwig.actin.personalization.datamodel.TreatmentGroup\n",
    "// import com.hartwig.actin.personalization.datamodel.serialization.ReferencePatientJson\n",
    "// import com.hartwig.actin.personalization.similarity.population.DiagnosisAndEpisode\n",
    "// import com.hartwig.actin.personalization.similarity.population.PatientPopulationBreakdown\n",
    "// import com.hartwig.actin.personalization.similarity.population.PersonalizedDataAnalysis\n",
    "// import io.github.oshai.kotlinlogging.KotlinLogging\n",
    "// import com.hartwig.actin.personalization.similarity.population.PopulationDefinition\n",
    "\n",
    "fun Episode.doesNotIncludeAdjuvantOrNeoadjuvantTreatment(): Boolean {\n",
    "    return !hasHadPreSurgerySystemicChemotherapy &&\n",
    "            !hasHadPostSurgerySystemicChemotherapy &&\n",
    "            !hasHadPreSurgerySystemicTargetedTherapy &&\n",
    "            !hasHadPostSurgerySystemicTargetedTherapy\n",
    "}\n",
    "\n",
    "val patients = ReferencePatientFactory.default().create(records)\n",
    "\n",
    "val referencePop = patients.flatMap(ReferencePatient::tumorEntries).map { (diagnosis, episodes) ->\n",
    "    diagnosis to episodes.single { it.order == 1 }\n",
    "}\n",
    "    .filter { (_, episode) ->\n",
    "        episode.distantMetastasesStatus == DistantMetastasesStatus.AT_START &&\n",
    "        // episode.systemicTreatmentPlan?.treatment?.let { it != Treatment.OTHER } == true &&\n",
    "        episode.surgeries.isEmpty() &&\n",
    "        episode.doesNotIncludeAdjuvantOrNeoadjuvantTreatment() &&\n",
    "        episode.systemicTreatmentPlan?.observedPfsDays != null\n",
    "    }\n",
    "    .sortedBy { it.second.systemicTreatmentPlan!!.observedPfsDays!! }\n",
    "\n",
    "val patientsByTreatment = referencePop.groupBy { (_, episode) ->\n",
    "    episode.systemicTreatmentPlan!!.treatment.treatmentGroup\n",
    "}\n",
    "    .toList()\n",
    "    .sortedByDescending { it.second.size }"
   ]
  },
  {
   "cell_type": "code",
   "execution_count": null,
   "id": "35f0ba49-a35f-4529-806e-5c8442278567",
   "metadata": {
    "tags": []
   },
   "outputs": [],
   "source": [
    "import com.hartwig.actin.personalization.similarity.population.DiagnosisAndEpisode\n",
    "\n",
    "data class EventCountAndSurvivalAtTime(val daysSincePlanStart: Int, val numEvents: Int, val survival: Double)\n",
    "    \n",
    "tailrec fun eventAndCensorshipHistories(\n",
    "    populationToProcess: List<DiagnosisAndEpisode>,\n",
    "    eventHistory: List<EventCountAndSurvivalAtTime> = emptyList(),\n",
    "    censorshipHistory: List<EventCountAndSurvivalAtTime> = emptyList()\n",
    "): Pair<List<EventCountAndSurvivalAtTime>, List<EventCountAndSurvivalAtTime>> {\n",
    "    return if (populationToProcess.isEmpty()) {\n",
    "        eventHistory to censorshipHistory\n",
    "    } else {\n",
    "        val treatmentDetails = populationToProcess.first().second.systemicTreatmentPlan!!\n",
    "        val previousEvent = eventHistory.lastOrNull() ?: EventCountAndSurvivalAtTime(0, 0, 1.0)\n",
    "        val (newEventHistory, newCensorshipHistory) = if (treatmentDetails.hadProgressionEvent!!) {\n",
    "            val newEvent = EventCountAndSurvivalAtTime(\n",
    "                treatmentDetails.observedPfsDays!!, previousEvent.numEvents + 1, previousEvent.survival * (1 - (1.0 / populationToProcess.size))\n",
    "            )\n",
    "            Pair(eventHistory + newEvent, censorshipHistory)\n",
    "        } else {\n",
    "            val newCensorship = EventCountAndSurvivalAtTime(treatmentDetails.observedPfsDays!!, previousEvent.numEvents, previousEvent.survival)\n",
    "            Pair(eventHistory, censorshipHistory + newCensorship)\n",
    "        }\n",
    "        eventAndCensorshipHistories(populationToProcess.drop(1), newEventHistory, newCensorshipHistory)\n",
    "    }\n",
    "}\n",
    "\n",
    "data class EventCountAndPopulationAtTime(val daysSincePlanStart: Int, val numEvents: Int, val uncensoredSize: Int)\n",
    "\n",
    "tailrec fun incorrectEventAndCensorshipHistories(\n",
    "    populationToProcess: List<DiagnosisAndEpisode>,\n",
    "    eventHistory: List<EventCountAndPopulationAtTime> = emptyList(),\n",
    "    censorshipHistory: List<EventCountAndPopulationAtTime> = emptyList(),\n",
    "    uncensoredSize: Int = populationToProcess.size\n",
    "): Pair<List<EventCountAndPopulationAtTime>, List<EventCountAndPopulationAtTime>> {\n",
    "    return if (populationToProcess.isEmpty()) {\n",
    "        eventHistory to censorshipHistory\n",
    "    } else {\n",
    "        val treatmentDetails = populationToProcess.first().second.systemicTreatmentPlan!!\n",
    "        val previousEvent = eventHistory.lastOrNull() ?: EventCountAndPopulationAtTime(0, 0, uncensoredSize)\n",
    "        val (newEventHistory, newCensorshipHistory, newUncensoredSize) = if (treatmentDetails.hadProgressionEvent!!) {\n",
    "            Triple(\n",
    "                eventHistory + EventCountAndPopulationAtTime(treatmentDetails.observedPfsDays!!, previousEvent.numEvents + 1, uncensoredSize),\n",
    "                censorshipHistory,\n",
    "                uncensoredSize\n",
    "            )\n",
    "        } else {\n",
    "            Triple(\n",
    "                eventHistory,\n",
    "                censorshipHistory + EventCountAndPopulationAtTime(treatmentDetails.observedPfsDays!!, previousEvent.numEvents, previousEvent.uncensoredSize),\n",
    "                uncensoredSize - 1\n",
    "            )\n",
    "        }\n",
    "        incorrectEventAndCensorshipHistories(populationToProcess.drop(1), newEventHistory, newCensorshipHistory, newUncensoredSize)\n",
    "    }\n",
    "}\n",
    "\n",
    "val (eventHistory, censorshipHistory) = eventAndCensorshipHistories(referencePop)\n",
    "\n",
    "// val survivorAndPopulationVector = referencePop.runningFold(Triple(0, 0, referencePop.size)) { (_, prevEvents, prevPopulation), curr ->\n",
    "//     val treatmentDetails = curr.second.systemicTreatmentPlan!!\n",
    "//     val (newEvents, newPopulation) = if (treatmentDetails.hadProgressionEvent!!) {\n",
    "//         prevEvents + 1 to prevPopulation\n",
    "//     } else {\n",
    "//         prevSurvivors to prevPopulation - 1\n",
    "//     Triple(treatmentDetails.observedPfsDays!!, treatmentDetails.hadProgressionEvent!! "
   ]
  },
  {
   "cell_type": "code",
   "execution_count": null,
   "id": "7391cd82-8720-4995-9151-e4dc88824dce",
   "metadata": {
    "tags": []
   },
   "outputs": [],
   "source": [
    "%use kandy"
   ]
  },
  {
   "cell_type": "code",
   "execution_count": null,
   "id": "f339a365-febd-4dc5-acf1-7f863b62ea5e",
   "metadata": {
    "tags": []
   },
   "outputs": [],
   "source": [
    "eventHistory.take(10)"
   ]
  },
  {
   "cell_type": "code",
   "execution_count": null,
   "id": "1ef5141e-4cce-4b47-bb33-bec6327baa6b",
   "metadata": {
    "tags": []
   },
   "outputs": [],
   "source": [
    "censorshipHistory.take(10)"
   ]
  },
  {
   "cell_type": "code",
   "execution_count": null,
   "id": "dee247f2-54ae-4383-8446-0d7ad405bc0d",
   "metadata": {
    "tags": []
   },
   "outputs": [],
   "source": [
    "referencePop.size"
   ]
  },
  {
   "cell_type": "code",
   "execution_count": null,
   "id": "adf2dab4-224f-4af1-8da9-184189b22b61",
   "metadata": {
    "tags": []
   },
   "outputs": [],
   "source": [
    "plot {\n",
    "    step {\n",
    "        x(eventHistory.map(EventCountAndSurvivalAtTime::daysSincePlanStart), \"days\")\n",
    "        y(eventHistory.map(EventCountAndSurvivalAtTime::survival), \"survival\")\n",
    "        color(eventHistory.map { \"A\" })\n",
    "    }\n",
    "}"
   ]
  },
  {
   "cell_type": "code",
   "execution_count": null,
   "id": "5025728e-cbf2-4ad2-8fe3-09ddd5778e98",
   "metadata": {
    "tags": []
   },
   "outputs": [],
   "source": [
    "eventHistory.asSequence().filter { it.survival >= 0.499 && it.survival < 0.501 }.take(100).toList()"
   ]
  },
  {
   "cell_type": "code",
   "execution_count": null,
   "id": "ae88c786-3c8f-434c-98ed-42f797eb3f72",
   "metadata": {},
   "outputs": [],
   "source": []
  }
 ],
 "metadata": {
  "kernelspec": {
   "display_name": "Kotlin",
   "language": "kotlin",
   "name": "kotlin"
  },
  "language_info": {
   "codemirror_mode": "text/x-kotlin",
   "file_extension": ".kt",
   "mimetype": "text/x-kotlin",
   "name": "kotlin",
   "nbconvert_exporter": "",
   "pygments_lexer": "kotlin",
   "version": "1.8.20"
  }
 },
 "nbformat": 4,
 "nbformat_minor": 5
}
