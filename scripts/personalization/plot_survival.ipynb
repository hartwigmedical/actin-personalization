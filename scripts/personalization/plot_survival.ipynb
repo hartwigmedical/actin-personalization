{
 "cells": [
  {
   "cell_type": "code",
   "execution_count": null,
   "id": "0eedba61-fd68-42a8-8971-f9a636c70a0a",
   "metadata": {
    "tags": []
   },
   "outputs": [],
   "source": [
    "@file:DependsOn(\"/data/tools/actin-personalization/actin-personalization.jar\")\n",
    "\n",
    "import com.hartwig.actin.personalization.ncr.serialization.NcrDataReader\n",
    "\n",
    "val records = NcrDataReader.read(\"/data/patient_like_me/ncr/K2400223.csv\")"
   ]
  },
  {
   "cell_type": "code",
   "execution_count": null,
   "id": "136e771c-be74-4d35-ab6e-566a0f1ec2f9",
   "metadata": {
    "tags": []
   },
   "outputs": [],
   "source": [
    "import com.hartwig.actin.personalization.datamodel.DistantMetastasesStatus\n",
    "import com.hartwig.actin.personalization.datamodel.Episode\n",
    "import com.hartwig.actin.personalization.datamodel.ReferencePatient\n",
    "import com.hartwig.actin.personalization.datamodel.Treatment\n",
    "import com.hartwig.actin.personalization.ncr.interpretation.ReferencePatientFactory\n",
    "\n",
    "fun Episode.doesNotIncludeAdjuvantOrNeoadjuvantTreatment(): Boolean {\n",
    "    return !hasHadPreSurgerySystemicChemotherapy &&\n",
    "            !hasHadPostSurgerySystemicChemotherapy &&\n",
    "            !hasHadPreSurgerySystemicTargetedTherapy &&\n",
    "            !hasHadPostSurgerySystemicTargetedTherapy\n",
    "}\n",
    "\n",
    "val patients = ReferencePatientFactory.default().create(records)\n",
    "\n",
    "val referencePop = patients.flatMap(ReferencePatient::tumorEntries).map { (diagnosis, episodes) ->\n",
    "    diagnosis to episodes.single { it.order == 1 }\n",
    "}\n",
    "    .filter { (_, episode) ->\n",
    "        episode.distantMetastasesStatus == DistantMetastasesStatus.AT_START &&\n",
    "        // Comment out the next line (treatment filtering) to match R results:\n",
    "        episode.systemicTreatmentPlan?.treatment?.let { it != Treatment.OTHER } == true &&\n",
    "        episode.surgeries.isEmpty() &&\n",
    "        episode.doesNotIncludeAdjuvantOrNeoadjuvantTreatment() &&\n",
    "        episode.systemicTreatmentPlan?.observedPfsDays != null\n",
    "    }\n",
    "    .sortedBy { it.second.systemicTreatmentPlan!!.observedPfsDays!! }\n",
    "\n",
    "val patientsByTreatment = referencePop.groupBy { (_, episode) ->\n",
    "    episode.systemicTreatmentPlan!!.treatment.treatmentGroup\n",
    "}\n",
    "    .toList()\n",
    "    .sortedByDescending { it.second.size }"
   ]
  },
  {
   "cell_type": "code",
   "execution_count": null,
   "id": "35f0ba49-a35f-4529-806e-5c8442278567",
   "metadata": {
    "tags": []
   },
   "outputs": [],
   "source": [
    "import com.hartwig.actin.personalization.similarity.population.DiagnosisAndEpisode\n",
    "\n",
    "data class EventCountAndSurvivalAtTime(val daysSincePlanStart: Int, val numEvents: Int, val survival: Double)\n",
    "    \n",
    "tailrec fun eventAndCensorshipHistories(\n",
    "    populationToProcess: List<DiagnosisAndEpisode>,\n",
    "    eventHistory: List<EventCountAndSurvivalAtTime> = emptyList(),\n",
    "    censorshipHistory: List<EventCountAndSurvivalAtTime> = emptyList()\n",
    "): Pair<List<EventCountAndSurvivalAtTime>, List<EventCountAndSurvivalAtTime>> {\n",
    "    return if (populationToProcess.isEmpty()) {\n",
    "        eventHistory to censorshipHistory\n",
    "    } else {\n",
    "        val treatmentDetails = populationToProcess.first().second.systemicTreatmentPlan!!\n",
    "        val previousEvent = eventHistory.lastOrNull() ?: EventCountAndSurvivalAtTime(0, 0, 1.0)\n",
    "        val (newEventHistory, newCensorshipHistory) = if (treatmentDetails.hadProgressionEvent!!) {\n",
    "            val newEvent = EventCountAndSurvivalAtTime(\n",
    "                treatmentDetails.observedPfsDays!!, previousEvent.numEvents + 1, previousEvent.survival * (1 - (1.0 / populationToProcess.size))\n",
    "            )\n",
    "            Pair(eventHistory + newEvent, censorshipHistory)\n",
    "        } else {\n",
    "            val newCensorship = EventCountAndSurvivalAtTime(treatmentDetails.observedPfsDays!!, previousEvent.numEvents, previousEvent.survival)\n",
    "            Pair(eventHistory, censorshipHistory + newCensorship)\n",
    "        }\n",
    "        eventAndCensorshipHistories(populationToProcess.drop(1), newEventHistory, newCensorshipHistory)\n",
    "    }\n",
    "}\n",
    "\n",
    "val (eventHistory, censorshipHistory) = eventAndCensorshipHistories(referencePop)"
   ]
  },
  {
   "cell_type": "code",
   "execution_count": null,
   "id": "7391cd82-8720-4995-9151-e4dc88824dce",
   "metadata": {
    "tags": []
   },
   "outputs": [],
   "source": [
    "%use kandy"
   ]
  },
  {
   "cell_type": "code",
   "execution_count": null,
   "id": "adf2dab4-224f-4af1-8da9-184189b22b61",
   "metadata": {
    "tags": []
   },
   "outputs": [],
   "source": [
    "\n",
    "plot {\n",
    "    step {\n",
    "        x(eventHistory.map(EventCountAndSurvivalAtTime::daysSincePlanStart), \"days\")\n",
    "        y(eventHistory.map(EventCountAndSurvivalAtTime::survival), \"survival\")\n",
    "    }\n",
    "}"
   ]
  },
  {
   "cell_type": "code",
   "execution_count": null,
   "id": "8c82ffcd-cd21-45fa-80fb-f2653bf1631b",
   "metadata": {
    "tags": []
   },
   "outputs": [],
   "source": [
    "import com.hartwig.actin.personalization.datamodel.LocationGroup\n",
    "import com.hartwig.actin.personalization.similarity.population.PopulationDefinition\n",
    "\n",
    "val popDefinitions = PopulationDefinition.createAllForPatientProfile(50, 1, true, setOf(LocationGroup.PERITONEUM))\n",
    "val popHistories = popDefinitions.map { (name, criteria) ->\n",
    "    val (eventHistory, censorshipHistory) = eventAndCensorshipHistories(referencePop.filter(criteria))\n",
    "    Triple(name, eventHistory, censorshipHistory)\n",
    "}\n",
    "plot {\n",
    "    step {\n",
    "        x(popHistories.flatMap { (_, eventHistory, _) -> eventHistory.map(EventCountAndSurvivalAtTime::daysSincePlanStart) }, \"days\")\n",
    "        y(popHistories.flatMap { (_, eventHistory, _) -> eventHistory.map(EventCountAndSurvivalAtTime::survival) }, \"survival\")\n",
    "        color(popHistories.flatMap { (name, eventHistory, _) -> eventHistory.map { name } }, \"population\")\n",
    "    }\n",
    "}"
   ]
  },
  {
   "cell_type": "code",
   "execution_count": null,
   "id": "dee7cf7f-7813-4742-b9c1-13b2fb2d5440",
   "metadata": {
    "tags": []
   },
   "outputs": [],
   "source": [
    "popHistories.map { (name, eventHistory, _) -> name to eventHistory.firstOrNull { it.survival <= 0.5 } }\n",
    "    .forEach { (name, eventCountAndSurvivalAtTime) -> println(\"$name: ${eventCountAndSurvivalAtTime?.daysSincePlanStart} days\") }"
   ]
  },
  {
   "cell_type": "code",
   "execution_count": null,
   "id": "7d5689b4-ab4a-4942-9782-61282ec9ada4",
   "metadata": {
    "tags": []
   },
   "outputs": [],
   "source": [
    "val historiesByTreatment = referencePop.groupBy { (_, episode) -> episode.systemicTreatmentPlan!!.treatment.treatmentGroup.display }\n",
    "    .mapValues { (_, tumors) -> eventAndCensorshipHistories(tumors) }\n",
    "    .filter { (_, histories) -> histories.first.size >= 20 }\n",
    "plot {\n",
    "    step {\n",
    "        x(historiesByTreatment.flatMap { (_, histories) -> histories.first.map(EventCountAndSurvivalAtTime::daysSincePlanStart) }, \"days\")\n",
    "        y(historiesByTreatment.flatMap { (_, histories) -> histories.first.map(EventCountAndSurvivalAtTime::survival) }, \"survival\")\n",
    "        color(historiesByTreatment.flatMap { (name, histories) -> histories.first.map { name } }, \"treatment\")\n",
    "    }\n",
    "}"
   ]
  },
  {
   "cell_type": "code",
   "execution_count": null,
   "id": "6562d614-5e59-4c22-9e01-dfc8181bbfda",
   "metadata": {
    "tags": []
   },
   "outputs": [],
   "source": [
    "historiesByTreatment.mapValues { (_, histories) -> histories.first.first { it.survival <= 0.5 } }.entries\n",
    "    .sortedByDescending { (_, medianEvent) -> medianEvent.daysSincePlanStart!! }\n",
    "    .forEach { (name, eventCountAndSurvivalAtTime) -> println(\"$name: ${eventCountAndSurvivalAtTime?.daysSincePlanStart} days\") }"
   ]
  },
  {
   "cell_type": "code",
   "execution_count": null,
   "id": "a208709e-c612-43d2-ada7-31e5a72b15e5",
   "metadata": {
    "tags": []
   },
   "outputs": [],
   "source": [
    "%use dataframe\n",
    "\n",
    "fun pfsForPopulation(population: List<DiagnosisAndEpisode>): String {\n",
    "    val medianPfs = eventAndCensorshipHistories(population).first.firstOrNull { it.survival <= 0.5 }?.daysSincePlanStart\n",
    "    return \"$medianPfs (n=${population.size})\"\n",
    "}\n",
    "\n",
    "fun dataFrame(rowLabels: List<Any?>, firstColumnName: String, namedColumns: List<Pair<String, List<String>>>): DataFrame<*> {\n",
    "    val labelStrings = rowLabels.map { it?.let { it.toString() } ?: \"None\" }\n",
    "    return (listOf(firstColumnName to labelStrings) + namedColumns).toMap().toDataFrame()\n",
    "}\n",
    "\n",
    "fun pfsTable(patientsByTreatment: Map<String, List<DiagnosisAndEpisode>>, columnDefinitions: List<PopulationDefinition>): DataFrame<*> {\n",
    "    val allPatients = patientsByTreatment.flatMap { it.value }\n",
    "    val sortedPatients = patientsByTreatment.entries.sortedByDescending { it.value.size }\n",
    "                             \n",
    "    val entries = columnDefinitions.map { (title, criteria) ->\n",
    "        val populationSize: Int = allPatients.count(criteria)\n",
    "        val annotatedTitle = \"$title (n=$populationSize)\"\n",
    "        annotatedTitle to sortedPatients.map { pfsForPopulation(it.value.filter(criteria)) }\n",
    "    }\n",
    "    \n",
    "    return dataFrame(sortedPatients.map { it.key }, \"Treatment\", entries)\n",
    "}\n",
    "\n",
    "val patientsByTreatment = referencePop.groupBy { (_, episode) -> episode.systemicTreatmentPlan!!.treatment.treatmentGroup.display }\n",
    "pfsTable(patientsByTreatment, popDefinitions)"
   ]
  },
  {
   "cell_type": "code",
   "execution_count": null,
   "id": "568653e2-ab56-4124-a7c9-62d48bd81f7a",
   "metadata": {},
   "outputs": [],
   "source": []
  }
 ],
 "metadata": {
  "kernelspec": {
   "display_name": "Kotlin",
   "language": "kotlin",
   "name": "kotlin"
  },
  "language_info": {
   "codemirror_mode": "text/x-kotlin",
   "file_extension": ".kt",
   "mimetype": "text/x-kotlin",
   "name": "kotlin",
   "nbconvert_exporter": "",
   "pygments_lexer": "kotlin",
   "version": "1.8.20"
  }
 },
 "nbformat": 4,
 "nbformat_minor": 5
}
