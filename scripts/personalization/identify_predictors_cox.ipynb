{
 "cells": [
  {
   "cell_type": "code",
   "execution_count": null,
   "id": "8df54e4b-b827-49db-af01-221f0e3e5289",
   "metadata": {
    "tags": []
   },
   "outputs": [],
   "source": [
    "import pandas as pd \n",
    "import pymysql"
   ]
  },
  {
   "cell_type": "code",
   "execution_count": null,
   "id": "0e698f0b-cdc9-426c-a559-d819b518eeec",
   "metadata": {
    "tags": []
   },
   "outputs": [],
   "source": [
    "db_connection = pymysql.connect(\n",
    "    read_default_file='/home/jupyter/.my.cnf',\n",
    "    read_default_group='RAnalysis', \n",
    "    db = 'actin_personalization'\n",
    ")\n",
    "\n",
    "query = \"SELECT * FROM knownPalliativeTreatments\"\n",
    "\n",
    "df = pd.read_sql(query, db_connection)\n",
    "\n",
    "db_connection.close()\n",
    "\n",
    "# list(df.columns)"
   ]
  },
  {
   "cell_type": "code",
   "execution_count": null,
   "id": "5911bb4c-ea0c-4ac1-b1df-161f6f8087a7",
   "metadata": {
    "tags": []
   },
   "outputs": [],
   "source": [
    "from lifelines import CoxPHFitter\n",
    "\n",
    "def cox_model(df, formula):\n",
    "    return CoxPHFitter().fit(\n",
    "        df,\n",
    "        duration_col=\"observedPfsDays\",\n",
    "        event_col=\"hadProgressionEvent\",\n",
    "        formula=formula,\n",
    "        strata=[\"systemicTreatmentPlan\"]\n",
    "    )"
   ]
  },
  {
   "cell_type": "code",
   "execution_count": null,
   "id": "d503f4cf-8e53-4fc9-9b64-b9725e5c7803",
   "metadata": {
    "tags": []
   },
   "outputs": [],
   "source": [
    "from numpy import nan\n",
    "\n",
    "base_df = df.dropna(subset = [\n",
    "    'observedPfsDays',\n",
    "    'hadProgressionEvent',\n",
    "    'ageAtDiagnosis',\n",
    "    'whoStatusPreTreatmentStart',\n",
    "    'tumorIncidenceYear'\n",
    "]).copy()\n",
    "\n",
    "stageTnm_lookup = {\n",
    "    \"ZERO\": 0.0,\n",
    "    \"I\": 1.0,\n",
    "    \"IA1\": 1.1,\n",
    "    \"IA\": 1.15,\n",
    "    \"IA2\": 1.2,\n",
    "    \"IA3\": 1.25,\n",
    "    \"IB\": 1.4,\n",
    "    \"II\": 2.0,\n",
    "    \"IIA\": 2.1,\n",
    "    \"IIB\": 2.2,\n",
    "    \"IIC\": 2.3,\n",
    "    \"III\": 3.0,\n",
    "    \"IIIA\": 3.1,\n",
    "    \"IIIB\": 3.2,\n",
    "    \"IIIC\": 3.3,\n",
    "    \"IV\": 4.0,\n",
    "    \"IVA\": 4.1,\n",
    "    \"IVB\": 4.2,\n",
    "    \"IVC\": 4.3,\n",
    "    \"M\": 4.0,\n",
    "    \"NA\": nan,\n",
    "    \"X\": nan,\n",
    "}\n",
    "\n",
    "tnmM_lookup = {\n",
    "    \"M0\": 0,\n",
    "    \"M1\": 1,\n",
    "    \"M1A\": 1.1,\n",
    "    \"M1B\": 1.2,\n",
    "    \"M1C\": 1.3,\n",
    "    \"M_MINUS\": 0,\n",
    "    \"X\": nan,\n",
    "}\n",
    "\n",
    "tnmN_lookup = {\n",
    "    \"N0\": 0,\n",
    "    \"N1\": 1,\n",
    "    \"N1A\": 1.1,\n",
    "    \"N1B\": 1.2,\n",
    "    \"N1C\": 1.3,\n",
    "    \"N1M\": 1,\n",
    "    \"N2\": 2,\n",
    "    \"N2A\": 2.1,\n",
    "    \"N2B\": 2.2,\n",
    "    \"X\": nan\n",
    "}\n",
    "\n",
    "tnmT_lookup = {\n",
    "    \"T0\": 0,\n",
    "    \"T_IS\": 0.5,\n",
    "    \"T1\": 1,\n",
    "    \"T2\": 2,\n",
    "    \"T3\": 3,\n",
    "    \"T4A\": 4.1,\n",
    "    \"T4B\": 4.2,\n",
    "    \"X\": nan\n",
    "}\n",
    "\n",
    "lookup_dictionary = {\n",
    "    \"anorectalVergeDistanceCategory\": {\n",
    "        \"ZERO_TO_FIVE_CM\": 2.5,\n",
    "        \"FIVE_TO_TEN_CM\": 7.5,\n",
    "        \"TEN_TO_FIFTEEN_CM\": 12.5,\n",
    "        \"OVER_FIFTEEN_CM\": 17.5,\n",
    "    },\n",
    "    \"cciNumberOfCategories\": {\n",
    "        \"ZERO_CATEGORIES\": 0,\n",
    "        \"ONE_CATEGORY\": 1,\n",
    "        \"TWO_OR_MORE_CATEGORIES\": 2,\n",
    "    },\n",
    "    \"numberOfLiverMetastases\": {\n",
    "        \"ONE\": 1,\n",
    "        \"TWO\": 2,\n",
    "        \"THREE\": 3,\n",
    "        \"FOUR\": 4,\n",
    "        \"FIVE_OR_MORE\": 5,\n",
    "        \"MULTIPLE_BUT_EXACT_NUMBER_UNKNOWN\": 3\n",
    "    },\n",
    "    \"asaClassificationPreSurgeryOrEndoscopy\": {\n",
    "        \"I\": 1,\n",
    "        \"II\": 2,\n",
    "        \"III\": 3,\n",
    "        \"IV\": 4,\n",
    "        \"V\": 5,\n",
    "        \"VI\": 6,\n",
    "    },\n",
    "    \"venousInvasionDescription\": {  # https://www.ncbi.nlm.nih.gov/pmc/articles/PMC1769571/\n",
    "        \"EXTRAMURAL\": 1,\n",
    "        \"INTRAMURAL\": 1,\n",
    "        \"NA\": nan,\n",
    "        \"NONE\": 0,\n",
    "        \"SUSPECT\": 0.7,\n",
    "    },\n",
    "    \"lymphaticInvasionCategory\": {\n",
    "        \"NONE\": 0,\n",
    "        \"PRESENT\": 1,\n",
    "        \"SUSPECT\": 0.7,\n",
    "        \"NA\": nan\n",
    "    },\n",
    "    \"extraMuralInvasionCategory\": {\n",
    "        \"NA\": 0,\n",
    "        \"LESS_THAN_FIVE_MM\": 3,\n",
    "        \"ABOVE_FIVE_MM\": 7,\n",
    "    },\n",
    "    \"tumorRegression\": {\n",
    "        \"CANNOT_BE_DETERMINED\": nan,\n",
    "        \"FULL_REGRESSION\": 1,\n",
    "        \"MINIMAL_FOCI\": 0.8,  # https://www.ncbi.nlm.nih.gov/pmc/articles/PMC4946373/\n",
    "        \"MINIMAL_REGRESSION\": 0.2,\n",
    "        \"MODERATE_REGRESSION\": 0.5,\n",
    "        \"NO_SIGNS_OF_REGRESSION\": 0,\n",
    "        \"NA\": nan,\n",
    "    },\n",
    "    \"tumorDifferentiationGrade\": {\n",
    "        \"GRADE_1_OR_WELL_DIFFERENTIATED\": 1,\n",
    "        \"GRADE_2_OR_MODERATELY_DIFFERENTIATED\": 2,\n",
    "        \"GRADE_3_OR_POORLY_DIFFERENTIATED\": 3,\n",
    "        \"GRADE_4_OR_UNDIFFERENTIATED_OR_ANAPLASTIC_OR_GGG4\": 4\n",
    "    },\n",
    "    \"tnmCT\": tnmT_lookup,\n",
    "    \"tnmPT\": tnmT_lookup,\n",
    "    \"tnmCN\": tnmN_lookup,\n",
    "    \"tnmPN\": tnmN_lookup,\n",
    "    \"tnmCM\": tnmM_lookup,\n",
    "    \"tnmPM\": tnmM_lookup,\n",
    "    \"stageCTNM\": stageTnm_lookup,\n",
    "    \"stagePTNM\": stageTnm_lookup,\n",
    "    \"stageTNM\": stageTnm_lookup,\n",
    "}\n",
    "\n",
    "for column, lookup in lookup_dictionary.items():\n",
    "    base_df[column] = base_df[column].apply(lookup.get)"
   ]
  },
  {
   "cell_type": "code",
   "execution_count": null,
   "id": "754af969-4d69-469a-b4a2-eb1b276bbc04",
   "metadata": {
    "tags": []
   },
   "outputs": [],
   "source": [
    "def likelihood_ratio(llmin, llmax):\n",
    "    return 2 * (llmax - llmin)"
   ]
  },
  {
   "cell_type": "code",
   "execution_count": null,
   "id": "fac3935e-b03c-4ca2-98f3-df8eb037778a",
   "metadata": {
    "tags": []
   },
   "outputs": [],
   "source": [
    "from dataclasses import dataclass\n",
    "from math import log10\n",
    "\n",
    "@dataclass\n",
    "class TestResult:\n",
    "    feature: str\n",
    "    survival_impact: float\n",
    "    p_val: float\n",
    "    dof_delta: int\n",
    "    log_likelihood_ratio: float\n"
   ]
  },
  {
   "cell_type": "code",
   "execution_count": null,
   "id": "d3398e16-3b55-473e-a82d-dd542e772220",
   "metadata": {
    "tags": []
   },
   "outputs": [],
   "source": [
    "features = [\n",
    "     'sex',\n",
    "     'consolidatedTumorType',\n",
    "     'hasHadPriorTumor',\n",
    "     'cci',\n",
    "     'cciNumberOfCategories',\n",
    "     'cciHasAids',\n",
    "     'cciHasCongestiveHeartFailure',\n",
    "     'cciHasCollagenosis',\n",
    "     'cciHasCopd',\n",
    "     'cciHasCerebrovascularDisease',\n",
    "     'cciHasDementia',\n",
    "     'cciHasDiabetesMellitus',\n",
    "     'cciHasDiabetesMellitusWithEndOrganDamage',\n",
    "     'cciHasOtherMalignancy',\n",
    "     'cciHasOtherMetastaticSolidTumor',\n",
    "     'cciHasMyocardialInfarct',\n",
    "     'cciHasMildLiverDisease',\n",
    "     #'cciHasHemiplegiaOrParaplegia',\n",
    "     'cciHasPeripheralVascularDisease',\n",
    "     'cciHasRenalDisease',\n",
    "     'cciHasLiverDisease',\n",
    "     'cciHasUlcerDisease',\n",
    "     'presentedWithIleus',\n",
    "     'presentedWithPerforation',\n",
    "     'anorectalVergeDistanceCategory',\n",
    "     'hasMsi',\n",
    "     'hasBrafMutation',\n",
    "     'hasBrafV600EMutation',\n",
    "     'hasRasMutation',\n",
    "     'hasKrasG12CMutation',\n",
    "     'asaClassificationPreSurgeryOrEndoscopy',\n",
    "     'tumorBasisOfDiagnosis',\n",
    "     'tumorLocation',\n",
    "     'tumorDifferentiationGrade',\n",
    "     'tnmCT',\n",
    "     'tnmCN',\n",
    "     'tnmCM',\n",
    "     #'tnmPT',\n",
    "     'tnmPN',\n",
    "     'tnmPM',\n",
    "     'stageCTNM',\n",
    "     'stagePTNM',\n",
    "     'stageTNM',\n",
    "     'investigatedLymphNodesNumber',\n",
    "     'positiveLymphNodesNumber',\n",
    "     'distantMetastasesDetectionStatus',\n",
    "     'numberOfLiverMetastases',\n",
    "     'maximumSizeOfLiverMetastasisMm',\n",
    "     'hasDoublePrimaryTumor',\n",
    "     'mesorectalFasciaIsClear',\n",
    "     'distanceToMesorectalFasciaMm',\n",
    "     'venousInvasionDescription',\n",
    "     'lymphaticInvasionCategory',\n",
    "     'extraMuralInvasionCategory',\n",
    "     'tumorRegression',\n",
    "     'hasParticipatedInTrial',\n",
    "     'metastasesSurgeries',\n",
    "     'radiotherapies',\n",
    "     #'metastasesRadiotherapies',\n",
    "     #'response',\n",
    "     'metastasisLocationGroupsPriorToSystemicTreatment'\n",
    "]"
   ]
  },
  {
   "cell_type": "code",
   "execution_count": null,
   "id": "cea7d256-3fee-4359-b545-fae7f7daa3ad",
   "metadata": {
    "tags": []
   },
   "outputs": [],
   "source": [
    "from scipy.stats.distributions import chi2\n",
    "from sklearn.preprocessing import StandardScaler\n",
    "\n",
    "\n",
    "scaler = StandardScaler()\n",
    "cols_to_standardize = [f for f in (['ageAtDiagnosis', 'whoStatusPreTreatmentStart', 'tumorIncidenceYear'] + features) if pd.api.types.is_numeric_dtype(base_df[f])]\n",
    "\n",
    "base_df.loc[:, cols_to_standardize] = scaler.fit_transform(base_df.loc[:, cols_to_standardize])\n",
    "\n",
    "def test_feature(df, simple_formula, feature):\n",
    "    try:\n",
    "        df_clean = df.dropna(subset = [feature])\n",
    "        reduced_model = cox_model(df_clean, simple_formula)\n",
    "        full_model = cox_model(df_clean, \" + \".join([feature, simple_formula]))\n",
    "        dof = 1 if pd.api.types.is_numeric_dtype(df[feature]) else df[feature].nunique() - 1\n",
    "        log_likelihood_ratio = likelihood_ratio(reduced_model.log_likelihood_, full_model.log_likelihood_)\n",
    "        p = chi2.sf(log_likelihood_ratio, dof)\n",
    "        print(f\"Testing feature {feature}: p-value {p}, exp(coeff) {full_model.hazard_ratios_[0]}\")\n",
    "        return TestResult(feature, full_model.hazard_ratios_[0], p, dof, log_likelihood_ratio)\n",
    "    except Exception as e:\n",
    "        print(f\"Failed to test {feature}: {str(e)}\")\n",
    "        return None\n",
    "\n",
    "# test_feature(base_df, \"ageAtDiagnosis + whoStatusPreTreatmentStart + tumorIncidenceYear\", \"consolidatedTumorType\")"
   ]
  },
  {
   "cell_type": "code",
   "execution_count": null,
   "id": "fde20151-ff61-4968-9d51-458a60b608d3",
   "metadata": {
    "tags": []
   },
   "outputs": [],
   "source": [
    "base_formula = \"ageAtDiagnosis + whoStatusPreTreatmentStart + tumorIncidenceYear\"\n",
    "result = [r for r in (test_feature(base_df, base_formula, f) for f in features) if r is not None]"
   ]
  },
  {
   "cell_type": "code",
   "execution_count": null,
   "id": "f9a02f23-0e7c-4251-b2af-e657f91582a3",
   "metadata": {
    "tags": []
   },
   "outputs": [],
   "source": [
    "from math import log10\n",
    "\n",
    "result_df = pd.DataFrame(result)\n",
    "result_df[\"log10_p\"] = result_df[\"p_val\"].apply(lambda p: -log10(p))\n",
    "result_df.tail()"
   ]
  },
  {
   "cell_type": "code",
   "execution_count": null,
   "id": "ae8a3096-0216-4089-bcbc-0221490e5680",
   "metadata": {
    "tags": []
   },
   "outputs": [],
   "source": [
    "result_df[result_df[\"p_val\"] < 0.05]"
   ]
  },
  {
   "cell_type": "code",
   "execution_count": null,
   "id": "b6161cf8-8ecd-4458-81bd-5fe9a59c41f0",
   "metadata": {
    "tags": []
   },
   "outputs": [],
   "source": [
    "import seaborn\n",
    "\n",
    "seaborn.scatterplot(result_df[result_df[\"p_val\"] < 0.05], x=\"survival_impact\", y=\"log10_p\")"
   ]
  },
  {
   "cell_type": "code",
   "execution_count": null,
   "id": "81bf6f01-f7f5-4db3-bc98-67ef64fd46c6",
   "metadata": {
    "tags": []
   },
   "outputs": [],
   "source": [
    "correlation = base_df[features].corr('pearson')"
   ]
  },
  {
   "cell_type": "code",
   "execution_count": null,
   "id": "9f352050-187e-47f7-b5c9-d89fb14fa63a",
   "metadata": {
    "tags": []
   },
   "outputs": [],
   "source": [
    "seaborn.heatmap(correlation)"
   ]
  },
  {
   "cell_type": "code",
   "execution_count": null,
   "id": "3cb740f9-d72c-472b-aff9-a256d947da4b",
   "metadata": {
    "tags": []
   },
   "outputs": [],
   "source": [
    "base_df['tumorDifferentiationGrade'].value_counts()"
   ]
  },
  {
   "cell_type": "code",
   "execution_count": null,
   "id": "681b096b-9c67-4551-97e8-e53f21dfb808",
   "metadata": {
    "tags": []
   },
   "outputs": [],
   "source": [
    "from numpy import argsort\n",
    "import scipy.cluster.hierarchy as sch\n",
    "\n",
    "def cluster_corr(corr_df):\n",
    "    pairwise_distances = sch.distance.pdist(corr_df)\n",
    "    linkage = sch.linkage(pairwise_distances, method='complete')\n",
    "    cluster_distance_threshold = pairwise_distances.max()/2\n",
    "    idx_to_cluster_array = sch.fcluster(linkage, cluster_distance_threshold, criterion='distance')\n",
    "    idx = argsort(idx_to_cluster_array)\n",
    "    \n",
    "    return corr_df.copy().iloc[idx, :].T.iloc[idx, :]"
   ]
  },
  {
   "cell_type": "code",
   "execution_count": null,
   "id": "82214aba-bc75-417b-b656-4494c00d4210",
   "metadata": {
    "tags": []
   },
   "outputs": [],
   "source": [
    "clustered_corr = cluster_corr(correlation.fillna(0))\n",
    "clustered_corr.head()"
   ]
  },
  {
   "cell_type": "code",
   "execution_count": null,
   "id": "ce554029-2016-4a00-99b4-552c5663bb7e",
   "metadata": {
    "tags": []
   },
   "outputs": [],
   "source": [
    "idx = list(range(0, 3)) + [25] + list(range(4, 24)) + list(range(26, len(clustered_corr)))\n",
    "corrected_corr = clustered_corr.copy().iloc[idx, :].T.iloc[idx, :]"
   ]
  },
  {
   "cell_type": "code",
   "execution_count": null,
   "id": "7d3fa946-a6fc-4df0-9826-3e3c1f86eb8c",
   "metadata": {
    "tags": []
   },
   "outputs": [],
   "source": [
    "heatmap = seaborn.heatmap(corrected_corr, xticklabels=True, yticklabels=True)\n",
    "heatmap.figure.set_figwidth(12)\n",
    "heatmap.figure.set_figheight(8.5)"
   ]
  },
  {
   "cell_type": "code",
   "execution_count": null,
   "id": "14d44b0e-28b4-47f9-b114-e234247d4c27",
   "metadata": {
    "tags": []
   },
   "outputs": [],
   "source": [
    "from scipy.cluster.hierarchy import linkage, dendrogram\n",
    "from scipy.spatial.distance import pdist\n",
    "\n",
    "Y = pdist(base_df[features].select_dtypes('number').fillna(0), 'correlation')\n",
    "Z = linkage(Y, 'single', 'correlation')\n",
    "dendrogram(Z, color_threshold=0)"
   ]
  },
  {
   "cell_type": "code",
   "execution_count": null,
   "id": "26cd1cdf-35d4-45f5-af25-fc9794f4a00d",
   "metadata": {},
   "outputs": [],
   "source": []
  }
 ],
 "metadata": {
  "kernelspec": {
   "display_name": "Python 3 (ipykernel)",
   "language": "python",
   "name": "python3"
  },
  "language_info": {
   "codemirror_mode": {
    "name": "ipython",
    "version": 3
   },
   "file_extension": ".py",
   "mimetype": "text/x-python",
   "name": "python",
   "nbconvert_exporter": "python",
   "pygments_lexer": "ipython3",
   "version": "3.7.3"
  }
 },
 "nbformat": 4,
 "nbformat_minor": 5
}
