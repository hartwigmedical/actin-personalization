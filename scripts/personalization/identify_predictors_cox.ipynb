{
 "cells": [
  {
   "cell_type": "code",
   "execution_count": null,
   "id": "8df54e4b-b827-49db-af01-221f0e3e5289",
   "metadata": {
    "tags": []
   },
   "outputs": [],
   "source": [
    "import pandas as pd \n",
    "import pymysql"
   ]
  },
  {
   "cell_type": "code",
   "execution_count": null,
   "id": "0e698f0b-cdc9-426c-a559-d819b518eeec",
   "metadata": {
    "tags": []
   },
   "outputs": [],
   "source": [
    "db_connection = pymysql.connect(\n",
    "    read_default_file='/home/jupyter/.my.cnf',\n",
    "    read_default_group='RAnalysis', \n",
    "    db = 'actin_personalization'\n",
    ")\n",
    "\n",
    "query = \"SELECT * FROM knownPalliativeTreatments\"\n",
    "\n",
    "df = pd.read_sql(query, db_connection)\n",
    "\n",
    "db_connection.close()\n",
    "\n",
    "list(df.columns)"
   ]
  },
  {
   "cell_type": "code",
   "execution_count": null,
   "id": "5911bb4c-ea0c-4ac1-b1df-161f6f8087a7",
   "metadata": {
    "tags": []
   },
   "outputs": [],
   "source": [
    "from lifelines import CoxPHFitter\n",
    "df_clean = df.dropna(subset = [\n",
    "    'observedPfsDays',\n",
    "    'hadProgressionEvent',\n",
    "    'consolidatedTumorType',\n",
    "    'ageAtDiagnosis',\n",
    "    'whoStatusPreTreatmentStart',\n",
    "    'tumorIncidenceYear'\n",
    "])\n",
    "\n",
    "def cox_model(df, formula):\n",
    "    return CoxPHFitter().fit(\n",
    "        df,\n",
    "        duration_col=\"observedPfsDays\",\n",
    "        event_col=\"hadProgressionEvent\",\n",
    "        formula=formula,\n",
    "        strata=[\"systemicTreatmentPlan\"]\n",
    "    )\n",
    "\n",
    "full_model = cox_model(df_clean, \"consolidatedTumorType + ageAtDiagnosis + whoStatusPreTreatmentStart + tumorIncidenceYear\")\n",
    "full_model.print_summary()"
   ]
  },
  {
   "cell_type": "code",
   "execution_count": null,
   "id": "391e595f-dc71-4cc1-b638-e73d83f27c6f",
   "metadata": {
    "tags": []
   },
   "outputs": [],
   "source": [
    "reduced_model = cox_model(df_clean, \"ageAtDiagnosis + whoStatusPreTreatmentStart + tumorIncidenceYear\")\n",
    "\n",
    "reduced_model.print_summary()"
   ]
  },
  {
   "cell_type": "code",
   "execution_count": null,
   "id": "754af969-4d69-469a-b4a2-eb1b276bbc04",
   "metadata": {
    "tags": []
   },
   "outputs": [],
   "source": [
    "def likelihood_ratio(llmin, llmax):\n",
    "    return 2 * (llmax - llmin)"
   ]
  },
  {
   "cell_type": "code",
   "execution_count": null,
   "id": "fac3935e-b03c-4ca2-98f3-df8eb037778a",
   "metadata": {
    "tags": []
   },
   "outputs": [],
   "source": [
    "from dataclasses import dataclass\n",
    "from math import log10\n",
    "\n",
    "@dataclass\n",
    "class TestResult:\n",
    "    feature: str\n",
    "    survival_impact: float\n",
    "    p_val: float\n",
    "    dof_delta: int\n",
    "    log_likelihood_ratio: float\n",
    "\n",
    "# def is_complete(feature_result):\n",
    "#     test_result = feature_result[1]\n",
    "#     return len(test_result) > 3 and test_result[3] == 'OK' # and test_result[1] < 0.05\n",
    "\n",
    "# complete_results = list(map(lambda kv: TestResult(kv[0], kv[1][2], kv[1][1], -log10(kv[1][1])), dict(filter(is_complete, result.items())).items()))\n",
    "\n",
    "# result_df = pd.DataFrame(complete_results)\n",
    "\n",
    "# result_df[result_df[\"p_val\"] < 0.1]"
   ]
  },
  {
   "cell_type": "code",
   "execution_count": null,
   "id": "cea7d256-3fee-4359-b545-fae7f7daa3ad",
   "metadata": {
    "tags": []
   },
   "outputs": [],
   "source": [
    "from scipy.stats.distributions import chi2\n",
    "from sklearn.preprocessing import StandardScaler\n",
    "\n",
    "base_df = df.dropna(subset = [\n",
    "    'observedPfsDays',\n",
    "    'hadProgressionEvent',\n",
    "    'ageAtDiagnosis',\n",
    "    'whoStatusPreTreatmentStart',\n",
    "    'tumorIncidenceYear'\n",
    "]).copy()\n",
    "\n",
    "\n",
    "scaler = StandardScaler()\n",
    "cols_to_standardize = [f for f in (['ageAtDiagnosis', 'whoStatusPreTreatmentStart', 'tumorIncidenceYear'] + features) if pd.api.types.is_numeric_dtype(df[f])]\n",
    "\n",
    "base_df.loc[:, cols_to_standardize] = scaler.fit_transform(base_df.loc[:, cols_to_standardize])\n",
    "\n",
    "def test_feature(df, simple_formula, feature):\n",
    "    try:\n",
    "        df_clean = df.dropna(subset = [feature])\n",
    "        reduced_model = cox_model(df_clean, simple_formula)\n",
    "        full_model = cox_model(df_clean, \" + \".join([feature, simple_formula]))\n",
    "        dof = 1 if pd.api.types.is_numeric_dtype(df[feature]) else df[feature].nunique() - 1\n",
    "        log_likelihood_ratio = likelihood_ratio(reduced_model.log_likelihood_, full_model.log_likelihood_)\n",
    "        p = chi2.sf(log_likelihood_ratio, dof)\n",
    "        print(f\"Testing feature {feature}: p-value {p}, exp(coeff) {full_model.hazard_ratios_[0]}\")\n",
    "        return TestResult(feature, full_model.hazard_ratios_[0], p, dof, log_likelihood_ratio)\n",
    "    except Exception as e:\n",
    "        print(f\"Failed to test {feature}: {str(e)}\")\n",
    "        return None\n",
    "\n",
    "# test_feature(base_df, \"ageAtDiagnosis + whoStatusPreTreatmentStart + tumorIncidenceYear\", \"consolidatedTumorType\")"
   ]
  },
  {
   "cell_type": "code",
   "execution_count": null,
   "id": "d3398e16-3b55-473e-a82d-dd542e772220",
   "metadata": {
    "tags": []
   },
   "outputs": [],
   "source": [
    "features = [\n",
    "     'sex',\n",
    "     'consolidatedTumorType',\n",
    "     'hasHadPriorTumor',\n",
    "     'cci',\n",
    "     'cciNumberOfCategories',\n",
    "     'cciHasAids',\n",
    "     'cciHasCongestiveHeartFailure',\n",
    "     'cciHasCollagenosis',\n",
    "     'cciHasCopd',\n",
    "     'cciHasCerebrovascularDisease',\n",
    "     'cciHasDementia',\n",
    "     'cciHasDiabetesMellitus',\n",
    "     'cciHasDiabetesMellitusWithEndOrganDamage',\n",
    "     'cciHasOtherMalignancy',\n",
    "     'cciHasOtherMetastaticSolidTumor',\n",
    "     'cciHasMyocardialInfarct',\n",
    "     'cciHasMildLiverDisease',\n",
    "     #'cciHasHemiplegiaOrParaplegia',\n",
    "     'cciHasPeripheralVascularDisease',\n",
    "     'cciHasRenalDisease',\n",
    "     'cciHasLiverDisease',\n",
    "     'cciHasUlcerDisease',\n",
    "     'presentedWithIleus',\n",
    "     'presentedWithPerforation',\n",
    "     'anorectalVergeDistanceCategory',\n",
    "     'hasMsi',\n",
    "     'hasBrafMutation',\n",
    "     'hasBrafV600EMutation',\n",
    "     'hasRasMutation',\n",
    "     'hasKrasG12CMutation',\n",
    "     'asaClassificationPreSurgeryOrEndoscopy',\n",
    "     'tumorBasisOfDiagnosis',\n",
    "     'tumorLocation',\n",
    "     'tumorDifferentiationGrade',\n",
    "     'tnmCT',\n",
    "     'tnmCN',\n",
    "     'tnmCM',\n",
    "     #'tnmPT',\n",
    "     'tnmPN',\n",
    "     'tnmPM',\n",
    "     'stageCTNM',\n",
    "     'stagePTNM',\n",
    "     'stageTNM',\n",
    "     'investigatedLymphNodesNumber',\n",
    "     'positiveLymphNodesNumber',\n",
    "     'distantMetastasesDetectionStatus',\n",
    "     'numberOfLiverMetastases',\n",
    "     'maximumSizeOfLiverMetastasisMm',\n",
    "     'hasDoublePrimaryTumor',\n",
    "     'mesorectalFasciaIsClear',\n",
    "     'distanceToMesorectalFasciaMm',\n",
    "     'venousInvasionDescription',\n",
    "     'lymphaticInvasionCategory',\n",
    "     'extraMuralInvasionCategory',\n",
    "     'tumorRegression',\n",
    "     'hasParticipatedInTrial',\n",
    "     'metastasesSurgeries',\n",
    "     'radiotherapies',\n",
    "     #'metastasesRadiotherapies',\n",
    "     #'response',\n",
    "     'metastasisLocationGroupsPriorToSystemicTreatment'\n",
    "]\n",
    "base_formula = \"ageAtDiagnosis + whoStatusPreTreatmentStart + tumorIncidenceYear\"\n",
    "result = [r for r in (test_feature(base_df, base_formula, f) for f in features) if r is not None]\n",
    "result"
   ]
  },
  {
   "cell_type": "code",
   "execution_count": null,
   "id": "f9a02f23-0e7c-4251-b2af-e657f91582a3",
   "metadata": {
    "tags": []
   },
   "outputs": [],
   "source": [
    "from math import log10\n",
    "\n",
    "result_df = pd.DataFrame(result)\n",
    "result_df[\"log10_p\"] = result_df[\"p_val\"].apply(lambda p: -log10(p))\n",
    "result_df.head()"
   ]
  },
  {
   "cell_type": "code",
   "execution_count": null,
   "id": "b6161cf8-8ecd-4458-81bd-5fe9a59c41f0",
   "metadata": {
    "tags": []
   },
   "outputs": [],
   "source": [
    "import seaborn\n",
    "\n",
    "seaborn.scatterplot(result_df[result_df[\"p_val\"] < 0.05], x=\"survival_impact\", y=\"log10_p\")"
   ]
  },
  {
   "cell_type": "code",
   "execution_count": null,
   "id": "81bf6f01-f7f5-4db3-bc98-67ef64fd46c6",
   "metadata": {
    "tags": []
   },
   "outputs": [],
   "source": [
    "correlation = base_df[features].corr('pearson')"
   ]
  },
  {
   "cell_type": "code",
   "execution_count": null,
   "id": "9f352050-187e-47f7-b5c9-d89fb14fa63a",
   "metadata": {
    "tags": []
   },
   "outputs": [],
   "source": [
    "seaborn.heatmap(correlation)"
   ]
  },
  {
   "cell_type": "code",
   "execution_count": null,
   "id": "4a76e627-776f-43b3-8aa7-ad071f146db0",
   "metadata": {
    "tags": []
   },
   "outputs": [],
   "source": [
    "anorectalVergeDistanceCategory_lookup = {\n",
    "    \"ZERO_TO_FIVE_CM\": 2.5,\n",
    "    \"FIVE_TO_TEN_CM\": 7.5,\n",
    "    \"TEN_TO_FIFTEEN_CM\": 12.5,\n",
    "    \"OVER_FIFTEEN_CM\": 17.5,\n",
    "}\n",
    "cciNumberOfCategories_lookup = {\n",
    "    \"ZERO_CATEGORIES\": 0,\n",
    "    \"ONE_CATEGORY\": 1,\n",
    "    \"TWO_OR_MORE_CATEGORIES\": 2,\n",
    "}\n",
    "\n",
    "numberOfLiverMetastases_lookup = {\n",
    "    \"ONE\": 1,\n",
    "    \"TWO\": 2,\n",
    "    \"THREE\": 3,\n",
    "    \"FOUR\": 4,\n",
    "    \"FIVE_OR_MORE\": 5,\n",
    "    \"MULTIPLE_BUT_EXACT_NUMBER_UNKNOWN\": 3\n",
    "}\n",
    "\n",
    "asaClassificationPreSurgeryOrEndoscopy\n",
    "venousInvasionDescription\n",
    "lymphaticInvasionCategory\n",
    "extraMuralInvasionCategory\n",
    "tumorRegression\n",
    "\n",
    "base_df['anorectalVergeDistanceCategory'] = base_df['anorectalVergeDistanceCategory'].apply(anorectalVergeDistanceCategory_lookup.get)\n",
    "base_df['cciNumberOfCategories'] = base_df['cciNumberOfCategories'].apply(cciNumberOfCategories_lookup.get)\n",
    "base_df['numberOfLiverMetastases'] = base_df['numberOfLiverMetastases'].apply(numberOfLiverMetastases_lookup.get)"
   ]
  },
  {
   "cell_type": "code",
   "execution_count": null,
   "id": "3cb740f9-d72c-472b-aff9-a256d947da4b",
   "metadata": {
    "tags": []
   },
   "outputs": [],
   "source": [
    "base_df['asaClassificationPreSurgeryOrEndoscopy'].value_counts()"
   ]
  },
  {
   "cell_type": "code",
   "execution_count": null,
   "id": "14d44b0e-28b4-47f9-b114-e234247d4c27",
   "metadata": {},
   "outputs": [],
   "source": []
  }
 ],
 "metadata": {
  "kernelspec": {
   "display_name": "Python 3 (ipykernel)",
   "language": "python",
   "name": "python3"
  },
  "language_info": {
   "codemirror_mode": {
    "name": "ipython",
    "version": 3
   },
   "file_extension": ".py",
   "mimetype": "text/x-python",
   "name": "python",
   "nbconvert_exporter": "python",
   "pygments_lexer": "ipython3",
   "version": "3.7.3"
  }
 },
 "nbformat": 4,
 "nbformat_minor": 5
}
