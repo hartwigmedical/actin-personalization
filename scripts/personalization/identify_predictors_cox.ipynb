{
 "cells": [
  {
   "cell_type": "code",
   "execution_count": null,
   "id": "8df54e4b-b827-49db-af01-221f0e3e5289",
   "metadata": {
    "tags": []
   },
   "outputs": [],
   "source": [
    "import pandas as pd \n",
    "import pymysql"
   ]
  },
  {
   "cell_type": "code",
   "execution_count": null,
   "id": "0e698f0b-cdc9-426c-a559-d819b518eeec",
   "metadata": {
    "tags": []
   },
   "outputs": [],
   "source": [
    "db_connection = pymysql.connect(\n",
    "    read_default_file='/home/jupyter/.my.cnf',\n",
    "    read_default_group='RAnalysis', \n",
    "    db = 'actin_personalization'\n",
    ")\n",
    "\n",
    "query = \"SELECT * FROM knownPalliativeTreatments\"\n",
    "\n",
    "df = pd.read_sql(query, db_connection)\n",
    "\n",
    "db_connection.close()\n",
    "\n",
    "list(df.columns)"
   ]
  },
  {
   "cell_type": "code",
   "execution_count": null,
   "id": "9d3dbd12-4bef-4339-91b9-ac7bdc7aeaf7",
   "metadata": {
    "tags": []
   },
   "outputs": [],
   "source": [
    "df.metastasisLocationGroupsPriorToSystemicTreatment.value_counts()"
   ]
  },
  {
   "cell_type": "code",
   "execution_count": null,
   "id": "5911bb4c-ea0c-4ac1-b1df-161f6f8087a7",
   "metadata": {
    "tags": []
   },
   "outputs": [],
   "source": [
    "from lifelines import CoxPHFitter\n",
    "df_clean = df.dropna(subset = [\n",
    "    'observedPfsDays',\n",
    "    'hadProgressionEvent',\n",
    "    'consolidatedTumorType',\n",
    "    'ageAtDiagnosis',\n",
    "    'whoStatusPreTreatmentStart',\n",
    "    'tumorIncidenceYear'\n",
    "])\n",
    "\n",
    "def cox_model(df, formula):\n",
    "    return CoxPHFitter().fit(\n",
    "        df,\n",
    "        duration_col=\"observedPfsDays\",\n",
    "        event_col=\"hadProgressionEvent\",\n",
    "        formula=formula,\n",
    "        strata=[\"systemicTreatmentPlan\"]\n",
    "    )\n",
    "\n",
    "full_model = cox_model(df_clean, \"consolidatedTumorType + ageAtDiagnosis + whoStatusPreTreatmentStart + tumorIncidenceYear\")\n",
    "full_model.print_summary()"
   ]
  },
  {
   "cell_type": "code",
   "execution_count": null,
   "id": "391e595f-dc71-4cc1-b638-e73d83f27c6f",
   "metadata": {
    "tags": []
   },
   "outputs": [],
   "source": [
    "reduced_model = cox_model(df_clean, \"ageAtDiagnosis + whoStatusPreTreatmentStart + tumorIncidenceYear\")\n",
    "\n",
    "reduced_model.print_summary()"
   ]
  },
  {
   "cell_type": "code",
   "execution_count": null,
   "id": "754af969-4d69-469a-b4a2-eb1b276bbc04",
   "metadata": {
    "tags": []
   },
   "outputs": [],
   "source": [
    "from scipy.stats.distributions import chi2\n",
    "def likelihood_ratio(llmin, llmax):\n",
    "    return 2 * (llmax - llmin)\n",
    "\n",
    "LR = likelihood_ratio(reduced_model.log_likelihood_, full_model.log_likelihood_)\n",
    "\n",
    "p = chi2.sf(LR, 3) # L2 has 3 DoF more than L1\n",
    "\n",
    "p"
   ]
  },
  {
   "cell_type": "code",
   "execution_count": null,
   "id": "5c7bed0d-c54c-4481-bcc5-710b94bd2a63",
   "metadata": {
    "tags": []
   },
   "outputs": [],
   "source": [
    "pd.api.types.is_string_dtype(df['consolidatedTumorType'])"
   ]
  },
  {
   "cell_type": "code",
   "execution_count": null,
   "id": "cea7d256-3fee-4359-b545-fae7f7daa3ad",
   "metadata": {},
   "outputs": [],
   "source": [
    "base_df = df.dropna(subset = [\n",
    "    'observedPfsDays',\n",
    "    'hadProgressionEvent',\n",
    "    'ageAtDiagnosis',\n",
    "    'whoStatusPreTreatmentStart',\n",
    "    'tumorIncidenceYear'\n",
    "])\n",
    "\n",
    "def test_feature(df, simple_formula, feature):\n",
    "    try:\n",
    "        df_clean = df.dropna(subset = [feature])\n",
    "        reduced_model = cox_model(df_clean, simple_formula)\n",
    "        full_model = cox_model(df_clean, \" + \".join([feature, simple_formula]))\n",
    "        dof = 1 if pd.api.types.is_numeric_dtype(df[feature]) else df[feature].nunique() - 1\n",
    "        p = chi2.sf(likelihood_ratio(reduced_model.log_likelihood_, full_model.log_likelihood_), dof)\n",
    "        print(f\"Testing feature {feature}: p-value {p}, exp(coeff) {full_model.hazard_ratios_[0]}\")\n",
    "        return [dof, p, full_model.hazard_ratios_[0] , \"OK\"]\n",
    "    except Exception as e:\n",
    "        print(f\"Failed to test {feature}: {str(e)}\")\n",
    "        return [0, 0, str(e)]\n",
    "\n",
    "# test_feature(base_df, \"ageAtDiagnosis + whoStatusPreTreatmentStart + tumorIncidenceYear\", \"consolidatedTumorType\")"
   ]
  },
  {
   "cell_type": "code",
   "execution_count": null,
   "id": "d3398e16-3b55-473e-a82d-dd542e772220",
   "metadata": {
    "tags": []
   },
   "outputs": [],
   "source": [
    "features = [\n",
    "     'sex',\n",
    "     'consolidatedTumorType',\n",
    "     'hasHadPriorTumor',\n",
    "     'cci',\n",
    "     'cciNumberOfCategories',\n",
    "     'cciHasAids',\n",
    "     'cciHasCongestiveHeartFailure',\n",
    "     'cciHasCollagenosis',\n",
    "     'cciHasCopd',\n",
    "     'cciHasCerebrovascularDisease',\n",
    "     'cciHasDementia',\n",
    "     'cciHasDiabetesMellitus',\n",
    "     'cciHasDiabetesMellitusWithEndOrganDamage',\n",
    "     'cciHasOtherMalignancy',\n",
    "     'cciHasOtherMetastaticSolidTumor',\n",
    "     'cciHasMyocardialInfarct',\n",
    "     'cciHasMildLiverDisease',\n",
    "     #'cciHasHemiplegiaOrParaplegia',\n",
    "     'cciHasPeripheralVascularDisease',\n",
    "     'cciHasRenalDisease',\n",
    "     'cciHasLiverDisease',\n",
    "     'cciHasUlcerDisease',\n",
    "     'presentedWithIleus',\n",
    "     'presentedWithPerforation',\n",
    "     'anorectalVergeDistanceCategory',\n",
    "     'hasMsi',\n",
    "     'hasBrafMutation',\n",
    "     'hasBrafV600EMutation',\n",
    "     'hasRasMutation',\n",
    "     'hasKrasG12CMutation',\n",
    "     'asaClassificationPreSurgeryOrEndoscopy',\n",
    "     'tumorBasisOfDiagnosis',\n",
    "     'tumorLocation',\n",
    "     'tumorDifferentiationGrade',\n",
    "     'tnmCT',\n",
    "     'tnmCN',\n",
    "     'tnmCM',\n",
    "     #'tnmPT',\n",
    "     'tnmPN',\n",
    "     'tnmPM',\n",
    "     'stageCTNM',\n",
    "     'stagePTNM',\n",
    "     'stageTNM',\n",
    "     'investigatedLymphNodesNumber',\n",
    "     'positiveLymphNodesNumber',\n",
    "     'distantMetastasesDetectionStatus',\n",
    "     'numberOfLiverMetastases',\n",
    "     'maximumSizeOfLiverMetastasisMm',\n",
    "     'hasDoublePrimaryTumor',\n",
    "     'mesorectalFasciaIsClear',\n",
    "     'distanceToMesorectalFasciaMm',\n",
    "     'venousInvasionDescription',\n",
    "     'lymphaticInvasionCategory',\n",
    "     'extraMuralInvasionCategory',\n",
    "     'tumorRegression',\n",
    "     'hasParticipatedInTrial',\n",
    "     'metastasesSurgeries',\n",
    "     'radiotherapies',\n",
    "     #'metastasesRadiotherapies',\n",
    "     #'response',\n",
    "     'metastasisLocationGroupsPriorToSystemicTreatment'\n",
    "]\n",
    "\n",
    "result = { f: test_feature(base_df, \"ageAtDiagnosis + whoStatusPreTreatmentStart + tumorIncidenceYear\", f) for f in features }\n",
    "result"
   ]
  },
  {
   "cell_type": "code",
   "execution_count": null,
   "id": "f9a02f23-0e7c-4251-b2af-e657f91582a3",
   "metadata": {},
   "outputs": [],
   "source": []
  }
 ],
 "metadata": {
  "kernelspec": {
   "display_name": "Python 3 (ipykernel)",
   "language": "python",
   "name": "python3"
  },
  "language_info": {
   "codemirror_mode": {
    "name": "ipython",
    "version": 3
   },
   "file_extension": ".py",
   "mimetype": "text/x-python",
   "name": "python",
   "nbconvert_exporter": "python",
   "pygments_lexer": "ipython3",
   "version": "3.7.3"
  }
 },
 "nbformat": 4,
 "nbformat_minor": 5
}
