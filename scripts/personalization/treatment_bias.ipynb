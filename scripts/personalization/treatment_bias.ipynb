{
 "cells": [
  {
   "cell_type": "code",
   "execution_count": null,
   "metadata": {
    "tags": []
   },
   "outputs": [],
   "source": [
    "import pandas as pd \n",
    "import pymysql\n",
    "import matplotlib.pyplot as plt\n",
    "from lifelines import KaplanMeierFitter\n",
    "import seaborn as sns"
   ]
  },
  {
   "cell_type": "code",
   "execution_count": null,
   "metadata": {
    "tags": []
   },
   "outputs": [],
   "source": [
    "db_connection = pymysql.connect(\n",
    "    read_default_file='/home/jupyter/.my.cnf',\n",
    "    read_default_group='RAnalysis', \n",
    "    db = 'actin_personalization'\n",
    ")\n",
    "\n",
    "query = '''\n",
    "SELECT\n",
    "    p.isAlive,\n",
    "    d.ageAtDiagnosis,\n",
    "    d.cci,\n",
    "    d.observedOverallSurvivalFromTumorIncidenceDays,\n",
    "    e.systemicTreatmentPlan,\n",
    "    e.observedPfsDays,\n",
    "    e.whoStatusPreTreatmentStart,\n",
    "    e.hadProgressionEvent\n",
    "FROM\n",
    "    episode e\n",
    "JOIN\n",
    "    diagnosisTreatments dt ON e.diagnosisId = dt.diagnosisId\n",
    "JOIN\n",
    "    diagnosis d ON dt.diagnosisId = d.id AND dt.patientId = d.patientId\n",
    "JOIN\n",
    "    patient p ON dt.patientId = p.id\n",
    "WHERE\n",
    "       (e.hasHadPreSurgerySystemicChemotherapy = 0 OR e.hasHadPreSurgerySystemicChemotherapy IS NULL)\n",
    "    AND (e.hasHadPostSurgerySystemicChemotherapy = 0 OR e.hasHadPostSurgerySystemicChemotherapy IS NULL)\n",
    "    AND (e.hasHadPreSurgerySystemicTargetedTherapy = 0 OR e.hasHadPreSurgerySystemicTargetedTherapy IS NULL)\n",
    "    AND (e.hasHadPostSurgerySystemicTargetedTherapy = 0 OR e.hasHadPostSurgerySystemicTargetedTherapy IS NULL)\n",
    "'''\n",
    "\n",
    "df = pd.read_sql(query, db_connection)\n",
    "\n",
    "db_connection.close()\n",
    "\n",
    "df.head()"
   ]
  },
  {
   "cell_type": "code",
   "execution_count": null,
   "metadata": {
    "tags": []
   },
   "outputs": [],
   "source": [
    "df['pfs_time'] = df['observedPfsDays']\n",
    "df['pfs_event'] = df['hadProgressionEvent'].apply(lambda x: 1 if x == 1 else 0)\n",
    "\n",
    "df['os_time'] = df['observedOverallSurvivalFromTumorIncidenceDays']\n",
    "df['os_event'] = df['isAlive'].apply(lambda x: 0 if x == 1 else 1)\n",
    "\n",
    "df['treatment'] = df['systemicTreatmentPlan'].apply(lambda x: 0 if (pd.isnull(x) or x == 'None') else 1)\n",
    "\n",
    "df['treatment'].value_counts()"
   ]
  },
  {
   "cell_type": "code",
   "execution_count": null,
   "metadata": {
    "tags": []
   },
   "outputs": [],
   "source": [
    "df_os = df.dropna(subset=['os_time', 'os_event'])\n",
    "\n",
    "treated_os = df_os[df_os['treatment'] == 1]\n",
    "untreated_os = df_os[df_os['treatment'] == 0]\n",
    "\n",
    "kmf = KaplanMeierFitter()\n",
    "\n",
    "plt.figure(figsize=(10, 6))\n",
    "kmf.fit(treated_os['os_time'], event_observed=treated_os['os_event'], label='Treated')\n",
    "ax = kmf.plot_survival_function()\n",
    "\n",
    "kmf.fit(untreated_os['os_time'], event_observed=untreated_os['os_event'], label='Untreated')\n",
    "kmf.plot_survival_function(ax=ax)\n",
    "\n",
    "plt.title('Overall Survival for Treated vs Untreated Patients')\n",
    "plt.xlabel('Time (days)')\n",
    "plt.ylabel('Overall Survival Fraction')\n",
    "plt.legend()\n",
    "plt.show()"
   ]
  },
  {
   "cell_type": "code",
   "execution_count": null,
   "metadata": {
    "tags": []
   },
   "outputs": [],
   "source": [
    "who_status_values = df['whoStatusPreTreatmentStart'].unique()\n",
    "\n",
    "plt.figure(figsize=(20, 2 * 5))\n",
    "\n",
    "for i, who_status in enumerate(who_status_values):\n",
    "    plt.subplot(2, 3, i + 1)\n",
    "\n",
    "    group_data = df_os[df_os['whoStatusPreTreatmentStart'] == who_status]\n",
    "    \n",
    "    treated_os = group_data[group_data['treatment'] == 1]\n",
    "    untreated_os = group_data[group_data['treatment'] == 0]\n",
    "    \n",
    "    kmf = KaplanMeierFitter()\n",
    "    \n",
    "    if not treated_os.empty:\n",
    "        kmf.fit(treated_os['observedOverallSurvivalFromTumorIncidenceDays'], \n",
    "                event_observed=treated_os['os_event'], label='Treated')\n",
    "        kmf.plot_survival_function()\n",
    "    \n",
    "    if not untreated_os.empty:\n",
    "        kmf.fit(untreated_os['observedOverallSurvivalFromTumorIncidenceDays'], \n",
    "                event_observed=untreated_os['os_event'], label='Untreated')\n",
    "        kmf.plot_survival_function()\n",
    "\n",
    "    plt.title(f'Overall Survival for WHO Status {who_status}')\n",
    "    plt.xlabel('Time (days)')\n",
    "    plt.ylabel('Overall Survival Fraction')\n",
    "    plt.legend()\n",
    "\n",
    "plt.tight_layout()\n",
    "plt.show()\n"
   ]
  },
  {
   "cell_type": "code",
   "execution_count": null,
   "metadata": {
    "tags": []
   },
   "outputs": [],
   "source": [
    "df['whoStatusPreTreatmentStart'] = df['whoStatusPreTreatmentStart'].fillna(df['whoStatusPreTreatmentStart'].median())\n",
    "df['ageAtDiagnosis'] = df['ageAtDiagnosis'].fillna(df['ageAtDiagnosis'].median())\n",
    "df['cci'] = df['cci'].fillna(df['cci'].median())\n",
    "\n",
    "treated = df[df['treatment'] == 1]\n",
    "untreated = df[df['treatment'] == 0]\n",
    "\n",
    "print(\"Treated patients - Baseline characteristics:\")\n",
    "print(treated[['ageAtDiagnosis', 'whoStatusPreTreatmentStart', 'cci']].describe())\n",
    "\n",
    "print(\"\\nUntreated patients - Baseline characteristics:\")\n",
    "print(untreated[['ageAtDiagnosis', 'whoStatusPreTreatmentStart', 'cci']].describe())"
   ]
  },
  {
   "cell_type": "code",
   "execution_count": null,
   "metadata": {
    "tags": []
   },
   "outputs": [],
   "source": [
    "plt.figure(figsize=(18, 6))\n",
    "\n",
    "# Age Distribution\n",
    "plt.subplot(1, 3, 1)\n",
    "sns.histplot(treated['ageAtDiagnosis'], color='blue', label='Treated', bins=20, stat='percent')\n",
    "sns.histplot(untreated['ageAtDiagnosis'], color='orange', label='Untreated', bins=20, stat='percent')\n",
    "plt.title('Age Distribution by Treatment Status')\n",
    "plt.xlabel('Age at Diagnosis')\n",
    "plt.ylabel('Percentage')\n",
    "plt.legend()\n",
    "\n",
    "# WHO Performance Status Distribution\n",
    "plt.subplot(1, 3, 2)\n",
    "sns.histplot(treated['whoStatusPreTreatmentStart'], color='blue', label='Treated', bins=5, stat='percent')\n",
    "sns.histplot(untreated['whoStatusPreTreatmentStart'], color='orange', label='Untreated', bins=5, stat='percent')\n",
    "plt.title('WHO Performance Status by Treatment Status')\n",
    "plt.xlabel('WHO Performance Status')\n",
    "plt.ylabel('Percentage')\n",
    "plt.legend()\n",
    "\n",
    "# Charlson Comorbidity Index Distribution\n",
    "plt.subplot(1, 3, 3)\n",
    "sns.histplot(treated['cci'], color='blue', label='Treated', bins=10, stat='percent')\n",
    "sns.histplot(untreated['cci'], color='orange', label='Untreated', bins=10, stat='percent')\n",
    "plt.title('CCI Distribution by Treatment Status')\n",
    "plt.xlabel('Charlson Comorbidity Index')\n",
    "plt.ylabel('Percentage')\n",
    "plt.legend()\n",
    "\n",
    "plt.tight_layout()\n",
    "plt.show()\n"
   ]
  },
  {
   "cell_type": "code",
   "execution_count": null,
   "metadata": {
    "tags": []
   },
   "outputs": [],
   "source": [
    "df['treatment_label'] = df['treatment'].replace({0: 'No Treatment', 1: 'Treatment'})\n",
    "\n",
    "plt.figure(figsize=(18, 6))\n",
    "\n",
    "# Age Boxplot\n",
    "plt.subplot(1, 3, 1)\n",
    "sns.boxplot(x='treatment_label', y='ageAtDiagnosis', data=df)\n",
    "plt.title('Age by Treatment Status')\n",
    "plt.xlabel('Treatment')\n",
    "plt.ylabel('Age at Diagnosis')\n",
    "\n",
    "# WHO Performance Status Boxplot\n",
    "plt.subplot(1, 3, 2)\n",
    "sns.boxplot(x='treatment_label', y='whoStatusPreTreatmentStart', data=df)\n",
    "plt.title('WHO Performance Status by Treatment Status')\n",
    "plt.xlabel('Treatment')\n",
    "plt.ylabel('WHO Performance Status')\n",
    "\n",
    "# CCI Boxplot\n",
    "plt.subplot(1, 3, 3)\n",
    "sns.boxplot(x='treatment_label', y='cci', data=df)\n",
    "plt.title('CCI by Treatment Status')\n",
    "plt.xlabel('Treatment')\n",
    "plt.ylabel('Charlson Comorbidity Index')\n",
    "\n",
    "plt.tight_layout()\n",
    "plt.show()"
   ]
  }
 ],
 "metadata": {
  "kernelspec": {
   "display_name": "Python 3 (ipykernel)",
   "language": "python",
   "name": "python3"
  },
  "language_info": {
   "codemirror_mode": {
    "name": "ipython",
    "version": 3
   },
   "file_extension": ".py",
   "mimetype": "text/x-python",
   "name": "python",
   "nbconvert_exporter": "python",
   "pygments_lexer": "ipython3",
   "version": "3.7.3"
  }
 },
 "nbformat": 4,
 "nbformat_minor": 4
}
