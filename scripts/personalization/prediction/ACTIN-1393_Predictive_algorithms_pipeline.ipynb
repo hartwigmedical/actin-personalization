{
 "cells": [
  {
   "cell_type": "markdown",
   "id": "1d61ed0d-783d-45f7-99a2-f3c87dbccfc2",
   "metadata": {},
   "source": [
    "# Predictive Algorithms"
   ]
  },
  {
   "cell_type": "code",
   "execution_count": null,
   "id": "00789d13-178f-42bd-81a8-947b666139f7",
   "metadata": {
    "tags": []
   },
   "outputs": [],
   "source": [
    "%load_ext autoreload\n",
    "%autoreload 2"
   ]
  },
  {
   "cell_type": "markdown",
   "id": "5314e096-8279-4a5f-be30-23491879b520",
   "metadata": {},
   "source": [
    "## Load and Preprocess Data\n",
    "\n",
    "This step will involve loading the data, handling missing values, and encoding categorical variables to prepare them for modeling."
   ]
  },
  {
   "cell_type": "code",
   "execution_count": null,
   "id": "295f5b2e-bc29-4325-8a49-63bac2552dc6",
   "metadata": {
    "tags": []
   },
   "outputs": [],
   "source": [
    "from data_processing import *\n",
    "from lookups import *\n",
    "\n",
    "db_config_path = '/home/jupyter/.my.cnf'\n",
    "db_name = 'actin_personalization'\n",
    "query = \"SELECT * FROM knownPalliativeTreatments\"\n",
    "\n",
    "preprocessor = DataPreprocessor(db_config_path, db_name)"
   ]
  },
  {
   "cell_type": "code",
   "execution_count": null,
   "id": "13f3bf56-359d-4b02-87f1-d42181247ead",
   "metadata": {
    "tags": []
   },
   "outputs": [],
   "source": [
    "pfs_df, pfs_features, pfs_encoded_columns = preprocessor.preprocess_data(query, duration_col = \"observedPfsDays\", event_col = \"hadProgressionEvent\", features = features)"
   ]
  },
  {
   "cell_type": "code",
   "execution_count": null,
   "id": "17f63d05-7f92-431c-a195-3bf229f5fb05",
   "metadata": {
    "tags": []
   },
   "outputs": [],
   "source": [
    "os_df, os_features, os_encoded_columns = preprocessor.preprocess_data(query, duration_col = \"observedOsFromTreatmentStartDays\", event_col = \"hadSurvivalEvent\", features = features)"
   ]
  },
  {
   "cell_type": "markdown",
   "id": "c4c94a95-5b4f-4882-a6a0-71dca133d3df",
   "metadata": {},
   "source": [
    "## Models"
   ]
  },
  {
   "cell_type": "code",
   "execution_count": null,
   "id": "aa9317cc-59e1-430f-8e93-d3e10257d308",
   "metadata": {
    "tags": []
   },
   "outputs": [],
   "source": [
    "from survival_models import *\n",
    "from model_trainer import *\n",
    "\n",
    "from sksurv.util import Surv\n",
    "from lookups import features\n",
    "\n",
    "splitter = DataSplitter(test_size=0.1, random_state=42)\n",
    "\n",
    "# y_pfs = Surv.from_dataframe(event='hadProgressionEvent', time='observedPfsDays', data=pfs_df)\n",
    "\n",
    "y_os = Surv.from_dataframe(event='hadSurvivalEvent', time='observedOsFromTreatmentStartDays', data=os_df)\n",
    "\n",
    "X_train, X_test, y_train, y_test = splitter.split(os_df[os_features], y_os, 'systemicTreatmentPlan', os_encoded_columns)\n",
    "\n",
    "models = {\n",
    "    'DeepSurv': DeepSurv(input_size=X_train.shape[1]),\n",
    "    'AalenAdditive': AalenAdditiveModel(),\n",
    "    'CoxPH': CoxPHModel(),\n",
    "    'RandomSurvivalForest': RandomSurvivalForestModel(),\n",
    "    'GradientBoosting': GradientBoostingSurvivalModel(),\n",
    "}\n",
    "\n",
    "trainer = ModelTrainer(models=models, n_splits=5, random_state=42)\n",
    "\n",
    "results = trainer.train_and_evaluate(\n",
    "    X_train,\n",
    "    y_train,\n",
    "    X_test,\n",
    "    y_test,\n",
    "    treatment_col='systemicTreatmentPlan',\n",
    "    encoded_columns=os_encoded_columns,\n",
    "    event_col='hadSurvivalEvent',\n",
    "    duration_col='observedOsFromTreatmentStartDays'\n",
    ")\n",
    "\n",
    "print(\"\\nFinal Results:\") \n",
    "for model_name, metrics in results.items():\n",
    "    print(f\"{model_name}:\")\n",
    "    for metric_name, value in metrics.items():\n",
    "        print(f\"  {metric_name}: {value:.4f}\")"
   ]
  },
  {
   "cell_type": "raw",
   "id": "bb1bbf47-8e6b-4f7c-94b8-2f46e839e70c",
   "metadata": {},
   "source": [
    "With normalization:\n",
    "- DeepSurv - C-Index: 0.5339, IBS: 0.3320, CE: 0.9446\n",
    "- AalenAdditive - C-Index: 0.3051, IBS: 0.1440, CE: 0.0409\n",
    "- CoxPH - C-Index: 0.6478, IBS: 0.0720, CE: 0.0420\n",
    "- RandomSurvivalForest - C-Index: 0.6430, IBS: 0.0748, CE: 0.0489\n",
    "- GradientBoosting - C-Index: 0.6578, IBS: 0.0704, CE: 0.0543\n",
    "- SurvivalSVM - C-Index: 0.6518, IBS: 0.2548, CE: 0.5411\n",
    "\n",
    "With standardization:\n",
    "- DeepSurv - C-Index: 0.5038, IBS: 0.4009, CE: 1.0441\n",
    "- AalenAdditive - C-Index: 0.6158, IBS: 1.7504, CE: 0.0458\n",
    "- CoxPH - C-Index: 0.6474, IBS: 0.0746, CE: 0.0419\n",
    "- RandomSurvivalForest - C-Index: 0.6441, IBS: 0.0804, CE: 0.0497\n",
    "- GradientBoosting - C-Index: 0.6605, IBS: 0.0730, CE: 0.0555\n",
    "\n",
    "\n"
   ]
  }
 ],
 "metadata": {
  "kernelspec": {
   "display_name": "Python (prediction_env)",
   "language": "python",
   "name": "prediction_env"
  },
  "language_info": {
   "codemirror_mode": {
    "name": "ipython",
    "version": 3
   },
   "file_extension": ".py",
   "mimetype": "text/x-python",
   "name": "python",
   "nbconvert_exporter": "python",
   "pygments_lexer": "ipython3",
   "version": "3.7.3"
  }
 },
 "nbformat": 4,
 "nbformat_minor": 5
}
