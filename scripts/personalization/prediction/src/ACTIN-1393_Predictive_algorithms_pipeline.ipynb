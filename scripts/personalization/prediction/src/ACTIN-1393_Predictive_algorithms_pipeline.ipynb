{
 "cells": [
  {
   "cell_type": "markdown",
   "id": "1d61ed0d-783d-45f7-99a2-f3c87dbccfc2",
   "metadata": {},
   "source": [
    "# Predictive Algorithms for Survival Analysis\n",
    "\n",
    "This notebook demonstrates the pipeline for developing and evaluating predictive algorithms in survival analysis. The primary objective is to model and predict **overall survival (OS)** and **progression-free survival (PFS)** for patients. Using both classical statistical methods and state-of-the-art deep learning techniques, the notebook covers the entire process, including:\n",
    "- Data Preprocessing: Preparing survival datasets for analysis, ensuring compatibility with various model types.\n",
    "- Model Training: Building survival models tailored to predict survival outcomes and handle censored data.\n",
    "- Hyperparameter Optimization: Fine-tuning models for optimal performance.\n",
    "- Performance Evaluation: Comparing models based on metrics such as concordance index (C-Index), integrated Brier score (IBS), calibration error (CE), and time-dependent AUC.\n",
    "- Visualization: Generating survival curves and feature importance plots to interpret model predictions and uncover key insights.\n",
    "\n",
    "This workflow provides a framework to explore survival modeling techniques and tailor them to specific datasets and objectives."
   ]
  },
  {
   "cell_type": "code",
   "execution_count": null,
   "id": "00789d13-178f-42bd-81a8-947b666139f7",
   "metadata": {
    "tags": []
   },
   "outputs": [],
   "source": [
    "%load_ext autoreload\n",
    "%autoreload 2"
   ]
  },
  {
   "cell_type": "code",
   "execution_count": null,
   "id": "80bbff7b-ecbb-418e-83c5-84b5d19c1e48",
   "metadata": {
    "tags": []
   },
   "outputs": [],
   "source": [
    "import os\n",
    "os.chdir('/data/repos/actin-personalization/scripts/personalization/prediction_new')"
   ]
  },
  {
   "cell_type": "code",
   "execution_count": null,
   "id": "9b78c7cb-fe63-46a0-9873-be7edde348b1",
   "metadata": {
    "tags": []
   },
   "outputs": [],
   "source": [
    "from src.models import *\n",
    "from src.data.data_processing import DataSplitter, DataPreprocessor\n",
    "from src.data.lookups import LookupManager\n",
    "from src.utils.settings import settings"
   ]
  },
  {
   "cell_type": "code",
   "execution_count": null,
   "id": "295f5b2e-bc29-4325-8a49-63bac2552dc6",
   "metadata": {
    "tags": []
   },
   "outputs": [],
   "source": [
    "query = f\"SELECT * FROM {settings.view_name}\"\n",
    "preprocessor = DataPreprocessor(settings.db_config_path, settings.db_name)\n",
    "\n",
    "lookup_manager = LookupManager()\n",
    "features = lookup_manager.features"
   ]
  },
  {
   "cell_type": "markdown",
   "id": "90d87935-155b-40c6-8edc-d7c8326d2ef5",
   "metadata": {
    "tags": []
   },
   "source": [
    "## Data Preprocessing\n",
    "\n",
    "In this section, we set up the data pipeline for survival analysis. The `DataSplitter` and `DataPreprocessor` classes are used to load, preprocess, and split the data into training and testing sets. This ensures the survival data is structured appropriately for model training.\n"
   ]
  },
  {
   "cell_type": "code",
   "execution_count": null,
   "id": "04a8049d-485b-4da4-913f-510906547b42",
   "metadata": {
    "tags": []
   },
   "outputs": [],
   "source": [
    "from sksurv.util import Surv\n",
    "\n",
    "def get_data(query, features):\n",
    "    splitter = DataSplitter(test_size=0.1, random_state=42)\n",
    "    \n",
    "    df, features, encoded_columns = preprocessor.preprocess_data(query, features)\n",
    "                          \n",
    "    y = Surv.from_dataframe(event=settings.event_col, time=settings.duration_col, data=df)\n",
    "    \n",
    "    X_train, X_test, y_train, y_test = splitter.split(df[features], y, encoded_columns)\n",
    "    \n",
    "    return df, X_train, X_test, y_train, y_test, encoded_columns"
   ]
  },
  {
   "cell_type": "code",
   "execution_count": null,
   "id": "bcfbf72a-d031-43fe-ae55-812bb0cbef2f",
   "metadata": {
    "tags": []
   },
   "outputs": [],
   "source": [
    "df, X_train, X_test, y_train, y_test, encoded_columns = get_data(query, features)"
   ]
  },
  {
   "cell_type": "markdown",
   "id": "f504d62f-a330-402b-b58e-a3b3f74a9658",
   "metadata": {},
   "source": [
    "## Train and Evaluate Models\n",
    "\n",
    "This section defines the function `train_evaluate_models`, which trains various survival models using predefined configurations. The trained models are evaluated using the following metrics:\n",
    "\n",
    "- **C-Index**: The Concordance Index measures how well the predicted survival times align with the actual outcomes. It is a measure of discrimination, indicating the model's ability to correctly rank the survival times of patients. A higher value indicates better predictive accuracy.\n",
    "\n",
    "- **Integrated Brier Score (IBS)**: This metric evaluates the accuracy of the survival probability predictions over time. It combines the squared differences between predicted and actual survival probabilities, weighted by the survival distribution. Lower values indicate better predictive performance.\n",
    "\n",
    "- **Calibration Error (CE)**: Calibration error assesses how well the predicted survival probabilities match the observed probabilities. It indicates whether the model is systematically overestimating or underestimating survival probabilities. Lower values signify better calibration.\n",
    "\n",
    "- **Area Under the Curve (AUC)**: For survival models, AUC is typically computed over a time-dependent ROC curve, reflecting the model's discrimination ability at different time points. Higher AUC values indicate better overall performance.\n",
    "\n",
    "Together, these metrics provide a comprehensive evaluation of the models' predictive performance, capturing different aspects of accuracy, discrimination, and calibration.\n"
   ]
  },
  {
   "cell_type": "code",
   "execution_count": null,
   "id": "71536d40-de44-4f55-9e44-c1f1e3cc5fc7",
   "metadata": {
    "tags": []
   },
   "outputs": [],
   "source": [
    "import matplotlib.pyplot as plt\n",
    "import numpy as np\n",
    "\n",
    "def plot_different_models_survival_curves(trained_models, X_test, y_test, patient_index, actual_line = True):\n",
    "    \"\"\"\n",
    "    Plot survival curves for a specific patient using trained models.\n",
    "    \"\"\"\n",
    "    X_patient = X_test.iloc[[patient_index]]\n",
    "    actual_duration_days = y_test[patient_index][settings.duration_col]\n",
    "    actual_event = y_test[patient_index][settings.event_col]\n",
    "\n",
    "    plt.figure(figsize=(12, 8))\n",
    "    for model_name, model in trained_models.items():\n",
    "        try:\n",
    "            surv_funcs = model.predict_survival_function(X_patient)\n",
    "\n",
    "            times = np.linspace( max(fn.x[0] for fn in surv_funcs), min(fn.x[-1] for fn in surv_funcs), 100)\n",
    "            surv_probs = np.row_stack([fn(times) for fn in surv_funcs])\n",
    "            \n",
    "            plt.step(times / 30.44, surv_probs[0], where=\"post\", label=model_name)\n",
    "        except Exception as e:\n",
    "            print(f\"Error plotting survival curves for model {model_name}: {e}\")\n",
    "\n",
    "    if actual_line:\n",
    "        marker_color = 'red' if actual_event else 'blue'\n",
    "        marker_label = \"Event Time\" if actual_event else \"Censoring Time\"\n",
    "        \n",
    "        plt.axvline(x=actual_duration_days / 30.44, color=marker_color, linestyle='--', label=marker_label)\n",
    "\n",
    "    plt.title(f\"Predicted {settings.outcome} Curves\")\n",
    "    plt.xlabel(\"Time (months)\")\n",
    "    plt.ylabel(\"Survival Probability\")\n",
    "    plt.legend(loc=\"best\")\n",
    "    plt.grid(True)\n",
    "    plt.show()"
   ]
  },
  {
   "cell_type": "code",
   "execution_count": null,
   "id": "aa9317cc-59e1-430f-8e93-d3e10257d308",
   "metadata": {
    "tags": []
   },
   "outputs": [],
   "source": [
    "import pandas as pd\n",
    "import torch\n",
    "import json\n",
    "import importlib\n",
    "def save_model_output(results_df):\n",
    "    os.makedirs(settings.save_path, exist_ok=True)\n",
    "\n",
    "    csv_file = os.path.join(settings.save_path, f\"{settings.outcome}_model_outcomes.csv\")\n",
    "    if os.path.exists(csv_file):\n",
    "        existing_df = pd.read_csv(csv_file)\n",
    "        merged_df = pd.concat([existing_df, results_df]).drop_duplicates(\n",
    "            subset=['Model'], keep='last'\n",
    "        )\n",
    "        merged_df.to_csv(csv_file, index=False)\n",
    "        print(f\"Updated model outcomes saved to {csv_file}\")\n",
    "    else:\n",
    "        results_df.to_csv(csv_file, index=False)\n",
    "        print(f\"Model outcomes saved to {csv_file}\")\n",
    "\n",
    "def train_evaluate_models(query, features, configs, max_time=1825, patient_index = 78):\n",
    "    \n",
    "    df, X_train, X_test, y_train, y_test, encoded_columns = get_data(query, features)\n",
    "    \n",
    "    models = {}        \n",
    "    for model_name, (model_class, model_kwargs) in configs.items():\n",
    "        if issubclass(model_class, NNSurvivalModel):\n",
    "            model_kwargs['input_size'] = X_train.shape[1]\n",
    "        models[model_name] = model_class(**model_kwargs)\n",
    "    \n",
    "    trainer = ModelTrainer(models=models)\n",
    "    \n",
    "    results, trained_models = trainer.train_and_evaluate(\n",
    "        X_train,\n",
    "        y_train,\n",
    "        X_test,\n",
    "        y_test,\n",
    "        encoded_columns=encoded_columns,\n",
    "    )\n",
    "    \n",
    "    results_df = pd.DataFrame.from_dict(results, orient='index')\n",
    "    results_df.reset_index(inplace=True)\n",
    "    results_df.rename(columns={'index': 'Model'}, inplace=True)\n",
    "    \n",
    "    if settings.save_models:\n",
    "        save_model_output(results_df)\n",
    "        ExperimentConfig.save_model_configs(configs)\n",
    "        \n",
    "    plot_different_models_survival_curves(trained_models, X_test, y_test, patient_index)\n",
    "    \n",
    "    return results_df, trained_models"
   ]
  },
  {
   "cell_type": "markdown",
   "id": "32032079-2e45-443b-ad67-1721f39c2c4e",
   "metadata": {
    "tags": []
   },
   "source": [
    "#### Best Model Configurations\n",
    "\n",
    "The best configurations for OS and PFS models were determined using hyperparameter optimization, as defined below in this notebook. These configurations are used to instantiate the models for training and evaluation. The best configurations for the OS and PFS models are stored in `models/model_configurations`.\n"
   ]
  },
  {
   "cell_type": "code",
   "execution_count": null,
   "id": "edaa668e-6921-4cb4-bb7c-ec89e8dd902a",
   "metadata": {
    "tags": []
   },
   "outputs": [],
   "source": [
    "config = ExperimentConfig(settings.json_config_file)\n",
    "configs = config.load_model_configs()"
   ]
  },
  {
   "cell_type": "code",
   "execution_count": null,
   "id": "35973037-bcc6-4556-a0b7-93c5a2e02c67",
   "metadata": {
    "tags": []
   },
   "outputs": [],
   "source": [
    "model_outcomes, trained_models =  train_evaluate_models(query, features=features, configs=configs)\n",
    "model_outcomes"
   ]
  },
  {
   "cell_type": "markdown",
   "id": "b349b5de-8790-4b51-9882-8f4ce982de3a",
   "metadata": {},
   "source": [
    "## Model Evaluation"
   ]
  },
  {
   "cell_type": "markdown",
   "id": "34f3ce52-cd89-4fb4-89fa-fc8def4cf880",
   "metadata": {},
   "source": [
    "### Metric comparison: OS vs. PFS\n",
    "\n",
    "This section visualizes the comparison of model performance metrics (C-Index, IBS, CE, AUC) for OS and PFS. The bar plots highlight the strengths and weaknesses of each model in the two prediction tasks.\n"
   ]
  },
  {
   "cell_type": "code",
   "execution_count": null,
   "id": "ef2e27ec-61fa-47db-9b2b-54dd89f5bdf8",
   "metadata": {
    "tags": []
   },
   "outputs": [],
   "source": [
    "def load_model_outcomes():\n",
    "    csv_file = os.path.join(settings.save_path, f\"{settings.outcome}_model_outcomes.csv\")\n",
    "    \n",
    "    if os.path.exists(csv_file):\n",
    "        results_df = pd.read_csv(csv_file)\n",
    "        print(f\"Loaded model outcomes from {csv_file}\")\n",
    "    else:\n",
    "        raise FileNotFoundError(f\"No saved outcomes found for {settings.outcome} in {settings.save_path}\")\n",
    "    \n",
    "    return results_df"
   ]
  },
  {
   "cell_type": "code",
   "execution_count": null,
   "id": "6ad2a7c0-6b93-4d75-b5c3-87b83c41e138",
   "metadata": {
    "tags": []
   },
   "outputs": [],
   "source": [
    "model_outcomes = load_model_outcomes()"
   ]
  },
  {
   "cell_type": "code",
   "execution_count": null,
   "id": "b5c109ba-8bd2-47a1-8ade-3b63cbcb14b7",
   "metadata": {
    "tags": []
   },
   "outputs": [],
   "source": [
    "import seaborn as sns\n",
    "import ast\n",
    "import pandas as pd\n",
    "import matplotlib.pyplot as plt\n",
    "\n",
    "def extract_holdout_metrics(df):\n",
    "    if df['holdout'].apply(lambda x: isinstance(x, str)).any():\n",
    "        df['holdout'] = df['holdout'].apply(ast.literal_eval)\n",
    "    \n",
    "    holdout_metrics = df['holdout'].apply(pd.Series)\n",
    "    holdout_metrics['Model'] = df['Model']\n",
    "    \n",
    "    return holdout_metrics\n",
    "\n",
    "\n",
    "def plot_all_metrics(df, holdout=True):\n",
    "    metrics = ['c_index', 'ibs', 'ce', 'auc']\n",
    "    \n",
    "    fig, axes = plt.subplots(2, 2, figsize=(14, 10))\n",
    "    axes = axes.flatten()\n",
    "    \n",
    "    for ax, metric in zip(axes, metrics):\n",
    "        sns.barplot(x='Model', y=metric, data=df, ax=ax, palette='Set1')\n",
    "        title = f\"{metric.upper()} Comparison\"\n",
    "        \n",
    "        ax.set_title(title)\n",
    "        ax.set(xlabel='Model', ylabel=metric.upper())\n",
    "        ax.set_xticklabels(ax.get_xticklabels(), rotation=45)\n",
    "        ax.grid(axis='y', linestyle='--', alpha=0.7)\n",
    "        \n",
    "        if metric in ['c_index', 'auc']:\n",
    "            ax.set_ylim(0, 1)\n",
    "        \n",
    "        # Set bar colors based on the metric values for some visual weighting\n",
    "        min_val, max_val = df[metric].min(), df[metric].max()\n",
    "        cmap = sns.light_palette(\"#79C\", as_cmap=True)\n",
    "        for patch in ax.patches:\n",
    "            height = patch.get_height()\n",
    "            normalized = (height - min_val) / (max_val - min_val) if max_val > min_val else 0.5\n",
    "            patch.set_facecolor(cmap(0.4 + 0.8 * normalized))\n",
    "    \n",
    "    plt.tight_layout()\n",
    "    plt.show()\n",
    "    \n",
    "    return df"
   ]
  },
  {
   "cell_type": "code",
   "execution_count": null,
   "id": "8f799e6a-4946-4187-b087-dde792f84752",
   "metadata": {
    "tags": []
   },
   "outputs": [],
   "source": [
    "plot_all_metrics(model_outcomes)"
   ]
  },
  {
   "cell_type": "markdown",
   "id": "872752ce-54d4-45bb-a775-418a0159daee",
   "metadata": {},
   "source": [
    "### Import Trained Models\n",
    "The pretrained models are stored in the Google Cloud Storage bucket: `gs://actin-personalization-models-v1/trained_models/`. \n",
    "\n",
    "To download the saved models from the bucket to the trained_models map, run the following command in your terminal:\n",
    "\n",
    "`gsutil -m cp -r gs://actin-personalization-models-v1/trained_models/./trained_models/`\n",
    "\n",
    "Make sure the trained_models folder is inside the models folder.\n"
   ]
  },
  {
   "cell_type": "code",
   "execution_count": null,
   "id": "30bad84d-bd4b-4d9d-a663-cb281dcacc04",
   "metadata": {
    "tags": []
   },
   "outputs": [],
   "source": [
    "import dill\n",
    "from src.models.survival_models import NNSurvivalModel\n",
    "\n",
    "def load_trained_model(model_name, model_class, model_kwargs={}):\n",
    "    model_file_prefix = os.path.join(settings.save_path, f\"{settings.outcome}_{model_name}\")\n",
    "    nn_file = model_file_prefix + \".pt\"\n",
    "    sk_file = model_file_prefix + \".pkl\"\n",
    "        \n",
    "    if model_name in ['CoxPH', 'RandomSurvivalForest', 'GradientBoosting', 'AalenAdditive']:\n",
    "        with open(sk_file, \"rb\") as f:\n",
    "            model = dill.load(f)\n",
    "        print(f\"Model {model_name} loaded from {sk_file}\")\n",
    "        return model\n",
    "    else:\n",
    "        model = model_class(**model_kwargs)\n",
    "    \n",
    "        model.model.net.load_state_dict(torch.load(nn_file, map_location=torch.device('cpu')))\n",
    "        model.model.net.eval()\n",
    "        print(f\"Model {model_name} loaded from {nn_file}\")\n",
    "        return model"
   ]
  },
  {
   "cell_type": "code",
   "execution_count": null,
   "id": "729e627c-9d7f-4707-acc8-08298d790452",
   "metadata": {
    "tags": []
   },
   "outputs": [],
   "source": [
    "def load_all_trained_models():\n",
    "    loaded_models = {}\n",
    "    config_mgr = ExperimentConfig(settings.json_config_file)\n",
    "    loaded_configs = config_mgr.load_model_configs()\n",
    "\n",
    "    for model_name, (model_class, model_kwargs) in loaded_configs.items():\n",
    "        loaded_model = load_trained_model(\n",
    "            model_name=model_name, \n",
    "            model_class=model_class, \n",
    "            model_kwargs=model_kwargs\n",
    "        )\n",
    "        loaded_models[model_name] = loaded_model\n",
    "    return loaded_models\n",
    "\n",
    "trained_models_test = load_all_trained_models()"
   ]
  },
  {
   "cell_type": "markdown",
   "id": "337edebf-e6a2-4abe-84ae-13b879563003",
   "metadata": {},
   "source": [
    "### Time-Dependent ROC-AUC\n",
    "\n",
    "This section visualizes the ROC curves and computes the AUC for survival models at specific time intervals for both OS and PFS. By evaluating the models' discriminative performance over time, we identify which models perform best at different prediction horizons.\n",
    "\n",
    "Time interval:\n",
    "- **Overall Survival (OS)**: For OS, the follow-up times in the dataset extend up to 5 years, allowing us to evaluate model performance over this longer horizon. As survival outcomes often have a broader timespan, a 5-year evaluation provides a comprehensive view of the model's ability to predict long-term survival.\n",
    "\n",
    "- **Progression-Free Survival (PFS)**: In contrast, PFS events typically occur sooner than OS events. Instead, we limit the PFS analysis to 3 years, which encompasses the majority of observed progression events while maintaining meaningful statistical power.\n",
    "\n",
    "The ROC curves for the best-performing models (Gradient Boosting, CoxPH, DeepSurv, and RSF) are plotted for each time interval, showcasing how well the models distinguish patients at risk across the respective timeframes for OS and PFS.\n"
   ]
  },
  {
   "cell_type": "code",
   "execution_count": null,
   "id": "35cccb8e-0024-41f8-9321-f41d48b7ce93",
   "metadata": {
    "tags": []
   },
   "outputs": [],
   "source": [
    "import numpy as np\n",
    "import pandas as pd\n",
    "import matplotlib.pyplot as plt\n",
    "from sksurv.util import Surv\n",
    "from sksurv.metrics import cumulative_dynamic_auc\n",
    "\n",
    "def calculate_time_dependent_auc_for_models(model_dict, X_train, y_train, X_test, y_test, time_points):\n",
    "  \n",
    "    y_train_df = pd.DataFrame({'duration': y_train[settings.duration_col], 'event': y_train[settings.event_col]}, index=X_train.index)\n",
    "    y_train_struct = Surv.from_dataframe('event', 'duration', y_train_df)\n",
    "\n",
    "    y_test_df = pd.DataFrame({'duration': y_test[settings.duration_col], 'event': y_test[settings.event_col]}, index=X_test.index)\n",
    "    y_test_struct = Surv.from_dataframe('event', 'duration', y_test_df)\n",
    "\n",
    "    auc_results = {}\n",
    "\n",
    "    for model_name, model in model_dict.items():\n",
    "        if hasattr(model, \"model\") and hasattr(model.model, \"predict\"):\n",
    "            preds = model.model.predict(X_test.values.astype(\"float32\"))\n",
    "        else:\n",
    "            preds = model.predict(X_test)\n",
    "\n",
    "        if preds.ndim == 1:\n",
    "            risk_scores = preds\n",
    "        elif preds.shape[1] == 1:\n",
    "            risk_scores = preds.ravel()\n",
    "        else:\n",
    "            T = preds.shape[1]\n",
    "            desired_T = len(time_points)\n",
    "            if T == desired_T:\n",
    "                risk_scores = preds\n",
    "            elif T % desired_T == 0:\n",
    "                factor = T // desired_T\n",
    "                risk_scores = preds[:, ::factor]\n",
    "\n",
    "        auc_values, mean_auc = cumulative_dynamic_auc(y_train_struct, y_test_struct, risk_scores, time_points)\n",
    "        auc_results[model_name] = (auc_values, mean_auc)\n",
    "\n",
    "    plt.figure(figsize=(10, 6))\n",
    "    years = [t / 365.0 for t in time_points]\n",
    "\n",
    "    for model_name, (auc_vals, mean_auc) in auc_results.items():\n",
    "        plt.plot(years, auc_vals, marker='o', label=f\"{model_name} (Mean AUC={mean_auc:.3f})\")\n",
    "\n",
    "    plt.xlabel(\"Time (years)\")\n",
    "    plt.ylabel(\"Time-Dependent AUC\")\n",
    "    plt.title(settings.outcome)\n",
    "    plt.legend(loc=\"lower right\")\n",
    "    plt.grid(True)\n",
    "    plt.show()\n",
    "\n",
    "    return auc_results\n"
   ]
  },
  {
   "cell_type": "code",
   "execution_count": null,
   "id": "c7639369-8b42-442d-ab01-c60138daca29",
   "metadata": {
    "tags": []
   },
   "outputs": [],
   "source": [
    "models_to_plot = {\n",
    "    \"DeepSurv\": trained_models[\"DeepSurv\"],\n",
    "    # \"LogisticHazardModel\": trained_models[\"LogisticHazardModel\"],\n",
    "    # \"DeepHitModel\": trained_models[\"DeepHitModel\"],\n",
    "    # \"PCHazardModel\": trained_models[\"PCHazardModel\"],\n",
    "    # \"MTLRModel\": trained_models[\"MTLRModel\"],\n",
    "    # \"GradientBoosting\": trained_models[\"GradientBoosting\"],   \n",
    "    # \"RandomSurvivalForest\": trained_models[\"RandomSurvivalForest\"],    \n",
    "}\n",
    "\n",
    "calculate_time_dependent_auc_for_models(\n",
    "    models_to_plot, X_train, y_train, X_test, y_test, \n",
    "    time_points=settings.time_points\n",
    ")"
   ]
  },
  {
   "cell_type": "markdown",
   "id": "1891e14b-ef35-496d-8030-e08d08095e9a",
   "metadata": {},
   "source": [
    "### Performance per Treatment\n",
    "To assess model performance across treatment groups, we evaluate metrics for each treatment. For every treatment column, the dataset is filtered to include only the relevant patients. The model generates survival or risk predictions for these patients, and metrics are calculated based on their outcomes.\n",
    "\n",
    "**Note on inflated metrics:**\n",
    "Since we evaluate the model on the full dataset, including data it was trained on, the performance metrics might be inflated compared to an evaluation on unseen test data. This occurs because the model has already seen and learned from some of these patients during training.\n",
    "\n",
    "**Why this is still useful**\n",
    "Despite the potential inflation, this approach remains valuable for exploring the model’s predictions across different treatment groups. It allows us to identify patterns, strengths, or weaknesses in how the model handles specific treatments, which can guide further refinements or highlight treatment groups requiring more robust predictions.\n"
   ]
  },
  {
   "cell_type": "code",
   "execution_count": null,
   "id": "1808b046-4a86-4bdd-9eb1-bf27f07f0253",
   "metadata": {
    "tags": []
   },
   "outputs": [],
   "source": [
    "def binarize_scaled_treatment_cols(X: pd.DataFrame, col_prefix=\"systemicTreatmentPlan\") -> pd.DataFrame:\n",
    "    \"\"\"\n",
    "    Given an X DataFrame where certain columns named like\n",
    "    'systemicTreatmentPlan_*' have been scaled but originally were binary (0/1),\n",
    "    map them back to 0/1.\n",
    "    \"\"\"\n",
    "    X = X.copy()\n",
    "    treatment_cols = [c for c in X.columns if col_prefix in c]\n",
    "    \n",
    "    for col in treatment_cols:\n",
    "        unique_vals = sorted(X[col].unique())\n",
    "        if len(unique_vals) == 2:\n",
    "            low_val, high_val = unique_vals\n",
    "            X[col] = X[col].apply(\n",
    "                lambda x: 1 if abs(x - high_val) < 1e-8 else 0\n",
    "            )\n",
    "        else:\n",
    "            print(f\"Warning: {col} has {len(unique_vals)} distinct values, cannot binarize cleanly.\")\n",
    "    \n",
    "    return X\n",
    "\n",
    "def evaluate_model_by_treatment(\n",
    "    model, df, model_name, col_prefix='systemicTreatmentPlan'\n",
    "):\n",
    "    trainer = ModelTrainer(models={})\n",
    "\n",
    "    treatment_cols = [col for col in df.columns if col_prefix in col]\n",
    "    results_list = []\n",
    "\n",
    "    y_df = pd.DataFrame({\n",
    "        \"duration\": df[settings.duration_col],\n",
    "        \"event\": df[settings.event_col].astype(bool)\n",
    "    }, index=df.index)\n",
    "    y_struct = Surv.from_dataframe(\"event\", \"duration\", y_df)\n",
    "\n",
    "    for t_col in treatment_cols:\n",
    "        X_sub = df[df[t_col] == 1].drop(columns=[settings.event_col, settings.duration_col])\n",
    "        y_sub = y_df.loc[X_sub.index]\n",
    "        \n",
    "        y_sub_struct = Surv.from_dataframe(\"event\", \"duration\", y_sub)\n",
    "\n",
    "        metrics = trainer._evaluate_model(\n",
    "            model=model,\n",
    "            X_val=X_sub,\n",
    "            y_train_structured=y_struct, \n",
    "            y_val_structured=y_sub_struct,\n",
    "            model_name=model_name\n",
    "        )\n",
    "\n",
    "        results_list.append({\n",
    "            \"treatment_column\": t_col,\n",
    "            \"patient_count\": len(X_sub),\n",
    "            **metrics\n",
    "        })\n",
    "\n",
    "    return pd.DataFrame(results_list)"
   ]
  },
  {
   "cell_type": "code",
   "execution_count": null,
   "id": "05c57650-b563-4089-9feb-71b03bf8f314",
   "metadata": {
    "tags": []
   },
   "outputs": [],
   "source": [
    "models_to_evaluate = {\n",
    "    \"DeepSurv\": trained_models[\"DeepSurv\"]\n",
    "    # \"GradientBoosting\": trained_models[\"GradientBoosting\"],\n",
    "    # \"RandomSurvivalForest\": trained_models[\"RandomSurvivalForest\"]\n",
    "}\n",
    "\n",
    "df = binarize_scaled_treatment_cols(df)\n",
    "\n",
    "for model_name, model_instance in models_to_evaluate.items():\n",
    "    results_df = evaluate_model_by_treatment(\n",
    "        model=model_instance,\n",
    "        df=df,\n",
    "        model_name=model_name\n",
    "    )\n",
    "    print(f\"Metrics per treatment for {model_name}:\\n\", results_df)"
   ]
  },
  {
   "cell_type": "markdown",
   "id": "fad4b5b0-2b9e-4668-b0f4-3a637ec18c59",
   "metadata": {},
   "source": [
    "## Model Interpretation"
   ]
  },
  {
   "cell_type": "markdown",
   "id": "2c720f46-894f-4c4a-a22a-8e6997afb1c9",
   "metadata": {
    "tags": []
   },
   "source": [
    "### Feature Importance\n",
    "\n",
    "Feature importance analysis helps us identify which features most strongly influence survival predictions across various models. In this section SHAP (SHapley Additive exPlanations) is used for all models to ensure uniformity and interpretability. SHAP values provide a consistent and locally accurate measure of feature importance for individual predictions.\n",
    "\n",
    "How SHAP is used:\n",
    "- For classical models like CoxPH and Aalen Additive, SHAP values are calculated based on risk scores or cumulative hazard coefficients. Custom prediction functions are used when necessary (e.g., for Aalen Additive) to align feature importance with model-specific outputs.\n",
    "- For tree-based models like Random Survival Forest (RSF) and Gradient Boosting Survival Model (GBM), SHAP values replace traditional feature importance metrics to ensure consistency.\n",
    "- For neural network-based models like DeepSurv and DeepHit, SHAP values are derived using the model's prediction function.\n",
    "\n",
    "#### Visualization\n",
    "SHAP provides the following insights:\n",
    "- Summary Plot - Bar: Displays the average magnitude of SHAP values for each feature, indicating the overall importance of features in the model.\n",
    "- Summary Plot - Dot: Highlights the distribution of SHAP values for each feature, showing their impact across different samples.\n"
   ]
  },
  {
   "cell_type": "code",
   "execution_count": null,
   "id": "6443da54-c635-4f62-8c24-d0c44b19e5bf",
   "metadata": {
    "tags": []
   },
   "outputs": [],
   "source": [
    "import shap\n",
    "\n",
    "def nn_predict(X, model, X_train):\n",
    "    if isinstance(X, np.ndarray):\n",
    "        X = pd.DataFrame(X, columns=X_train.columns)\n",
    "    X_tensor = X.values.astype('float32')\n",
    "    return model.model.predict(X_tensor)\n",
    "\n",
    "def custom_aalen_predict(X, model):\n",
    "    \"\"\"\n",
    "    Custom predict function for AalenAdditiveModel.\n",
    "    Aligns cumulative hazard coefficients with input features.\n",
    "    \"\"\"\n",
    "    cumulative_coefs = model.model.cumulative_hazards_\n",
    "    X = X[model.selected_features].copy()\n",
    "\n",
    "    # Interpolate coefficients at the latest time point\n",
    "    latest_coefs = cumulative_coefs.iloc[-1].values\n",
    "    \n",
    "    if len(latest_coefs) > X.shape[1]:\n",
    "        X = X.copy()\n",
    "        X.insert(0, \"Intercept\", 1.0)  \n",
    "\n",
    "    X_array = X.values\n",
    "    risk_scores = np.einsum('ij,j->i', X_array, latest_coefs)\n",
    "    return risk_scores\n",
    "\n",
    "def shap_interpret_model(model_name, model, X_train, max_features=20, shap_sample=200):\n",
    "\n",
    "    X_sample = X_train.sample(min(shap_sample, len(X_train)), random_state=42)\n",
    "\n",
    "    predict_functions = {\n",
    "        'AalenAdditive': lambda X: custom_aalen_predict(X, model),\n",
    "        'default': model.predict\n",
    "    }\n",
    "\n",
    "    if model_name == 'AalenAdditive':\n",
    "        prediction_fn = predict_functions['AalenAdditive']\n",
    "    else:\n",
    "        try:\n",
    "            model.predict(X_sample.head(1))\n",
    "            prediction_fn = predict_functions['default']\n",
    "        except:\n",
    "            prediction_fn = lambda x: nn_predict(x, model, X_train)\n",
    "\n",
    "    explainer = shap.Explainer(prediction_fn, X_sample)\n",
    "    shap_values = explainer(X_sample)\n",
    "\n",
    "    print(f\"SHAP Summary for {model_name}:\")\n",
    "\n",
    "    if len(shap_values.values.shape) == 3: #If time dimension present\n",
    "        aggregated_shap = shap_values.values.mean(axis=1)\n",
    "        shap.summary_plot(aggregated_shap, features=X_sample, plot_type=\"bar\", max_display=max_features)\n",
    "        shap.summary_plot(aggregated_shap, features=X_sample, max_display=max_features)\n",
    "    else:\n",
    "        shap.summary_plot(shap_values, features=X_sample, plot_type=\"bar\", max_display=max_features)\n",
    "        shap.summary_plot(shap_values, features=X_sample, max_display=max_features)"
   ]
  },
  {
   "cell_type": "code",
   "execution_count": null,
   "id": "8ccc39cc-ef1f-4c13-9ea2-cb530ed03666",
   "metadata": {
    "tags": []
   },
   "outputs": [],
   "source": [
    "for model_name, model_instance in trained_models.items():\n",
    "    print(f\"\\n--- Interpreting {model_name} ---\")\n",
    "    shap_interpret_model(model_name, model_instance, X_train)"
   ]
  },
  {
   "cell_type": "markdown",
   "id": "411e861f-eb6d-4e14-9a66-e041a032eeb6",
   "metadata": {},
   "source": [
    "### Model Output"
   ]
  },
  {
   "cell_type": "markdown",
   "id": "304dbd4d-ed90-48f2-824e-171765f64825",
   "metadata": {
    "tags": []
   },
   "source": [
    "### Median Survival Time Calculation\n",
    "\n",
    " Rather than relying on the mean survival time (which can be skewed by tail behavior), we focus on the median survival time, defined as the time point t at which the survival function S(t) first drops below 0.5. This metric is often more robust in practical settings, as it is less sensitive to subtle differences in the survival curve’s tail.\n",
    "\n",
    "The median survival time is obtained by scanning the survival curve from time zero until finding the earliest point where S(t)≤0.5. If the survival probability never dips below 0.5 within the observed follow-up, the median is considered to be at (or beyond) the maximum time point in our data.\n",
    "\n"
   ]
  },
  {
   "cell_type": "code",
   "execution_count": null,
   "id": "4b44090f-2705-49b8-a294-1db86cd58236",
   "metadata": {},
   "outputs": [],
   "source": [
    "def get_median_and_quartiles_survival_time(times, surv_probs):\n",
    "    \"\"\"\n",
    "    Finds the median (50th percentile), 1st quartile (25th percentile), and \n",
    "    3rd quartile (75th percentile) survival times.\n",
    "    \"\"\"\n",
    "    times = np.asarray(times, dtype=float)\n",
    "    surv_probs = np.asarray(surv_probs, dtype=float)\n",
    "\n",
    "    def find_time_for_percentile(percentile):\n",
    "        for i in range(1, len(times)):\n",
    "            if surv_probs[i] <= percentile:\n",
    "                x0, x1 = times[i - 1], times[i]\n",
    "                y0, y1 = surv_probs[i - 1], surv_probs[i]\n",
    "                frac = (percentile - y0) / (y1 - y0)\n",
    "                return x0 + frac * (x1 - x0)\n",
    "        return times[-1]\n",
    "\n",
    "    median_time = find_time_for_percentile(0.5)\n",
    "    q1_time = find_time_for_percentile(0.75)  # Q1: 75% survival probability\n",
    "    q3_time = find_time_for_percentile(0.25)  # Q3: 25% survival probability\n",
    "\n",
    "    return median_time, q1_time, q3_time\n"
   ]
  },
  {
   "cell_type": "markdown",
   "id": "54aa24f9-32ef-4a06-a01b-8685750e5314",
   "metadata": {},
   "source": [
    "#### Comparison of Treatments\n",
    "In this section the predicted survival probabilities are visualized for a single patient under different treatment scenarios. By simulating the patient receiving each available treatment, we can compare how the model predicts their survival trajectory across treatments.\n",
    "\n",
    "This analysis provides insights into the model's predictions for different treatment options, helping to identify potentially better treatment choices for the patient based on the predicted survival probabilities over time."
   ]
  },
  {
   "cell_type": "code",
   "execution_count": null,
   "id": "5f358949-9dc1-4363-ac98-c771ddba4287",
   "metadata": {
    "tags": []
   },
   "outputs": [],
   "source": [
    "import numpy as np\n",
    "import pandas as pd\n",
    "import matplotlib.pyplot as plt\n",
    "from matplotlib.lines import Line2D\n",
    "\n",
    "def plot_survival_curves_for_different_treatment_options(model, X_test, y_test, X_train, y_train, patient_index, treatment_col, plot_title):\n",
    "    # Ensure patient row is in the same column order as used for training.\n",
    "    X_patient_original = X_test.iloc[[patient_index]].copy()\n",
    "    X_patient_original = X_patient_original[X_test.columns]  # Enforce same order\n",
    "\n",
    "    # Identify treatment columns by checking if the lowercase substring is in the column name.\n",
    "    treatment_cols = [col for col in X_test.columns if treatment_col.lower() in col.lower()]\n",
    "    if len(treatment_cols) == 0:\n",
    "        print(f\"No columns found containing '{treatment_col}' in X_test.columns\")\n",
    "        return pd.DataFrame()  # Return empty DataFrame if none are found\n",
    "\n",
    "    # Build treatment options: if only one treatment column exists, use binary options;\n",
    "    # if multiple, then each option sets one column to 1.\n",
    "    treatment_options = []\n",
    "    if len(treatment_cols) == 1:\n",
    "        t = treatment_cols[0]\n",
    "        treatment_options.append((\"No Treatment\", {t: 0}))\n",
    "        treatment_options.append((\"Treatment\", {t: 1}))\n",
    "    else:\n",
    "        for t in treatment_cols:\n",
    "            # Remove the treatment substring and any leading underscore for a clean label.\n",
    "            treatment_name = t.replace(treatment_col, \"\").lstrip(\"_\")\n",
    "            treatment_options.append((treatment_name if treatment_name else t, {t: 1}))\n",
    "\n",
    "    # Define time vectors.\n",
    "    times = np.arange(1, settings.max_time, 30)  # times in days\n",
    "    months_to_check = [6, 12, 18, 24, 30, 36]\n",
    "    time_points_days = np.array(months_to_check) * 30\n",
    "\n",
    "    plt.figure(figsize=(10, 6))\n",
    "    df_treatment_probabilities = []\n",
    "    colors = plt.cm.tab20(np.linspace(0, 1, len(treatment_options)))\n",
    "\n",
    "    # Loop over each treatment option.\n",
    "    for i, (treatment_label, option) in enumerate(treatment_options):\n",
    "        # Start from a copy of the patient row ensuring same column ordering.\n",
    "        X_patient = X_patient_original.copy()\n",
    "        # Set all treatment columns to 0.\n",
    "        for col in treatment_cols:\n",
    "            X_patient[col] = 0\n",
    "        # Update with the option.\n",
    "        for col, value in option.items():\n",
    "            X_patient[col] = value\n",
    "\n",
    "        try:\n",
    "            # Get survival prediction functions.\n",
    "            surv_funcs = model.predict_survival_function(X_patient)\n",
    "            if not surv_funcs:\n",
    "                print(f\"No survival function returned for treatment: {treatment_label}\")\n",
    "                continue\n",
    "\n",
    "            surv_func = surv_funcs[0]\n",
    "            surv_probs = surv_func(times)\n",
    "            plt.step(times, surv_probs, where=\"post\", color=colors[i], label=treatment_label)\n",
    "\n",
    "            # Annotate with median survival time.\n",
    "            median, q1, q3 = get_median_and_quartiles_survival_time(times, surv_probs)\n",
    "            median_surv = surv_func(median)\n",
    "            plt.text(median, median_surv, f\"{int(median)}\", fontsize=9, \n",
    "                     bbox=dict(facecolor=\"white\", edgecolor=colors[i], boxstyle=\"round,pad=0.2\"),\n",
    "                     color=\"black\")\n",
    "\n",
    "            # Collect survival probabilities at given month points.\n",
    "            month_probs = surv_func(time_points_days)\n",
    "            for month, prob in zip(months_to_check, month_probs):\n",
    "                df_treatment_probabilities.append({\n",
    "                    \"Treatment\": treatment_label,\n",
    "                    \"Month\": month,\n",
    "                    \"SurvivalProbability\": prob\n",
    "                })\n",
    "        except Exception as e:\n",
    "            print(f\"Error plotting survival curves for treatment '{treatment_label}': {e}\")\n",
    "\n",
    "    # Create custom legend.\n",
    "    handles = [Line2D([0], [0], color=colors[i], lw=2) for i in range(len(treatment_options))]\n",
    "    labels = [opt[0] for opt in treatment_options]\n",
    "    plt.legend(handles, labels, loc=\"best\")\n",
    "\n",
    "    plt.title(plot_title)\n",
    "    plt.xlabel(\"Time (days)\")\n",
    "    plt.ylabel(\"Survival Probability\")\n",
    "    plt.grid(True)\n",
    "    plt.tight_layout()\n",
    "    plt.show()\n",
    "\n",
    "    return pd.DataFrame(df_treatment_probabilities)\n"
   ]
  },
  {
   "cell_type": "code",
   "execution_count": null,
   "id": "624c3262-7f8d-49e2-b2ec-100c4f1b2dfd",
   "metadata": {
    "tags": []
   },
   "outputs": [],
   "source": [
    "best_model = \"DeepSurv\"\n",
    "plot_survival_curves_for_different_treatment_options(\n",
    "    model=trained_models[best_model],\n",
    "    X_test=X_test,\n",
    "    y_test=y_test,\n",
    "    X_train = X_train, \n",
    "    y_train = y_train,\n",
    "    patient_index=100,\n",
    "    treatment_col=\"treatment\",\n",
    "    plot_title=f\"{settings.outcome}: {settings.experiment_type}\"\n",
    ")"
   ]
  },
  {
   "cell_type": "markdown",
   "id": "b9634b15-ade7-43c9-b43f-d2349fb39ed6",
   "metadata": {},
   "source": [
    "#### Comparison of Models\n",
    "Next, we focus on the patient's actual treatment choice and compare the predictions from the two best-performing models. By evaluating the survival curves generated by both models for the chosen treatment, we assess their agreement and gain a deeper understanding of the patient-specific predictions."
   ]
  },
  {
   "cell_type": "code",
   "execution_count": null,
   "id": "3f09eefb-7704-475d-8845-c536440e5f33",
   "metadata": {
    "tags": []
   },
   "outputs": [],
   "source": [
    "plot_different_models_survival_curves(\n",
    "    trained_models=models_to_evaluate,\n",
    "    X_test=X_test,\n",
    "    y_test=y_test,\n",
    "    patient_index=101\n",
    ")"
   ]
  },
  {
   "cell_type": "code",
   "execution_count": null,
   "id": "4ba2354e-b6c5-4637-89fc-9386bdef186a",
   "metadata": {
    "tags": []
   },
   "outputs": [],
   "source": [
    "import warnings\n",
    "warnings.filterwarnings(\"ignore\", category=FutureWarning)"
   ]
  },
  {
   "cell_type": "markdown",
   "id": "d3768f59-ef5b-4a52-9d1e-c08d8d55f8f2",
   "metadata": {},
   "source": [
    "### Look at NCR specific patient"
   ]
  },
  {
   "cell_type": "code",
   "execution_count": null,
   "id": "a932f182-83a7-4af1-a155-c1ba6078f08b",
   "metadata": {
    "tags": []
   },
   "outputs": [],
   "source": [
    "def get_raw_patient_row(query: str, db_config_path: str, db_name: str, ncrId: int):\n",
    "    import pymysql\n",
    "    connection = pymysql.connect(\n",
    "        read_default_file=db_config_path,\n",
    "        read_default_group='RAnalysis',\n",
    "        db=db_name\n",
    "    )\n",
    "    raw_df = pd.read_sql(query, connection)\n",
    "    connection.close()\n",
    "    raw_df = raw_df[raw_df[\"ncrId\"] == ncrId]\n",
    "    return raw_df.iloc[0] if not raw_df.empty else None\n",
    "\n",
    "def plot_survival_curves_for_ncrId_different_treatments(model, query, ncrId, features, treatment_col_prefix=\"systemicTreatmentPlan\", group_treatments=False, plot_title=\"Survival Curves\"):\n",
    "\n",
    "    features_with_id = features.copy()\n",
    "    if \"ncrId\" not in features_with_id:\n",
    "        features_with_id.insert(0, \"ncrId\")\n",
    "    \n",
    "    df, updated_features, encoded_columns = preprocessor.preprocess_data(query, features_with_id)\n",
    "    \n",
    "    patient_df = df[df[\"ncrId\"] == ncrId]\n",
    "    if patient_df.empty:\n",
    "        print(f\"No patient found with ncrId {ncrId}\")\n",
    "        return\n",
    "    \n",
    "    row = patient_df.iloc[0]\n",
    "    \n",
    "    raw_row = get_raw_patient_row(query, preprocessor.db_config_path, preprocessor.db_name, ncrId)\n",
    "\n",
    "    print(f\"\\n🧬 Patient {ncrId} characteristics:\")\n",
    "    print(f\"  - Age at metastasis detection: {raw_row.get('ageAtMetastasisDetection', 'NA')}\")\n",
    "    print(f\"  - WHO status: {raw_row.get('whoStatusPreTreatmentStart', 'NA')}\")\n",
    "    print(f\"  - MSI status: {'MSI' if row.get('hasMsi', 0) == 1 else 'MSS or NA'}\")\n",
    "    print(f\"  - BRAF mutation: {'Yes' if row.get('hasBrafMutation', 0) == 1 else 'No'}\")\n",
    "    print(f\"  - BRAF V600E: {'Yes' if row.get('hasBrafV600EMutation', 0) == 1 else 'No'}\")\n",
    "    print(f\"  - KRAS G12C: {'Yes' if row.get('hasKrasG12CMutation', 0) == 1 else 'No'}\")\n",
    "    print(f\"  - RAS mutation: {'Yes' if row.get('hasRasMutation', 0) == 1 else 'No'}\")\n",
    "       \n",
    "    X_patient_base = patient_df.drop(columns=[\"ncrId\", \"ncrId_missing\", settings.event_col, settings.duration_col]).copy()\n",
    "    \n",
    "    treatment_cols = [col for col in X_patient_base.columns if col.startswith(treatment_col_prefix)]\n",
    "    actual_treatments = [col[len(treatment_col_prefix)+1:] for col in treatment_cols if row.get(col, 0) == 1]\n",
    "    print(f\"  - Actual received treatment: {', '.join(actual_treatments) if actual_treatments else 'No Treatment'}\\n\")\n",
    "    \n",
    "    treatment_options = [(\"No Treatment\", {tc: 0 for tc in treatment_cols})]\n",
    "    \n",
    "    for tc in treatment_cols:\n",
    "        option = {t: 0 for t in treatment_cols}\n",
    "        option[tc] = 1\n",
    "        treatment_label = tc[len(treatment_col_prefix)+1:] \n",
    "        treatment_options.append((treatment_label, option))\n",
    "    \n",
    "    actual_duration_days = patient_df[settings.duration_col].iloc[0]\n",
    "    actual_event = patient_df[settings.event_col].iloc[0]\n",
    "    \n",
    "    plt.figure(figsize=(12, 8))\n",
    "    colors = plt.cm.tab20(np.linspace(0, 1, len(treatment_options)))\n",
    "    \n",
    "    for i, (treatment_label, treatment_vals) in enumerate(treatment_options):\n",
    "        X_patient_modified = X_patient_base.copy()\n",
    "        for tc in treatment_cols:\n",
    "            X_patient_modified[tc] = 0\n",
    "        for tc, val in treatment_vals.items():\n",
    "            X_patient_modified[tc] = val\n",
    "      \n",
    "        try:\n",
    "            surv_funcs = model.predict_survival_function(X_patient_modified)\n",
    "\n",
    "            times = np.linspace(\n",
    "                max(fn.x[0] for fn in surv_funcs),\n",
    "                min(fn.x[-1] for fn in surv_funcs),\n",
    "                100\n",
    "            )\n",
    "            surv_probs = np.row_stack([fn(times) for fn in surv_funcs])\n",
    "            plt.step(times / 30.44, surv_probs[0], where=\"post\",\n",
    "                     color=colors[i],\n",
    "                     label=f\"{model_name}: {treatment_label}\")\n",
    "        except Exception as e:\n",
    "            print(f\"Error plotting survival curves for model {model_name} with treatment {treatment_label}: {e}\")\n",
    "    \n",
    "    marker_color = 'red' if actual_event else 'blue'\n",
    "    marker_label = \"Event Time\" if actual_event else \"Censoring Time\"\n",
    "    plt.axvline(x=actual_duration_days / 30.44, color=marker_color, linestyle='--', label=marker_label)\n",
    "    \n",
    "    plt.title(f\"{plot_title} for ncrId: {ncrId}\")\n",
    "    plt.xlabel(\"Time (months)\")\n",
    "    plt.ylabel(\"Survival Probability\")\n",
    "    plt.legend(loc=\"best\")\n",
    "    plt.grid(True)\n",
    "    plt.show()\n"
   ]
  },
  {
   "cell_type": "code",
   "execution_count": null,
   "id": "a913b601-3b3d-4a6f-a04d-e2f9f12f4422",
   "metadata": {
    "tags": []
   },
   "outputs": [],
   "source": [
    "plot_survival_curves_for_ncrId_different_treatments(\n",
    "    model=trained_models['DeepSurv'],\n",
    "    query=query,\n",
    "    ncrId=950861304,\n",
    "    features=lookup_manager.features,\n",
    "    group_treatments=False,\n",
    "    plot_title=f\"{settings.outcome}: Survival Curves\"\n",
    ")\n",
    "# 159624204\n",
    "# 176910304 --> not in current patient selection\n",
    "# 663891304\n",
    "# 950861304\n",
    "# 916540204\n",
    "# 418308204 --> Not in current patient selection\n",
    "# 21990204\n",
    "# 324550204\n",
    "# 159624204"
   ]
  },
  {
   "cell_type": "markdown",
   "id": "93cbb53f-7bfa-4c9f-bf05-3f0582e543b8",
   "metadata": {},
   "source": [
    "## Feature Selection\n",
    "\n",
    "Explicit feature selection is applied to CoxPH and Aalen Additive model to improve interpretability and reduce noise:\n",
    "\n",
    "- `CoxPH`: \n",
    "    - Features with high p-values (non-significant) are removed.\n",
    "    - Multicollinearity is addressed by excluding highly correlated predictors.\n",
    "- `Aalen Additive`:\n",
    "    - Features with low cumulative impact (mean absolute coefficients near zero) are excluded.\n",
    "    \n",
    "Other models, such as tree-based or neural survival models, inherently manage feature selection through their architecture or regularization techniques, making explicit feature filtering unnecessary.\n"
   ]
  },
  {
   "cell_type": "code",
   "execution_count": null,
   "id": "f06dae5a-17b2-4640-83a2-0fc9a02073f8",
   "metadata": {},
   "outputs": [],
   "source": [
    "def feature_select_coxph(model, X_train, threshold=0.01):\n",
    "    \"\"\"\n",
    "    For CoxPH: Remove features with abs(coef) < threshold.\n",
    "    \"\"\"\n",
    "    if hasattr(model.model, 'coef_'):\n",
    "        coefs = model.model.coef_\n",
    "        feature_mask = np.abs(coefs) > threshold\n",
    "        retained = model.selected_features[feature_mask]\n",
    "        if len(retained) == 0:\n",
    "            retained = model.selected_features\n",
    "        return retained\n",
    "    else:\n",
    "        return model.selected_features\n",
    "\n",
    "def feature_select_aalen_additive(model, X_train, threshold=0.001):\n",
    "    \"\"\"\n",
    "    For AalenAdditive: Remove features with mean absolute cumulative coefficient < threshold.\n",
    "    \"\"\"\n",
    "    if not model.model.cumulative_hazards_.empty:\n",
    "        cum_haz = model.model.cumulative_hazards_\n",
    "        mean_abs_coefs = cum_haz.abs().mean()\n",
    "        feature_mask = mean_abs_coefs > threshold\n",
    "        retained = mean_abs_coefs.index[feature_mask]\n",
    "        \n",
    "        return retained\n",
    "    else:\n",
    "        return model.selected_features"
   ]
  },
  {
   "cell_type": "code",
   "execution_count": null,
   "id": "5f18ce2e-be3f-478a-8891-0eb448609bd7",
   "metadata": {},
   "outputs": [],
   "source": [
    "def refit_model_with_selected_features(model_name, original_model, X_train, y_train, X_test, y_test, retained_features):\n",
    "    \n",
    "    retained_features = [f for f in retained_features if f != \"Intercept\"]\n",
    "\n",
    "    y_train_df = pd.DataFrame({'duration': y_train[settings.duration_col], 'event': y_train[settings.event_col]}, index=X_train.index)\n",
    "    y_train_structured = Surv.from_dataframe('event', 'duration', y_train_df)\n",
    "\n",
    "    y_test_df = pd.DataFrame({'duration': y_test[settings.duration_col], 'event': y_test[settings.event_col]}, index=y_test.index)\n",
    "    y_test_structured = Surv.from_dataframe('event', 'duration', y_test_df)\n",
    "\n",
    "    # Refit the model with the reduced features\n",
    "    model_class = type(original_model)\n",
    "    model_kwargs = getattr(original_model, 'kwargs', {})\n",
    "    new_model = model_class(**model_kwargs)\n",
    "    new_model.fit(X_train[retained_features], y_train_structured)\n",
    "\n",
    "    trainer = ModelTrainer(models={}, n_splits=5, random_state=42, max_time=max_time)\n",
    "    holdout_metrics = trainer._evaluate_model(\n",
    "        new_model,\n",
    "        X_test[retained_features],\n",
    "        y_train_structured,\n",
    "        y_test_structured,\n",
    "        y_test_df,\n",
    "        model_name\n",
    "    )\n",
    "    print(f\"{model_name} Feature-Selected Hold-Out Results: {holdout_metrics}\")\n",
    "\n",
    "    if save_models:\n",
    "        save_new_model(new_model, model_name)\n",
    "\n",
    "    return new_model\n",
    "\n",
    "def save_new_model(model, model_name, suffix=\"_feature_selected\"):\n",
    "    new_model_name = model_name + suffix\n",
    "    model_file = os.path.join(settings.save_path, f\"{settings.outcome}_{new_model_name}\")\n",
    "    with open(model_file + \".pkl\", \"wb\") as f:\n",
    "        dill.dump(model, f)\n",
    "    print(f\"New model with feature selection saved as {settings.outcome}_{new_model_name}.pkl\")"
   ]
  },
  {
   "cell_type": "code",
   "execution_count": null,
   "id": "e902a0c8-8c1b-477c-b57a-1d3fe9c90144",
   "metadata": {},
   "outputs": [],
   "source": [
    "def select_features_and_refit(X_train, y_train, X_test, y_test, configs, max_time=1825):\n",
    "    coxph_model = load_trained_model(\"CoxPH\", CoxPHModel, model_kwargs=configs['CoxPH'][1])\n",
    "    aalen_model = load_trained_model(\"AalenAdditive\", AalenAdditiveModel, model_kwargs=configs['AalenAdditive'][1])\n",
    "    \n",
    "    coxph_retained = feature_select_coxph(coxph_model, X_train, threshold=0.01)\n",
    "    aalen_retained = feature_select_aalen_additive(aalen_model, X_train, threshold=0.001)\n",
    "\n",
    "    new_coxph_model = refit_model_with_selected_features(\n",
    "        \"CoxPH\", coxph_model, X_train, y_train, X_test, y_test,\n",
    "        coxph_retained, max_time, duration_col=duration_col, event_col=event_col, save_models=True\n",
    "    )\n",
    "    new_aalen_model = refit_model_with_selected_features(\n",
    "        \"AalenAdditive\", aalen_model, X_train, y_train, X_test, y_test,\n",
    "        aalen_retained, title, max_time, duration_col=duration_col, event_col=event_col, save_models=True\n",
    "    )"
   ]
  },
  {
   "cell_type": "code",
   "execution_count": null,
   "id": "ec8bd144-e197-4d2a-82de-da1984d82fe7",
   "metadata": {
    "tags": []
   },
   "outputs": [],
   "source": [
    "select_features_and_refit(os_X_train, os_y_train, os_X_test, os_y_test, os_configs, 'observedOsFromTreatmentStartDays', 'hadSurvivalEvent', title='OS')"
   ]
  },
  {
   "cell_type": "code",
   "execution_count": null,
   "id": "806fd531-496e-48e4-90a0-9b0cc0c88a51",
   "metadata": {},
   "outputs": [],
   "source": [
    "select_features_and_refit(pfs_X_train, pfs_y_train, pfs_X_test, pfs_y_test, pfs_configs, 'observedPfsDays', 'hadProgressionEvent',  max_time=1095)"
   ]
  },
  {
   "cell_type": "markdown",
   "id": "06cfc2de-8126-4ccc-ae60-b846528673a4",
   "metadata": {},
   "source": [
    "## Hyperparameter Optimization\n",
    "\n",
    "Hyperparameter optimization is performed for each model using a defined grid of parameters. The `random_parameter_search` function samples configurations to identify the optimal parameters for each model (can be found in `models/hyperparameter_optimization`). This ensures that models achieve their best performance for the given data.\n",
    "\n",
    "After optimization the results for both OS and PFS were stored in `models/configs/model_configurations.py`."
   ]
  },
  {
   "cell_type": "code",
   "execution_count": null,
   "id": "2c208e0c-00eb-47dd-a74b-bf3e021cb4da",
   "metadata": {
    "tags": []
   },
   "outputs": [],
   "source": [
    "def optimize_hyperparameters(query, features, metric_comparison):\n",
    "    \n",
    "    df, X_train, X_test, y_train, y_test, encoded_columns = get_data(query, features)\n",
    "          \n",
    "    models = {\n",
    "        'DeepSurv': DeepSurv(input_size=X_train.shape[1]),\n",
    "        'LogisticHazardModel': LogisticHazardModel(input_size=X_train.shape[1]),\n",
    "        'DeepHitModel': DeepHitModel(input_size=X_train.shape[1]), \n",
    "        'PCHazardModel': PCHazardModel(input_size=X_train.shape[1]), \n",
    "        'MTLRModel': MTLRModel(input_size=X_train.shape[1]),\n",
    "        'CoxPH': CoxPHModel(),\n",
    "        'RandomSurvivalForest': RandomSurvivalForestModel(),\n",
    "        'GradientBoosting': GradientBoostingSurvivalModel(),\n",
    "    }\n",
    "    \n",
    "    best_models, all_results = hyperparameter_search(\n",
    "        X_train, y_train, X_test, y_test,\n",
    "        encoded_columns=encoded_columns,\n",
    "        event_col=settings.event_col, duration_col=Setting.duration_col, max_time=settings.max_time,\n",
    "        base_models=models, param_grids=curve_param_grids, metric_comparison=settings.hyperparam_tuning_optimization_metric\n",
    "    )\n",
    "       \n",
    "    return best_models, all_results  \n",
    "\n",
    "def save_best_hyperparams(json_file: str, best_models: dict):\n",
    "    key = f\"{settings.experiment_type}_{settings.outcome}\"\n",
    "\n",
    "    if not os.path.exists(json_file):\n",
    "        config = {}\n",
    "    else:\n",
    "        with open(json_file, \"r\") as f:\n",
    "            config = json.load(f)\n",
    "    if key not in config:\n",
    "        config[key] = {}\n",
    "\n",
    "    for model_name, (model_instance, best_params) in best_models.items():\n",
    "        if best_params is None:\n",
    "            continue\n",
    "        if model_name in config[key]:\n",
    "            config[key][model_name][\"kwargs\"] = best_params\n",
    "        else:\n",
    "            print(f\"Warning: Model '{model_name}' not found in key '{key}' in the JSON config. Adding new entry.\")\n",
    "    \n",
    "    with open(json_file, \"w\") as f:\n",
    "        json.dump(config, f, indent=4)\n",
    "    \n",
    "    print(f\"Updated best hyperparameters saved to '{json_file}' under key '{key}'.\")\n"
   ]
  },
  {
   "cell_type": "code",
   "execution_count": null,
   "id": "bf478771-030d-41ed-a26e-f91ac670995f",
   "metadata": {
    "tags": []
   },
   "outputs": [],
   "source": [
    "best_models, results = optimize_hyperparameters(query, features)"
   ]
  }
 ],
 "metadata": {
  "kernelspec": {
   "display_name": "Python (prediction_env)",
   "language": "python",
   "name": "prediction_env"
  },
  "language_info": {
   "codemirror_mode": {
    "name": "ipython",
    "version": 3
   },
   "file_extension": ".py",
   "mimetype": "text/x-python",
   "name": "python",
   "nbconvert_exporter": "python",
   "pygments_lexer": "ipython3",
   "version": "3.7.3"
  }
 },
 "nbformat": 4,
 "nbformat_minor": 5
}
