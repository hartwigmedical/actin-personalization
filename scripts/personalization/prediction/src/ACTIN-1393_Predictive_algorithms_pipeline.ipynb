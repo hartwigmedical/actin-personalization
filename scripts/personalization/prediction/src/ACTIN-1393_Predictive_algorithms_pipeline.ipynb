{
 "cells": [
  {
   "cell_type": "markdown",
   "id": "1d61ed0d-783d-45f7-99a2-f3c87dbccfc2",
   "metadata": {},
   "source": [
    "# Predictive Algorithms"
   ]
  },
  {
   "cell_type": "code",
   "execution_count": null,
   "id": "00789d13-178f-42bd-81a8-947b666139f7",
   "metadata": {
    "tags": []
   },
   "outputs": [],
   "source": [
    "%load_ext autoreload\n",
    "%autoreload 2"
   ]
  },
  {
   "cell_type": "code",
   "execution_count": null,
   "id": "4fd928b7-ace1-4972-8cd6-fc0ee3369606",
   "metadata": {
    "tags": []
   },
   "outputs": [],
   "source": [
    "import sys\n",
    "import os\n",
    "\n",
    "src_path = os.path.abspath(os.path.join(os.getcwd(), \"src\"))\n",
    "if src_path not in sys.path:\n",
    "    sys.path.append(src_path)\n"
   ]
  },
  {
   "cell_type": "markdown",
   "id": "5314e096-8279-4a5f-be30-23491879b520",
   "metadata": {},
   "source": [
    "## Load and Preprocess Data\n",
    "\n",
    "This step will involve loading the data, handling missing values, and encoding categorical variables to prepare them for modeling."
   ]
  },
  {
   "cell_type": "code",
   "execution_count": null,
   "id": "295f5b2e-bc29-4325-8a49-63bac2552dc6",
   "metadata": {
    "tags": []
   },
   "outputs": [],
   "source": [
    "from src.data.data_processing import DataSplitter, DataPreprocessor\n",
    "from src.data.lookups import LookupManager\n",
    "\n",
    "db_config_path = '/home/jupyter/.my.cnf'\n",
    "db_name = 'actin_personalization'\n",
    "query = \"SELECT * FROM knownPalliativeTreatments\"\n",
    "\n",
    "preprocessor = DataPreprocessor(db_config_path, db_name)\n",
    "\n",
    "lookup_manager = LookupManager()\n",
    "features = lookup_manager.features"
   ]
  },
  {
   "cell_type": "code",
   "execution_count": null,
   "id": "13f3bf56-359d-4b02-87f1-d42181247ead",
   "metadata": {
    "tags": []
   },
   "outputs": [],
   "source": [
    "pfs_df, pfs_features, pfs_encoded_columns = preprocessor.preprocess_data(query, duration_col = \"observedPfsDays\", event_col = \"hadProgressionEvent\", features = features)"
   ]
  },
  {
   "cell_type": "code",
   "execution_count": null,
   "id": "17f63d05-7f92-431c-a195-3bf229f5fb05",
   "metadata": {
    "tags": []
   },
   "outputs": [],
   "source": [
    "os_df, os_features, os_encoded_columns = preprocessor.preprocess_data(query, duration_col = \"observedOsFromTreatmentStartDays\", event_col = \"hadSurvivalEvent\", features = features)"
   ]
  },
  {
   "cell_type": "markdown",
   "id": "c4c94a95-5b4f-4882-a6a0-71dca133d3df",
   "metadata": {},
   "source": [
    "## Models"
   ]
  },
  {
   "cell_type": "code",
   "execution_count": null,
   "id": "aa9317cc-59e1-430f-8e93-d3e10257d308",
   "metadata": {
    "tags": []
   },
   "outputs": [],
   "source": [
    "from src.models.survival_models import (\n",
    "    BaseSurvivalModel,\n",
    "    CoxPHModel,\n",
    "    AalenAdditiveModel,\n",
    "    RandomSurvivalForestModel,\n",
    "    GradientBoostingSurvivalModel,\n",
    "    DeepSurv,\n",
    "    LogisticHazardModel,\n",
    "    DeepHitModel,\n",
    "    PCHazardModel,\n",
    "    MTLRModel\n",
    ")\n",
    "\n",
    "from src.models.model_trainer import *\n",
    "\n",
    "from sksurv.util import Surv\n",
    "\n",
    "splitter = DataSplitter(test_size=0.1, random_state=42)\n",
    "\n",
    "#pfs\n",
    "event_col = 'hadProgressionEvent'\n",
    "duration_col = 'observedPfsDays'\n",
    "\n",
    "y_pfs = Surv.from_dataframe(event=event_col, time=duration_col, data=pfs_df)\n",
    "X_train, X_test, y_train, y_test = splitter.split(pfs_df[pfs_features], y_pfs, 'systemicTreatmentPlan', pfs_encoded_columns)\n",
    "\n",
    "\n",
    "#os\n",
    "# y_os = Surv.from_dataframe(event='hadSurvivalEvent', time='observedOsFromTreatmentStartDays', data=os_df)\n",
    "# X_train, X_test, y_train, y_test = splitter.split(os_df[os_features], y_os, 'systemicTreatmentPlan', os_encoded_columns)\n",
    "# event_col = 'hadSurvivalEvent'\n",
    "# duration_col = 'observedOsFromTreatmentStartDays'\n",
    "\n",
    "models = {\n",
    "    'DeepSurv': DeepSurv(input_size=X_train.shape[1]),\n",
    "    'LogisticHazardModel': LogisticHazardModel(input_size=X_train.shape[1]),\n",
    "    'DeepHitModel': DeepHitModel(input_size=X_train.shape[1]), \n",
    "    'PCHazardModel': PCHazardModel(input_size=X_train.shape[1]), \n",
    "    'MTLRModel': MTLRModel(input_size=X_train.shape[1]),\n",
    "    'AalenAdditive': AalenAdditiveModel(),\n",
    "    'CoxPH': CoxPHModel(),\n",
    "    'RandomSurvivalForest': RandomSurvivalForestModel(),\n",
    "    'GradientBoosting': GradientBoostingSurvivalModel(),\n",
    "}\n",
    "\n",
    "trainer = ModelTrainer(models=models, n_splits=5, random_state=42)\n",
    "\n",
    "results = trainer.train_and_evaluate(\n",
    "    X_train,\n",
    "    y_train,\n",
    "    X_test,\n",
    "    y_test,\n",
    "    treatment_col='systemicTreatmentPlan',\n",
    "    encoded_columns=os_encoded_columns,\n",
    "    event_col= event_col,\n",
    "    duration_col=duration_col\n",
    ")\n",
    "\n",
    "print(\"\\nFinal Results:\") \n",
    "for model_name, metrics in results.items():\n",
    "    print(f\"{model_name}:\")\n",
    "    for metric_name, value in metrics.items():\n",
    "        print(f\"  {metric_name}: {value:.4f}\")"
   ]
  },
  {
   "cell_type": "raw",
   "id": "bb1bbf47-8e6b-4f7c-94b8-2f46e839e70c",
   "metadata": {},
   "source": [
    "OS:\n",
    "With standardization:\n",
    "- LogisticHazardModel - C-Index: 0.5000, IBS: 0.1386, CE: 0.2092, AUC: 0.5003\n",
    "- DeepHitModel - C-Index: 0.5104, IBS: 0.2534, CE: 0.3382, AUC: 0.5145\n",
    "- PCHazardModel - C-Index: 0.5000, IBS: 0.1268, CE: 0.1813, AUC: 0.5003\n",
    "- MTLRModel - C-Index: 0.5283, IBS: 0.2213, CE: 0.2643, AUC: 0.5363\n",
    "- DeepSurv - C-Index: 0.5144, IBS: 0.0876, CE: 0.0670, AUC: 0.5268\n",
    "- AalenAdditive - C-Index: 0.6158, IBS: 1.7504, CE: 0.0458, AUC: 0.7030\n",
    "- CoxPH - C-Index: 0.6474, IBS: 0.0746, CE: 0.0419, AUC: 0.7065\n",
    "- RandomSurvivalForest - C-Index: 0.6441, IBS: 0.0804, CE: 0.0497, AUC: 0.6492\n",
    "- GradientBoosting - C-Index: 0.6605, IBS: 0.0730, CE: 0.0555, AUC: 0.7260\n",
    "\n",
    "PFS:\n",
    "- DeepSurv - C-Index: 0.6199, IBS: 0.0696, CE: 0.1257, AUC: 0.6793\n",
    "- LogisticHazardModel - C-Index: 0.5776, IBS: 0.0691, CE: 0.1387, AUC: 0.6595\n",
    "- DeepHitModel - C-Index: 0.5032, IBS: 0.0740, CE: 0.0921, AUC: 0.4994\n",
    "- PCHazardModel - C-Index: 0.5761, IBS: 0.0689, CE: 0.1366, AUC: 0.6674\n",
    "- MTLRModel - C-Index: 0.5594, IBS: 0.0712, CE: 0.1309, AUC: 0.5937\n",
    "- AalenAdditive - C-Index: 0.6287, IBS: 3.7058, CE: 0.0640, AUC: 0.6944\n",
    "- CoxPH - C-Index: 0.6372, IBS: 0.0679, CE: 0.1214, AUC: 0.6986\n",
    "- RandomSurvivalForest - C-Index: 0.6355, IBS: 0.0717, CE: 0.1103, AUC: 0.6305\n",
    "- GradientBoosting - C-Index: 0.6444, IBS: 0.0677, CE: 0.1313, AUC: 0.7012\n"
   ]
  }
 ],
 "metadata": {
  "kernelspec": {
   "display_name": "Python (prediction_env)",
   "language": "python",
   "name": "prediction_env"
  },
  "language_info": {
   "codemirror_mode": {
    "name": "ipython",
    "version": 3
   },
   "file_extension": ".py",
   "mimetype": "text/x-python",
   "name": "python",
   "nbconvert_exporter": "python",
   "pygments_lexer": "ipython3",
   "version": "3.7.3"
  }
 },
 "nbformat": 4,
 "nbformat_minor": 5
}
