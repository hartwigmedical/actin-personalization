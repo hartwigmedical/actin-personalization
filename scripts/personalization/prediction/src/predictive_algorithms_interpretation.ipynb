{
 "cells": [
  {
   "cell_type": "markdown",
   "id": "24ded855-2c7d-4b66-941f-08baefeff998",
   "metadata": {},
   "source": [
    "# Model Evaluation\n",
    "This notebook demonstrates the interpretation and evaluation of the models (as trained in `predictive_algorithms_training.ipynb`):\n",
    "- Performance Evaluation: Comparing models based on metrics such as concordance index (C-Index), integrated Brier score (IBS), calibration error (CE), and time-dependent AUC.\n",
    "- Visualization: Generating survival curves and feature importance plots to interpret model predictions and uncover key insights.\n",
    "\n",
    "In the file `utils/settings.py` all the experiment settings can be set (e.g. OS or PFS, grouped treatments or not), then the experiment can be run in this notebook."
   ]
  },
  {
   "cell_type": "code",
   "execution_count": null,
   "id": "28d8fe66-6bd6-42e4-98f4-c8c1ea8068a0",
   "metadata": {
    "tags": []
   },
   "outputs": [],
   "source": [
    "%load_ext autoreload\n",
    "%autoreload 2"
   ]
  },
  {
   "cell_type": "code",
   "execution_count": null,
   "id": "22badec3-1d43-48b9-bceb-30bfef7d3ebf",
   "metadata": {
    "tags": []
   },
   "outputs": [],
   "source": [
    "import os\n",
    "os.chdir('/data/repos/actin-personalization/scripts/personalization/prediction')"
   ]
  },
  {
   "cell_type": "code",
   "execution_count": null,
   "id": "327398cd-8fde-4fa0-950d-e6c9d8f8c932",
   "metadata": {
    "tags": []
   },
   "outputs": [],
   "source": [
    "import pandas as pd\n",
    "import seaborn as sns\n",
    "import ast\n",
    "import matplotlib.pyplot as plt\n",
    "import dill\n",
    "import torch\n",
    "\n",
    "from src.models import *\n",
    "from src.data.data_processing import DataSplitter, DataPreprocessor\n",
    "from src.data.lookups import lookup_manager\n",
    "from src.utils.settings import settings"
   ]
  },
  {
   "cell_type": "code",
   "execution_count": null,
   "id": "96061676-ee3f-4100-936f-06041205a5d8",
   "metadata": {
    "tags": []
   },
   "outputs": [],
   "source": [
    "import nbimporter\n",
    "from src.predictive_algorithms_training import get_data, plot_different_models_survival_curves"
   ]
  },
  {
   "cell_type": "code",
   "execution_count": null,
   "id": "24f88038-4db9-48a9-bdb7-218d5d3c4f8d",
   "metadata": {
    "tags": []
   },
   "outputs": [],
   "source": [
    "df, X_train, X_test, y_train, y_test, encoded_columns = get_data()"
   ]
  },
  {
   "cell_type": "markdown",
   "id": "9982662e-0f4c-4148-80fe-989a61af6bf8",
   "metadata": {},
   "source": [
    "### Metric comparison: OS vs. PFS\n",
    "\n",
    "The trained models are evaluated using the following metrics:\n",
    "\n",
    "- **C-Index**: The Concordance Index measures how well the predicted survival times align with the actual outcomes. It is a measure of discrimination, indicating the model's ability to correctly rank the survival times of patients. A higher value indicates better predictive accuracy.\n",
    "\n",
    "- **Integrated Brier Score (IBS)**: This metric evaluates the accuracy of the survival probability predictions over time. It combines the squared differences between predicted and actual survival probabilities, weighted by the survival distribution. Lower values indicate better predictive performance.\n",
    "\n",
    "- **Calibration Error (CE)**: Calibration error assesses how well the predicted survival probabilities match the observed probabilities. It indicates whether the model is systematically overestimating or underestimating survival probabilities. Lower values signify better calibration.\n",
    "\n",
    "- **Area Under the Curve (AUC)**: For survival models, AUC is typically computed over a time-dependent ROC curve, reflecting the model's discrimination ability at different time points. Higher AUC values indicate better overall performance.\n",
    "\n",
    "This section visualizes the comparison of model performance metrics (C-Index, IBS, CE, AUC) for OS and PFS. The bar plots highlight the strengths and weaknesses of each model in the two prediction tasks. \n"
   ]
  },
  {
   "cell_type": "code",
   "execution_count": null,
   "id": "0b352418-ebec-4b4d-83e1-3ce48bf2c6a2",
   "metadata": {
    "tags": []
   },
   "outputs": [],
   "source": [
    "def load_model_outcomes():\n",
    "    csv_file = os.path.join(settings.save_path, f\"{settings.outcome}_model_outcomes.csv\")\n",
    "    \n",
    "    if os.path.exists(csv_file):\n",
    "        results_df = pd.read_csv(csv_file)\n",
    "        print(f\"Loaded model outcomes from {csv_file}\")\n",
    "    else:\n",
    "        raise FileNotFoundError(f\"No saved outcomes found for {settings.outcome} in {settings.save_path}\")\n",
    "    \n",
    "    return results_df"
   ]
  },
  {
   "cell_type": "code",
   "execution_count": null,
   "id": "9b21db4a-eb3a-4af5-827e-337e7e497171",
   "metadata": {
    "tags": []
   },
   "outputs": [],
   "source": [
    "model_outcomes = load_model_outcomes()"
   ]
  },
  {
   "cell_type": "code",
   "execution_count": null,
   "id": "e82c5be4-028e-48a0-9904-1cf99436cf60",
   "metadata": {
    "tags": []
   },
   "outputs": [],
   "source": [
    "def extract_holdout_metrics(df):\n",
    "    if df['holdout'].apply(lambda x: isinstance(x, str)).any():\n",
    "        df['holdout'] = df['holdout'].apply(ast.literal_eval)\n",
    "    \n",
    "    holdout_metrics = df['holdout'].apply(pd.Series)\n",
    "    holdout_metrics['Model'] = df['Model']\n",
    "    \n",
    "    return holdout_metrics\n",
    "\n",
    "\n",
    "def plot_all_metrics(df, holdout=True):\n",
    "    metrics = ['c_index', 'ibs', 'ce', 'auc']\n",
    "    \n",
    "    fig, axes = plt.subplots(2, 2, figsize=(14, 10))\n",
    "    axes = axes.flatten()\n",
    "    \n",
    "    for ax, metric in zip(axes, metrics):\n",
    "        sns.barplot(x='Model', y=metric, data=df, ax=ax, palette='Set1')\n",
    "        title = f\"{metric.upper()} Comparison\"\n",
    "        \n",
    "        ax.set_title(title)\n",
    "        ax.set(xlabel='Model', ylabel=metric.upper())\n",
    "        ax.set_xticklabels(ax.get_xticklabels(), rotation=45)\n",
    "        ax.grid(axis='y', linestyle='--', alpha=0.7)\n",
    "        \n",
    "        if metric in ['c_index', 'auc']:\n",
    "            ax.set_ylim(0, 1)\n",
    "        \n",
    "        # Set bar colors based on the metric values for some visual weighting\n",
    "        min_val, max_val = df[metric].min(), df[metric].max()\n",
    "        cmap = sns.light_palette(\"#79C\", as_cmap=True)\n",
    "        for patch in ax.patches:\n",
    "            height = patch.get_height()\n",
    "            normalized = (height - min_val) / (max_val - min_val) if max_val > min_val else 0.5\n",
    "            patch.set_facecolor(cmap(0.4 + 0.8 * normalized))\n",
    "    \n",
    "    plt.tight_layout()\n",
    "    plt.show()\n",
    "    \n",
    "    return df"
   ]
  },
  {
   "cell_type": "code",
   "execution_count": null,
   "id": "a45ab86d-6573-4d83-8d36-8d6fbe4a89f1",
   "metadata": {
    "tags": []
   },
   "outputs": [],
   "source": [
    "plot_all_metrics(model_outcomes)"
   ]
  },
  {
   "cell_type": "markdown",
   "id": "0f3ea02a-4c7b-4bf4-8205-f6189e6be4a3",
   "metadata": {},
   "source": [
    "### Import Trained Models\n",
    "The pretrained models are stored in the Google Cloud Storage bucket: `gs://actin-personalization-models-v1/trained_models/`. \n",
    "\n",
    "To download the saved models from the bucket to the trained_models map, run the following command in your terminal:\n",
    "\n",
    "`gsutil -m cp -r gs://actin-personalization-models-v1/trained_models/./trained_models/`\n",
    "\n",
    "Make sure the trained_models folder is inside the models folder.\n"
   ]
  },
  {
   "cell_type": "code",
   "execution_count": null,
   "id": "7e9f06e2-50cd-4e66-95c7-8b9a87e68edc",
   "metadata": {
    "tags": []
   },
   "outputs": [],
   "source": [
    "def load_trained_model(model_name, model_class, model_kwargs={}):\n",
    "    model_file_prefix = os.path.join(settings.save_path, f\"{settings.outcome}_{model_name}\")\n",
    "    nn_file = model_file_prefix + \".pt\"\n",
    "    sk_file = model_file_prefix + \".pkl\"\n",
    "        \n",
    "    if model_name in ['CoxPH', 'RandomSurvivalForest', 'GradientBoosting', 'AalenAdditive']:\n",
    "        with open(sk_file, \"rb\") as f:\n",
    "            model = dill.load(f)\n",
    "        print(f\"Model {model_name} loaded from {sk_file}\")\n",
    "        return model\n",
    "    else:\n",
    "        model = model_class(**model_kwargs)\n",
    "    \n",
    "        state = torch.load(nn_file, map_location=torch.device('cpu'))\n",
    "        model.model.net.load_state_dict(state['net_state'])\n",
    "        \n",
    "        if 'baseline_hazards' in state and state['baseline_hazards'] is not None:\n",
    "            model.model.baseline_hazards_ = state['baseline_hazards']\n",
    "            model.model.baseline_cumulative_hazards_ = state['baseline_cumulative_hazards']\n",
    "            \n",
    "            print(f\"Baseline hazards loaded for {model_name}.\")\n",
    "        model.model.net.eval()     \n",
    "        print(f\"Model {model_name} loaded from {nn_file}\")\n",
    "        \n",
    "        return model\n",
    "    \n",
    "def load_all_trained_models():\n",
    "    loaded_models = {}\n",
    "    config_mgr = ExperimentConfig(settings.json_config_file)\n",
    "    loaded_configs = config_mgr.load_model_configs()\n",
    "\n",
    "    for model_name, (model_class, model_kwargs) in loaded_configs.items():\n",
    "        loaded_model = load_trained_model(\n",
    "            model_name=model_name, \n",
    "            model_class=model_class, \n",
    "            model_kwargs=model_kwargs\n",
    "        )\n",
    "        loaded_models[model_name] = loaded_model\n",
    "    return loaded_models"
   ]
  },
  {
   "cell_type": "code",
   "execution_count": null,
   "id": "b09cb005-8968-45ae-ae28-5ba2fbf8abc0",
   "metadata": {
    "tags": []
   },
   "outputs": [],
   "source": [
    "trained_models = load_all_trained_models()"
   ]
  },
  {
   "cell_type": "markdown",
   "id": "580d0bc5-3d6c-4293-912a-cdd6b5ae8393",
   "metadata": {},
   "source": [
    "### Time-Dependent ROC-AUC\n",
    "\n",
    "This section visualizes the ROC curves and computes the AUC for survival models at specific time intervals for both OS and PFS. By evaluating the models' discriminative performance over time, we identify which models perform best at different prediction horizons.\n",
    "\n",
    "Time interval:\n",
    "- **Overall Survival (OS)**: For OS, the follow-up times in the dataset extend up to 5 years, allowing us to evaluate model performance over this longer horizon. As survival outcomes often have a broader timespan, a 5-year evaluation provides a comprehensive view of the model's ability to predict long-term survival.\n",
    "\n",
    "- **Progression-Free Survival (PFS)**: In contrast, PFS events typically occur sooner than OS events. Instead, we limit the PFS analysis to 3 years, which encompasses the majority of observed progression events while maintaining meaningful statistical power.\n",
    "\n",
    "The ROC curves for the best-performing models (Gradient Boosting, CoxPH, DeepSurv, and RSF) are plotted for each time interval, showcasing how well the models distinguish patients at risk across the respective timeframes for OS and PFS.\n"
   ]
  },
  {
   "cell_type": "code",
   "execution_count": null,
   "id": "169551f6-ef77-4553-bb99-5dc742b2cc18",
   "metadata": {
    "tags": []
   },
   "outputs": [],
   "source": [
    "import numpy as np\n",
    "import pandas as pd\n",
    "import matplotlib.pyplot as plt\n",
    "from sksurv.util import Surv\n",
    "from sksurv.metrics import cumulative_dynamic_auc\n",
    "\n",
    "def calculate_time_dependent_auc_for_models(model_dict, X_train, y_train, X_test, y_test, time_points):\n",
    "  \n",
    "    y_train_df = pd.DataFrame({'duration': y_train[settings.duration_col], 'event': y_train[settings.event_col]}, index=X_train.index)\n",
    "    y_train_struct = Surv.from_dataframe('event', 'duration', y_train_df)\n",
    "\n",
    "    y_test_df = pd.DataFrame({'duration': y_test[settings.duration_col], 'event': y_test[settings.event_col]}, index=X_test.index)\n",
    "    y_test_struct = Surv.from_dataframe('event', 'duration', y_test_df)\n",
    "\n",
    "    auc_results = {}\n",
    "\n",
    "    for model_name, model in model_dict.items():\n",
    "        if hasattr(model, \"model\") and hasattr(model.model, \"predict\"):\n",
    "            preds = model.model.predict(X_test.values.astype(\"float32\"))\n",
    "        else:\n",
    "            preds = model.predict(X_test)\n",
    "\n",
    "        if preds.ndim == 1:\n",
    "            risk_scores = preds\n",
    "        elif preds.shape[1] == 1:\n",
    "            risk_scores = preds.ravel()\n",
    "        else:\n",
    "            T = preds.shape[1]\n",
    "            desired_T = len(time_points)\n",
    "            if T == desired_T:\n",
    "                risk_scores = preds\n",
    "            elif T % desired_T == 0:\n",
    "                factor = T // desired_T\n",
    "                risk_scores = preds[:, ::factor]\n",
    "\n",
    "        auc_values, mean_auc = cumulative_dynamic_auc(y_train_struct, y_test_struct, risk_scores, time_points)\n",
    "        auc_results[model_name] = (auc_values, mean_auc)\n",
    "\n",
    "    plt.figure(figsize=(10, 6))\n",
    "    years = [t / 365.0 for t in time_points]\n",
    "\n",
    "    for model_name, (auc_vals, mean_auc) in auc_results.items():\n",
    "        plt.plot(years, auc_vals, marker='o', label=f\"{model_name} (Mean AUC={mean_auc:.3f})\")\n",
    "\n",
    "    plt.xlabel(\"Time (years)\")\n",
    "    plt.ylabel(\"Time-Dependent AUC\")\n",
    "    plt.title(settings.outcome)\n",
    "    plt.legend(loc=\"lower right\")\n",
    "    plt.grid(True)\n",
    "    plt.show()\n",
    "\n",
    "    return auc_results\n"
   ]
  },
  {
   "cell_type": "code",
   "execution_count": null,
   "id": "6c22cabc-bdda-471c-9e2b-0daea7cc18cb",
   "metadata": {
    "tags": []
   },
   "outputs": [],
   "source": [
    "models_to_evaluate = {\n",
    "    \"DeepSurv\": trained_models[\"DeepSurv\"],\n",
    "    \"LogisticHazardModel\": trained_models[\"LogisticHazardModel\"],\n",
    "    # \"DeepHitModel\": trained_models[\"DeepHitModel\"],\n",
    "    # \"PCHazardModel\": trained_models[\"PCHazardModel\"],\n",
    "    # \"MTLRModel\": trained_models[\"MTLRModel\"],\n",
    "    # \"GradientBoosting\": trained_models[\"GradientBoosting\"],   \n",
    "    # \"RandomSurvivalForest\": trained_models[\"RandomSurvivalForest\"],    \n",
    "}\n",
    "\n",
    "calculate_time_dependent_auc_for_models(\n",
    "    models_to_evaluate, X_train, y_train, X_test, y_test, \n",
    "    time_points=settings.time_points\n",
    ")"
   ]
  },
  {
   "cell_type": "markdown",
   "id": "57d73024-50f0-4755-a20b-e8b10a8f3f97",
   "metadata": {},
   "source": [
    "## Model Interpretation"
   ]
  },
  {
   "cell_type": "markdown",
   "id": "d6d359b6-c147-468e-8150-77b696e41d02",
   "metadata": {
    "tags": []
   },
   "source": [
    "### Feature Importance\n",
    "\n",
    "Feature importance analysis helps us identify which features most strongly influence survival predictions across various models. In this section SHAP (SHapley Additive exPlanations) is used for all models to ensure uniformity and interpretability. SHAP values provide a consistent and locally accurate measure of feature importance for individual predictions.\n",
    "\n",
    "How SHAP is used:\n",
    "- For classical models like CoxPH and Aalen Additive, SHAP values are calculated based on risk scores or cumulative hazard coefficients. Custom prediction functions are used when necessary (e.g., for Aalen Additive) to align feature importance with model-specific outputs.\n",
    "- For tree-based models like Random Survival Forest (RSF) and Gradient Boosting Survival Model (GBM), SHAP values replace traditional feature importance metrics to ensure consistency.\n",
    "- For neural network-based models like DeepSurv and DeepHit, SHAP values are derived using the model's prediction function.\n",
    "\n",
    "#### Visualization\n",
    "SHAP provides the following insights:\n",
    "- Summary Plot - Bar: Displays the average magnitude of SHAP values for each feature, indicating the overall importance of features in the model.\n",
    "- Summary Plot - Dot: Highlights the distribution of SHAP values for each feature, showing their impact across different samples.\n"
   ]
  },
  {
   "cell_type": "code",
   "execution_count": null,
   "id": "653d1b49-c34a-4854-9e95-eb3b829158a2",
   "metadata": {
    "tags": []
   },
   "outputs": [],
   "source": [
    "import shap\n",
    "\n",
    "def nn_predict(X, model, X_train):\n",
    "    if isinstance(X, np.ndarray):\n",
    "        X = pd.DataFrame(X, columns=X_train.columns)\n",
    "    X_tensor = X.values.astype('float32')\n",
    "    return model.model.predict(X_tensor)\n",
    "\n",
    "def custom_aalen_predict(X, model):\n",
    "    \"\"\"\n",
    "    Custom predict function for AalenAdditiveModel.\n",
    "    Aligns cumulative hazard coefficients with input features.\n",
    "    \"\"\"\n",
    "    cumulative_coefs = model.model.cumulative_hazards_\n",
    "    X = X[model.selected_features].copy()\n",
    "\n",
    "    # Interpolate coefficients at the latest time point\n",
    "    latest_coefs = cumulative_coefs.iloc[-1].values\n",
    "    \n",
    "    if len(latest_coefs) > X.shape[1]:\n",
    "        X = X.copy()\n",
    "        X.insert(0, \"Intercept\", 1.0)  \n",
    "\n",
    "    X_array = X.values\n",
    "    risk_scores = np.einsum('ij,j->i', X_array, latest_coefs)\n",
    "    return risk_scores\n",
    "\n",
    "def shap_interpret_model(model_name, model, X_train, max_features=20, shap_sample=200):\n",
    "\n",
    "    X_sample = X_train.sample(min(shap_sample, len(X_train)), random_state=42)\n",
    "\n",
    "    predict_functions = {\n",
    "        'AalenAdditive': lambda X: custom_aalen_predict(X, model),\n",
    "        'default': model.predict\n",
    "    }\n",
    "\n",
    "    if model_name == 'AalenAdditive':\n",
    "        prediction_fn = predict_functions['AalenAdditive']\n",
    "    else:\n",
    "        try:\n",
    "            model.predict(X_sample.head(1))\n",
    "            prediction_fn = predict_functions['default']\n",
    "        except:\n",
    "            prediction_fn = lambda x: nn_predict(x, model, X_train)\n",
    "\n",
    "    explainer = shap.Explainer(prediction_fn, X_sample)\n",
    "    shap_values = explainer(X_sample)\n",
    "\n",
    "    print(f\"SHAP Summary for {model_name}:\")\n",
    "\n",
    "    if len(shap_values.values.shape) == 3: #If time dimension present\n",
    "        aggregated_shap = shap_values.values.mean(axis=1)\n",
    "        shap.summary_plot(aggregated_shap, features=X_sample, plot_type=\"bar\", max_display=max_features)\n",
    "        shap.summary_plot(aggregated_shap, features=X_sample, max_display=max_features)\n",
    "    else:\n",
    "        shap.summary_plot(shap_values, features=X_sample, plot_type=\"bar\", max_display=max_features)\n",
    "        shap.summary_plot(shap_values, features=X_sample, max_display=max_features)"
   ]
  },
  {
   "cell_type": "code",
   "execution_count": null,
   "id": "1d1cd51e-df04-4d6c-9260-9b64a1bd3897",
   "metadata": {
    "tags": []
   },
   "outputs": [],
   "source": [
    "for model_name, model_instance in trained_models.items():\n",
    "    print(f\"\\n--- Interpreting {model_name} ---\")\n",
    "    shap_interpret_model(model_name, model_instance, X_train)"
   ]
  },
  {
   "cell_type": "markdown",
   "id": "e8251ee4-bd28-4497-ae9a-971c9f5d2be7",
   "metadata": {},
   "source": [
    "### Model Output"
   ]
  },
  {
   "cell_type": "markdown",
   "id": "2b7de122-7805-4a5a-aac8-a8df125da2ac",
   "metadata": {},
   "source": [
    "### Median Survival Time Calculation\n",
    "\n",
    " Rather than relying on the mean survival time (which can be skewed by tail behavior), we focus on the median survival time, defined as the time point t at which the survival function S(t) first drops below 0.5. This metric is often more robust in practical settings, as it is less sensitive to subtle differences in the survival curve’s tail.\n",
    "\n",
    "The median survival time is obtained by scanning the survival curve from time zero until finding the earliest point where S(t)≤0.5. If the survival probability never dips below 0.5 within the observed follow-up, the median is considered to be at (or beyond) the maximum time point in our data.\n",
    "\n"
   ]
  },
  {
   "cell_type": "code",
   "execution_count": null,
   "id": "a98479b4-0b8e-44b4-89d8-7fa9c3161a80",
   "metadata": {
    "tags": []
   },
   "outputs": [],
   "source": [
    "def get_median_and_quartiles_survival_time(times, surv_probs):\n",
    "    \"\"\"\n",
    "    Finds the median (50th percentile), 1st quartile (25th percentile), and \n",
    "    3rd quartile (75th percentile) survival times.\n",
    "    \"\"\"\n",
    "    times = np.asarray(times, dtype=float)\n",
    "    surv_probs = np.asarray(surv_probs, dtype=float)\n",
    "\n",
    "    def find_time_for_percentile(percentile):\n",
    "        for i in range(1, len(times)):\n",
    "            if surv_probs[i] <= percentile:\n",
    "                x0, x1 = times[i - 1], times[i]\n",
    "                y0, y1 = surv_probs[i - 1], surv_probs[i]\n",
    "                frac = (percentile - y0) / (y1 - y0)\n",
    "                return x0 + frac * (x1 - x0)\n",
    "        return times[-1]\n",
    "\n",
    "    median_time = find_time_for_percentile(0.5)\n",
    "    q1_time = find_time_for_percentile(0.75)  # Q1: 75% survival probability\n",
    "    q3_time = find_time_for_percentile(0.25)  # Q3: 25% survival probability\n",
    "\n",
    "    return median_time, q1_time, q3_time\n"
   ]
  },
  {
   "cell_type": "markdown",
   "id": "5f17bc71-3d6e-4d81-a662-f18cfd6c3b41",
   "metadata": {},
   "source": [
    "#### Comparison of Treatments\n",
    "In this section the predicted survival probabilities are visualized for a single patient under different treatment scenarios. By simulating the patient receiving each available treatment, we can compare how the model predicts their survival trajectory across treatments.\n",
    "\n",
    "This analysis provides insights into the model's predictions for different treatment options, helping to identify potentially better treatment choices for the patient based on the predicted survival probabilities over time."
   ]
  },
  {
   "cell_type": "code",
   "execution_count": null,
   "id": "99d8df59-eb2d-46e6-b4f2-51f325b21664",
   "metadata": {
    "tags": []
   },
   "outputs": [],
   "source": [
    "import numpy as np\n",
    "import pandas as pd\n",
    "import matplotlib.pyplot as plt\n",
    "from matplotlib.lines import Line2D\n",
    "\n",
    "def plot_survival_curves_for_different_treatment_options(model, X_test, y_test, X_train, y_train, patient_index, treatment_col, plot_title):\n",
    "    X_patient_original = X_test.iloc[[patient_index]].copy()\n",
    "    X_patient_original = X_patient_original[X_test.columns]\n",
    "\n",
    "    treatment_cols = [col for col in X_test.columns if treatment_col.lower() in col.lower()]\n",
    "    if len(treatment_cols) == 0:\n",
    "        print(f\"No columns found containing '{treatment_col}' in X_test.columns\")\n",
    "        return pd.DataFrame() \n",
    "\n",
    "    treatment_options = []\n",
    "    if len(treatment_cols) == 1:\n",
    "        t = treatment_cols[0]\n",
    "        treatment_options.append((\"No Treatment\", {t: 0}))\n",
    "        treatment_options.append((\"Treatment\", {t: 1}))\n",
    "    else:\n",
    "        for t in treatment_cols:\n",
    "            treatment_name = t.replace(treatment_col, \"\").lstrip(\"_\")\n",
    "            treatment_options.append((treatment_name if treatment_name else t, {t: 1}))\n",
    "\n",
    "    times = np.arange(1, settings.max_time, 30) \n",
    "    months_to_check = [6, 12, 18, 24, 30, 36]\n",
    "    time_points_days = np.array(months_to_check) * 30\n",
    "\n",
    "    plt.figure(figsize=(10, 6))\n",
    "    df_treatment_probabilities = []\n",
    "    colors = plt.cm.tab20(np.linspace(0, 1, len(treatment_options)))\n",
    "\n",
    "    for i, (treatment_label, option) in enumerate(treatment_options):\n",
    "        X_patient = X_patient_original.copy()\n",
    "        for col in treatment_cols:\n",
    "            X_patient[col] = 0\n",
    "        for col, value in option.items():\n",
    "            X_patient[col] = value\n",
    "\n",
    "        try:\n",
    "            surv_funcs = model.predict_survival_function(X_patient)\n",
    "            if not surv_funcs:\n",
    "                print(f\"No survival function returned for treatment: {treatment_label}\")\n",
    "                continue\n",
    "\n",
    "            surv_func = surv_funcs[0]\n",
    "            surv_probs = surv_func(times)\n",
    "            plt.step(times, surv_probs, where=\"post\", color=colors[i], label=treatment_label)\n",
    "\n",
    "            median, q1, q3 = get_median_and_quartiles_survival_time(times, surv_probs)\n",
    "            median_surv = surv_func(median)\n",
    "            plt.text(median, median_surv, f\"{int(median)}\", fontsize=9, \n",
    "                     bbox=dict(facecolor=\"white\", edgecolor=colors[i], boxstyle=\"round,pad=0.2\"),\n",
    "                     color=\"black\")\n",
    "\n",
    "            month_probs = surv_func(time_points_days)\n",
    "            for month, prob in zip(months_to_check, month_probs):\n",
    "                df_treatment_probabilities.append({\n",
    "                    \"Treatment\": treatment_label,\n",
    "                    \"Month\": month,\n",
    "                    \"SurvivalProbability\": prob\n",
    "                })\n",
    "        except Exception as e:\n",
    "            print(f\"Error plotting survival curves for treatment '{treatment_label}': {e}\")\n",
    "\n",
    "    handles = [Line2D([0], [0], color=colors[i], lw=2) for i in range(len(treatment_options))]\n",
    "    labels = [opt[0] for opt in treatment_options]\n",
    "    plt.legend(handles, labels, loc='center left', bbox_to_anchor=(1, 0.5))\n",
    "\n",
    "    plt.title(plot_title)\n",
    "    plt.xlabel(\"Time (days)\")\n",
    "    plt.ylabel(\"Survival Probability\")\n",
    "    plt.grid(True)\n",
    "    plt.tight_layout()\n",
    "    plt.show()\n",
    "\n",
    "    return pd.DataFrame(df_treatment_probabilities)\n"
   ]
  },
  {
   "cell_type": "code",
   "execution_count": null,
   "id": "eeca9698-d0ab-4bb7-9f43-0d213cb3b726",
   "metadata": {
    "tags": []
   },
   "outputs": [],
   "source": [
    "best_model = \"DeepSurv\"\n",
    "plot_survival_curves_for_different_treatment_options(\n",
    "    model=trained_models[best_model],\n",
    "    X_test=X_test,\n",
    "    y_test=y_test,\n",
    "    X_train = X_train, \n",
    "    y_train = y_train,\n",
    "    patient_index=100,\n",
    "    treatment_col=\"treatment\",\n",
    "    plot_title=f\"{settings.outcome}: {settings.experiment_type}\"\n",
    ")"
   ]
  },
  {
   "cell_type": "markdown",
   "id": "654937cd-e467-4511-a1d0-580b57201e60",
   "metadata": {},
   "source": [
    "#### Comparison of Models\n",
    "Next, we focus on the patient's actual treatment choice and compare the predictions from the two best-performing models. By evaluating the survival curves generated by both models for the chosen treatment, we assess their agreement and gain a deeper understanding of the patient-specific predictions."
   ]
  },
  {
   "cell_type": "code",
   "execution_count": null,
   "id": "e0730cdb-7e53-4a41-b729-41989c352953",
   "metadata": {},
   "outputs": [],
   "source": [
    "plot_different_models_survival_curves(\n",
    "    trained_models=models_to_evaluate,\n",
    "    X_test=X_test,\n",
    "    y_test=y_test,\n",
    "    patient_index=78\n",
    ")"
   ]
  },
  {
   "cell_type": "markdown",
   "id": "e3054cf0-5831-4722-a181-51b2bfd47f04",
   "metadata": {},
   "source": [
    "### Look at NCR specific patient"
   ]
  },
  {
   "cell_type": "code",
   "execution_count": null,
   "id": "b22f72ef-1094-40e2-b2fc-e31204ef2955",
   "metadata": {
    "tags": []
   },
   "outputs": [],
   "source": [
    "def get_raw_patient_row(db_config_path: str, db_name: str, ncrId: int):\n",
    "    import pymysql\n",
    "    connection = pymysql.connect(\n",
    "        read_default_file=db_config_path,\n",
    "        read_default_group='RAnalysis',\n",
    "        db=db_name\n",
    "    )\n",
    "    raw_df = pd.read_sql(f\"SELECT * FROM {settings.view_name}\", connection)\n",
    "    connection.close()\n",
    "    raw_df = raw_df[raw_df[\"ncrId\"] == ncrId]\n",
    "    return raw_df.iloc[0] if not raw_df.empty else None\n",
    "\n",
    "def plot_survival_curves_for_ncrId_different_treatments(model, ncrId, features, treatment_col_prefix=\"systemicTreatmentPlan\", plot_title=\"Survival Curves\"):\n",
    "\n",
    "    features_with_id = features.copy()\n",
    "    if \"ncrId\" not in features_with_id:\n",
    "        features_with_id.insert(0, \"ncrId\")\n",
    "    \n",
    "    preprocessor = DataPreprocessor(settings.db_config_path, settings.db_name)\n",
    "    \n",
    "    df, updated_features, encoded_columns = preprocessor.preprocess_data(features_with_id)\n",
    "    \n",
    "    patient_df = df[df[\"ncrId\"] == ncrId]\n",
    "    if patient_df.empty:\n",
    "        print(f\"No patient found with ncrId {ncrId}\")\n",
    "        return\n",
    "    \n",
    "    row = patient_df.iloc[0]\n",
    "    \n",
    "    raw_row = get_raw_patient_row(preprocessor.db_config_path, preprocessor.db_name, ncrId)\n",
    "\n",
    "    print(f\"\\n🧬 Patient {ncrId} characteristics:\")\n",
    "    print(f\"  - Age at metastasis detection: {raw_row.get('ageAtMetastasisDetection', 'NA')}\")\n",
    "    print(f\"  - WHO status: {raw_row.get('whoStatusPreTreatmentStart', 'NA')}\")\n",
    "    print(f\"  - MSI status: {'MSI' if row.get('hasMsi', 0) == 1 else 'MSS or NA'}\")\n",
    "    print(f\"  - BRAF mutation: {'Yes' if row.get('hasBrafMutation', 0) == 1 else 'No'}\")\n",
    "    print(f\"  - BRAF V600E: {'Yes' if row.get('hasBrafV600EMutation', 0) == 1 else 'No'}\")\n",
    "    print(f\"  - KRAS G12C: {'Yes' if row.get('hasKrasG12CMutation', 0) == 1 else 'No'}\")\n",
    "    print(f\"  - RAS mutation: {'Yes' if row.get('hasRasMutation', 0) == 1 else 'No'}\")\n",
    "       \n",
    "    X_patient_base = patient_df.drop(columns=[\"ncrId\", \"ncrId_missing\", settings.event_col, settings.duration_col]).copy()\n",
    "    \n",
    "    treatment_cols = [col for col in X_patient_base.columns if col.startswith(treatment_col_prefix)]\n",
    "    actual_treatments = [col[len(treatment_col_prefix)+1:] for col in treatment_cols if row.get(col, 0) == 1]\n",
    "    print(f\"  - Actual received treatment: {', '.join(actual_treatments) if actual_treatments else 'No Treatment'}\\n\")\n",
    "    \n",
    "    treatment_options = [(\"No Treatment\", {tc: 0 for tc in treatment_cols})]\n",
    "    \n",
    "    for tc in treatment_cols:\n",
    "        option = {t: 0 for t in treatment_cols}\n",
    "        option[tc] = 1\n",
    "        treatment_label = tc[len(treatment_col_prefix)+1:] \n",
    "        treatment_options.append((treatment_label, option))\n",
    "    \n",
    "    actual_duration_days = patient_df[settings.duration_col].iloc[0]\n",
    "    actual_event = patient_df[settings.event_col].iloc[0]\n",
    "    \n",
    "    plt.figure(figsize=(12, 8))\n",
    "    colors = plt.cm.tab20(np.linspace(0, 1, len(treatment_options)))\n",
    "    \n",
    "    for i, (treatment_label, treatment_vals) in enumerate(treatment_options):\n",
    "        X_patient_modified = X_patient_base.copy()\n",
    "        for tc in treatment_cols:\n",
    "            X_patient_modified[tc] = 0\n",
    "        for tc, val in treatment_vals.items():\n",
    "            X_patient_modified[tc] = val\n",
    "      \n",
    "        try:\n",
    "            surv_funcs = model.predict_survival_function(X_patient_modified)\n",
    "\n",
    "            times = np.linspace(\n",
    "                max(fn.x[0] for fn in surv_funcs),\n",
    "                min(fn.x[-1] for fn in surv_funcs),\n",
    "                100\n",
    "            )\n",
    "            surv_probs = np.row_stack([fn(times) for fn in surv_funcs])\n",
    "            plt.step(times / 30.44, surv_probs[0], where=\"post\",\n",
    "                     color=colors[i],\n",
    "                     label=f\" {treatment_label}\")\n",
    "        except Exception as e:\n",
    "            print(f\"Error plotting survival curves with treatment {treatment_label}: {e}\")\n",
    "    \n",
    "    marker_color = 'red' if actual_event else 'blue'\n",
    "    marker_label = \"Event Time\" if actual_event else \"Censoring Time\"\n",
    "    plt.axvline(x=actual_duration_days / 30.44, color=marker_color, linestyle='--', label=marker_label)\n",
    "    \n",
    "    plt.title(f\"{plot_title} for ncrId: {ncrId}\")\n",
    "    plt.xlabel(\"Time (months)\")\n",
    "    plt.ylabel(\"Survival Probability\")\n",
    "    plt.legend(loc=\"best\")\n",
    "    plt.grid(True)\n",
    "    plt.show()\n"
   ]
  },
  {
   "cell_type": "code",
   "execution_count": null,
   "id": "fa275a68-72d7-4927-8e88-92ffe9e8e171",
   "metadata": {
    "tags": []
   },
   "outputs": [],
   "source": [
    "plot_survival_curves_for_ncrId_different_treatments(\n",
    "    model=trained_models['DeepSurv'],\n",
    "    ncrId=950861304,\n",
    "    features=lookup_manager.features,\n",
    "    plot_title=f\"{settings.outcome}: Survival Curves\"\n",
    ")"
   ]
  }
 ],
 "metadata": {
  "kernelspec": {
   "display_name": "Python (prediction_env)",
   "language": "python",
   "name": "prediction_env"
  },
  "language_info": {
   "codemirror_mode": {
    "name": "ipython",
    "version": 3
   },
   "file_extension": ".py",
   "mimetype": "text/x-python",
   "name": "python",
   "nbconvert_exporter": "python",
   "pygments_lexer": "ipython3",
   "version": "3.7.3"
  }
 },
 "nbformat": 4,
 "nbformat_minor": 5
}
