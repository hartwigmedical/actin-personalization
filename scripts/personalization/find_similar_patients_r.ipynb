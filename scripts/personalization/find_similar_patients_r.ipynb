{
 "cells": [
  {
   "cell_type": "code",
   "execution_count": null,
   "id": "038f8358-53be-4ca1-990c-178009e791b9",
   "metadata": {
    "tags": []
   },
   "outputs": [],
   "source": [
    "library(dplyr)\n",
    "library(tibble)\n",
    "library(DBI)\n",
    "library(RMySQL)\n",
    "\n",
    "rm(list=ls())\n",
    "\n",
    "source(paste0(\"/data/repos/actin-personalization/scripts/personalization/find_similar_patients_functions.R\"))\n",
    "\n",
    "dbActinPersonalization <- dbConnect(MySQL(), dbname='actin_personalization', groups=\"RAnalysis\")\n",
    "\n",
    "query_ref <-\"select e.*, d.ageAtDiagnosis, d.hasRasMutation, GROUP_CONCAT(locationGroup ORDER BY locationGroup) AS metastasisLocationGroupsPriorToSystemicTreatment from episode e join diagnosis d on e.diagnosisId=d.id JOIN metastasis mm ON mm.episodeId=e.id AND intervalTumorIncidenceMetastasisDetection < intervalTumorIncidenceTreatmentPlanStart GROUP BY e.id;\"\n",
    "\n",
    "ref <- dbGetQuery(dbActinPersonalization, query_ref)\n",
    "dbDisconnect(dbActinPersonalization)\n",
    "\n",
    "ref_general <- find_similar_patients_general(ref)\n",
    "head(ref_general[, c(\"ageAtDiagnosis\", \"observedPfsDays\", \"hadProgressionEvent\")])"
   ]
  },
  {
   "cell_type": "code",
   "execution_count": null,
   "id": "959a10be-7a97-47ed-a757-928a0b847abe",
   "metadata": {
    "tags": []
   },
   "outputs": [],
   "source": [
    "library(ggsurvfit)\n",
    "survfit2(Surv(observedPfsDays, hadProgressionEvent) ~ 1, data = ref_general) %>% \n",
    "  ggsurvfit() +\n",
    "  labs(\n",
    "    x = \"Days\",\n",
    "    y = \"Overall survival probability\"\n",
    "  ) + \n",
    "  add_confidence_interval() +\n",
    "  add_risktable()"
   ]
  },
  {
   "cell_type": "code",
   "execution_count": null,
   "id": "6d5aec22-ef6f-448d-bbcd-9c4bf8883790",
   "metadata": {
    "tags": []
   },
   "outputs": [],
   "source": [
    "library(survminer)\n",
    "age <- 50\n",
    "\n",
    "ref_age <- find_similar_patients_age(ref_general, patient_age=age, range=5)\n",
    "ref_who <- find_similar_patients_who(ref_general, patient_who=1)\n",
    "ref_ras <- find_similar_patients_ras(ref_general, patient_ras_status=0)\n",
    "ref_lesions <- find_similar_patients_lesions(ref_general, patient_lesions=c(\"Liver\"))\n",
    "\n",
    "ages <- ref_general[['ageAtDiagnosis']]\n",
    "greatest_age_diff <- max(age - min(ages), max(ages) - age)\n",
    "weights <- apply(ref_general, 1, function(row) 1 - abs(as.numeric(row[['ageAtDiagnosis']]) - age)/greatest_age_diff)\n",
    "\n",
    "general_surv_fit <- survfit(Surv(observedPfsDays, hadProgressionEvent)~1, data=ref_general)\n",
    "age_surv_fit <- survfit(Surv(observedPfsDays, hadProgressionEvent)~1, data=ref_age)\n",
    "who_surv_fit <- survfit(Surv(observedPfsDays, hadProgressionEvent)~1, data=ref_who)\n",
    "ras_surv_fit <- survfit(Surv(observedPfsDays, hadProgressionEvent)~1, data=ref_ras)\n",
    "lesion_surv_fit <- survfit(Surv(observedPfsDays, hadProgressionEvent)~1, data=ref_lesions)\n",
    "weighted_surv_fit <- survfit(Surv(observedPfsDays, hadProgressionEvent)~1, data=ref_general, weights=weights)\n",
    "surv_fit_list <- list(\n",
    "    \"All\" = general_surv_fit,\n",
    "    \"45-55\" = age_surv_fit,\n",
    "#    \"WHO=1\" = who_surv_fit,\n",
    "#    \"RAS WT\" = ras_surv_fit,\n",
    "#    \"Lesions\" = lesion_surv_fit,\n",
    "    \"Weighted\" = weighted_surv_fit\n",
    ")\n",
    "\n",
    "ggsurvplot(\n",
    "    surv_fit_list,\n",
    "    combine=TRUE,\n",
    "    xlim = c(0,1200),\n",
    "    break.time.by = 200\n",
    ")"
   ]
  },
  {
   "cell_type": "code",
   "execution_count": null,
   "id": "95a55062-97be-44f6-9601-6297f75e16bb",
   "metadata": {
    "tags": []
   },
   "outputs": [],
   "source": [
    "treatment_surv_fit <- survfit(Surv(observedPfsDays, hadProgressionEvent)~systemicTreatmentPlan, data=ref_general, weights=weights)\n",
    "treatmentsurv <- ggsurvplot(\n",
    "    treatment_surv_fit,\n",
    "    xlim = c(0,1200),\n",
    "    surv.median.line = \"hv\",\n",
    "    legend = \"top\",\n",
    "    conf.int = TRUE,\n",
    "    break.time.by = 200\n",
    ")\n",
    "treatmentsurv$plot <- treatmentsurv$plot + \n",
    "    theme(legend.text = element_text(size = 8, color = \"black\"))\n",
    "treatmentsurv"
   ]
  },
  {
   "cell_type": "code",
   "execution_count": null,
   "id": "ee42b3e5-dcae-4c9e-ba49-39e8d5feae6c",
   "metadata": {
    "tags": []
   },
   "outputs": [],
   "source": [
    "treatment_surv_fit"
   ]
  },
  {
   "cell_type": "code",
   "execution_count": null,
   "id": "1afda19e-8b14-482f-8769-9779bd2cffb6",
   "metadata": {},
   "outputs": [],
   "source": []
  }
 ],
 "metadata": {
  "kernelspec": {
   "display_name": "R",
   "language": "R",
   "name": "ir"
  },
  "language_info": {
   "codemirror_mode": "r",
   "file_extension": ".r",
   "mimetype": "text/x-r-source",
   "name": "R",
   "pygments_lexer": "r",
   "version": "4.3.2"
  }
 },
 "nbformat": 4,
 "nbformat_minor": 5
}
