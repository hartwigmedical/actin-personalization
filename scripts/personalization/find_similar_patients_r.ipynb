{
 "cells": [
  {
   "cell_type": "code",
   "execution_count": null,
   "id": "038f8358-53be-4ca1-990c-178009e791b9",
   "metadata": {
    "tags": []
   },
   "outputs": [],
   "source": [
    "library(dplyr)\n",
    "library(tibble)\n",
    "library(DBI)\n",
    "library(RMySQL)\n",
    "\n",
    "rm(list=ls())\n",
    "\n",
    "source(paste0(\"/data/repos/actin-personalization/scripts/personalization/find_similar_patients_functions.R\"))\n",
    "\n",
    "properties = read.table(\"~/rmysql.properties\", header=FALSE, sep=\"=\", row.names=1, strip.white=TRUE, na.strings=\"NA\", stringsAsFactors=FALSE)\n",
    "\n",
    "dbActinPersonalization <- dbConnect(\n",
    "    dbDriver(\"MySQL\"),\n",
    "    dbname='actin_personalization',\n",
    "    groups=\"RAnalysis\",\n",
    "    username=properties[\"db.user\", 1],\n",
    "    password=properties[\"db.pass\", 1],\n",
    "    host=properties[\"db.host\", 1],\n",
    "    port=as.numeric(properties[\"db.port\", 1]),\n",
    "    default.file=\"~/mysql.cnf\"\n",
    ")"
   ]
  },
  {
   "cell_type": "code",
   "execution_count": null,
   "id": "959a10be-7a97-47ed-a757-928a0b847abe",
   "metadata": {},
   "outputs": [],
   "source": []
  },
  {
   "cell_type": "code",
   "execution_count": null,
   "id": "6d5aec22-ef6f-448d-bbcd-9c4bf8883790",
   "metadata": {},
   "outputs": [],
   "source": []
  }
 ],
 "metadata": {
  "kernelspec": {
   "display_name": "R",
   "language": "R",
   "name": "ir"
  },
  "language_info": {
   "codemirror_mode": "r",
   "file_extension": ".r",
   "mimetype": "text/x-r-source",
   "name": "R",
   "pygments_lexer": "r",
   "version": "4.3.2"
  }
 },
 "nbformat": 4,
 "nbformat_minor": 5
}
