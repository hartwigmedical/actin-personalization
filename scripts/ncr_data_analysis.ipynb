{
 "cells": [
  {
   "cell_type": "code",
   "execution_count": null,
   "id": "f3568190-9634-4376-afd2-77aa32f6fc30",
   "metadata": {
    "tags": []
   },
   "outputs": [],
   "source": [
    "%use dataframe(0.12.1)\n",
    "\n",
    "val rawDf = DataFrame.readCSV(\"/data/patient_like_me/ncr/K23244.csv\", delimiter = ';')\n",
    "rawDf.schema().print()"
   ]
  },
  {
   "cell_type": "code",
   "execution_count": null,
   "id": "7a280d1c-3753-4d67-8609-3aa3ae4c2eba",
   "metadata": {
    "tags": []
   },
   "outputs": [],
   "source": [
    "val df = rawDf.groupBy { key_nkr }\n",
    "df.schema().print()"
   ]
  },
  {
   "cell_type": "code",
   "execution_count": null,
   "id": "14cecd57-4129-4812-991d-8c264aa88684",
   "metadata": {
    "tags": []
   },
   "outputs": [],
   "source": [
    "rawDf.count { syst_code6 != null }"
   ]
  },
  {
   "cell_type": "code",
   "execution_count": null,
   "id": "51be72bd-52bf-4fcd-8284-880976503968",
   "metadata": {
    "tags": []
   },
   "outputs": [],
   "source": [
    "val smallDf = rawDf.remove { meta_topo_sublok6 and meta_topo_sublok7 and meta_topo_sublok8 and meta_topo_sublok9 and meta_topo_sublok10 and \n",
    "    meta_int6 and meta_int7 and meta_int8 and meta_int9 and meta_int10 and \n",
    "    meta_prog6 and meta_prog7 and meta_prog8 and meta_prog9 and meta_prog10 and \n",
    "    syst_code6 and syst_code7 and syst_code8 and syst_code9 and syst_code10 and syst_code11 and syst_code12 and syst_code13 and syst_code14 and \n",
    "    syst_prepost6 and syst_prepost7 and syst_prepost8 and syst_prepost9 and syst_prepost10 and syst_prepost11 and syst_prepost12 and syst_prepost13 and syst_prepost14 and \n",
    "    syst_schemanum6 and syst_schemanum7 and syst_schemanum8 and syst_schemanum9 and syst_schemanum10 and syst_schemanum11 and syst_schemanum12 and syst_schemanum13 and syst_schemanum14 and \n",
    "    syst_kuren6 and syst_kuren7 and syst_kuren8 and syst_kuren9 and syst_kuren10 and syst_kuren11 and syst_kuren12 and syst_kuren13 and syst_kuren14 and \n",
    "    syst_start_int6 and syst_start_int7 and syst_start_int8 and syst_start_int9 and syst_start_int10 and syst_start_int11 and syst_start_int12 and syst_start_int13 and syst_start_int14 and \n",
    "    syst_stop_int6 and syst_stop_int7 and syst_stop_int8 and syst_stop_int9 and syst_stop_int10 and syst_stop_int11 and syst_stop_int12 and syst_stop_int13 and syst_stop_int14\n",
    "}"
   ]
  },
  {
   "cell_type": "code",
   "execution_count": null,
   "id": "4d872849-a343-4705-b048-32074bea9e97",
   "metadata": {
    "tags": []
   },
   "outputs": [],
   "source": [
    "val df = smallDf.groupBy { key_nkr }\n",
    "df.schema().print()"
   ]
  },
  {
   "cell_type": "code",
   "execution_count": null,
   "id": "9ecdfc13-bca9-48cb-a70a-b85d2dea0be3",
   "metadata": {},
   "outputs": [],
   "source": []
  }
 ],
 "metadata": {
  "kernelspec": {
   "display_name": "Kotlin",
   "language": "kotlin",
   "name": "kotlin"
  },
  "language_info": {
   "codemirror_mode": "text/x-kotlin",
   "file_extension": ".kt",
   "mimetype": "text/x-kotlin",
   "name": "kotlin",
   "nbconvert_exporter": "",
   "pygments_lexer": "kotlin",
   "version": "1.8.20"
  }
 },
 "nbformat": 4,
 "nbformat_minor": 5
}
