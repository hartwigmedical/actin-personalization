{
 "cells": [
  {
   "cell_type": "code",
   "execution_count": null,
   "id": "f3568190-9634-4376-afd2-77aa32f6fc30",
   "metadata": {
    "tags": []
   },
   "outputs": [],
   "source": [
    "%use dataframe(0.12.1)\n",
    "\n",
    "var rawDf = DataFrame.readCSV(\"/data/patient_like_me/ncr/K23244.csv\", delimiter = ';')\n",
    "rawDf.schema().print()"
   ]
  },
  {
   "cell_type": "code",
   "execution_count": null,
   "id": "bcf6e5cf-91a6-4381-b306-46dbd37573c8",
   "metadata": {
    "tags": []
   },
   "outputs": [],
   "source": [
    "fun histogram(column: DataColumn<List<Any>>) {\n",
    "    val hist = column.values.groupBy { it.size }\n",
    "        .mapValues { (_, lists) -> lists.size }\n",
    "    println(hist)\n",
    "}"
   ]
  },
  {
   "cell_type": "code",
   "execution_count": null,
   "id": "1f38d523-b8e1-410b-a38a-d06fa26e1ed9",
   "metadata": {},
   "outputs": [],
   "source": [
    "fun loadNcr(colsToCombine: List<List<String>>): DataFrame<Any> {\n",
    "    return colsToCombine.fold(rawDf) { df, columns ->\n",
    "        df.merge { columns.toColumnSet() }\n",
    "            .notNull()\n",
    "            .into(columns.first().substringBeforeLast(\"1\"))\n",
    "    }\n",
    "}"
   ]
  },
  {
   "cell_type": "code",
   "execution_count": null,
   "id": "dd050532-75ae-4de3-8a68-494de1d13fc8",
   "metadata": {
    "tags": []
   },
   "outputs": [],
   "source": [
    "val colsToCombine = listOf(\n",
    "    listOf(\"mal1_syst_code1\", \"mal1_syst_code2\", \"mal1_syst_code3\", \"mal1_syst_code4\", \"mal1_syst_code5\", \"mal1_syst_code6\", \"mal1_syst_code7\", \"mal1_syst_code8\", \"mal1_syst_code9\"),\n",
    "    listOf(\"mal2_syst_code1\", \"mal2_syst_code2\", \"mal2_syst_code3\", \"mal2_syst_code4\", \"mal2_syst_code5\"),\n",
    "    listOf(\"mal3_syst_code1\", \"mal3_syst_code2\", \"mal3_syst_code3\", \"mal3_syst_code4\"),\n",
    "    listOf(\"meta_topo_sublok1\", \"meta_topo_sublok2\", \"meta_topo_sublok3\", \"meta_topo_sublok4\", \"meta_topo_sublok5\", \"meta_topo_sublok6\", \"meta_topo_sublok7\", \"meta_topo_sublok8\", \"meta_topo_sublok9\", \"meta_topo_sublok10\"),\n",
    "    listOf(\"meta_int1\", \"meta_int2\", \"meta_int3\", \"meta_int4\", \"meta_int5\", \"meta_int6\", \"meta_int7\", \"meta_int8\", \"meta_int9\", \"meta_int10\"),\n",
    "    listOf(\"meta_prog1\", \"meta_prog2\", \"meta_prog3\", \"meta_prog4\", \"meta_prog5\", \"meta_prog6\", \"meta_prog7\", \"meta_prog8\", \"meta_prog9\", \"meta_prog10\"),\n",
    "    listOf(\"ldh1\", \"ldh2\", \"ldh3\", \"ldh4\"),\n",
    "    listOf(\"ldh_int1\", \"ldh_int2\", \"ldh_int3\", \"ldh_int4\"),\n",
    "    listOf(\"af1\", \"af2\", \"af3\", \"af4\"),\n",
    "    listOf(\"af_int1\", \"af_int2\", \"af_int3\", \"af_int4\"),\n",
    "    listOf(\"neutro1\", \"neutro2\", \"neutro3\", \"neutro4\"),\n",
    "    listOf(\"neutro_int1\", \"neutro_int2\", \"neutro_int3\", \"neutro_int4\"),\n",
    "    listOf(\"albumine1\", \"albumine2\", \"albumine3\", \"albumine4\"),\n",
    "    listOf(\"albumine_int1\", \"albumine_int2\", \"albumine_int3\", \"albumine_int4\"),\n",
    "    listOf(\"leuko1\", \"leuko2\", \"leuko3\", \"leuko4\"),\n",
    "    listOf(\"leuko_int1\", \"leuko_int2\", \"leuko_int3\", \"leuko_int4\"),\n",
    "    listOf(\"mdl_res_type1\", \"mdl_res_type2\"),\n",
    "    listOf(\"mdl_res_int1\", \"mdl_res_int2\"),\n",
    "    listOf(\"chir_int1\", \"chir_int2\"),\n",
    "    listOf(\"chir_opnameduur1\", \"chir_opnameduur2\"),\n",
    "    listOf(\"chir_type1\", \"chir_type2\"),\n",
    "    listOf(\"chir_tech1\", \"chir_tech2\"),\n",
    "    listOf(\"chir_urg1\", \"chir_urg2\"),\n",
    "    listOf(\"chir_rad1\", \"chir_rad2\"),\n",
    "    listOf(\"chir_crm1\", \"chir_crm2\"),\n",
    "    listOf(\"chir_naadlek1\", \"chir_naadlek2\"),\n",
    "    listOf(\"rt_type1\", \"rt_type2\"),\n",
    "    listOf(\"rt_start_int1\", \"rt_start_int2\"),\n",
    "    listOf(\"rt_stop_int1\", \"rt_stop_int2\"),\n",
    "    listOf(\"rt_dosis1\", \"rt_dosis2\"),\n",
    "    listOf(\"meta_rt_code1\", \"meta_rt_code2\", \"meta_rt_code3\", \"meta_rt_code4\"),\n",
    "    listOf(\"meta_rt_start_int1\", \"meta_rt_start_int2\", \"meta_rt_start_int3\", \"meta_rt_start_int4\"),\n",
    "    listOf(\"meta_rt_stop_int1\", \"meta_rt_stop_int2\", \"meta_rt_stop_int3\", \"meta_rt_stop_int4\"),\n",
    "    listOf(\"meta_chir_code1\", \"meta_chir_code2\", \"meta_chir_code3\"),\n",
    "    listOf(\"meta_chir_int1\", \"meta_chir_int2\", \"meta_chir_int3\"),\n",
    "    listOf(\"meta_chir_rad1\", \"meta_chir_rad2\", \"meta_chir_rad3\"),\n",
    "    listOf(\"syst_code1\", \"syst_code2\", \"syst_code3\", \"syst_code4\", \"syst_code5\", \"syst_code6\", \"syst_code7\", \"syst_code8\", \"syst_code9\", \"syst_code10\", \"syst_code11\", \"syst_code12\", \"syst_code13\", \"syst_code14\"),\n",
    "    listOf(\"syst_prepost1\", \"syst_prepost2\", \"syst_prepost3\", \"syst_prepost4\", \"syst_prepost5\", \"syst_prepost6\", \"syst_prepost7\", \"syst_prepost8\", \"syst_prepost9\", \"syst_prepost10\", \"syst_prepost11\", \"syst_prepost12\", \"syst_prepost13\", \"syst_prepost14\"),\n",
    "    listOf(\"syst_schemanum1\", \"syst_schemanum2\", \"syst_schemanum3\", \"syst_schemanum4\", \"syst_schemanum5\", \"syst_schemanum6\", \"syst_schemanum7\", \"syst_schemanum8\", \"syst_schemanum9\", \"syst_schemanum10\", \"syst_schemanum11\", \"syst_schemanum12\", \"syst_schemanum13\", \"syst_schemanum14\"),\n",
    "    listOf(\"syst_kuren1\", \"syst_kuren2\", \"syst_kuren3\", \"syst_kuren4\", \"syst_kuren5\", \"syst_kuren6\", \"syst_kuren7\", \"syst_kuren8\", \"syst_kuren9\", \"syst_kuren10\", \"syst_kuren11\", \"syst_kuren12\", \"syst_kuren13\", \"syst_kuren14\"),\n",
    "    listOf(\"syst_start_int1\", \"syst_start_int2\", \"syst_start_int3\", \"syst_start_int4\", \"syst_start_int5\", \"syst_start_int6\", \"syst_start_int7\", \"syst_start_int8\", \"syst_start_int9\", \"syst_start_int10\", \"syst_start_int11\", \"syst_start_int12\", \"syst_start_int13\", \"syst_start_int14\"),\n",
    "    listOf(\"syst_stop_int1\", \"syst_stop_int2\", \"syst_stop_int3\", \"syst_stop_int4\", \"syst_stop_int5\", \"syst_stop_int6\", \"syst_stop_int7\", \"syst_stop_int8\", \"syst_stop_int9\", \"syst_stop_int10\", \"syst_stop_int11\", \"syst_stop_int12\", \"syst_stop_int13\", \"syst_stop_int14\"),\n",
    "    listOf(\"pfs_event1\", \"pfs_event2\", \"pfs_event3\", \"pfs_event4\"),\n",
    "    listOf(\"fup_event_type1\", \"fup_event_type2\", \"fup_event_type3\", \"fup_event_type4\"),\n",
    "    listOf(\"pfs_int1\", \"pfs_int2\", \"pfs_int3\", \"pfs_int4\")\n",
    ")\n",
    "\n",
    "val df = loadNcr(colsToCombine)"
   ]
  },
  {
   "cell_type": "code",
   "execution_count": null,
   "id": "a28ff327-62b0-4a42-a624-11b10166e1bf",
   "metadata": {
    "tags": []
   },
   "outputs": [],
   "source": [
    "df.schema().print()"
   ]
  },
  {
   "cell_type": "code",
   "execution_count": null,
   "id": "a50f66ad-6c67-41b6-87fd-ac5070b99682",
   "metadata": {
    "tags": []
   },
   "outputs": [],
   "source": [
    "histogram(df.getColumn { pfs_int })"
   ]
  },
  {
   "cell_type": "code",
   "execution_count": null,
   "id": "82eea75e-6239-48f3-925d-d6e812e7e806",
   "metadata": {},
   "outputs": [],
   "source": []
  }
 ],
 "metadata": {
  "kernelspec": {
   "display_name": "Kotlin",
   "language": "kotlin",
   "name": "kotlin"
  },
  "language_info": {
   "codemirror_mode": "text/x-kotlin",
   "file_extension": ".kt",
   "mimetype": "text/x-kotlin",
   "name": "kotlin",
   "nbconvert_exporter": "",
   "pygments_lexer": "kotlin",
   "version": "1.8.20"
  },
  "toc-showtags": false
 },
 "nbformat": 4,
 "nbformat_minor": 5
}
