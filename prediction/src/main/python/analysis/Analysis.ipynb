{
 "cells": [
  {
   "cell_type": "code",
   "execution_count": null,
   "id": "2edd6137-e4c4-4707-8a39-c6d2761b7c90",
   "metadata": {
    "tags": []
   },
   "outputs": [],
   "source": [
    "%load_ext autoreload\n",
    "%autoreload 2"
   ]
  },
  {
   "cell_type": "code",
   "execution_count": null,
   "id": "cb25c442-b543-48ff-975c-87f66a2fd0f4",
   "metadata": {
    "tags": []
   },
   "outputs": [],
   "source": [
    "import pandas as pd\n",
    "import numpy as np\n",
    "import seaborn as sns\n",
    "import ast\n",
    "import matplotlib.pyplot as plt\n",
    "import dill\n",
    "import torch\n",
    "import nbimporter\n",
    "import shap\n",
    "\n",
    "import os\n",
    "import sys\n",
    "\n",
    "os.chdir('/data/repos/actin-personalization/prediction')\n",
    "sys.path.insert(0, os.path.abspath(\"src/main/python\"))\n",
    "\n",
    "from models import *\n",
    "from data.data_processing import DataSplitter, DataPreprocessor\n",
    "from data.lookups import lookup_manager\n",
    "from utils.settings import settings\n",
    "from src.main.python.analysis.predictive_algorithms_training import get_data, plot_different_models_survival_curves\n",
    "\n",
    "preprocessor = DataPreprocessor(settings.db_config_path, settings.db_name)"
   ]
  },
  {
   "cell_type": "code",
   "execution_count": null,
   "id": "b1ca4228-b852-4043-b6b9-36f2acb06678",
   "metadata": {
    "tags": []
   },
   "outputs": [],
   "source": [
    "df, X_train, X_test, y_train, y_test, encoded_columns = get_data()"
   ]
  },
  {
   "cell_type": "code",
   "execution_count": null,
   "id": "1dfa680c-c60c-46a6-9800-8a2f3007e90d",
   "metadata": {
    "tags": []
   },
   "outputs": [],
   "source": [
    "def get_preprocessed_data_with_sourceId(preprocessor):\n",
    "    df_raw = preprocessor.load_data()\n",
    "    df_all, updated_features, _ = preprocessor.preprocess_data(\n",
    "        lookup_manager.features, df=df_raw\n",
    "    )\n",
    "    df_all[\"sourceId\"] = df_raw.loc[df_all.index, \"sourceId\"]\n",
    "    return df_raw, df_all, updated_features\n",
    "\n",
    "df_raw, df_all, updated_features = get_preprocessed_data_with_sourceId(preprocessor)"
   ]
  },
  {
   "cell_type": "markdown",
   "id": "44185d19-f014-4311-ac44-ea5e8daf8de2",
   "metadata": {},
   "source": [
    "## Load trained models"
   ]
  },
  {
   "cell_type": "code",
   "execution_count": null,
   "id": "f7f52520-c77f-44f1-96a2-67dbc61fa9d0",
   "metadata": {
    "tags": []
   },
   "outputs": [],
   "source": [
    "def load_model_outcomes():\n",
    "    csv_file = os.path.join(f\"{settings.save_path}\", f\"{settings.outcome}_model_outcomes.csv\")\n",
    "    \n",
    "    if os.path.exists(csv_file):\n",
    "        results_df = pd.read_csv(csv_file)\n",
    "        print(f\"Loaded model outcomes from {csv_file}\")\n",
    "    else:\n",
    "        raise FileNotFoundError(f\"No saved outcomes found for {settings.outcome} in {settings.save_path}\")\n",
    "    \n",
    "    return results_df"
   ]
  },
  {
   "cell_type": "code",
   "execution_count": null,
   "id": "088c00eb-acac-4d76-a500-310a7fc49088",
   "metadata": {
    "tags": []
   },
   "outputs": [],
   "source": [
    "def load_trained_model(model_name, model_class, model_kwargs={}):\n",
    "    model_file_prefix = os.path.join(settings.save_path, f\"{settings.outcome}_{model_name}\")\n",
    "    nn_file = model_file_prefix + \".pt\"\n",
    "    sk_file = model_file_prefix + \".pkl\"\n",
    "        \n",
    "    if model_name in ['CoxPH', 'RandomSurvivalForest', 'GradientBoosting', 'AalenAdditive']:\n",
    "        with open(sk_file, \"rb\") as f:\n",
    "            model = dill.load(f)\n",
    "        print(f\"Model {model_name} loaded from {sk_file}\")\n",
    "        return model\n",
    "    else:\n",
    "        model = model_class(**model_kwargs)\n",
    "    \n",
    "        state = torch.load(nn_file, map_location=torch.device('cpu'))\n",
    "        \n",
    "        model.model.net.load_state_dict(state['net_state'])\n",
    "    \n",
    "        if 'labtrans' in state:\n",
    "            model.labtrans             = state['labtrans']\n",
    "            model.model.duration_index = model.labtrans.cuts\n",
    "        \n",
    "        if 'baseline_hazards' in state:\n",
    "            model.model.baseline_hazards_ = state['baseline_hazards']\n",
    "            model.model.baseline_cumulative_hazards_ = state['baseline_cumulative_hazards']\n",
    "            \n",
    "            print(f\"Baseline hazards loaded for {model_name}.\")\n",
    "            \n",
    "        model.model.net.eval()     \n",
    "        print(f\"Model {model_name} loaded from {nn_file}\")\n",
    "        \n",
    "        return model\n",
    "    \n",
    "def load_all_trained_models(X_train):\n",
    "    loaded_models = {}\n",
    "    config_mgr = ExperimentConfig(settings.json_config_file)\n",
    "    loaded_configs = config_mgr.load_model_configs()\n",
    "\n",
    "    for model_name, (model_class, model_kwargs) in loaded_configs.items():\n",
    "        print(model_name, model_class)\n",
    "        try:\n",
    "            loaded_model = load_trained_model(\n",
    "                model_name=model_name, \n",
    "                model_class=model_class, \n",
    "                model_kwargs=model_kwargs\n",
    "            )\n",
    "            loaded_models[model_name] = loaded_model\n",
    "\n",
    "            ModelTrainer._set_attention_indices(loaded_models[model_name], list(X_train.columns))\n",
    "        except:\n",
    "            print(f'Could not load: {model_name}')\n",
    "            continue\n",
    "    return loaded_models"
   ]
  },
  {
   "cell_type": "code",
   "execution_count": null,
   "id": "a230965a-8f56-41d9-b4e8-949c3a76913c",
   "metadata": {
    "tags": []
   },
   "outputs": [],
   "source": [
    "model_outcomes = load_model_outcomes()"
   ]
  },
  {
   "cell_type": "code",
   "execution_count": null,
   "id": "2cb52888-bb93-4481-b79e-c4a446b7a495",
   "metadata": {
    "tags": []
   },
   "outputs": [],
   "source": [
    "trained_models = load_all_trained_models(X_train)"
   ]
  },
  {
   "cell_type": "markdown",
   "id": "9d0075f3-0024-4111-bdf8-25a3be10bce0",
   "metadata": {},
   "source": [
    "## Model Output"
   ]
  },
  {
   "cell_type": "code",
   "execution_count": null,
   "id": "cd92faa5-4339-4a27-b2b8-df6403bd36fb",
   "metadata": {
    "tags": []
   },
   "outputs": [],
   "source": [
    "import json\n",
    "with open('src/main/python/data/treatment_combinations.json', 'r') as f:\n",
    "    valid_treatment_combinations = json.load(f)"
   ]
  },
  {
   "cell_type": "markdown",
   "id": "6a001d6b-f7f3-4229-aab7-84db48955274",
   "metadata": {},
   "source": [
    "## Analysis"
   ]
  },
  {
   "cell_type": "code",
   "execution_count": null,
   "id": "ae252cc3-4057-42b9-a5f4-2a32a0883e85",
   "metadata": {
    "tags": []
   },
   "outputs": [],
   "source": [
    "def plot_threshold_analysis_by_treatment(\n",
    "    model,\n",
    "    df_all,\n",
    "    treatment_map: dict = None,\n",
    "    treatment_prefix: str = \"systemicTreatmentPlan\",\n",
    "    horizon_days: int = 365,\n",
    "    model_name: str = \"Model\",\n",
    "    n_thresholds: int = 100,\n",
    "    palette=plt.cm.tab20,\n",
    "):\n",
    "    if treatment_map is None:\n",
    "        cols = [c for c in df_all.columns if c.startswith(treatment_prefix)]\n",
    "        if not cols:\n",
    "            raise ValueError(\n",
    "                f\"No columns found with prefix '{treatment_prefix}'. \"\n",
    "            )\n",
    "        treatment_map = {\"No Treatment\": {}}\n",
    "        treatment_map.update({\n",
    "            col[len(treatment_prefix):] or col: {col: 1}\n",
    "            for col in cols\n",
    "        })\n",
    "\n",
    "    preds_by_tx = get_preds_for_all_treatments(\n",
    "        model, df_all,\n",
    "        treatment_map=treatment_map,\n",
    "        treatment_prefix=treatment_prefix,\n",
    "        horizon_days=horizon_days,\n",
    "    )\n",
    "\n",
    "    thresholds = np.linspace(0.0, 1.0, n_thresholds)\n",
    "    fig, (ax_top, ax_bot) = plt.subplots(\n",
    "        2, 1, figsize=(11, 8), sharex=True,\n",
    "        gridspec_kw={\"height_ratios\": [3, 1.2]}\n",
    "    )\n",
    "\n",
    "    colors = palette(np.linspace(0, 1, len(preds_by_tx)))\n",
    "    for (label, df_preds), col in zip(preds_by_tx.items(), colors):\n",
    "        med, q1, q3, lo, hi, n = [], [], [], [], [], []\n",
    "\n",
    "        for t in thresholds:\n",
    "            sub = df_preds[df_preds[\"predicted_prob_1yr\"] < t]\n",
    "            n.append(len(sub))\n",
    "            if sub.empty:\n",
    "                med.append(np.nan); q1.append(np.nan); q3.append(np.nan)\n",
    "                lo.append(np.nan);  hi.append(np.nan)\n",
    "                continue\n",
    "            times = sub[\"actual_survival_time\"].values\n",
    "            q1_t, q3_t = np.percentile(times, [25, 75])\n",
    "            iqr = q3_t - q1_t\n",
    "            med.append(np.median(times))\n",
    "            q1.append(q1_t); q3.append(q3_t)\n",
    "            lo.append(max(times.min(), q1_t - 1.5 * iqr))\n",
    "            hi.append(min(times.max(), q3_t + 1.5 * iqr))\n",
    "\n",
    "        ax_top.fill_between(thresholds, q1, q3, color=col, alpha=0.15)\n",
    "        ax_top.plot(thresholds, med, color=col, lw=2, label=f\"{label} – median\")\n",
    "        ax_top.plot(thresholds, lo,  color=col, ls=\":\")\n",
    "        ax_top.plot(thresholds, hi,  color=col, ls=\":\")\n",
    "        ax_bot.step(thresholds, n, where=\"post\", color=col, lw=1.5, label=label)\n",
    "\n",
    "    label = f\"{horizon_days//365}-year ({horizon_days} d)\" if horizon_days % 365 == 0 else f\"{horizon_days} days\"\n",
    "    ax_top.axhline(horizon_days, color=\"black\", ls=\"--\", label=label)\n",
    "    ax_top.set_ylabel(\"Actual survival time (days)\")\n",
    "    ax_top.grid(alpha=0.3); ax_top.set_ylim(bottom=0)\n",
    "    ax_top.legend(fontsize=8)\n",
    "\n",
    "    ax_bot.set_xlabel(\"Predicted 1-year survival probability\")\n",
    "    ax_bot.set_ylabel(\"Patients\\nbelow cut-off\")\n",
    "    ax_bot.grid(alpha=0.3); ax_bot.set_ylim(bottom=0)\n",
    "    ax_bot.legend(fontsize=8, ncol=2)\n",
    "\n",
    "    plt.suptitle(\n",
    "        f\"{model_name}: Actual survival vs survival probability \"\n",
    "        f\"(survival predicted at {horizon_days} d)\",\n",
    "        y=0.97\n",
    "    )\n",
    "    plt.tight_layout(rect=[0, 0, 1, 0.95])\n",
    "    plt.show()"
   ]
  },
  {
   "cell_type": "code",
   "execution_count": null,
   "id": "8bbf1445-9282-4703-9b4e-6d3467c0570b",
   "metadata": {
    "tags": []
   },
   "outputs": [],
   "source": [
    "def get_preds_for_all_treatments(\n",
    "    model,\n",
    "    df_all,\n",
    "    treatment_map: dict,\n",
    "    treatment_prefix: str = \"systemicTreatmentPlan\",\n",
    "    horizon_days: int = 365,\n",
    "    background_size: int = 150\n",
    "):\n",
    "\n",
    "    durations = df_all[settings.duration_col].values\n",
    "    events    = df_all[settings.event_col].astype(bool).values\n",
    "    X_base    = df_all.drop(columns=[\"sourceId\",\n",
    "                                     settings.event_col,\n",
    "                                     settings.duration_col])\n",
    "\n",
    "    treatment_cols = [c for c in X_base if c.startswith(treatment_prefix)]\n",
    "\n",
    "    preds_by_tx = {}\n",
    "\n",
    "    for label, mapping in treatment_map.items():\n",
    "        X_mod = apply_treatment(\n",
    "            X_base, mapping, treatment_cols,\n",
    "            msi_flag=(df_all.get(\"hasMsi\", pd.Series(0))).astype(bool)\n",
    "        )\n",
    "        df_preds = get_patient_predictions(\n",
    "            model,\n",
    "            X_mod, durations, events,\n",
    "            horizon_days=horizon_days\n",
    "        )\n",
    "        preds_by_tx[label] = df_preds\n",
    "\n",
    "    return preds_by_tx\n"
   ]
  },
  {
   "cell_type": "code",
   "execution_count": null,
   "id": "c05e4578-07a2-4c4d-93bb-ab7d394125cc",
   "metadata": {
    "tags": []
   },
   "outputs": [],
   "source": [
    "def apply_treatment(df, mapping, treatment_cols, msi_flag):\n",
    "    df_copy = df.copy()\n",
    "    df_copy[treatment_cols] = 0\n",
    "    for col, val in mapping.items():\n",
    "        if col in df_copy:\n",
    "            df_copy[col] = val\n",
    "    if \"hasMsi\" in df_copy:\n",
    "        df_copy[\"hasMsi\"] = msi_flag\n",
    "        \n",
    "    df_copy[\"hasTreatment\"] = (\n",
    "        df_copy[treatment_cols].sum(axis=1) > 0\n",
    "    ).astype(int)\n",
    "    return df_copy"
   ]
  },
  {
   "cell_type": "code",
   "execution_count": null,
   "id": "e1785a1b-ab0b-4430-9f04-ce40081b113d",
   "metadata": {
    "tags": []
   },
   "outputs": [],
   "source": [
    "def get_patient_predictions(model, X, durations, events, horizon_days=365):\n",
    "    mask_known = ~((durations <= horizon_days) & (~events))\n",
    "    durations_masked = durations[mask_known]\n",
    "    events_masked = events[mask_known]\n",
    "    X_masked = X.loc[mask_known]\n",
    "\n",
    "    if len(X_masked) == 0:\n",
    "        return None\n",
    "\n",
    "    surv_funcs = model.predict_survival_function(X_masked)\n",
    "    predicted_probs = np.array([fn(horizon_days) for fn in surv_funcs])\n",
    "\n",
    "    df_preds = pd.DataFrame({\n",
    "        \"predicted_prob_1yr\": predicted_probs,\n",
    "        \"actual_survival_time\": durations_masked,\n",
    "        \"event_observed\": events_masked\n",
    "    })\n",
    "\n",
    "    return df_preds"
   ]
  },
  {
   "cell_type": "code",
   "execution_count": null,
   "id": "e27d1910-f8ca-4404-a064-54a55b528294",
   "metadata": {
    "tags": []
   },
   "outputs": [],
   "source": [
    "five_fu_map = {\"5-FU\": valid_treatment_combinations[\"5-FU\"]}\n",
    "\n",
    "treat_prefix = \"systemicTreatmentPlan_\"\n",
    "cols_treat   = [c for c in df_all.columns if c.startswith(treat_prefix)]\n",
    "\n",
    "col_5fu      = \"systemicTreatmentPlan_5-FU\"\n",
    "other_cols   = [c for c in cols_treat if c != col_5fu]\n",
    "\n",
    "mask_5fu = (\n",
    "    (df_all[col_5fu] == 1) &\n",
    "    (df_all[other_cols].sum(axis=1) == 0)\n",
    ")\n",
    "\n",
    "df_5fu = df_all[mask_5fu].copy()\n",
    "print(f\"{len(df_5fu)} patients with 5-FU\")\n",
    "\n",
    "\n",
    "plot_threshold_analysis_by_treatment(\n",
    "    model            = trained_models[\"DeepSurv_attention\"],\n",
    "    df_all           = df_5fu,\n",
    "    treatment_map    = five_fu_map,\n",
    "    treatment_prefix = treat_prefix,\n",
    "    horizon_days     = 365,\n",
    "    model_name       = \"DeepSurv + Attention\"\n",
    ")\n"
   ]
  },
  {
   "cell_type": "code",
   "execution_count": null,
   "id": "dc38abb9-960b-4a44-9035-9162689a0909",
   "metadata": {
    "tags": []
   },
   "outputs": [],
   "source": [
    "plot_threshold_analysis_by_treatment(\n",
    "    model            = trained_models[\"DeepSurv_attention\"],\n",
    "    df_all           = df_5fu,\n",
    "    treatment_map    = five_fu_map,\n",
    "    treatment_prefix = treat_prefix,\n",
    "    horizon_days     = 182,\n",
    "    model_name       = \"DeepSurv + Attention\"\n",
    ")"
   ]
  },
  {
   "cell_type": "code",
   "execution_count": null,
   "id": "f9e5b9a1-9458-431c-bd45-481fc3acb625",
   "metadata": {
    "tags": []
   },
   "outputs": [],
   "source": [
    "plot_threshold_analysis_by_treatment(\n",
    "    model            = trained_models[\"DeepSurv_attention\"],\n",
    "    df_all           = df_5fu,\n",
    "    treatment_map    = five_fu_map,\n",
    "    treatment_prefix = treat_prefix,\n",
    "    horizon_days     = 91,\n",
    "    model_name       = \"DeepSurv + Attention\"\n",
    ")"
   ]
  },
  {
   "cell_type": "code",
   "execution_count": null,
   "id": "8dcf86a9-7624-40e9-ba7a-3c535be922e4",
   "metadata": {
    "tags": []
   },
   "outputs": [],
   "source": [
    "five_fu_oxa_beva_map = {\"5-FU + oxaliplatin + bevacizumab\": valid_treatment_combinations[\"5-FU + oxaliplatin + bevacizumab\"]}\n",
    "\n",
    "treat_prefix  = \"systemicTreatmentPlan_\"\n",
    "cols_treat    = [c for c in df_all.columns if c.startswith(treat_prefix)]\n",
    "\n",
    "col_5fu       = f\"{treat_prefix}5-FU\"\n",
    "col_oxa     = f\"{treat_prefix}oxaliplatin\"\n",
    "col_beva      = f\"{treat_prefix}bevacizumab\"\n",
    "\n",
    "required_cols = [col_5fu, col_oxa, col_beva]\n",
    "other_cols    = [c for c in cols_treat if c not in required_cols]\n",
    "\n",
    "mask_combo = (\n",
    "    df_all[required_cols].eq(1).all(axis=1)\n",
    "    &\n",
    "    (df_all[other_cols].sum(axis=1) == 0)\n",
    ")\n",
    "\n",
    "df_5fu_oxa_beva = df_all[mask_combo].copy()\n",
    "print(f\"{len(df_5fu_oxa_beva)} patients with 5-FU + Oxaplatin + Bevacizumab\")\n",
    "\n",
    "\n",
    "plot_threshold_analysis_by_treatment(\n",
    "    model            = trained_models[\"DeepSurv_attention\"],\n",
    "    df_all           = df_5fu_oxa_beva,\n",
    "    treatment_map    = five_fu_oxa_beva_map,\n",
    "    treatment_prefix = treat_prefix,\n",
    "    horizon_days     = 365,\n",
    "    model_name       = \"DeepSurv + Attention\"\n",
    ")\n"
   ]
  },
  {
   "cell_type": "code",
   "execution_count": null,
   "id": "fcb65b5d-ec7e-4c5d-9ec5-94eb134b96e8",
   "metadata": {
    "tags": []
   },
   "outputs": [],
   "source": [
    "no_treatment_map = {\"No treatment\": valid_treatment_combinations[\"No treatment\"]}\n",
    "\n",
    "treat_prefix = \"systemicTreatmentPlan_\"\n",
    "cols_treat = [c for c in df_all.columns if c.startswith(treat_prefix)]\n",
    "\n",
    "mask_no_treatment = df_all[cols_treat].sum(axis=1) == 0\n",
    "\n",
    "df_no_treatment = df_all[mask_no_treatment].copy()\n",
    "print(f\"{len(df_no_treatment)} patients with no systemic treatment\")\n",
    "\n",
    "# Run the threshold analysis\n",
    "plot_threshold_analysis_by_treatment(\n",
    "    model            = trained_models[\"DeepSurv_attention\"],\n",
    "    df_all           = df_no_treatment,\n",
    "    treatment_map    = no_treatment_map,\n",
    "    treatment_prefix = treat_prefix,\n",
    "    horizon_days     = 365,\n",
    "    model_name       = \"DeepSurv + Attention\"\n",
    ")\n"
   ]
  },
  {
   "cell_type": "code",
   "execution_count": null,
   "id": "a41c332a-5620-47df-b814-06de2614368f",
   "metadata": {
    "tags": []
   },
   "outputs": [],
   "source": [
    "no_treatment_map = {\"No treatment\": valid_treatment_combinations[\"No treatment\"]}\n",
    "\n",
    "treat_prefix = \"systemicTreatmentPlan_\"\n",
    "cols_treat = [c for c in df_all.columns if c.startswith(treat_prefix)]\n",
    "\n",
    "mask_no_treatment = df_all[cols_treat].sum(axis=1) == 0\n",
    "\n",
    "df_no_treatment = df_all[mask_no_treatment].copy()\n",
    "print(f\"{len(df_no_treatment)} patients with no systemic treatment\")\n",
    "\n",
    "# Run the threshold analysis\n",
    "plot_threshold_analysis_by_treatment(\n",
    "    model            = trained_models[\"DeepSurv_attention\"],\n",
    "    df_all           = df_no_treatment,\n",
    "    treatment_map    = five_fu_map,\n",
    "    treatment_prefix = treat_prefix,\n",
    "    horizon_days     = 365,\n",
    "    model_name       = \"DeepSurv + Attention\"\n",
    ")\n"
   ]
  },
  {
   "cell_type": "code",
   "execution_count": null,
   "id": "c4316d73-2bbd-4cc8-9a01-e9e27b68a059",
   "metadata": {
    "tags": []
   },
   "outputs": [],
   "source": [
    "treat_prefix = \"systemicTreatmentPlan_\"\n",
    "cols_treat = [c for c in df_all.columns if c.startswith(treat_prefix)]\n",
    "\n",
    "unique_treatments = df_all[cols_treat].drop_duplicates().reset_index(drop=True)\n",
    "\n",
    "def make_label(row):\n",
    "    active = [col.replace(treat_prefix, \"\") for col in cols_treat if row[col] == 1]\n",
    "    return \" + \".join(active) if active else \"No treatment\"\n",
    "\n",
    "unique_treatments[\"label\"] = unique_treatments.apply(make_label, axis=1)\n",
    "\n",
    "valid_treatment_combinations = {\n",
    "    row[\"label\"]: row[cols_treat].to_dict()\n",
    "    for _, row in unique_treatments.iterrows()\n",
    "}\n",
    "\n",
    "for label, treatment_vector in valid_treatment_combinations.items():\n",
    "    print(f\"{label}: {treatment_vector}\")\n"
   ]
  }
 ],
 "metadata": {
  "kernelspec": {
   "display_name": "Python 3 (ipykernel)",
   "language": "python",
   "name": "python3"
  },
  "language_info": {
   "codemirror_mode": {
    "name": "ipython",
    "version": 3
   },
   "file_extension": ".py",
   "mimetype": "text/x-python",
   "name": "python",
   "nbconvert_exporter": "python",
   "pygments_lexer": "ipython3",
   "version": "3.7.3"
  }
 },
 "nbformat": 4,
 "nbformat_minor": 5
}
