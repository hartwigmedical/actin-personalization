{
 "cells": [
  {
   "cell_type": "markdown",
   "id": "cddaf6c7-59ba-4b12-97ea-ba680465f7a3",
   "metadata": {},
   "source": [
    "# ACTIN-1289 Test Kaplan Meier assumptions\n",
    "In order to actually use the kaplan-meier method the data needs to adhere to specific assumptions (see: https://docs.google.com/document/d/1s1TUogmw6y0wAti4xqoJpvNYCkkSjb6tJvVo_t-XNns/edit?usp=sharing).\n",
    "\n",
    "In this notebook we look into the assumptions that need some data-investigation."
   ]
  },
  {
   "cell_type": "code",
   "execution_count": null,
   "id": "1aa9aa1b-7a5a-412d-a9d5-9ad366a36c62",
   "metadata": {
    "tags": []
   },
   "outputs": [],
   "source": [
    "import pandas as pd\n",
    "import matplotlib.pyplot as plt\n",
    "import seaborn as sns\n",
    "from scipy.stats import kruskal\n",
    "import pymysql"
   ]
  },
  {
   "cell_type": "code",
   "execution_count": null,
   "id": "fa21ec92-b15e-45af-aad3-8994910d04c8",
   "metadata": {
    "tags": []
   },
   "outputs": [],
   "source": [
    "db_connection = pymysql.connect(\n",
    "    read_default_file='/home/jupyter/.my.cnf',\n",
    "    read_default_group='RAnalysis', \n",
    "    db = 'actin_personalization_v2'\n",
    ")\n",
    "\n",
    "query = \"SELECT * FROM knownPalliativeTreatedReference \"\n",
    "\n",
    "km_df = pd.read_sql(query, db_connection)\n",
    "\n",
    "db_connection.close()\n",
    "\n",
    "km_df.head()"
   ]
  },
  {
   "cell_type": "markdown",
   "id": "0291c01c-80e3-474f-ac32-cca19be02ab8",
   "metadata": {},
   "source": [
    "## Assumption 5\n",
    "Assumption 5 states:\n",
    "\n",
    "> There should be no secular trends (also known as secular changes). \n",
    "> A characteristic of many studies that involve survival analysis is that:\n",
    "> - (a) there is often a long time period between the start and end of the experiment; \n",
    "> - and (b) not all cases (e.g., participants) tend to start the experiment at the same time. \n"
   ]
  },
  {
   "cell_type": "code",
   "execution_count": null,
   "id": "e251ac6f-d1b3-469d-ae83-3cd475a9187e",
   "metadata": {
    "tags": []
   },
   "outputs": [],
   "source": [
    "df = km_df[km_df['diagnosisYear'] != 2022]\n",
    "years = df['diagnosisYear'].unique()\n",
    "\n",
    "def plot_survival_distribution_per_year(df, years, survival_column):\n",
    "    \n",
    "    survival_data = [df[df['diagnosisYear'] == year][survival_column].dropna() for year in years]\n",
    "    kruskal_test = kruskal(*survival_data)\n",
    "\n",
    "    print(\"Kruskal-Wallis test results:\", kruskal_test)\n",
    "\n",
    "    plt.figure(figsize=(10, 6))\n",
    "    sns.boxplot(x='diagnosisYear', y=survival_column, data=df)\n",
    "    plt.title(f\"{survival_column} Distribution by Start Year\")\n",
    "    plt.xticks(rotation=45)\n",
    "    plt.show()\n",
    "        "
   ]
  },
  {
   "cell_type": "code",
   "execution_count": null,
   "id": "5a475410-7755-4076-b440-6625a6687140",
   "metadata": {
    "tags": []
   },
   "outputs": [],
   "source": [
    "plot_survival_distribution_per_year(df, years, survival_column = 'daysBetweenTreatmentStartAndProgression')"
   ]
  },
  {
   "cell_type": "code",
   "execution_count": null,
   "id": "e6ec297e",
   "metadata": {
    "tags": []
   },
   "outputs": [],
   "source": [
    "plot_survival_distribution_per_year(df, years, survival_column = 'survivalDaysSinceTreatmentStart')"
   ]
  },
  {
   "cell_type": "code",
   "execution_count": null,
   "id": "c1ae1157",
   "metadata": {
    "tags": []
   },
   "outputs": [],
   "source": [
    "treatments = df['firstSystemicTreatmentAfterMetastaticDiagnosis'].dropna().unique()\n",
    "\n",
    "def plot_survival_distribution_per_year_per_treatment(treatments, years, survival_column, num_cols = 4):\n",
    "    num_rows = (len(treatments) + num_cols - 1) // num_cols  \n",
    "    \n",
    "\n",
    "    fig, axes = plt.subplots(nrows=num_rows, ncols=num_cols, figsize=(18, num_rows * 4))\n",
    "    fig.tight_layout(pad=5.0)\n",
    "    axes = axes.flatten()\n",
    "\n",
    "    kruskal_results = []\n",
    "\n",
    "    for i, treatment in enumerate(treatments):\n",
    "        treatment_data = df[df['firstSystemicTreatmentAfterMetastaticDiagnosis'] == treatment]\n",
    "        survival_data = [treatment_data[treatment_data['diagnosisYear'] == year][survival_column].dropna() for year in years]\n",
    "\n",
    "        filtered_survival_data = [data for data in survival_data if len(data) > 0]\n",
    "\n",
    "        if len(filtered_survival_data) > 1:\n",
    "            kruskal_test = kruskal(*filtered_survival_data)\n",
    "            kruskal_results.append([treatment, kruskal_test.statistic, kruskal_test.pvalue])\n",
    "\n",
    "            sns.boxplot(x='diagnosisYear', y=survival_column, data=treatment_data, ax=axes[i])\n",
    "            axes[i].set_title(f\"{survival_column} Distribution by Year for {treatment}\")\n",
    "            axes[i].set_xticks(axes[i].get_xticks())\n",
    "            axes[i].set_xticklabels(axes[i].get_xticklabels(), rotation=45)\n",
    "\n",
    "    for j in range(i+1, len(axes)):\n",
    "        fig.delaxes(axes[j])\n",
    "\n",
    "    plt.show()\n",
    "    \n",
    "    return pd.DataFrame(kruskal_results, columns=['Treatment', 'Kruskal-Wallis Statistic', 'p-value'])"
   ]
  },
  {
   "cell_type": "code",
   "execution_count": null,
   "id": "fd8e4fbf-0d04-4628-beba-e9c87f17db4d",
   "metadata": {
    "tags": []
   },
   "outputs": [],
   "source": [
    "pfs_kruskal_results = plot_survival_distribution_per_year_per_treatment(treatments, years, survival_column = 'daysBetweenTreatmentStartAndProgression')\n",
    "\n",
    "pfs_kruskal_results"
   ]
  },
  {
   "cell_type": "code",
   "execution_count": null,
   "id": "37c51f06-a48b-464c-a2d0-f11f31f6548b",
   "metadata": {
    "tags": []
   },
   "outputs": [],
   "source": [
    "os_kruskal_results = plot_survival_distribution_per_year_per_treatment(treatments, years, survival_column = 'survivalDaysSinceTreatmentStart')\n",
    "\n",
    "os_kruskal_results"
   ]
  },
  {
   "cell_type": "markdown",
   "id": "1d6d4282-d031-4b4c-b05f-934015cce606",
   "metadata": {},
   "source": [
    "## Assumption 6\n",
    "\n",
    "Assumption 6 states: \n",
    "> There should be a similar amount and pattern of censorship per group. \n",
    "One of the assumptions of the Kaplan-Meier method and the statistical tests for differences between group survival distributions (e.g., the log rank test, which we discuss later in the guide) is that censoring is similar in all groups tested. "
   ]
  },
  {
   "cell_type": "code",
   "execution_count": null,
   "id": "dd749d32-90de-49d3-a5a1-c7a4f23e7f6b",
   "metadata": {
    "tags": []
   },
   "outputs": [],
   "source": [
    "def plot_censoring_per_treatment(km_df, survival_event_column, exclude_small_sample_sizes=True, small_sample_size_threshold = 50):\n",
    "    event_counts = km_df.pivot_table(index='firstSystemicTreatmentAfterMetastaticDiagnosis', \n",
    "                                  columns=survival_event_column,\n",
    "                                  values='sourceId', \n",
    "                                  aggfunc='count', \n",
    "                                  fill_value=0)\n",
    "\n",
    "    event_counts['censored_percentage'] = event_counts[0] / (event_counts[1] + event_counts[0]) * 100\n",
    "\n",
    "    event_counts['total_events'] = event_counts[1] + event_counts[0]\n",
    "    event_counts['censor_events'] = event_counts[0]\n",
    "    event_counts['progression_events'] = event_counts[1]\n",
    "\n",
    "    if exclude_small_sample_sizes:\n",
    "        event_counts = event_counts[event_counts['total_events'] >= small_sample_size_threshold]\n",
    "\n",
    "    plt.figure(figsize=(10, 6))\n",
    "    bars = event_counts['censored_percentage'].plot(kind='bar')\n",
    "    plt.title(f\"Censoring Percentage by Treatment Group (Using {survival_event_column})\")\n",
    "    plt.ylabel(\"Censored Percentage\")\n",
    "    plt.xticks(rotation=45, ha=\"right\")\n",
    "    plt.tight_layout()\n",
    "\n",
    "    plt.show()\n",
    "    \n",
    "    return event_counts\n",
    "\n",
    "def kruskall_wallis_test_treatment_type(event_counts, exclude_small_sample_sizes=True, small_sample_size_threshold = 50):\n",
    "    event_counts = event_counts.reset_index()\n",
    "\n",
    "    if exclude_small_sample_sizes:\n",
    "        event_counts = event_counts[event_counts['total_events'] >= small_sample_size_threshold]\n",
    "\n",
    "    event_counts['Treatment_Type'] = event_counts['firstSystemicTreatmentAfterMetastaticDiagnosis'].apply(\n",
    "        lambda x: 'Immunotherapy' if x in ['PEMBROLIZUMAB', 'NIVOLUMAB'] else 'Chemotherapy'\n",
    "    )\n",
    "\n",
    "    chemotherapy_data_filtered = event_counts[event_counts['Treatment_Type'] == 'Chemotherapy']\n",
    "    immunotherapy_data_filtered = event_counts[event_counts['Treatment_Type'] == 'Immunotherapy']\n",
    "    combined_data_filtered = event_counts\n",
    "\n",
    "    # For Chemotherapy group\n",
    "    chemotherapy_censoring_filtered = [chemotherapy_data_filtered[chemotherapy_data_filtered['firstSystemicTreatmentAfterMetastaticDiagnosis'] == treatment]['censored_percentage']\n",
    "                                       for treatment in chemotherapy_data_filtered['firstSystemicTreatmentAfterMetastaticDiagnosis'].unique()]\n",
    "    kruskal_chem_filtered = kruskal(*chemotherapy_censoring_filtered)\n",
    "    print(f\"Kruskal-Wallis Test for Chemotherapy treatments (filtered): {kruskal_chem_filtered}\")\n",
    "\n",
    "    # For Immunotherapy group\n",
    "    if not exclude_small_sample_sizes:\n",
    "        immunotherapy_censoring_filtered = [immunotherapy_data_filtered[immunotherapy_data_filtered['firstSystemicTreatmentAfterMetastaticDiagnosis'] == treatment]['censored_percentage']\n",
    "                                            for treatment in immunotherapy_data_filtered['firstSystemicTreatmentAfterMetastaticDiagnosis'].unique()]\n",
    "        kruskal_immu_filtered = kruskal(*immunotherapy_censoring_filtered)\n",
    "        print(f\"Kruskal-Wallis Test for Immunotherapy treatments (filtered): {kruskal_immu_filtered}\")\n",
    "\n",
    "    # For combined Chemotherapy + Immunotherapy group\n",
    "    combined_censoring_filtered = [combined_data_filtered[combined_data_filtered['firstSystemicTreatmentAfterMetastaticDiagnosis'] == treatment]['censored_percentage']\n",
    "                                   for treatment in combined_data_filtered['firstSystemicTreatmentAfterMetastaticDiagnosis'].unique()]\n",
    "    kruskal_combined_filtered = kruskal(*combined_censoring_filtered)\n",
    "    print(f\"Kruskal-Wallis Test for Combined treatments (filtered): {kruskal_combined_filtered}\")"
   ]
  },
  {
   "cell_type": "code",
   "execution_count": null,
   "id": "eca2a9dc-15c9-4895-8d43-3810fd023e38",
   "metadata": {
    "tags": []
   },
   "outputs": [],
   "source": [
    "pfs_event_counts = plot_censoring_per_treatment(km_df, survival_event_column = 'hadProgressionEvent' )\n",
    "kruskall_wallis_test_treatment_type(pfs_event_counts)"
   ]
  },
  {
   "cell_type": "code",
   "execution_count": null,
   "id": "8b75da30-ed41-4b11-afac-324344402539",
   "metadata": {
    "tags": []
   },
   "outputs": [],
   "source": [
    "os_event_counts = plot_censoring_per_treatment(km_df, survival_event_column = 'hadSurvivalEvent' )\n",
    "kruskall_wallis_test_treatment_type(os_event_counts)"
   ]
  }
 ],
 "metadata": {
  "kernelspec": {
   "display_name": "Python (prediction_env)",
   "language": "python",
   "name": "prediction_env"
  },
  "language_info": {
   "codemirror_mode": {
    "name": "ipython",
    "version": 3
   },
   "file_extension": ".py",
   "mimetype": "text/x-python",
   "name": "python",
   "nbconvert_exporter": "python",
   "pygments_lexer": "ipython3",
   "version": "3.7.3"
  }
 },
 "nbformat": 4,
 "nbformat_minor": 5
}
