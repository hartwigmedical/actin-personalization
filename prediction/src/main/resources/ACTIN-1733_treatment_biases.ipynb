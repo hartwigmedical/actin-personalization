{
 "cells": [
  {
   "cell_type": "markdown",
   "id": "40f4e747-2f7b-47e0-bf68-b08ff83009d7",
   "metadata": {
    "tags": []
   },
   "source": [
    "# Analysis of Treatment Effects on Survival\n",
    "\n",
    "This analysis investigates the association between different treatment regimens and survival outcomes.\n"
   ]
  },
  {
   "cell_type": "code",
   "execution_count": null,
   "id": "f95673e3-93f2-40e2-b702-149d39e06d24",
   "metadata": {
    "tags": []
   },
   "outputs": [],
   "source": [
    "import pymysql\n",
    "import pandas as pd\n",
    "import numpy as np\n",
    "import matplotlib.pyplot as plt\n",
    "import seaborn as sns\n",
    "\n",
    "from lifelines import KaplanMeierFitter, CoxPHFitter\n",
    "from lifelines.statistics import logrank_test\n",
    "\n",
    "sns.set(style=\"whitegrid\")"
   ]
  },
  {
   "cell_type": "code",
   "execution_count": null,
   "id": "1896819e-5d1e-4fdf-8d51-f80ef4708b7e",
   "metadata": {
    "tags": []
   },
   "outputs": [],
   "source": [
    "db_connection = pymysql.connect(\n",
    "    read_default_file='/home/jupyter/.my.cnf',\n",
    "    read_default_group='RAnalysis', \n",
    "    db = 'actin_personalization_v2'\n",
    ")\n",
    "\n",
    "query = \"SELECT * FROM knownPalliativeTreatedReference\"\n",
    "\n",
    "df = pd.read_sql(query, db_connection)\n",
    "\n",
    "db_connection.close()\n",
    "\n",
    "df.head()"
   ]
  },
  {
   "cell_type": "markdown",
   "id": "a5a23d85-7728-4fdf-b9eb-f64473018084",
   "metadata": {},
   "source": [
    "### Summaries and Grouping of Rare Treatments\n",
    "\n",
    "The initial step is to generate summary statistics for selected clinical variables, stratified by treatment regimen. In addition to reporting the mean, standard deviation, median, minimum, and maximum values, the number of subjects per treatment group is also determined. To enhance the reliability/readability of subsequent analyses and visualizations, treatment groups with a low subject count (fewer than 100) are aggregated into a single \"Other\" category. This consolidation reduces the potential impact of sparse data on statistical estimates and improves the clarity of graphical representations.\n"
   ]
  },
  {
   "cell_type": "code",
   "execution_count": null,
   "id": "2f79f1e6-2c12-47b4-a61d-698f865dfcdd",
   "metadata": {
    "tags": []
   },
   "outputs": [],
   "source": [
    "def summarize_treatments(data, treatment_col, characteristics, min_count=100):\n",
    "    \"\"\"\n",
    "    Summarize mean/std/min/max/median for selected characteristics \n",
    "    grouped by a treatment column. Also returns a modified DataFrame \n",
    "    where rare treatments (< min_count) are grouped as 'Other'.\n",
    "    \"\"\"\n",
    "    grouped_stats = data.groupby(treatment_col)[characteristics].agg(['mean','std','median','min','max'])\n",
    "    \n",
    "    treatment_counts = data[treatment_col].value_counts().rename(\"count\")\n",
    "    \n",
    "    summary_table = pd.concat([grouped_stats, treatment_counts], axis=1)\n",
    "    \n",
    "    rare_treats = treatment_counts[treatment_counts < min_count].index\n",
    "    data_grouped = data.copy()\n",
    "    data_grouped.loc[data_grouped[treatment_col].isin(rare_treats), treatment_col] = \"Other\"\n",
    "    \n",
    "    return summary_table, data_grouped\n",
    "\n",
    "CHARACTERISTICS = ['whoAssessmentAtMetastaticDiagnosis','ageAtDiagnosis']# ,'cci'] --> TODO: add to view\n",
    "\n",
    "summary_table, df_grouped = summarize_treatments(df, \"firstSystemicTreatmentAfterMetastaticDiagnosis\", CHARACTERISTICS, min_count=100)\n",
    "\n",
    "print(\"### Summary statistics by treatment (with patient counts):\")\n",
    "summary_table\n"
   ]
  },
  {
   "cell_type": "code",
   "execution_count": null,
   "id": "ce19f2b0-8e94-4c98-8d22-202077b66980",
   "metadata": {
    "tags": []
   },
   "outputs": [],
   "source": [
    "def plot_characteristics_boxplot(data, treatment_col, characteristics):\n",
    "    \"\"\"\n",
    "    Generate boxplots of given characteristics across treatments.\n",
    "    \"\"\"\n",
    "    for col in characteristics:\n",
    "        plt.figure(figsize=(10,6))\n",
    "        sns.boxplot(x=treatment_col, y=col, data=data)\n",
    "        plt.title(f\"Distribution of {col} by {treatment_col}\")\n",
    "        plt.xlabel(\"Treatment\")\n",
    "        plt.ylabel(col)\n",
    "        plt.xticks(rotation=45)\n",
    "        plt.tight_layout()\n",
    "        plt.show()\n",
    "\n",
    "plot_characteristics_boxplot(df_grouped, \"firstSystemicTreatmentAfterMetastaticDiagnosis\", CHARACTERISTICS)"
   ]
  },
  {
   "cell_type": "markdown",
   "id": "c07af8b3-b65f-427c-b466-32512868b7ee",
   "metadata": {},
   "source": [
    "## Kaplan–Meier Survival Curves\n",
    "\n",
    "Kaplan–Meier survival analysis is utilized to estimate the survival functions for different treatment groups over time. This non-parametric method provides a visual representation of the probability of survival at successive time points. Separate plots are generated for overall survival and progression-free survival (when applicable), enabling a direct visual comparison of the time-to-event outcomes across the treatment regimens. Such visualizations are critical for identifying potential differences in survival patterns that may warrant further investigation.\n"
   ]
  },
  {
   "cell_type": "code",
   "execution_count": null,
   "id": "9c2f3697-b171-4da2-b17f-3da104e4c9cc",
   "metadata": {
    "tags": []
   },
   "outputs": [],
   "source": [
    "def plot_km_survival(data, treatment_col, time_col, event_col, treatments, title=\"Kaplan-Meier Survival\"):\n",
    "    \"\"\"\n",
    "    Plots KM survival curves for a given list of treatments.\n",
    "    \"\"\"\n",
    "    kmf = KaplanMeierFitter()\n",
    "    plt.figure(figsize=(10,6))\n",
    "    \n",
    "    for trt in treatments:\n",
    "        mask = data[treatment_col] == trt\n",
    "        df_surv = data.loc[mask, [time_col, event_col]].dropna()\n",
    "        \n",
    "        if len(df_surv) > 0:\n",
    "            kmf.fit(df_surv[time_col], df_surv[event_col], label=trt)\n",
    "            kmf.plot_survival_function(ci_show=False)\n",
    "    \n",
    "    plt.title(title)\n",
    "    plt.xlabel(\"Days from Treatment Start\")\n",
    "    plt.ylabel(\"Survival Probability\")\n",
    "    plt.legend(title='Treatment')\n",
    "    plt.tight_layout()\n",
    "    plt.show()"
   ]
  },
  {
   "cell_type": "code",
   "execution_count": null,
   "id": "14ecc13d-1df3-4c68-980c-8fc07e774bd9",
   "metadata": {
    "tags": []
   },
   "outputs": [],
   "source": [
    "treatments_to_plot = df_grouped['firstSystemicTreatmentAfterMetastaticDiagnosis'].unique()  # adjust as needed\n",
    "plot_km_survival(\n",
    "    data=df_grouped,\n",
    "    treatment_col=\"firstSystemicTreatmentAfterMetastaticDiagnosis\",\n",
    "    time_col=\"survivalDaysSinceMetastaticDiagnosis\",\n",
    "    event_col=\"hadSurvivalEvent\",\n",
    "    treatments=treatments_to_plot,\n",
    "    title=\"Kaplan-Meier Overall Survival by Treatment\"\n",
    ")"
   ]
  },
  {
   "cell_type": "code",
   "execution_count": null,
   "id": "6ebc432e-329e-4430-a9a3-26674aaf3b2f",
   "metadata": {
    "tags": []
   },
   "outputs": [],
   "source": [
    "if 'daysBetweenTreatmentStartAndProgression' in df_grouped.columns and 'hadProgressionEvent' in df_grouped.columns:\n",
    "    plot_km_survival(\n",
    "        data=df_grouped,\n",
    "        treatment_col=\"firstSystemicTreatmentAfterMetastaticDiagnosis\",\n",
    "        time_col=\"daysBetweenTreatmentStartAndProgression\",\n",
    "        event_col=\"hadProgressionEvent\",\n",
    "        treatments=treatments_to_plot,\n",
    "        title=\"Kaplan-Meier Progression-Free Survival by Treatment\"\n",
    "    )"
   ]
  },
  {
   "cell_type": "markdown",
   "id": "c62706a1-b0bb-4cc6-86fe-af04e5668e75",
   "metadata": {},
   "source": [
    "## Cox Proportional Hazards Model\n",
    "\n",
    "A Cox proportional hazards model is fitted to evaluate the independent effect of treatment regimens on survival outcomes while adjusting for relevant confounding variables, such as age, performance status, and comorbidity index. This multivariate regression model produces hazard ratios that quantify the relative risk of the event of interest associated with each treatment group, compared to a reference category. The model summary includes coefficients, standard errors, and statistical significance, providing insights into the strength and direction of the associations under investigation.\n"
   ]
  },
  {
   "cell_type": "code",
   "execution_count": null,
   "id": "659b2fc4-9d54-495e-9c28-291d997215f1",
   "metadata": {
    "tags": []
   },
   "outputs": [],
   "source": [
    "def fit_cox_model(data, duration_col, event_col, covariates, treatment_col, drop_first=True):\n",
    "    \"\"\"\n",
    "    Fits a Cox model using lifelines. \n",
    "    data: must have all columns in covariates + [duration_col, event_col, treatment_col].\n",
    "    \"\"\"\n",
    "    df_cox = data[[duration_col, event_col] + covariates + [treatment_col]].dropna().copy()\n",
    "    \n",
    "    # Convert treatment to dummies\n",
    "    df_cox = pd.get_dummies(df_cox, columns=[treatment_col], drop_first=drop_first)\n",
    "    \n",
    "    cph = CoxPHFitter()\n",
    "    cph.fit(df_cox, duration_col=duration_col, event_col=event_col)\n",
    "    return cph\n",
    "\n",
    "covariates = [\"ageAtDiagnosis\", \"whoAssessmentAtMetastaticDiagnosis\"]#, \"cci\"]\n",
    "\n",
    "cph = fit_cox_model(\n",
    "    data=df_grouped,\n",
    "    duration_col=\"survivalDaysSinceMetastaticDiagnosis\",\n",
    "    event_col=\"hadSurvivalEvent\",\n",
    "    covariates=covariates,\n",
    "    treatment_col=\"firstSystemicTreatmentAfterMetastaticDiagnosis\", \n",
    "    drop_first=True\n",
    ")\n",
    "\n",
    "cph.print_summary()"
   ]
  },
  {
   "cell_type": "markdown",
   "id": "f85e3c35-da52-45eb-ba44-45f4d88d7dd0",
   "metadata": {},
   "source": [
    "## Log-Rank Test\n",
    "\n",
    "The log-rank test is applied as a non-parametric method to compare the survival distributions between two selected treatment groups. This test evaluates whether the differences observed in the Kaplan–Meier curves are statistically significant, offering additional evidence to support conclusions about the differential impact of the treatment regimens on survival outcomes.\n"
   ]
  },
  {
   "cell_type": "code",
   "execution_count": null,
   "id": "b054a52d-70b4-4911-8697-2a45396b21b1",
   "metadata": {
    "tags": []
   },
   "outputs": [],
   "source": [
    "def compare_two_treatments_logrank(data, treatment_col, treatmentA, treatmentB, time_col, event_col):\n",
    "    dfA = data.loc[data[treatment_col] == treatmentA, [time_col, event_col]].dropna()\n",
    "    dfB = data.loc[data[treatment_col] == treatmentB, [time_col, event_col]].dropna()\n",
    "    \n",
    "    results = logrank_test(\n",
    "        dfA[time_col],\n",
    "        dfB[time_col],\n",
    "        event_observed_A=dfA[event_col],\n",
    "        event_observed_B=dfB[event_col]\n",
    "    )\n",
    "    print(f\"Log-rank test between {treatmentA} and {treatmentB}:\")\n",
    "    print(results.summary)\n",
    "    print(\"-\"*50)\n"
   ]
  },
  {
   "cell_type": "code",
   "execution_count": null,
   "id": "eb5a327d-8878-4794-80b5-4edf8c03e1cf",
   "metadata": {
    "tags": []
   },
   "outputs": [],
   "source": [
    "compare_two_treatments_logrank(\n",
    "    data=df_grouped,\n",
    "    treatment_col=\"firstSystemicTreatmentAfterMetastaticDiagnosis\",\n",
    "    treatmentA=\"CAPOX\",\n",
    "    treatmentB=\"CAPOX_B\",\n",
    "    time_col=\"survivalDaysSinceMetastaticDiagnosis\",\n",
    "    event_col=\"hadSurvivalEvent\"\n",
    ")"
   ]
  },
  {
   "cell_type": "code",
   "execution_count": null,
   "id": "3e6b46f4-03fd-495c-acd8-d929cdd678b4",
   "metadata": {
    "tags": []
   },
   "outputs": [],
   "source": [
    "\n",
    "compare_two_treatments_logrank(\n",
    "    data=df_grouped,\n",
    "    treatment_col=\"firstSystemicTreatmentAfterMetastaticDiagnosis\",\n",
    "    treatmentA=\"CAPOX\",\n",
    "    treatmentB=\"CAPOX_B\",\n",
    "    time_col=\"daysBetweenTreatmentStartAndProgression\",\n",
    "    event_col=\"hadProgressionEvent\"\n",
    ")"
   ]
  },
  {
   "cell_type": "markdown",
   "id": "3c6ae244-183f-462f-9cfd-c289609d3a7c",
   "metadata": {},
   "source": [
    "## Correlation Analysis\n",
    "\n",
    "Correlation analysis is performed on a set of continuous variables, including demographic and clinical outcome measures, to identify potential linear associations among them. A heatmap is generated to visually represent the correlation matrix, which helps to reveal underlying relationships that may influence the multivariate modeling.\n"
   ]
  },
  {
   "cell_type": "code",
   "execution_count": null,
   "id": "499f1872-4766-4f01-9d4f-5e8879d97123",
   "metadata": {
    "tags": []
   },
   "outputs": [],
   "source": [
    "numeric_cols = ['ageAtDiagnosis', \n",
    "                'survivalDaysSinceMetastaticDiagnosis', \n",
    "                'daysBetweenTreatmentStartAndProgression'] #, 'cci']\n",
    "\n",
    "corr_df = df[numeric_cols].corr()\n",
    "plt.figure(figsize=(8,6))\n",
    "sns.heatmap(corr_df, annot=True, cmap='coolwarm', fmt=\".2f\")\n",
    "plt.title(\"Correlation Matrix of Selected Numeric Features\")\n",
    "plt.tight_layout()\n",
    "plt.show()\n"
   ]
  }
 ],
 "metadata": {
  "kernelspec": {
   "display_name": "Python (prediction_env)",
   "language": "python",
   "name": "prediction_env"
  },
  "language_info": {
   "codemirror_mode": {
    "name": "ipython",
    "version": 3
   },
   "file_extension": ".py",
   "mimetype": "text/x-python",
   "name": "python",
   "nbconvert_exporter": "python",
   "pygments_lexer": "ipython3",
   "version": "3.7.3"
  }
 },
 "nbformat": 4,
 "nbformat_minor": 5
}
