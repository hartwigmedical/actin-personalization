{
 "cells": [
  {
   "cell_type": "code",
   "execution_count": null,
   "id": "0eedba61-fd68-42a8-8971-f9a636c70a0a",
   "metadata": {
    "tags": []
   },
   "outputs": [],
   "source": [
    "@file:DependsOn(\"/data/tools/actin-personalization/actin-personalization.jar\")"
   ]
  },
  {
   "cell_type": "code",
   "execution_count": null,
   "id": "136e771c-be74-4d35-ab6e-566a0f1ec2f9",
   "metadata": {
    "tags": []
   },
   "outputs": [],
   "source": [
    "import com.hartwig.actin.personalization.datamodel.MetastasesDetectionStatus\n",
    "import com.hartwig.actin.personalization.datamodel.Episode\n",
    "import com.hartwig.actin.personalization.datamodel.ReferencePatient\n",
    "import com.hartwig.actin.personalization.datamodel.Treatment\n",
    "import com.hartwig.actin.personalization.datamodel.serialization.ReferencePatientJson\n",
    "import com.hartwig.actin.personalization.ncr.interpretation.ReferencePatientFactory\n",
    "\n",
    "fun Episode.doesNotIncludeAdjuvantOrNeoadjuvantTreatment(): Boolean {\n",
    "    return !hasHadPreSurgerySystemicChemotherapy &&\n",
    "            !hasHadPostSurgerySystemicChemotherapy &&\n",
    "            !hasHadPreSurgerySystemicTargetedTherapy &&\n",
    "            !hasHadPostSurgerySystemicTargetedTherapy\n",
    "}\n",
    "\n",
    "val patients = ReferencePatientJson.read(\"/data/patient_like_me/ncr/patientRecords.json\")\n",
    "\n",
    "val referencePop = patients.flatMap(ReferencePatient::tumorEntries).map { (diagnosis, episodes) ->\n",
    "    diagnosis to episodes.single { it.order == 1 }\n",
    "}\n",
    "    .filter { (_, episode) ->\n",
    "        episode.distantMetastasesDetectionStatus == MetastasesDetectionStatus.AT_START &&\n",
    "        episode.systemicTreatmentPlan?.treatment?.let { it != Treatment.OTHER } == true &&\n",
    "        episode.surgeries.isEmpty() &&\n",
    "        episode.doesNotIncludeAdjuvantOrNeoadjuvantTreatment() &&\n",
    "        episode.systemicTreatmentPlan?.observedPfsDays != null\n",
    "    }\n",
    "    .sortedBy { it.second.systemicTreatmentPlan!!.observedPfsDays!! }\n",
    "\n",
    "val patientsByTreatment = referencePop.groupBy { (_, episode) ->\n",
    "    episode.systemicTreatmentPlan!!.treatment.treatmentGroup\n",
    "}\n",
    "    .toList()\n",
    "    .sortedByDescending { it.second.size }"
   ]
  },
  {
   "cell_type": "code",
   "execution_count": null,
   "id": "35f0ba49-a35f-4529-806e-5c8442278567",
   "metadata": {
    "tags": []
   },
   "outputs": [],
   "source": [
    "import com.hartwig.actin.personalization.similarity.population.DiagnosisAndEpisode\n",
    "\n",
    "data class EventCountAndSurvivalAtTime(val daysSincePlanStart: Int, val numEvents: Int, val survival: Double)\n",
    "    \n",
    "tailrec fun eventAndCensorshipHistories(\n",
    "    populationToProcess: List<DiagnosisAndEpisode>,\n",
    "    eventHistory: List<EventCountAndSurvivalAtTime> = emptyList(),\n",
    "    censorshipHistory: List<EventCountAndSurvivalAtTime> = emptyList()\n",
    "): Pair<List<EventCountAndSurvivalAtTime>, List<EventCountAndSurvivalAtTime>> {\n",
    "    return if (populationToProcess.isEmpty()) {\n",
    "        eventHistory to censorshipHistory\n",
    "    } else {\n",
    "        val treatmentDetails = populationToProcess.first().second.systemicTreatmentPlan!!\n",
    "        val previousEvent = eventHistory.lastOrNull() ?: EventCountAndSurvivalAtTime(0, 0, 1.0)\n",
    "        val (newEventHistory, newCensorshipHistory) = if (treatmentDetails.hadProgressionEvent!!) {\n",
    "            val newEvent = EventCountAndSurvivalAtTime(\n",
    "                treatmentDetails.observedPfsDays!!, previousEvent.numEvents + 1, previousEvent.survival * (1 - (1.0 / populationToProcess.size))\n",
    "            )\n",
    "            Pair(eventHistory + newEvent, censorshipHistory)\n",
    "        } else {\n",
    "            val newCensorship = EventCountAndSurvivalAtTime(treatmentDetails.observedPfsDays!!, previousEvent.numEvents, previousEvent.survival)\n",
    "            Pair(eventHistory, censorshipHistory + newCensorship)\n",
    "        }\n",
    "        eventAndCensorshipHistories(populationToProcess.drop(1), newEventHistory, newCensorshipHistory)\n",
    "    }\n",
    "}\n",
    "\n",
    "val (eventHistory, censorshipHistory) = eventAndCensorshipHistories(referencePop)"
   ]
  },
  {
   "cell_type": "code",
   "execution_count": null,
   "id": "a208709e-c612-43d2-ada7-31e5a72b15e5",
   "metadata": {
    "tags": []
   },
   "outputs": [],
   "source": [
    "%use dataframe\n",
    "import com.hartwig.actin.personalization.datamodel.LocationGroup\n",
    "import com.hartwig.actin.personalization.similarity.population.DiagnosisAndEpisode\n",
    "import com.hartwig.actin.personalization.similarity.population.PopulationDefinition\n",
    "\n",
    "val popDefinitions = PopulationDefinition.createAllForPatientProfile(60, 0, false, setOf(LocationGroup.LIVER_AND_INTRAHEPATIC_BILE_DUCTS)).dropLast(1) +\n",
    "    PopulationDefinition(\"55-65y, WHO=0, RAS-\") { (diag, epi) ->\n",
    "        diag.ageAtDiagnosis in 55..65 && epi.whoStatusPreTreatmentStart == 0 && diag.hasRasMutation == false\n",
    "    }\n",
    "    \n",
    "fun pfsForPopulation(population: List<DiagnosisAndEpisode>): String {\n",
    "    val medianPfs = eventAndCensorshipHistories(population).first.firstOrNull { it.survival <= 0.5 }?.daysSincePlanStart\n",
    "    return \"$medianPfs (n=${population.size})\"\n",
    "}\n",
    "\n",
    "fun dataFrame(rowLabels: List<Any?>, firstColumnName: String, namedColumns: List<Pair<String, List<String>>>): DataFrame<*> {\n",
    "    val labelStrings = rowLabels.map { it?.let { it.toString() } ?: \"None\" }\n",
    "    return (listOf(firstColumnName to labelStrings) + namedColumns).toMap().toDataFrame()\n",
    "}\n",
    "\n",
    "fun pfsTable(patientsByTreatment: Map<String, List<DiagnosisAndEpisode>>, columnDefinitions: List<PopulationDefinition>): DataFrame<*> {\n",
    "    val allPatients = patientsByTreatment.flatMap { it.value }\n",
    "    val sortedPatients = patientsByTreatment.entries.sortedByDescending { it.value.size }\n",
    "                             \n",
    "    val entries = columnDefinitions.map { (title, criteria) ->\n",
    "        val populationSize: Int = allPatients.count(criteria)\n",
    "        val annotatedTitle = \"$title (n=$populationSize)\"\n",
    "        annotatedTitle to sortedPatients.map { pfsForPopulation(it.value.filter(criteria)) }\n",
    "    }\n",
    "    \n",
    "    return dataFrame(sortedPatients.map { it.key }, \"Treatment\", entries)\n",
    "}\n",
    "\n",
    "val patientsByTreatment = referencePop.groupBy { (_, episode) -> episode.systemicTreatmentPlan!!.treatment.treatmentGroup.display }\n",
    "pfsTable(patientsByTreatment, popDefinitions)"
   ]
  },
  {
   "cell_type": "code",
   "execution_count": null,
   "id": "7391cd82-8720-4995-9151-e4dc88824dce",
   "metadata": {
    "tags": []
   },
   "outputs": [],
   "source": [
    "%use kandy"
   ]
  },
  {
   "cell_type": "code",
   "execution_count": null,
   "id": "ef55f815-6d22-4ada-8d4c-a3279a66f7cf",
   "metadata": {
    "tags": []
   },
   "outputs": [],
   "source": [
    "import com.hartwig.actin.personalization.similarity.population.DiagnosisAndEpisode\n",
    "import com.hartwig.actin.personalization.similarity.population.PfsCalculation\n",
    "import org.jetbrains.kotlinx.kandy.ir.Plot\n",
    "\n",
    "val MIN_PATIENT_COUNT = 20\n",
    "val percentageArray = (0..100 step 10).toList().map { it / 100.0 to \"$it%\" }.toTypedArray()\n",
    "\n",
    "fun createPfsPlot(sortedPopulationsByName: Map<String, List<DiagnosisAndEpisode>>): Plot? {\n",
    "    val historiesByName = sortedPopulationsByName.mapValues { (_, tumors) -> PfsCalculation.eventHistory(tumors) }\n",
    "        .filter { (_, histories) -> histories.size >= MIN_PATIENT_COUNT }\n",
    "        \n",
    "    historiesByName.mapValues { (_, histories) ->\n",
    "        val searchIndex = histories.binarySearchBy(-0.5) { -it.survival }\n",
    "        histories[if (searchIndex < 0) -(searchIndex + 1) else searchIndex]\n",
    "    }\n",
    "        .entries.sortedBy { (_, medianEvent) -> medianEvent.daysSincePlanStart!! }\n",
    "        .forEach { (name, eventCountAndSurvivalAtTime) -> println(\"$name: ${eventCountAndSurvivalAtTime?.daysSincePlanStart} days\") }\n",
    "\n",
    "    return historiesByName.values.maxOfOrNull { it.last().daysSincePlanStart }?.let { longestInterval ->\n",
    "        plot {\n",
    "            step {\n",
    "                x(historiesByName.flatMap { (_, histories) -> histories.map { it.daysSincePlanStart } })\n",
    "                {\n",
    "                    axis.breaksLabeled(*(0..longestInterval step 100).toList().map { it to \"$it\" }.toTypedArray())\n",
    "                    axis.name = \"Days since treatment start\"\n",
    "                }\n",
    "                y(\n",
    "                    historiesByName.flatMap { (_, histories) -> histories.map { it.survival } },\n",
    "                    \"PFS %\"\n",
    "                )\n",
    "                {\n",
    "                    axis.breaksLabeled(*percentageArray)\n",
    "                }\n",
    "                color(historiesByName.flatMap { (name, histories) -> histories.map { name } }, \"Group\")\n",
    "            }\n",
    "            layout.size = 1000 to 600\n",
    "        }\n",
    "    }\n",
    "}"
   ]
  },
  {
   "cell_type": "code",
   "execution_count": null,
   "id": "8c9b58c4-ddc4-49b2-8aa5-203be61b650d",
   "metadata": {
    "tags": []
   },
   "outputs": [],
   "source": [
    "createPfsPlot(mapOf(\n",
    "    \"Kaplan-Meier\" to referencePop,\n",
    "    \"Ignore censored\" to referencePop.filter { (_, episode) -> episode.systemicTreatmentPlan?.hadProgressionEvent == true },\n",
    "    \"Censored as progression\" to referencePop.map { (diagnosis, episode) ->\n",
    "        diagnosis to episode.copy(systemicTreatmentPlan=episode.systemicTreatmentPlan?.copy(hadProgressionEvent=true))\n",
    "    }\n",
    "))"
   ]
  },
  {
   "cell_type": "code",
   "execution_count": null,
   "id": "5619733d-889d-41e7-a275-338fa4ee8086",
   "metadata": {
    "tags": []
   },
   "outputs": [],
   "source": [
    "createPfsPlot(popDefinitions.associate { (name, criteria) -> name to referencePop.filter(criteria) })"
   ]
  },
  {
   "cell_type": "code",
   "execution_count": null,
   "id": "7d5689b4-ab4a-4942-9782-61282ec9ada4",
   "metadata": {
    "tags": []
   },
   "outputs": [],
   "source": [
    "createPfsPlot(referencePop.groupBy { (_, episode) -> episode.systemicTreatmentPlan!!.treatment.treatmentGroup.display })"
   ]
  },
  {
   "cell_type": "code",
   "execution_count": null,
   "id": "568653e2-ab56-4124-a7c9-62d48bd81f7a",
   "metadata": {
    "tags": []
   },
   "outputs": [],
   "source": [
    "import com.hartwig.actin.personalization.similarity.population.DiagnosisAndEpisode\n",
    "import com.hartwig.actin.personalization.datamodel.LocationGroup\n",
    "import com.hartwig.actin.personalization.datamodel.TreatmentGroup\n",
    "import com.hartwig.actin.personalization.similarity.population.PopulationDefinition\n",
    "\n",
    "fun patientHasPfsMetrics(patient: DiagnosisAndEpisode): Boolean {\n",
    "    val plan = patient.second.systemicTreatmentPlan\n",
    "    return plan?.observedPfsDays != null && plan.hadProgressionEvent != null\n",
    "}\n",
    "\n",
    "fun patientObservedPfsDays(patient: DiagnosisAndEpisode) = patient.second.systemicTreatmentPlan?.observedPfsDays\n",
    "\n",
    "val populationDefinitions = listOf(\n",
    "    // PopulationDefinition(\"hasRenalDisease\") { it.first.cciHasRenalDisease == true },\n",
    "    // PopulationDefinition(\"!hasRenalDisease\") { it.first.cciHasRenalDisease == false },\n",
    "    // PopulationDefinition(\"unknown\") { it.first.cciHasRenalDisease == null },\n",
    "    PopulationDefinition(\"hasMyocardialInfarct\") { it.first.cciHasMyocardialInfarct == true },\n",
    "    PopulationDefinition(\"!hasMyocardialInfarct\") { it.first.cciHasMyocardialInfarct == false },\n",
    "    PopulationDefinition(\"unknown\") { it.first.cciHasMyocardialInfarct == null },\n",
    "    // PopulationDefinition(\"hasMsi\") { it.first.hasMsi == true },\n",
    "    // PopulationDefinition(\"all\") { true },\n",
    "    // PopulationDefinition(\"hasBrafMutation\") { it.first.hasBrafMutation == true },\n",
    "    // PopulationDefinition(\"hasBrafV600EMutation\") { it.first.hasBrafV600EMutation == true },\n",
    "    // PopulationDefinition(\"hasRasMutation\") { it.first.hasRasMutation == true },\n",
    "    // PopulationDefinition(\"hasKrasG12CMutation\") { it.first.hasKrasG12CMutation == true },\n",
    "    // PopulationDefinition(\"!hasMsi\") { it.first.hasMsi != true },\n",
    "    // PopulationDefinition(\"!hasBrafMutation\") { it.first.hasBrafMutation == false },\n",
    "    // PopulationDefinition(\"!hasBrafV600EMutation\") { it.first.hasBrafV600EMutation == false },\n",
    "    // PopulationDefinition(\"!hasRasMutation\") { it.first.hasRasMutation == false },\n",
    "    // PopulationDefinition(\"!hasKrasG12CMutation\") { it.first.hasKrasG12CMutation == false }\n",
    ")\n",
    "\n",
    "val filteredPatients = referencePop.filter(::patientHasPfsMetrics)\n",
    "    // .filter {\n",
    "    //     it.second.systemicTreatmentPlan!!.treatment.treatmentGroup == TreatmentGroup.PEMBROLIZUMAB\n",
    "    // }\n",
    "    .sortedBy(::patientObservedPfsDays)\n",
    "    \n",
    "val sortedPatientsByPopulation = populationDefinitions.associate { definition ->\n",
    "    definition.name to filteredPatients.filter(definition.criteria)\n",
    "}\n",
    "\n",
    "// createPfsPlot(sortedPatientsByPopulation)\n",
    "\n",
    "val groupedPatients = filteredPatients.groupBy { (_, episode) ->\n",
    "    val metastasesGroups = episode.metastases.map { it.location.locationGroup.display() }.distinct()\n",
    "    when(metastasesGroups.size) {\n",
    "        0 -> \"no metastases\"\n",
    "        1 -> metastasesGroups.first().let { if (it == \"Peritoneal\" ) LocationGroup.RETROPERITONEUM_AND_PERITONEUM.display() else it }\n",
    "        2 -> \"2 locations\"\n",
    "        else -> \"3+ locations\"\n",
    "    }\n",
    "}\n",
    "createPfsPlot(groupedPatients)"
   ]
  },
  {
   "cell_type": "code",
   "execution_count": null,
   "id": "85e5627a-b252-46ec-8bc3-c17c51e7846a",
   "metadata": {
    "tags": []
   },
   "outputs": [],
   "source": [
    "import com.hartwig.actin.personalization.datamodel.TumorType\n",
    "\n",
    "val metastasesLocations = setOf(LocationGroup.LIVER_AND_INTRAHEPATIC_BILE_DUCTS, LocationGroup.LYMPH_NODES, LocationGroup.BRONCHUS_AND_LUNG)\n",
    "\n",
    "createPfsPlot(\n",
    "    patientsByTreatment //.filter { it.key == \"FOLFOXIRI-B\" || it.key == \"FOLFIRI-B\" }.toMap()\n",
    "        .mapValues { (_, value) ->\n",
    "            value.filter { (diag, epi) ->\n",
    "                diag.consolidatedTumorType == TumorType.CRC_ADENOCARCINOMA &&\n",
    "                epi.whoStatusPreTreatmentStart == 0 &&\n",
    "                epi.metastases.map { it.location.locationGroup }.distinct().count { it in metastasesLocations } >= 2 &&\n",
    "                // epi.metastases.map { it.location.locationGroup }.distinct().count() >= 2\n",
    "                diag.ageAtDiagnosis in 35..55\n",
    "                // diag.hasRasMutation == true\n",
    "            }\n",
    "        }\n",
    ")"
   ]
  }
 ],
 "metadata": {
  "kernelspec": {
   "display_name": "Kotlin",
   "language": "kotlin",
   "name": "kotlin"
  },
  "language_info": {
   "codemirror_mode": "text/x-kotlin",
   "file_extension": ".kt",
   "mimetype": "text/x-kotlin",
   "name": "kotlin",
   "nbconvert_exporter": "",
   "pygments_lexer": "kotlin",
   "version": "1.9.23"
  }
 },
 "nbformat": 4,
 "nbformat_minor": 5
}
