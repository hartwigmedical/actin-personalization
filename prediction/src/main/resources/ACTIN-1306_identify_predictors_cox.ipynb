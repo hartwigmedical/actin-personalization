{
 "cells": [
  {
   "cell_type": "markdown",
   "id": "3ca160a2-15f6-43cc-884a-06e222a6237e",
   "metadata": {},
   "source": [
    "## Objective\n",
    "\n",
    "The goal of this notebook is to explore the features of the NCR patient data and identify those that appear to be the best predictors of survival outcomes.\n",
    "\n",
    "First, we load the patient data from the 'knownPalliativeTreatments' view, which excludes patients who weren't given a known treatment. \n",
    "Before interpretation, we drop rows that are missing progression information or important covariates."
   ]
  },
  {
   "cell_type": "code",
   "execution_count": null,
   "id": "0e698f0b-cdc9-426c-a559-d819b518eeec",
   "metadata": {
    "tags": []
   },
   "outputs": [],
   "source": [
    "import pandas as pd \n",
    "import pymysql\n",
    "\n",
    "def load_data(duration_col, event_col):\n",
    "    db_connection = pymysql.connect(\n",
    "        read_default_file='/home/jupyter/.my.cnf',\n",
    "        read_default_group='RAnalysis', \n",
    "        db = 'actin_personalization_v2'\n",
    "    )\n",
    "\n",
    "    query = \"SELECT * FROM palliativeReference\"\n",
    "\n",
    "    df = pd.read_sql(query, db_connection)\n",
    "    db_connection.close()\n",
    "    \n",
    "    return df.dropna(subset = [duration_col, event_col]).copy()"
   ]
  },
  {
   "cell_type": "markdown",
   "id": "3571e2a9-c097-4dc5-8dff-fd91d71d7046",
   "metadata": {},
   "source": [
    "## Numeric interpretation of features\n",
    "\n",
    "Many categorical features present in the patient data represent ordinal, interval, or ratio quantities and would convey more information to regression techniques in a numerical representation. Here, we map the string values for these features to numbers that represent their meaning:"
   ]
  },
  {
   "cell_type": "code",
   "execution_count": null,
   "id": "d503f4cf-8e53-4fc9-9b64-b9725e5c7803",
   "metadata": {
    "tags": []
   },
   "outputs": [],
   "source": [
    "from numpy import nan\n",
    "\n",
    "stageTnm_lookup = {\n",
    "    \"ZERO\": 0.0,\n",
    "    \"I\": 1.0,\n",
    "    \"IA1\": 1.0,\n",
    "    \"IA\": 1.0,\n",
    "    \"IA2\": 1.0,\n",
    "    \"IA3\": 1.0,\n",
    "    \"IB\": 1.0,\n",
    "    \"II\": 2.0,\n",
    "    \"IIA\": 2.0,\n",
    "    \"IIB\": 2.0,\n",
    "    \"IIC\": 2.0,\n",
    "    \"III\": 3.0,\n",
    "    \"IIIA\": 3.0,\n",
    "    \"IIIB\": 3.0,\n",
    "    \"IIIC\": 3.0,\n",
    "    \"IV\": 4.0,\n",
    "    \"IVA\": 4.0,\n",
    "    \"IVB\": 4.0,\n",
    "    \"IVC\": 4.0,\n",
    "    \"M\": 4.0,\n",
    "    \"NA\": nan,\n",
    "    \"X\": nan,\n",
    "}\n",
    "\n",
    "tnmM_lookup = {\n",
    "    \"M0\": 0,\n",
    "    \"M1\": 1,\n",
    "    \"M1A\": 1.1,\n",
    "    \"M1B\": 1.2,\n",
    "    \"M1C\": 1.3,\n",
    "    \"M_MINUS\": 0,\n",
    "    \"X\": nan,\n",
    "}\n",
    "\n",
    "tnmN_lookup = {\n",
    "    \"N0\": 0,\n",
    "    \"N1\": 1,\n",
    "    \"N1A\": 1.1,\n",
    "    \"N1B\": 1.2,\n",
    "    \"N1C\": 1.3,\n",
    "    \"N1M\": 1,\n",
    "    \"N2\": 2,\n",
    "    \"N2A\": 2.1,\n",
    "    \"N2B\": 2.2,\n",
    "    \"X\": nan\n",
    "}\n",
    "\n",
    "tnmT_lookup = {\n",
    "    \"T0\": 0,\n",
    "    \"T_IS\": 0.5,\n",
    "    \"T1\": 1,\n",
    "    \"T2\": 2,\n",
    "    \"T3\": 3,\n",
    "    \"T4A\": 4.1,\n",
    "    \"T4B\": 4.2,\n",
    "    \"X\": nan\n",
    "}\n",
    "\n",
    "lookup_dictionary = {\n",
    "    \"anorectalVergeDistanceCategory\": {\n",
    "        \"ZERO_TO_FIVE_CM\": 2.5,\n",
    "        \"FIVE_TO_TEN_CM\": 7.5,\n",
    "        \"TEN_TO_FIFTEEN_CM\": 12.5,\n",
    "        \"OVER_FIFTEEN_CM\": 17.5,\n",
    "    },\n",
    "    \"numberOfLiverMetastases\": {\n",
    "        \"ONE\": 1,\n",
    "        \"TWO\": 2,\n",
    "        \"THREE\": 3,\n",
    "        \"FOUR\": 4,\n",
    "        \"FIVE_OR_MORE\": 5,\n",
    "        \"MULTIPLE_BUT_EXACT_NUMBER_UNKNOWN\": 5  # The median number of multiple metastases is 5+\n",
    "    },\n",
    "    \"asaAssessmentAtMetastaticDiagnosis\": {\n",
    "        \"I\": 1,\n",
    "        \"II\": 2,\n",
    "        \"III\": 3,\n",
    "        \"IV\": 4,\n",
    "        \"V\": 5,\n",
    "        \"VI\": 6,\n",
    "    },\n",
    "    \"venousInvasionDescription\": {  # https://www.ncbi.nlm.nih.gov/pmc/articles/PMC1769571/\n",
    "        \"EXTRAMURAL\": 1.2,\n",
    "        \"INTRAMURAL\": 1,\n",
    "        \"NA\": nan,\n",
    "        \"NONE\": 0,\n",
    "        \"SUSPECT\": 0.7,\n",
    "    },\n",
    "    \"lymphaticInvasionCategory\": {\n",
    "        \"NONE\": 0,\n",
    "        \"PRESENT\": 1,\n",
    "        \"SUSPECT\": 0.7,\n",
    "        \"NA\": nan\n",
    "    },\n",
    "    \"extraMuralInvasionCategory\": {\n",
    "        \"NA\": 0,\n",
    "        \"LESS_THAN_FIVE_MM\": 3,\n",
    "        \"ABOVE_FIVE_MM\": 7,\n",
    "    },\n",
    "    \"tumorRegression\": {\n",
    "        \"CANNOT_BE_DETERMINED\": nan,\n",
    "        \"FULL_REGRESSION\": 1,\n",
    "        \"MINIMAL_FOCI\": 0.8,  # https://www.ncbi.nlm.nih.gov/pmc/articles/PMC4946373/\n",
    "        \"MINIMAL_REGRESSION\": 0.2,\n",
    "        \"MODERATE_REGRESSION\": 0.5,\n",
    "        \"NO_SIGNS_OF_REGRESSION\": 0,\n",
    "        \"NA\": nan,\n",
    "    },\n",
    "    \"differentiationGrade\": {\n",
    "        \"GRADE_1_OR_WELL_DIFFERENTIATED\": 1,\n",
    "        \"GRADE_2_OR_MODERATELY_DIFFERENTIATED\": 2,\n",
    "        \"GRADE_3_OR_POORLY_DIFFERENTIATED\": 3,\n",
    "        \"GRADE_4_OR_UNDIFFERENTIATED_OR_ANAPLASTIC_OR_GGG4\": 4\n",
    "    },\n",
    "    \"pathologicalTnmT\": tnmT_lookup,\n",
    "    \"pathologicalTnmN\": tnmN_lookup,\n",
    "    \"pathologicalTnmM\": tnmM_lookup,\n",
    "    \"clinicalTnmT\": tnmT_lookup,\n",
    "    \"clinicalTnmN\": tnmN_lookup,\n",
    "    \"clinicalTnmM\": tnmM_lookup,\n",
    "    \"clinicalTumorStage\": stageTnm_lookup,\n",
    "    \"pathologicalTumorStage\": stageTnm_lookup\n",
    "}\n",
    "\n",
    "def numerize(df):\n",
    "    for column, lookup in lookup_dictionary.items():\n",
    "        df[column] = df[column].apply(lookup.get)\n",
    "    return df"
   ]
  },
  {
   "cell_type": "markdown",
   "id": "81d4209b-c786-4a33-9b0e-a822cf6e5a4b",
   "metadata": {},
   "source": [
    "## Standardization\n",
    "\n",
    "Transform numeric features to have mean 0 and standard deviation 1 in order to compare between features in standard deviation units:"
   ]
  },
  {
   "cell_type": "code",
   "execution_count": null,
   "id": "bec7f458-dce4-40aa-a3c6-715de0cb2070",
   "metadata": {
    "tags": []
   },
   "outputs": [],
   "source": [
    "from sklearn.preprocessing import StandardScaler\n",
    "\n",
    "def standardize(df, features):\n",
    "    scaler = StandardScaler()\n",
    "    \n",
    "    cols_to_standardize = [f for f in features if pd.api.types.is_numeric_dtype(df[f])]\n",
    "    df.loc[:, cols_to_standardize] = scaler.fit_transform(df.loc[:, cols_to_standardize])\n",
    "    return df"
   ]
  },
  {
   "cell_type": "code",
   "execution_count": null,
   "id": "4b35bdc2-12ef-4627-83f1-fa4665066d17",
   "metadata": {
    "tags": []
   },
   "outputs": [],
   "source": [
    "from sklearn.impute import KNNImputer\n",
    "from sklearn.preprocessing import StandardScaler\n",
    "\n",
    "def imputeWho(df, k):\n",
    "    columns = ['whoAssessmentAtMetastaticDiagnosis']\n",
    "    imputer = KNNImputer(n_neighbors=k)\n",
    "    df[columns] = imputer.fit_transform(df[columns])\n",
    "    scaler = StandardScaler()\n",
    "    df.loc[:, columns] = scaler.fit_transform(df.loc[:, columns])\n",
    "    return df"
   ]
  },
  {
   "cell_type": "markdown",
   "id": "3180ef79-4bb3-4508-9f92-b77d583b7e35",
   "metadata": {},
   "source": [
    "## Cox proportional hazard model generation\n",
    "\n",
    "For a given formula, build a Cox model stratified by systemic treatment plan. [Stratification is recommended for a feature that does not obey the proportional hazards assumption](https://lifelines.readthedocs.io/en/stable/Survival%20Regression.html#stratification).\n",
    "\n",
    "Since we aim to prove that treatment effectiveness can be predicted by some combination of patient features, we'd be doing ourselves a disservice if we assumed proportional hazards in a group with variable treatments. As stated in [the 'lifelines' documentation](https://lifelines.readthedocs.io/en/stable/jupyter_notebooks/Proportional%20hazard%20assumption.html):\n",
    "\n",
    "> The proportional hazard assumption is that all individuals have the same hazard function, but a unique scaling factor infront.\n",
    "\n",
    "Put another way, if the proportional hazard assumption holds and the survival curves never cross, our recommendation should be to give all patients the same treatment, i.e. the one whose curve is consistently at the top. Instead, we stratify by treatment: "
   ]
  },
  {
   "cell_type": "code",
   "execution_count": null,
   "id": "5911bb4c-ea0c-4ac1-b1df-161f6f8087a7",
   "metadata": {
    "tags": []
   },
   "outputs": [],
   "source": [
    "from lifelines import CoxPHFitter\n",
    "\n",
    "def cox_model(df, formula, duration_col, event_col):\n",
    "    return CoxPHFitter().fit(\n",
    "        df,\n",
    "        duration_col=duration_col,\n",
    "        event_col=event_col,\n",
    "        formula=formula,\n",
    "        strata=[\"firstSystemicTreatmentAfterMetastaticDiagnosis\"]\n",
    "    )"
   ]
  },
  {
   "cell_type": "markdown",
   "id": "ed5eb554-0f83-4494-bb74-9e553c741a0c",
   "metadata": {},
   "source": [
    "A 'dataclass' is used for each test result for easy conversion from list of objects to 'DataFrame':"
   ]
  },
  {
   "cell_type": "code",
   "execution_count": null,
   "id": "fac3935e-b03c-4ca2-98f3-df8eb037778a",
   "metadata": {
    "tags": []
   },
   "outputs": [],
   "source": [
    "from dataclasses import dataclass\n",
    "from math import log10\n",
    "\n",
    "@dataclass\n",
    "class TestResult:\n",
    "    feature: str\n",
    "    survival_impact: float\n",
    "    p_val: float\n",
    "    dof_delta: int\n",
    "    log_likelihood_ratio: float\n"
   ]
  },
  {
   "cell_type": "markdown",
   "id": "411ede42-ffb2-46e9-8feb-62fb597436d9",
   "metadata": {},
   "source": [
    "## Testing the features\n",
    "\n",
    "### Model generation\n",
    "To evaluate the predictive value of each feature, we filter our base data frame down to the rows where that feature is provided. We then generate a reduced Cox model from the filtered data, using just our standard covariates ('ageAtDiagnosis + whoAssessmentAtMetastaticDiagnosis + diagnosisYear') as well as a full model that also considers the feature in question.\n",
    "\n",
    "### Model evaluations\n",
    "To see if the feature adds significant predictive value, we compute the [log likelihood ratio](https://en.wikipedia.org/wiki/Likelihood-ratio_test) between the provided log likelihoods for the full and reduced models. This is used along with the change in degrees of freedom (1 for a numeric feature or n-1 for a categorical feature with n categories) in a [chi-squared test](https://en.wikipedia.org/wiki/Pearson%27s_chi-squared_test) to determine 'p'. The results for all features are collected in a list, which is then converted to a 'DataFrame'. The negative log of 'p' is added in a separate column for use in creating volcano plots:"
   ]
  },
  {
   "cell_type": "code",
   "execution_count": null,
   "id": "cea7d256-3fee-4359-b545-fae7f7daa3ad",
   "metadata": {
    "tags": []
   },
   "outputs": [],
   "source": [
    "from math import log10\n",
    "from scipy.stats.distributions import chi2\n",
    "\n",
    "def likelihood_ratio(llmin, llmax):\n",
    "    return 2 * (llmax - llmin)\n",
    "\n",
    "def test_feature(df, simple_formula, feature, duration_col, event_col):\n",
    "    try:\n",
    "        df_clean = df.dropna(subset = [feature])\n",
    "        reduced_model = cox_model(df_clean, simple_formula, duration_col, event_col)\n",
    "        full_model = cox_model(df_clean, \" + \".join([feature, simple_formula]), duration_col, event_col)\n",
    "        dof = 1 if pd.api.types.is_numeric_dtype(df[feature]) else df[feature].nunique() - 1\n",
    "        log_likelihood_ratio = likelihood_ratio(reduced_model.log_likelihood_, full_model.log_likelihood_)\n",
    "        p = chi2.sf(log_likelihood_ratio, dof)\n",
    "        print(f\"Testing feature {feature}: p-value {p}, exp(coeff) {full_model.hazard_ratios_[0]}\")\n",
    "        return TestResult(feature, full_model.hazard_ratios_[0], p, dof, log_likelihood_ratio)\n",
    "    except Exception as e:\n",
    "        print(f\"Failed to test {feature}: {str(e)}\")\n",
    "        return None\n",
    "    \n",
    "def test_features(df, base_formula, features, duration_col, event_col):\n",
    "    result = [r for r in (test_feature(df, base_formula, f, duration_col, event_col) for f in features) if r is not None]\n",
    "    \n",
    "    result_df = pd.DataFrame(result)\n",
    "    result_df[\"log10_p\"] = result_df[\"p_val\"].apply(lambda p: -log10(p))\n",
    "    return result_df"
   ]
  },
  {
   "cell_type": "markdown",
   "id": "22f575ed-f5b8-44b7-9b7e-8f701a394aab",
   "metadata": {},
   "source": [
    "### Volcano plot\n",
    "\n",
    "The volcano plot shows which features could be most useful for prediction purposes. The \"survival impact\" shown on the x-axis is the coefficient estimated by the Cox model produced for that feature. Features with survival impacts greater than 1 imply a positive effect on survival, while those less than one imply poorer survival outcomes. Higher placement on the y-axis ('-log(p)') indicates a lower p-value and thus higher statistical significance."
   ]
  },
  {
   "cell_type": "code",
   "execution_count": null,
   "id": "b6161cf8-8ecd-4458-81bd-5fe9a59c41f0",
   "metadata": {
    "tags": []
   },
   "outputs": [],
   "source": [
    "import seaborn\n",
    "\n",
    "def volcano_plot(result_df):\n",
    "    seaborn.scatterplot(result_df[result_df[\"p_val\"] < 0.1], x=\"survival_impact\", y=\"log10_p\")"
   ]
  },
  {
   "cell_type": "markdown",
   "id": "dd9996c9-2055-4fff-8b2d-3df834bbb862",
   "metadata": {},
   "source": [
    "## Correlation analysis\n",
    "\n",
    "We compute the pairwise correlation between all features, and assume no correlation for features where this cannot be evaluated. Next, we hierarchically cluster the correlations and reorder them to show the most correlated features together (one feature, 'tnmPM', is manually reordered to put it beside other TNM features with which it is highly correlated). We create a heatmap from the clustered correlations and see that most features are uncorrelated."
   ]
  },
  {
   "cell_type": "code",
   "execution_count": null,
   "id": "681b096b-9c67-4551-97e8-e53f21dfb808",
   "metadata": {
    "tags": []
   },
   "outputs": [],
   "source": [
    "from numpy import argsort\n",
    "import scipy.cluster.hierarchy as sch\n",
    "\n",
    "def cluster_corr(corr_df):\n",
    "    pairwise_distances = sch.distance.pdist(corr_df)\n",
    "    linkage = sch.linkage(pairwise_distances, method='complete')\n",
    "    cluster_distance_threshold = pairwise_distances.max()/2\n",
    "    idx_to_cluster_array = sch.fcluster(linkage, cluster_distance_threshold, criterion='distance')\n",
    "    idx = argsort(idx_to_cluster_array)\n",
    "    \n",
    "    return corr_df.copy().iloc[idx, :].T.iloc[idx, :]\n",
    "\n",
    "def plot_pairwise_correlation(df, features):\n",
    "    correlation = df[features].corr('pearson')\n",
    "    clustered_corr = cluster_corr(correlation.fillna(0))\n",
    "    # idx = list(range(0, 3)) + [25] + list(range(4, 24)) + list(range(26, len(clustered_corr)))\n",
    "    # corrected_corr = clustered_corr.copy().iloc[idx, :].T.iloc[idx, :]\n",
    "    heatmap = seaborn.heatmap(clustered_corr, xticklabels=True, yticklabels=True)\n",
    "    heatmap.figure.set_figwidth(12)\n",
    "    heatmap.figure.set_figheight(8.5)\n",
    "    "
   ]
  },
  {
   "cell_type": "markdown",
   "id": "88e361cf-166d-4584-a58d-b55ecd2340f6",
   "metadata": {},
   "source": [
    "## Feature selection\n",
    "\n",
    "We essentially want to consider all features that aren't already used in initial filtering or directly related to survival outcomes (e.g. response):"
   ]
  },
  {
   "cell_type": "code",
   "execution_count": null,
   "id": "d3398e16-3b55-473e-a82d-dd542e772220",
   "metadata": {
    "tags": []
   },
   "outputs": [],
   "source": [
    "features = [\n",
    "    'sex',\n",
    "    'ageAtDiagnosis',\n",
    "    'ageAtMetastaticDiagnosis',\n",
    "    'numberOfPriorTumors',\n",
    "    'hasDoublePrimaryTumor',\n",
    "    'primaryTumorType',\n",
    "    'primaryTumorLocation',\n",
    "    'sidedness',\n",
    "    'anorectalVergeDistanceCategory',\n",
    "    'mesorectalFasciaIsClear',\n",
    "    'distanceToMesorectalFasciaMm',\n",
    "    'differentiationGrade',\n",
    "    'clinicalTnmT',\n",
    "    'clinicalTnmN',\n",
    "    'clinicalTnmM',\n",
    "    'pathologicalTnmT',\n",
    "    'pathologicalTnmN',\n",
    "    'pathologicalTnmM',\n",
    "    'clinicalTumorStage',\n",
    "    'pathologicalTumorStage',\n",
    "    'investigatedLymphNodesCountPrimaryDiagnosis',\n",
    "    'positiveLymphNodesCountPrimaryDiagnosis',\n",
    "    'presentedWithIleus',\n",
    "    'presentedWithPerforation',\n",
    "    'venousInvasionDescription',\n",
    "    'lymphaticInvasionCategory',\n",
    "    'extraMuralInvasionCategory',\n",
    "    'tumorRegression',\n",
    "\n",
    "    'daysBetweenPrimaryAndMetastaticDiagnosis',\n",
    "    'hasLiverOrIntrahepaticBileDuctMetastases',\n",
    "    'numberOfLiverMetastases',\n",
    "    'maximumSizeOfLiverMetastasisMm',\n",
    "    'hasLymphNodeMetastases',\n",
    "    'investigatedLymphNodesCountMetastaticDiagnosis',\n",
    "    'positiveLymphNodesCountMetastaticDiagnosis',\n",
    "    'hasPeritonealMetastases',\n",
    "    'hasBronchusOrLungMetastases',\n",
    "    'hasBrainMetastases',\n",
    "    'hasOtherMetastases',        \n",
    "\n",
    "    'whoAssessmentAtMetastaticDiagnosis',\n",
    "    'asaAssessmentAtMetastaticDiagnosis',\n",
    "    'lactateDehydrogenaseAtMetastaticDiagnosis',\n",
    "    'alkalinePhosphataseAtMetastaticDiagnosis',\n",
    "    'leukocytesAbsoluteAtMetastaticDiagnosis',\n",
    "    'carcinoembryonicAntigenAtMetastaticDiagnosis',\n",
    "    'albumineAtMetastaticDiagnosis',\n",
    "    'neutrophilsAbsoluteAtMetastaticDiagnosis',\n",
    "\n",
    "    'hasHadPrimarySurgeryPriorToMetastaticDiagnosis',\n",
    "    'hasHadPrimarySurgeryAfterMetastaticDiagnosis',\n",
    "    'hasHadGastroenterologySurgeryPriorToMetastaticDiagnosis',\n",
    "    'hasHadGastroenterologySurgeryAfterMetastaticDiagnosis',\n",
    "    'hasHadHipecPriorToMetastaticDiagnosis',\n",
    "    'hasHadHipecAfterMetastaticDiagnosis',\n",
    "    'hasHadPrimaryRadiotherapyPriorToMetastaticDiagnosis',\n",
    "    'hasHadPrimaryRadiotherapyAfterMetastaticDiagnosis',\n",
    "\n",
    "    'hasHadMetastaticSurgery',\n",
    "    'hasHadMetastaticRadiotherapy',\n",
    "    'charlsonComorbidityIndex',\n",
    "    'hasAids',\n",
    "    'hasCongestiveHeartFailure',\n",
    "    'hasCollagenosis',\n",
    "    'hasCopd',\n",
    "    'hasCerebrovascularDisease',\n",
    "    'hasDementia',\n",
    "    'hasDiabetesMellitus',\n",
    "    'hasDiabetesMellitusWithEndOrganDamage',\n",
    "    'hasOtherMalignancy',\n",
    "    'hasOtherMetastaticSolidTumor',\n",
    "    'hasMyocardialInfarct',\n",
    "    'hasMildLiverDisease',\n",
    "    'hasHemiplegiaOrParaplegia',\n",
    "    'hasPeripheralVascularDisease',\n",
    "    'hasRenalDisease',\n",
    "    'hasLiverDisease',\n",
    "    'hasUlcerDisease',\n",
    "\n",
    "    'hasMsi',\n",
    "    'hasBrafMutation',\n",
    "    'hasBrafV600EMutation',\n",
    "    'hasRasMutation',\n",
    "    'hasKrasG12CMutation',\n",
    "]"
   ]
  },
  {
   "cell_type": "code",
   "execution_count": null,
   "id": "feb932e0-45a3-41dc-a994-b17fa0fc77c0",
   "metadata": {
    "tags": []
   },
   "outputs": [],
   "source": [
    "confidence_level = 0.05\n",
    "\n",
    "def _find_first_insignificant_index(sorted_df, test_count):\n",
    "    for index, value in enumerate(sorted_df['p_val']):\n",
    "        if (value > (index + 1) * confidence_level / test_count):\n",
    "            return index\n",
    "            \n",
    "def benjamini_hochberg(df, test_count):\n",
    "    sorted_df = df.sort_values(by='p_val')\n",
    "    return sorted_df.iloc[:_find_first_insignificant_index(sorted_df, test_count)]"
   ]
  },
  {
   "cell_type": "code",
   "execution_count": null,
   "id": "fde20151-ff61-4968-9d51-458a60b608d3",
   "metadata": {
    "tags": []
   },
   "outputs": [],
   "source": [
    "duration_col = \"daysBetweenTreatmentStartAndProgression\"\n",
    "event_col = \"hadProgressionEvent\"\n",
    "base_formula = \"ageAtMetastaticDiagnosis + whoAssessmentAtMetastaticDiagnosis + diagnosisYear\"\n",
    "\n",
    "df = standardize(numerize(load_data(duration_col, event_col)), features)\n",
    "k = 105\n",
    "df = imputeWho(df, k)\n",
    "result_df = test_features(df, base_formula, features, duration_col, event_col)"
   ]
  },
  {
   "cell_type": "code",
   "execution_count": null,
   "id": "ef168c8a-df56-4f42-8c83-3e525220c820",
   "metadata": {
    "tags": []
   },
   "outputs": [],
   "source": [
    "duration_col = \"survivalDaysSinceMetastaticDiagnosis\"\n",
    "event_col = \"hadSurvivalEvent\"\n",
    "base_formula = \"ageAtMetastaticDiagnosis + whoAssessmentAtMetastaticDiagnosis + diagnosisYear\"\n",
    "\n",
    "os_df = standardize(numerize(load_data(duration_col, event_col)), features)\n",
    "k = 105\n",
    "os_df = imputeWho(os_df, k)\n",
    "os_results = test_features(os_df, base_formula, features, duration_col, event_col)"
   ]
  },
  {
   "cell_type": "code",
   "execution_count": null,
   "id": "e454f9c5-c0d1-4ecc-b854-dceca8d59e3a",
   "metadata": {
    "tags": []
   },
   "outputs": [],
   "source": [
    "benjamini_hochberg(os_results, len(features))"
   ]
  },
  {
   "cell_type": "code",
   "execution_count": null,
   "id": "f37d201f-8ef3-42bb-a6ca-61e602903b2a",
   "metadata": {
    "tags": []
   },
   "outputs": [],
   "source": [
    "pfs_df = df\n",
    "pfs_results = result_df"
   ]
  },
  {
   "cell_type": "code",
   "execution_count": null,
   "id": "914b24c3-5d1a-4a0d-a8bc-211b2308c08b",
   "metadata": {
    "tags": []
   },
   "outputs": [],
   "source": [
    "benjamini_hochberg(pfs_results, len(features))"
   ]
  },
  {
   "cell_type": "code",
   "execution_count": null,
   "id": "51f69d3d-7cf8-466b-964b-5b6a37940d5c",
   "metadata": {
    "tags": []
   },
   "outputs": [],
   "source": [
    "volcano_plot(result_df)"
   ]
  },
  {
   "cell_type": "code",
   "execution_count": null,
   "id": "c7c6d83f-5ba9-4d85-ba5f-228c6b1a6947",
   "metadata": {
    "tags": []
   },
   "outputs": [],
   "source": [
    "result_df[result_df[\"p_val\"] < 0.05]"
   ]
  },
  {
   "cell_type": "code",
   "execution_count": null,
   "id": "8038abe3-eacd-4d50-b780-0bde94445c18",
   "metadata": {
    "tags": []
   },
   "outputs": [],
   "source": [
    "plot_pairwise_correlation(df, features)"
   ]
  },
  {
   "cell_type": "code",
   "execution_count": null,
   "id": "39b2be7c-4a03-44ac-b2fd-677a025da697",
   "metadata": {
    "tags": []
   },
   "outputs": [],
   "source": [
    "import numpy as np\n",
    "import pandas as pd\n",
    "from sklearn.neighbors import KNeighborsRegressor\n",
    "from sklearn.model_selection import cross_val_score\n",
    "\n",
    "# Replace 4 with 3 since there are only 9 of these:\n",
    "who_df = df.dropna(subset=[\"whoAssessmentAtMetastaticDiagnosis\"]).replace({\"whoAssessmentAtMetastaticDiagnosis\": {4: 3}})\n",
    "\n",
    "for col_name in who_df.columns:\n",
    "    if who_df[col_name].dtype == 'object':\n",
    "        who_df[col_name] = who_df[col_name].astype('category').cat.codes\n",
    "\n",
    "x = who_df[features + ['ageAtMetastaticDiagnosis', 'diagnosisYear']].astype(pd.SparseDtype(\"float\", np.nan))\n",
    "y = who_df[\"whoAssessmentAtMetastaticDiagnosis\"].astype(float)  # Keep as float for regression\n",
    "\n",
    "k_max = 50\n",
    "error_rates = []\n",
    "\n",
    "def error_rate(x, y, k):\n",
    "    knn = KNeighborsRegressor(n_neighbors=k)\n",
    "    score = cross_val_score(knn, x, y, cv=10, scoring='neg_mean_squared_error')\n",
    "    rate = -score.mean()  # Convert negative MSE to positive MSE for error rates\n",
    "    print(str(k) + \": \" + str(rate))\n",
    "    return rate\n",
    "\n",
    "for n in range(1, 50):\n",
    "    error_rates.append(error_rate(x, y, n))\n",
    "\n",
    "# k = 7"
   ]
  },
  {
   "cell_type": "code",
   "execution_count": null,
   "id": "08c8afc5-8171-4ab2-8f8b-39d70978b134",
   "metadata": {
    "tags": []
   },
   "outputs": [],
   "source": [
    "import matplotlib.pyplot as plt\n",
    "\n",
    "plt.figure(figsize=(10, 6))\n",
    "plt.plot(range(1, 50), error_rates)\n",
    "plt.xlabel(\"K\")\n",
    "plt.ylabel(\"Error Rate\")"
   ]
  }
 ],
 "metadata": {
  "kernelspec": {
   "display_name": "Python (prediction_env)",
   "language": "python",
   "name": "prediction_env"
  },
  "language_info": {
   "codemirror_mode": {
    "name": "ipython",
    "version": 3
   },
   "file_extension": ".py",
   "mimetype": "text/x-python",
   "name": "python",
   "nbconvert_exporter": "python",
   "pygments_lexer": "ipython3",
   "version": "3.7.3"
  }
 },
 "nbformat": 4,
 "nbformat_minor": 5
}
